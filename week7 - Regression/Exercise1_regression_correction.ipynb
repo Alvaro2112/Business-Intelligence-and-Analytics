{
  "nbformat": 4,
  "nbformat_minor": 0,
  "metadata": {
    "colab": {
      "name": "Exercise1_draft.ipynb",
      "provenance": [],
      "include_colab_link": true
    },
    "kernel_info": {
      "name": "python3"
    },
    "kernelspec": {
      "display_name": "Python 3",
      "language": "python",
      "name": "python3"
    },
    "language_info": {
      "codemirror_mode": {
        "name": "ipython",
        "version": 3
      },
      "file_extension": ".py",
      "mimetype": "text/x-python",
      "name": "python",
      "nbconvert_exporter": "python",
      "pygments_lexer": "ipython3",
      "version": "3.7.7"
    },
    "nteract": {
      "version": "0.15.0"
    }
  },
  "cells": [
    {
      "cell_type": "markdown",
      "metadata": {
        "id": "view-in-github",
        "colab_type": "text"
      },
      "source": [
        "<a href=\"https://colab.research.google.com/github/michalis0/Business-Intelligence-and-Analytics/blob/master/week7%20-%20Regression/Exercise1_regression_correction.ipynb\" target=\"_parent\"><img src=\"https://colab.research.google.com/assets/colab-badge.svg\" alt=\"Open In Colab\"/></a>"
      ]
    },
    {
      "cell_type": "markdown",
      "metadata": {
        "colab_type": "text",
        "id": "icCrOh56Uji9"
      },
      "source": [
        "# Exercise1: Supervised Learning, Linear Regression\n",
        "\n",
        "This exercise is an application of what you learn during the walkthrough. The following cell gather the different modules you need for this exercise (take a look specially for the sklearn library).\n",
        "\n",
        "Some exercises consist of filling a part of the code without writing the whole code. Replace the `\"YOUR CODE HERE\"` by your own code."
      ]
    },
    {
      "cell_type": "code",
      "metadata": {
        "colab_type": "code",
        "id": "ZhVTlweGUji-",
        "outputId": "bc07671b-b647-4512-841d-85aac38c859d",
        "colab": {
          "base_uri": "https://localhost:8080/",
          "height": 72
        }
      },
      "source": [
        "# Useful starting lines\n",
        "%matplotlib inline\n",
        "%load_ext autoreload\n",
        "%autoreload 2\n",
        "\n",
        "import numpy as np\n",
        "import matplotlib.pyplot as plt\n",
        "#from matplotlib import collections  as mc\n",
        "import pandas as pd \n",
        "import seaborn as sns\n",
        "sns.set_style(\"darkgrid\")\n",
        "\n",
        "import warnings\n",
        "warnings.filterwarnings('ignore')\n",
        "\n",
        "# Sklearn import\n",
        "from sklearn.preprocessing import MinMaxScaler # Normalization\n",
        "from sklearn.linear_model import LinearRegression # Regression linear model\n",
        "from sklearn.model_selection import train_test_split # Splitting the data set\n",
        "from sklearn.metrics import mean_squared_error, mean_absolute_error # Metrics for errors\n",
        "from sklearn.model_selection import KFold # Cross validation\n",
        "\n"
      ],
      "execution_count": 0,
      "outputs": [
        {
          "output_type": "stream",
          "text": [
            "/usr/local/lib/python3.6/dist-packages/statsmodels/tools/_testing.py:19: FutureWarning: pandas.util.testing is deprecated. Use the functions in the public API at pandas.testing instead.\n",
            "  import pandas.util.testing as tm\n"
          ],
          "name": "stderr"
        }
      ]
    },
    {
      "cell_type": "markdown",
      "metadata": {
        "colab_type": "text",
        "id": "-1tSmSs_UjjH"
      },
      "source": [
        "## 1. Load the data\n",
        "We are going to use an advertisement data. The task is to figure out how different means of advertisement influence the amount of sales of a product.\n",
        "    \n",
        "**Question 1:**  \n",
        "Load the pandas dataset from the given URL. Then plot the first 5 rows. How many observations  and columns we have? Hint: use the `shape` attribute."
      ]
    },
    {
      "cell_type": "code",
      "metadata": {
        "colab_type": "code",
        "id": "zyq6KkQvUjjL",
        "outputId": "52167ad3-77b0-4b49-b70b-642893f5633b",
        "colab": {
          "base_uri": "https://localhost:8080/",
          "height": 241
        }
      },
      "source": [
        "url = 'https://raw.githubusercontent.com/michalis0/Business-Intelligence-and-Analytics/master/data/Advertising.csv'\n",
        "# Load the data\n",
        "ad_df = pd.read_csv(url)\n",
        "display(ad_df.head())\n",
        "\n",
        "# Observations and columns (dimensions)\n",
        "print(\"Number of observations\", ad_df.shape[0])\n",
        "print(\"Number of dimensions\", ad_df.shape[1])\n"
      ],
      "execution_count": 0,
      "outputs": [
        {
          "output_type": "display_data",
          "data": {
            "text/html": [
              "<div>\n",
              "<style scoped>\n",
              "    .dataframe tbody tr th:only-of-type {\n",
              "        vertical-align: middle;\n",
              "    }\n",
              "\n",
              "    .dataframe tbody tr th {\n",
              "        vertical-align: top;\n",
              "    }\n",
              "\n",
              "    .dataframe thead th {\n",
              "        text-align: right;\n",
              "    }\n",
              "</style>\n",
              "<table border=\"1\" class=\"dataframe\">\n",
              "  <thead>\n",
              "    <tr style=\"text-align: right;\">\n",
              "      <th></th>\n",
              "      <th>id</th>\n",
              "      <th>TV</th>\n",
              "      <th>Radio</th>\n",
              "      <th>Newspaper</th>\n",
              "      <th>Sales</th>\n",
              "    </tr>\n",
              "  </thead>\n",
              "  <tbody>\n",
              "    <tr>\n",
              "      <th>0</th>\n",
              "      <td>1</td>\n",
              "      <td>230.1</td>\n",
              "      <td>37.8</td>\n",
              "      <td>69.2</td>\n",
              "      <td>22.1</td>\n",
              "    </tr>\n",
              "    <tr>\n",
              "      <th>1</th>\n",
              "      <td>2</td>\n",
              "      <td>44.5</td>\n",
              "      <td>39.3</td>\n",
              "      <td>45.1</td>\n",
              "      <td>10.4</td>\n",
              "    </tr>\n",
              "    <tr>\n",
              "      <th>2</th>\n",
              "      <td>3</td>\n",
              "      <td>17.2</td>\n",
              "      <td>45.9</td>\n",
              "      <td>69.3</td>\n",
              "      <td>9.3</td>\n",
              "    </tr>\n",
              "    <tr>\n",
              "      <th>3</th>\n",
              "      <td>4</td>\n",
              "      <td>151.5</td>\n",
              "      <td>41.3</td>\n",
              "      <td>58.5</td>\n",
              "      <td>18.5</td>\n",
              "    </tr>\n",
              "    <tr>\n",
              "      <th>4</th>\n",
              "      <td>5</td>\n",
              "      <td>180.8</td>\n",
              "      <td>10.8</td>\n",
              "      <td>58.4</td>\n",
              "      <td>12.9</td>\n",
              "    </tr>\n",
              "  </tbody>\n",
              "</table>\n",
              "</div>"
            ],
            "text/plain": [
              "   id     TV  Radio  Newspaper  Sales\n",
              "0   1  230.1   37.8       69.2   22.1\n",
              "1   2   44.5   39.3       45.1   10.4\n",
              "2   3   17.2   45.9       69.3    9.3\n",
              "3   4  151.5   41.3       58.5   18.5\n",
              "4   5  180.8   10.8       58.4   12.9"
            ]
          },
          "metadata": {
            "tags": []
          }
        },
        {
          "output_type": "stream",
          "text": [
            "Number of observations 200\n",
            "Number of dimensions 5\n"
          ],
          "name": "stdout"
        }
      ]
    },
    {
      "cell_type": "markdown",
      "metadata": {
        "colab_type": "text",
        "id": "PFqlnctxUjjQ"
      },
      "source": [
        "In what follows we will try a simple linear regression using only one feature (univariate regression), that is, we want to predict the `sales` using only the `TV` advertisments."
      ]
    },
    {
      "cell_type": "markdown",
      "metadata": {
        "colab_type": "text",
        "id": "fvAy5m2vUjj-"
      },
      "source": [
        "## 2. Using Sklearn\n",
        "When using sklearn we don't need to add a column of ones to the data in order to have the constant parameter. sklearn takes care of it, you should just pass the `fit_intercept` argument to be True (which is also the default value for this argument)\n",
        "\n",
        "**Question 2:**  \n",
        "1) From the advertising dataset, save the feature ``TV`` and the target `sales` in two different variables X and y respectively, in a dataframe pandas format and not as a serie (`X[['sth']]` instead of `X['sth']`).  \n",
        "2) Create a new Linear model from the `LinearRegression` module of sklearn. Fit the model with the corresponding data.  \n",
        "3) Print the values of the slope (use : `model.coef_` parameter), the constant (use: `model.intercept_` parameter)  and the score of the model (use: `model.score(X, y)`).  \n",
        "4) Predict the sales using the fifth TV value of X (hint: `iloc[[5]]`) with your model (i.e `.predict()`) and compare with the true value from y."
      ]
    },
    {
      "cell_type": "code",
      "metadata": {
        "colab_type": "code",
        "id": "fCfLe7lmUjj-",
        "colab": {}
      },
      "source": [
        "# 1) Use the original dataframe\n",
        "X = ad_df[[\"TV\"]]\n",
        "y = ad_df[[\"Sales\"]]"
      ],
      "execution_count": 0,
      "outputs": []
    },
    {
      "cell_type": "code",
      "metadata": {
        "colab_type": "code",
        "id": "RfDnuxKxUjkB",
        "outputId": "3a4c331b-1e57-42c4-c7ad-cb1031b641c8",
        "colab": {
          "base_uri": "https://localhost:8080/",
          "height": 34
        }
      },
      "source": [
        "# 2) Create the linear model\n",
        "LR = LinearRegression(fit_intercept=True)\n",
        "\n",
        "# Fit the model using X and y\n",
        "LR.fit(X, y)"
      ],
      "execution_count": 0,
      "outputs": [
        {
          "output_type": "execute_result",
          "data": {
            "text/plain": [
              "LinearRegression(copy_X=True, fit_intercept=True, n_jobs=None, normalize=False)"
            ]
          },
          "metadata": {
            "tags": []
          },
          "execution_count": 4
        }
      ]
    },
    {
      "cell_type": "code",
      "metadata": {
        "colab_type": "code",
        "id": "gEUDRnowUjkF",
        "outputId": "e1c2c908-7d3b-4c6a-8901-9f0a11522e68",
        "colab": {
          "base_uri": "https://localhost:8080/",
          "height": 69
        }
      },
      "source": [
        "# 3) \n",
        "print(\"Slope: %.4f\" % LR.coef_.flatten()[0])\n",
        "print(\"Constant (intercept): %.4f\" % LR.intercept_[0])\n",
        "print(\"R^2 score: %.4f\" % LR.score(X, y))"
      ],
      "execution_count": 0,
      "outputs": [
        {
          "output_type": "stream",
          "text": [
            "Slope: 0.0475\n",
            "Constant (intercept): 7.0326\n",
            "R^2 score: 0.6119\n"
          ],
          "name": "stdout"
        }
      ]
    },
    {
      "cell_type": "code",
      "metadata": {
        "colab_type": "code",
        "id": "aa4vJkPTUjkI",
        "outputId": "9d10d4db-f86f-4ffc-a753-c0bdec64827b",
        "colab": {
          "base_uri": "https://localhost:8080/",
          "height": 34
        }
      },
      "source": [
        "#predict the Sales \n",
        "print(\"y_pred: %.4f\" % LR.predict(X.iloc[[5]]).flatten()[0],  \"y_true: \", y.iloc[5].Sales)"
      ],
      "execution_count": 0,
      "outputs": [
        {
          "output_type": "stream",
          "text": [
            "y_pred: 7.4462 y_true:  7.2\n"
          ],
          "name": "stdout"
        }
      ]
    },
    {
      "cell_type": "markdown",
      "metadata": {
        "colab_type": "text",
        "id": "QzGkUwaNUjkL"
      },
      "source": [
        "## 3.Using more features for prediction\n",
        "Let's try to use more features to predict the sales. For example we can observe the effect of TV and Radio advertisment in the same time.\n",
        "\n",
        "**Question 4:**  \n",
        "1) From the advertising dataset, save the features ``TV`` and `Radio` in to X  and the target `sales` into y, in a dataframe pandas format (`X[['sth']]` instead of `X['sth']`).  \n",
        "2) Create a new Linear model from the `LinearRegression` module of sklearn. Fit the model with the corresponding data.  \n",
        "3)Print the values of the slope , the constant (intercept)  ans the score of the model (i.e `.score(X, y)`).  \n",
        "4) the sales using the fifth TV and Radio values of X (hint: `iloc[[5]]`) with your model (i.e `.predict()`) and compare with the true value from y.  \n",
        "5) Do the step 1-4 with 3 variables in X (you can choose `Newspaper`).  \n",
        "\n"
      ]
    },
    {
      "cell_type": "code",
      "metadata": {
        "colab_type": "code",
        "id": "hdwQWaVGUjkL",
        "colab": {}
      },
      "source": [
        "# 1) Use the original dataframe\n",
        "X = ad_df[[\"TV\", \"Radio\"]]\n",
        "y = ad_df[[\"Sales\"]]"
      ],
      "execution_count": 0,
      "outputs": []
    },
    {
      "cell_type": "code",
      "metadata": {
        "colab_type": "code",
        "id": "a1ZYaDiGUjkO",
        "outputId": "961e2998-c14b-4317-d693-7efe5e19f408",
        "colab": {
          "base_uri": "https://localhost:8080/",
          "height": 69
        }
      },
      "source": [
        "# 2) Create new linear model\n",
        "LR = LinearRegression(fit_intercept=True)\n",
        "# Fit the model with X and y\n",
        "LR.fit(X, y)\n",
        "\n",
        "# 3) \n",
        "print(\"Parmaeters: \", LR.coef_)\n",
        "print(\"Intercept: \", LR.intercept_)\n",
        "print(\"R^2 score: \", LR.score(X, y))"
      ],
      "execution_count": 0,
      "outputs": [
        {
          "output_type": "stream",
          "text": [
            "Parmaeters:  [[0.04575482 0.18799423]]\n",
            "Intercept:  [2.92109991]\n",
            "R^2 score:  0.8971942610828956\n"
          ],
          "name": "stdout"
        }
      ]
    },
    {
      "cell_type": "code",
      "metadata": {
        "colab_type": "code",
        "id": "iUbB5RsCUjkR",
        "outputId": "2d517f58-c118-4853-ef7e-ab9bbd5f281a",
        "colab": {
          "base_uri": "https://localhost:8080/",
          "height": 34
        }
      },
      "source": [
        "# 4) Predict \n",
        "print(\"y_pred: %.4f\" % LR.predict(X.iloc[[5]]).flatten()[0],  \"y_true: \", y.iloc[5].Sales)"
      ],
      "execution_count": 0,
      "outputs": [
        {
          "output_type": "stream",
          "text": [
            "y_pred: 12.5121 y_true:  7.2\n"
          ],
          "name": "stdout"
        }
      ]
    },
    {
      "cell_type": "code",
      "metadata": {
        "colab_type": "code",
        "id": "Xs5Z85AXUjkV",
        "outputId": "df45327a-e3a7-40d4-a7ac-ae0478e9a611",
        "colab": {
          "base_uri": "https://localhost:8080/",
          "height": 86
        }
      },
      "source": [
        "# 5) with 3 features\n",
        "X = ad_df[[\"TV\", \"Radio\", \"Newspaper\"]]\n",
        "y = ad_df[[\"Sales\"]]\n",
        "LR = LinearRegression(fit_intercept=True)\n",
        "LR.fit(X, y)\n",
        "\n",
        "print(\"params: \", LR.coef_)\n",
        "print(\"constant: \", LR.intercept_)\n",
        "print(\"R^2 score: \", LR.score(X, y))\n",
        "print(\"y_pred: %.4f\" % LR.predict(X.iloc[[5]]).flatten()[0],  \"y_true: \", y.iloc[5].Sales)"
      ],
      "execution_count": 0,
      "outputs": [
        {
          "output_type": "stream",
          "text": [
            "params:  [[ 0.04576465  0.18853002 -0.00103749]]\n",
            "constant:  [2.93888937]\n",
            "R^2 score:  0.8972106381789521\n",
            "y_pred: 12.4783 y_true:  7.2\n"
          ],
          "name": "stdout"
        }
      ]
    },
    {
      "cell_type": "markdown",
      "metadata": {
        "colab_type": "text",
        "id": "v4qCUOxCUjkl"
      },
      "source": [
        "## 4.Train/Test split and overfitting"
      ]
    },
    {
      "cell_type": "markdown",
      "metadata": {
        "colab_type": "text",
        "id": "hGtgjbHbUjkl"
      },
      "source": [
        "\n",
        "We can keep the test data out of the training and try to predict the sales for the unseen data in the test set. We can also calculate the **MAE** for training and test data. \n",
        "\n",
        "To reduce the variance and enhance the model we will fisrt normalize the data. Then we will compare 3 different models: for 1 , 2 and 3 features. To compare the prediction behaviour regarding the number of features, it is possible to compute the MAE for each and plot the result (number of features vs error).\n",
        "\n",
        "Here and example of how to use the MAE metric from sklearn:\n",
        "\n",
        "```python\n",
        "mean_absolute_error(y_train, LR.predict(X_train))\n",
        "```\n"
      ]
    },
    {
      "cell_type": "markdown",
      "metadata": {
        "colab_type": "text",
        "id": "8sRfqVorUjkl"
      },
      "source": [
        "**Question 5:**  \n",
        "1) Normalize the data using `MinMaxScaler`sklearn module over the original date (example on the walktrough). Note that the scaler returns a numpy array. We add line to transform it back to a pandas dataframe.  \n",
        "2) From the advertising dataset, save the features ``TV``, `Radio` and `Newspaper` into X  and the target `Sales` into y, in a dataframe pandas format (`X[['sth']]` instead of `X['sth']`).  \n",
        "3) For 1, 2 and 3 variables features of you data:\n",
        "- split the data into two sets(training and testing using `train_test_split()`  \n",
        "- create a linear model  \n",
        "- fit the linear model with `X_train` and `y_train`\n",
        "\n",
        "4) Compute the mean absolute error of the training set and the testing set, save the values into the two arrays already define. Plot the diffents errors values depending on the number of features. \n",
        "\n",
        "\n",
        "\n"
      ]
    },
    {
      "cell_type": "code",
      "metadata": {
        "colab_type": "code",
        "id": "9iBrFvRzUjkm",
        "colab": {}
      },
      "source": [
        "# 1) Normalize the data\n",
        "# Create new scaler from MinMaxScaler()\n",
        "scaler = MinMaxScaler()\n",
        "# Fit and transform the original data\n",
        "data = scaler.fit_transform(ad_df)\n",
        "# Transform the scales data array to a dataframe\n",
        "data = pd.DataFrame(data, columns=ad_df.columns).drop('id', axis=1)"
      ],
      "execution_count": 0,
      "outputs": []
    },
    {
      "cell_type": "code",
      "metadata": {
        "colab_type": "code",
        "id": "UARmaTvYUjkp",
        "colab": {}
      },
      "source": [
        "# Save 3 features in X: TV, Newspaper and Radio\n",
        "# Save the target in y: Sales\n",
        "X = data[[\"TV\", \"Radio\", \"Newspaper\"]]\n",
        "y = data[\"Sales\"]\n"
      ],
      "execution_count": 0,
      "outputs": []
    },
    {
      "cell_type": "code",
      "metadata": {
        "colab_type": "code",
        "id": "S_T9wYLSUjkr",
        "outputId": "bd858cbd-d44b-4596-d353-b787792ec9e3",
        "colab": {
          "base_uri": "https://localhost:8080/",
          "height": 330
        }
      },
      "source": [
        "# Arrays to save the different errors\n",
        "train_err = []\n",
        "test_err = []\n",
        "\n",
        "# 3) Iterate over 1, 2 and 3 features\n",
        "for nbr_col in range(1, 4):\n",
        "    # Select the good number of features for X\n",
        "    X_temp = X[X.columns[:nbr_col]]\n",
        "    # Split the dat set\n",
        "    X_train, X_test, y_train, y_test = train_test_split(X_temp, y, test_size=0.2, random_state=10)\n",
        "    # Create the linear model\n",
        "    LR = LinearRegression(fit_intercept=False)\n",
        "    # Fit the linear model\n",
        "    LR.fit(X_train, y_train)\n",
        "    \n",
        "    #4) Compute and save the mean absolute error fro training and testing set\n",
        "    train_err.append(mean_absolute_error(y_train, LR.predict(X_train)))\n",
        "    test_err.append(mean_absolute_error(y_test, LR.predict(X_test)))\n",
        "\n",
        "# Print the train and the test errors\n",
        "print(\"Train error: \", train_err)\n",
        "print(\"Test error : \", test_err)\n",
        "\n",
        "# 4) diffents errors values depending on the number of features. \n",
        "plt.title(\"Training and test error regarding the number of features\")\n",
        "plt.plot(range(1,4), train_err, label=\"train_error\")\n",
        "plt.plot(range(1,4), test_err, label=\"test_error\")\n",
        "plt.legend(fontsize=10)\n",
        "plt.xlabel(\"Number of features\")\n",
        "plt.ylabel(\"Error\")\n",
        "plt.show()\n"
      ],
      "execution_count": 0,
      "outputs": [
        {
          "output_type": "stream",
          "text": [
            "Train error:  [0.1386328698697667, 0.04720902430952486, 0.047618504464523294]\n",
            "Test error :  [0.15254176754970591, 0.06939395556936792, 0.07070458300078353]\n"
          ],
          "name": "stdout"
        },
        {
          "output_type": "display_data",
          "data": {
            "image/png": "[encoded data removed]",
            "text/plain": [
              "<Figure size 432x288 with 1 Axes>"
            ]
          },
          "metadata": {
            "tags": []
          }
        }
      ]
    },
    {
      "cell_type": "markdown",
      "metadata": {
        "colab_type": "text",
        "id": "jri-a4Lq598-"
      },
      "source": [
        "**Note:** Adding the last feature do not give us specially a better result."
      ]
    },
    {
      "cell_type": "markdown",
      "metadata": {
        "colab_type": "text",
        "id": "5QNBCv3rUjk1"
      },
      "source": [
        "## 5.Cross validation\n",
        "\n",
        "The standard way to do a hyperparameter tuning is through cross validation. We need to make sure that our model has a has a good generalisation power and performs well on unseen data. We use the `KFold` sklearn module to separate the data set into different combination of data. It will reduce the overfitting issue When you create a new KFold object, you have to precise the number of splits you want.\n",
        "\n",
        "We will first normalize the data to reduce the variance.\n",
        "\n",
        "**Question 5:**  \n",
        "1) Normalize the original dataframe. Then select the features : TV, Radio and Newspaper as matrix X. Y is the sales target output.  \n",
        "2) Initialise the `KFold` sklearn module with 5 splits.  \n",
        "3) Initialise your Linear Regression Model.  \n",
        "4) Iterate over the different splits (us the `split()` function of the KFOld module). For each split you should separate your data into a training and test set. Then fit your linear model with the training set.  \n",
        "**Hint:** Use `.iloc[]` for raw access.\n",
        "5) For each split, compute and save the score of the model into a list named `scores` ( use the test set) . Then compute the mean of the list (`np.mean(list)`). "
      ]
    },
    {
      "cell_type": "code",
      "metadata": {
        "colab_type": "code",
        "id": "tr6XPFPMC0Fh",
        "colab": {}
      },
      "source": [
        "# 1) Normalize the data\n",
        "scaler = MinMaxScaler()\n",
        "data = scaler.fit_transform(ad_df)\n",
        "data = pd.DataFrame(data, columns=ad_df.columns)\n",
        "display()\n",
        "\n",
        "# Select the \n",
        "X = data[[\"TV\", \"Radio\"]]\n",
        "y = data[\"Sales\"]\n",
        "\n",
        "# 2) Initialise the kfold and \n",
        "n_splits = 5\n",
        "cv = KFold(n_splits=n_splits)\n",
        "\n",
        "# 3) Define your linear model before the loop !!\n",
        "model = LinearRegression(fit_intercept=True)\n",
        "\n",
        "# Save the scores for each fold\n",
        "scores = []\n",
        "\n",
        "#4) Iterate over the different split\n",
        "for train_index, test_index in cv.split(X):\n",
        "    # Print the different split index\n",
        "    print(\"Train Index: \", train_index, \"\\n\")\n",
        "    print(\"Test Index: \", test_index)\n",
        "    \n",
        "    # Split the data set\n",
        "    X_train, X_test, y_train, y_test = X.iloc[train_index], X.iloc[test_index], y.iloc[train_index], y[test_index]\n",
        "    # Fit the model\n",
        "    model.fit(X_train, y_train)\n",
        "    \n",
        "    # 5) Save the score of this split\n",
        "    scores.append(model.score(X_test, y_test))\n",
        "    \n",
        "\n",
        "print(\"The R^2 scores: \", scores)\n",
        "\n",
        "#5) The accuracy mean of the model\n",
        "print(\"Accuracy %.2f \" %np.mean(scores))"
      ],
      "execution_count": 0,
      "outputs": []
    },
    {
      "cell_type": "code",
      "metadata": {
        "colab_type": "code",
        "id": "bv_3T3ijkpP_",
        "colab": {}
      },
      "source": [
        ""
      ],
      "execution_count": 0,
      "outputs": []
    }
  ]
}