{
 "cells": [
  {
   "cell_type": "markdown",
   "metadata": {
    "colab_type": "text",
    "id": "view-in-github"
   },
   "source": [
    "<a href=\"https://colab.research.google.com/github/michalis0/Business-Intelligence-and-Analytics_private/blob/master/week7/walkthrough_draft.ipynb\" target=\"_parent\"><img src=\"https://colab.research.google.com/assets/colab-badge.svg\" alt=\"Open In Colab\"/></a>"
   ]
  },
  {
   "cell_type": "markdown",
   "metadata": {
    "colab_type": "text",
    "id": "u461z_Wk-K-P"
   },
   "source": [
    "## Walthrought : Regression\n",
    "\n",
    "Regression is to relate input variables to the output variable, to either predict outputs for new inputs and/or to understand the effect of the input on the output. In prediction, we wish to predict the output for a new input vector. In interpretation, we wish to under- stand the effect of inputs on output.\n",
    "\n",
    "For both the goals, we need to find a function that approximates the output “well enough” given inputs:\n",
    "\n",
    "$$y_n =f(\\boldsymbol{x_{n}})$$\n",
    "\n",
    "In python, a useful library exist to apply regression and other Machine Learning and statisticals tools over the data. It is so call **sklearn**.\n",
    "\n",
    "This walkthrough will learn you how to use this library in the context of regression."
   ]
  },
  {
   "cell_type": "code",
   "execution_count": 1,
   "metadata": {
    "colab": {},
    "colab_type": "code",
    "id": "Oi8vCkNF_B3P"
   },
   "outputs": [],
   "source": [
    "import matplotlib.pylab as plt\n",
    "import pandas as pd\n",
    "import numpy as np\n",
    "%matplotlib inline\n",
    "from sklearn.linear_model import LinearRegression\n",
    "from sklearn.metrics import mean_absolute_error, r2_score, mean_squared_error"
   ]
  },
  {
   "cell_type": "markdown",
   "metadata": {
    "colab_type": "text",
    "id": "32vbaIBt_5KF"
   },
   "source": [
    "## 1. Load the dataset\n",
    "\n",
    "\n",
    "From this library we import the `LinearRegression` module and the differents datasets use for examples. In this section, we will discuss the basic of using linear model using weather dataset as example. Then you will be given a task and perform your own linear regression."
   ]
  },
  {
   "cell_type": "code",
   "execution_count": 2,
   "metadata": {
    "colab": {
     "base_uri": "https://localhost:8080/",
     "height": 573
    },
    "colab_type": "code",
    "id": "FRP6bS5fABwY",
    "outputId": "6a6c8c4c-2f17-40ee-c0a1-14669df28107"
   },
   "outputs": [
    {
     "data": {
      "text/html": [
       "<div>\n",
       "<style scoped>\n",
       "    .dataframe tbody tr th:only-of-type {\n",
       "        vertical-align: middle;\n",
       "    }\n",
       "\n",
       "    .dataframe tbody tr th {\n",
       "        vertical-align: top;\n",
       "    }\n",
       "\n",
       "    .dataframe thead th {\n",
       "        text-align: right;\n",
       "    }\n",
       "</style>\n",
       "<table border=\"1\" class=\"dataframe\">\n",
       "  <thead>\n",
       "    <tr style=\"text-align: right;\">\n",
       "      <th></th>\n",
       "      <th>Date</th>\n",
       "      <th>Location</th>\n",
       "      <th>MinTemp</th>\n",
       "      <th>MaxTemp</th>\n",
       "      <th>Rainfall</th>\n",
       "      <th>Evaporation</th>\n",
       "      <th>Sunshine</th>\n",
       "      <th>WindGustDir</th>\n",
       "      <th>WindGustSpeed</th>\n",
       "      <th>WindDir9am</th>\n",
       "      <th>...</th>\n",
       "      <th>Humidity3pm</th>\n",
       "      <th>Pressure9am</th>\n",
       "      <th>Pressure3pm</th>\n",
       "      <th>Cloud9am</th>\n",
       "      <th>Cloud3pm</th>\n",
       "      <th>Temp9am</th>\n",
       "      <th>Temp3pm</th>\n",
       "      <th>RainToday</th>\n",
       "      <th>RISK_MM</th>\n",
       "      <th>RainTomorrow</th>\n",
       "    </tr>\n",
       "  </thead>\n",
       "  <tbody>\n",
       "    <tr>\n",
       "      <th>0</th>\n",
       "      <td>2007-11-01</td>\n",
       "      <td>Canberra</td>\n",
       "      <td>8.0</td>\n",
       "      <td>24.3</td>\n",
       "      <td>0.0</td>\n",
       "      <td>3.4</td>\n",
       "      <td>6.3</td>\n",
       "      <td>NW</td>\n",
       "      <td>30.0</td>\n",
       "      <td>SW</td>\n",
       "      <td>...</td>\n",
       "      <td>29</td>\n",
       "      <td>1019.7</td>\n",
       "      <td>1015.0</td>\n",
       "      <td>7</td>\n",
       "      <td>7</td>\n",
       "      <td>14.4</td>\n",
       "      <td>23.6</td>\n",
       "      <td>No</td>\n",
       "      <td>3.6</td>\n",
       "      <td>Yes</td>\n",
       "    </tr>\n",
       "    <tr>\n",
       "      <th>1</th>\n",
       "      <td>2007-11-02</td>\n",
       "      <td>Canberra</td>\n",
       "      <td>14.0</td>\n",
       "      <td>26.9</td>\n",
       "      <td>3.6</td>\n",
       "      <td>4.4</td>\n",
       "      <td>9.7</td>\n",
       "      <td>ENE</td>\n",
       "      <td>39.0</td>\n",
       "      <td>E</td>\n",
       "      <td>...</td>\n",
       "      <td>36</td>\n",
       "      <td>1012.4</td>\n",
       "      <td>1008.4</td>\n",
       "      <td>5</td>\n",
       "      <td>3</td>\n",
       "      <td>17.5</td>\n",
       "      <td>25.7</td>\n",
       "      <td>Yes</td>\n",
       "      <td>3.6</td>\n",
       "      <td>Yes</td>\n",
       "    </tr>\n",
       "    <tr>\n",
       "      <th>2</th>\n",
       "      <td>2007-11-03</td>\n",
       "      <td>Canberra</td>\n",
       "      <td>13.7</td>\n",
       "      <td>23.4</td>\n",
       "      <td>3.6</td>\n",
       "      <td>5.8</td>\n",
       "      <td>3.3</td>\n",
       "      <td>NW</td>\n",
       "      <td>85.0</td>\n",
       "      <td>N</td>\n",
       "      <td>...</td>\n",
       "      <td>69</td>\n",
       "      <td>1009.5</td>\n",
       "      <td>1007.2</td>\n",
       "      <td>8</td>\n",
       "      <td>7</td>\n",
       "      <td>15.4</td>\n",
       "      <td>20.2</td>\n",
       "      <td>Yes</td>\n",
       "      <td>39.8</td>\n",
       "      <td>Yes</td>\n",
       "    </tr>\n",
       "    <tr>\n",
       "      <th>3</th>\n",
       "      <td>2007-11-04</td>\n",
       "      <td>Canberra</td>\n",
       "      <td>13.3</td>\n",
       "      <td>15.5</td>\n",
       "      <td>39.8</td>\n",
       "      <td>7.2</td>\n",
       "      <td>9.1</td>\n",
       "      <td>NW</td>\n",
       "      <td>54.0</td>\n",
       "      <td>WNW</td>\n",
       "      <td>...</td>\n",
       "      <td>56</td>\n",
       "      <td>1005.5</td>\n",
       "      <td>1007.0</td>\n",
       "      <td>2</td>\n",
       "      <td>7</td>\n",
       "      <td>13.5</td>\n",
       "      <td>14.1</td>\n",
       "      <td>Yes</td>\n",
       "      <td>2.8</td>\n",
       "      <td>Yes</td>\n",
       "    </tr>\n",
       "    <tr>\n",
       "      <th>4</th>\n",
       "      <td>2007-11-05</td>\n",
       "      <td>Canberra</td>\n",
       "      <td>7.6</td>\n",
       "      <td>16.1</td>\n",
       "      <td>2.8</td>\n",
       "      <td>5.6</td>\n",
       "      <td>10.6</td>\n",
       "      <td>SSE</td>\n",
       "      <td>50.0</td>\n",
       "      <td>SSE</td>\n",
       "      <td>...</td>\n",
       "      <td>49</td>\n",
       "      <td>1018.3</td>\n",
       "      <td>1018.5</td>\n",
       "      <td>7</td>\n",
       "      <td>7</td>\n",
       "      <td>11.1</td>\n",
       "      <td>15.4</td>\n",
       "      <td>Yes</td>\n",
       "      <td>0.0</td>\n",
       "      <td>No</td>\n",
       "    </tr>\n",
       "  </tbody>\n",
       "</table>\n",
       "<p>5 rows × 24 columns</p>\n",
       "</div>"
      ],
      "text/plain": [
       "         Date  Location  MinTemp  MaxTemp  Rainfall  Evaporation  Sunshine  \\\n",
       "0  2007-11-01  Canberra      8.0     24.3       0.0          3.4       6.3   \n",
       "1  2007-11-02  Canberra     14.0     26.9       3.6          4.4       9.7   \n",
       "2  2007-11-03  Canberra     13.7     23.4       3.6          5.8       3.3   \n",
       "3  2007-11-04  Canberra     13.3     15.5      39.8          7.2       9.1   \n",
       "4  2007-11-05  Canberra      7.6     16.1       2.8          5.6      10.6   \n",
       "\n",
       "  WindGustDir  WindGustSpeed WindDir9am  ... Humidity3pm  Pressure9am  \\\n",
       "0          NW           30.0         SW  ...          29       1019.7   \n",
       "1         ENE           39.0          E  ...          36       1012.4   \n",
       "2          NW           85.0          N  ...          69       1009.5   \n",
       "3          NW           54.0        WNW  ...          56       1005.5   \n",
       "4         SSE           50.0        SSE  ...          49       1018.3   \n",
       "\n",
       "   Pressure3pm  Cloud9am  Cloud3pm  Temp9am  Temp3pm  RainToday  RISK_MM  \\\n",
       "0       1015.0         7         7     14.4     23.6         No      3.6   \n",
       "1       1008.4         5         3     17.5     25.7        Yes      3.6   \n",
       "2       1007.2         8         7     15.4     20.2        Yes     39.8   \n",
       "3       1007.0         2         7     13.5     14.1        Yes      2.8   \n",
       "4       1018.5         7         7     11.1     15.4        Yes      0.0   \n",
       "\n",
       "   RainTomorrow  \n",
       "0           Yes  \n",
       "1           Yes  \n",
       "2           Yes  \n",
       "3           Yes  \n",
       "4            No  \n",
       "\n",
       "[5 rows x 24 columns]"
      ]
     },
     "metadata": {},
     "output_type": "display_data"
    },
    {
     "name": "stdout",
     "output_type": "stream",
     "text": [
      "Date              object\n",
      "Location          object\n",
      "MinTemp          float64\n",
      "MaxTemp          float64\n",
      "Rainfall         float64\n",
      "Evaporation      float64\n",
      "Sunshine         float64\n",
      "WindGustDir       object\n",
      "WindGustSpeed    float64\n",
      "WindDir9am        object\n",
      "WindDir3pm        object\n",
      "WindSpeed9am     float64\n",
      "WindSpeed3pm       int64\n",
      "Humidity9am        int64\n",
      "Humidity3pm        int64\n",
      "Pressure9am      float64\n",
      "Pressure3pm      float64\n",
      "Cloud9am           int64\n",
      "Cloud3pm           int64\n",
      "Temp9am          float64\n",
      "Temp3pm          float64\n",
      "RainToday         object\n",
      "RISK_MM          float64\n",
      "RainTomorrow      object\n",
      "dtype: object\n",
      "Data matrix shape:  (328, 24)\n",
      "Columns names:  Index(['Date', 'Location', 'MinTemp', 'MaxTemp', 'Rainfall', 'Evaporation',\n",
      "       'Sunshine', 'WindGustDir', 'WindGustSpeed', 'WindDir9am', 'WindDir3pm',\n",
      "       'WindSpeed9am', 'WindSpeed3pm', 'Humidity9am', 'Humidity3pm',\n",
      "       'Pressure9am', 'Pressure3pm', 'Cloud9am', 'Cloud3pm', 'Temp9am',\n",
      "       'Temp3pm', 'RainToday', 'RISK_MM', 'RainTomorrow'],\n",
      "      dtype='object')\n"
     ]
    }
   ],
   "source": [
    "#Load the dataset\n",
    "url = \"https://raw.githubusercontent.com/michalis0/Business-Intelligence-and-Analytics/master/data/weather.csv\"\n",
    "weather = pd.read_csv(url).drop_duplicates().dropna()\n",
    "# Display a sample of the data\n",
    "display(weather.head())\n",
    "#Print the data types\n",
    "print(weather.dtypes)\n",
    "print(\"Data matrix shape: \", weather.shape)\n",
    "# display the columns names\n",
    "print(\"Columns names: \", weather.columns) "
   ]
  },
  {
   "cell_type": "markdown",
   "metadata": {
    "colab_type": "text",
    "id": "CdrFokUIEDci"
   },
   "source": [
    "**Note:** The purpose here is to predict the temperature from other features (like humidity or pression). We named it multivariate linear regression when we use several features as input, univariate otherwise. We will work with values at **3pm** for simplicity.\n",
    "\n",
    "A LinearRegression has this form for one feature: $$ Y_i = \\beta_0 + \\beta_1 X_i + \\epsilon_i$$\n",
    "\n",
    "The betas correspond the weights (variables). Combine with the features ( matrix X) we want to predict the target variable (Y vector). The regression will compute the best value of $\\beta_i$.\n",
    "\n",
    "For now we will focus on a simply linear regression with **one feature variable**. We would like to know if we can use the humity to predict the temperature. Let's separate the feature input from the target output."
   ]
  },
  {
   "cell_type": "code",
   "execution_count": 3,
   "metadata": {
    "colab": {},
    "colab_type": "code",
    "id": "DvHMm6n5Uhef"
   },
   "outputs": [],
   "source": [
    "X = weather[['Humidity3pm']] \n",
    "y = weather[['Temp3pm']]"
   ]
  },
  {
   "cell_type": "markdown",
   "metadata": {
    "colab_type": "text",
    "id": "KbFaMRiOF-Kr"
   },
   "source": [
    "## 2. Splitting the dataset\n",
    "\n",
    "Sklearn has a very useful module to seprate your dataset in a training and testing set. The training set will be use to retreive the best values of the weights according with a combinaison of input/output while the test set will be use to evaluate/predict our model. Since our model will be trained on particular values we want to test our data on a new set of data (the test set).\n",
    "\n",
    "The test size here is of 20% of the original data."
   ]
  },
  {
   "cell_type": "code",
   "execution_count": 4,
   "metadata": {
    "colab": {},
    "colab_type": "code",
    "id": "pa-wOqD6Cei3"
   },
   "outputs": [],
   "source": [
    "from sklearn.model_selection import train_test_split\n",
    "X_train, X_test, y_train, y_test = train_test_split(X, y, test_size=0.2, random_state=0, shuffle=True)\n"
   ]
  },
  {
   "cell_type": "markdown",
   "metadata": {
    "colab_type": "text",
    "id": "RUoAlVFvLK8a"
   },
   "source": [
    "**Note:** Normally you should normalize the data before splitting the datset. The normalization is important here to reduce the variance of our model and get better results. We keep this step for now.\n",
    "\n",
    "The sklearn code use `MinMaxScaler` module to normalize the data. This estimator scales and translates each feature individually such that it is in the given range on the training set, e.g. between zero and one.  \n",
    "\n",
    "This is an example of how to use it:\n",
    "```python\n",
    "from sklearn.preprocessing import MinMaxScaler\n",
    "scaler = MinMaxScaler()\n",
    "scaler.fit(data)\n",
    "#Per feature maximum seen in the data\n",
    "print(scaler.data_max_)\n",
    "# Retur the scale features of X according to feature_range.\n",
    "print(scaler.transform(data))\n",
    "\n",
    "#These two steps can be merge into one shot by:\n",
    "data = scaler.fit_transform(data)\n",
    "```"
   ]
  },
  {
   "cell_type": "markdown",
   "metadata": {
    "colab_type": "text",
    "id": "hFz94n5GIP_T"
   },
   "source": [
    "## 3. Create/Fit the model\n",
    "\n",
    "To predict the target variable we will use a simple linear regression. We can import the module like this (already done at the beginning of the file):\n",
    "\n",
    "```python\n",
    "from sklearn.linear_model import LinearRegression\n",
    "```"
   ]
  },
  {
   "cell_type": "code",
   "execution_count": 5,
   "metadata": {
    "colab": {
     "base_uri": "https://localhost:8080/",
     "height": 34
    },
    "colab_type": "code",
    "id": "ebSpuUsrG-RF",
    "outputId": "3cda5f2a-a2ee-4342-a7f7-31314d1a7f5b"
   },
   "outputs": [
    {
     "name": "stdout",
     "output_type": "stream",
     "text": [
      "R^2 Score of the model:  0.372\n"
     ]
    }
   ],
   "source": [
    "# There are three steps to model something with sklearn\n",
    "# 1. Set up the model\n",
    "model = LinearRegression()\n",
    "# 2. Use fit\n",
    "model.fit(X_train, y_train)\n",
    "# 3. Check the score/accuracy\n",
    "print(\"R^2 Score of the model: \", round(model.score(X_test, y_test), 3))\n"
   ]
  },
  {
   "cell_type": "markdown",
   "metadata": {
    "colab_type": "text",
    "id": "qygxTo56HkeH"
   },
   "source": [
    "**Note:** \n",
    "- We create a new LinearRegression model from sklearn\n",
    "- The `fit()` function will fil the linear model from the X_train (features) and the y_train data (target)\n",
    "- The ``score()``function return the coefficient of determination R^2 of the prediction. he best possible score is 1.0 and it can be negative (because the model can be arbitrarily worse). A constant model that always predicts the expected value of y, disregarding the input features, would get a R^2 score of 0.0.\n",
    "\n",
    "After fitting the model, we can easily retreive the values of the different betas coefficients (the intercept, and the weight fro each feature)."
   ]
  },
  {
   "cell_type": "code",
   "execution_count": 6,
   "metadata": {
    "colab": {
     "base_uri": "https://localhost:8080/",
     "height": 52
    },
    "colab_type": "code",
    "id": "WAMS6qKIHC35",
    "outputId": "c16143b8-de70-44a2-9a69-40912223be50"
   },
   "outputs": [
    {
     "name": "stdout",
     "output_type": "stream",
     "text": [
      "Intercept:  29.543003059769497\n",
      "Features coefficients (weigths):  -0.22661055784458156\n"
     ]
    }
   ],
   "source": [
    "print(\"Intercept: \", model.intercept_[0]) \n",
    "print(\"Features coefficients (weigths): \", model.coef_.flatten()[0])# Get the coefficients, beta"
   ]
  },
  {
   "cell_type": "markdown",
   "metadata": {
    "colab_type": "text",
    "id": "w3_SgE4nsCIp"
   },
   "source": [
    "**Note:** Considering this linear equation: $ Y_i = \\beta_0 + \\beta_1 X_i + \\epsilon_i$\n",
    "The intercept corresponds to the value of $\\beta_0$ and there is one coefficient,  $\\beta_1$ linked to the humity feature. Since we have only one value for intercept and coefficients represented as arrays, we apply `flattent()` and `[0]`."
   ]
  },
  {
   "cell_type": "markdown",
   "metadata": {
    "colab_type": "text",
    "id": "dkdOvMjoI6mQ"
   },
   "source": [
    "## 4. Prediction/Evaluation\n",
    "\n",
    "The model is trained, then we can use the ``predict()`` function to predict the values of the test set using `X_test`. This prediction can be compared to the truth value i.e `y_test`.\n",
    "\n",
    "Here an example for one value prediction. Our model takes a matrix as inputs (X matrix), so even if we want to predict a sclar value we should use `[[...]]`."
   ]
  },
  {
   "cell_type": "code",
   "execution_count": 7,
   "metadata": {
    "colab": {
     "base_uri": "https://localhost:8080/",
     "height": 52
    },
    "colab_type": "code",
    "id": "wJm-HPRYtGF6",
    "outputId": "8915be87-9020-444d-c333-4754588de2e0"
   },
   "outputs": [
    {
     "name": "stdout",
     "output_type": "stream",
     "text": [
      "Particular value of humidity:  [28]\n",
      "Prediction/Truth for humidity 32:  [[22.29146521]] [27.]\n"
     ]
    }
   ],
   "source": [
    "print(\"Particular value of humidity: \", X_test.iloc[0].values)\n",
    "#Compute the prediction for input 32 (humidity)\n",
    "prediction = model.predict([[32]])\n",
    "print(\"Prediction/Truth for humidity 32: \", prediction, y_test.iloc[0].values)"
   ]
  },
  {
   "cell_type": "markdown",
   "metadata": {},
   "source": [
    "**Note:** Try to use `flatten()` and `[0]` in order to display correctly the above values."
   ]
  },
  {
   "cell_type": "markdown",
   "metadata": {
    "colab_type": "text",
    "id": "uLEovOE8tGyV"
   },
   "source": [
    "## 5. Evaluation and plotting\n",
    "\n",
    "To better understand why the prediction and actual value are different , we can plot the predictions (form a line) and the true values from the test set. It is more interressing to predict from the test set because our model is not trained on these values unlike the train set."
   ]
  },
  {
   "cell_type": "code",
   "execution_count": 8,
   "metadata": {
    "colab": {},
    "colab_type": "code",
    "id": "D1bnZYPnHK8V"
   },
   "outputs": [],
   "source": [
    "#Model prediction from X_test\n",
    "predictions = model.predict(X_test)"
   ]
  },
  {
   "cell_type": "markdown",
   "metadata": {
    "colab_type": "text",
    "id": "Asy8tfPuvrKd"
   },
   "source": [
    "We can compare the error of our model by using some metrics like the **MAE (mean absolute error)**, **MSE (mean squared error)** or **R^2** score. Sklearn offers to you some nice modules to compute directly these measures. These modules are imported at the begining of the file.\n",
    "\n",
    "These two metrics takes the `y_true` values and the `predictions` as arguments. Basically it will analyse how much the prediction is far away from the true value."
   ]
  },
  {
   "cell_type": "code",
   "execution_count": 9,
   "metadata": {
    "colab": {
     "base_uri": "https://localhost:8080/",
     "height": 69
    },
    "colab_type": "code",
    "id": "syKiA49gvpNQ",
    "outputId": "615a0912-09e4-4e87-9500-430d9d59dda4"
   },
   "outputs": [
    {
     "name": "stdout",
     "output_type": "stream",
     "text": [
      "MAE 4.27\n",
      "MSE 24.44\n",
      "R^2 0.37\n"
     ]
    }
   ],
   "source": [
    "# Compare the MAE the MSE and the R^2\n",
    "mae = mean_absolute_error(y_test, predictions)\n",
    "mse = mean_squared_error(y_test, predictions)\n",
    "r2 = r2_score(y_test, predictions)\n",
    "\n",
    "print(\"MAE %.2f\" % mae)\n",
    "print(\"MSE %.2f\" % mse)\n",
    "print(\"R^2 %.2f\" % r2)"
   ]
  },
  {
   "cell_type": "code",
   "execution_count": 10,
   "metadata": {
    "colab": {
     "base_uri": "https://localhost:8080/",
     "height": 295
    },
    "colab_type": "code",
    "id": "3QWBgialsjhv",
    "outputId": "54207640-d1ad-493c-8982-c7b3cf1f0bc4"
   },
   "outputs": [
    {
     "data": {
      "image/png": "[encoded data removed]",
      "text/plain": [
       "<Figure size 432x288 with 1 Axes>"
      ]
     },
     "metadata": {
      "needs_background": "light"
     },
     "output_type": "display_data"
    }
   ],
   "source": [
    "# Plot the prediction (the line) over the true value (the dots)\n",
    "plt.scatter(X_test, y_test)\n",
    "plt.plot(X_test, predictions, 'r')\n",
    "plt.title(\"Humidity against temperature\")\n",
    "plt.xlabel('Humidity')\n",
    "plt.ylabel('Temperature')\n",
    "plt.show()"
   ]
  },
  {
   "cell_type": "markdown",
   "metadata": {
    "colab_type": "text",
    "id": "oL9jvHvRJnpR"
   },
   "source": [
    "## 6. Multivariate variables\n",
    "\n",
    "Now we will apply the same piece of code to several features. For instance it should be interesting to use: humidity, pressure, sunshine and cloud data.\n"
   ]
  },
  {
   "cell_type": "code",
   "execution_count": 11,
   "metadata": {
    "colab": {
     "base_uri": "https://localhost:8080/",
     "height": 139
    },
    "colab_type": "code",
    "id": "ViJclqSnJUsx",
    "outputId": "548bdba4-a3fe-46a8-8382-fec60e89230b"
   },
   "outputs": [
    {
     "name": "stdout",
     "output_type": "stream",
     "text": [
      "Intercept:  [361.96448369]\n",
      "Features coefficients (weigths):  [[-0.20850482  0.53595273 -0.33294024  0.39432442]]\n",
      "Particular value of ['Humidity3pm', 'Cloud3pm', 'Pressure3pm', 'Sunshine']:  [  28.     7.  1018.2    7.3]\n",
      "Prediction/Truth for [ 28.0, 7.0, 1018.2, 7.3]:  [[23.75683013]] [27.]\n",
      "MAE 3.90\n",
      "MSE 21.85\n",
      "R^2 0.44\n"
     ]
    }
   ],
   "source": [
    "# 1. Split the data by features and target\n",
    "X = weather[['Humidity3pm', 'Cloud3pm', 'Pressure3pm', 'Sunshine']] \n",
    "y = weather[['Temp3pm']]\n",
    "# 2. Split the data into a training a test sets\n",
    "X_train, X_test, y_train, y_test = train_test_split(X, y, test_size=0.2, random_state=0, shuffle=True)\n",
    "# 3. Set up the model\n",
    "model = LinearRegression()\n",
    "# 4. Use fit\n",
    "model.fit(X_train, y_train)\n",
    "# 5. Print the coefficients of the linear model\n",
    "print(\"Intercept: \", model.intercept_) \n",
    "print(\"Features coefficients (weigths): \", model.coef_)# Get the coefficients, beta\n",
    "\n",
    "# 6.Prediction\n",
    "print(\"Particular value of ['Humidity3pm', 'Cloud3pm', 'Pressure3pm', 'Sunshine']: \", X_test.iloc[0].values)\n",
    "pred = model.predict([[ 28.0, 7.0, 1018.2, 7.3]])\n",
    "print(\"Prediction/Truth for [ 28.0, 7.0, 1018.2, 7.3]: \", pred, y_test.iloc[0].values)\n",
    "# 7. Evaluate the model over the test set\n",
    "predictions = model.predict(X_test)\n",
    "mae = mean_absolute_error(y_test, predictions)\n",
    "mse = mean_squared_error(y_test, predictions)\n",
    "r2 = r2_score(y_test, predictions)\n",
    "\n",
    "print(\"MAE %.2f\" % mae)\n",
    "print(\"MSE %.2f\" % mse)\n",
    "print(\"R^2 %.2f\" % r2)"
   ]
  },
  {
   "cell_type": "code",
   "execution_count": null,
   "metadata": {
    "colab": {},
    "colab_type": "code",
    "id": "RT2cXh_mzasf"
   },
   "outputs": [],
   "source": []
  }
 ],
 "metadata": {
  "colab": {
   "include_colab_link": true,
   "name": "walkthrough_draft.ipynb",
   "provenance": []
  },
  "kernelspec": {
   "display_name": "Python 3",
   "language": "python",
   "name": "python3"
  },
  "language_info": {
   "codemirror_mode": {
    "name": "ipython",
    "version": 3
   },
   "file_extension": ".py",
   "mimetype": "text/x-python",
   "name": "python",
   "nbconvert_exporter": "python",
   "pygments_lexer": "ipython3",
   "version": "3.7.7"
  }
 },
 "nbformat": 4,
 "nbformat_minor": 1
}
