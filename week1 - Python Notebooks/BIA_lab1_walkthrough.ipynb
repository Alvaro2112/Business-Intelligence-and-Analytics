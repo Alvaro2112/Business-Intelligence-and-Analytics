{
  "nbformat": 4,
  "nbformat_minor": 0,
  "metadata": {
    "colab": {
      "name": "BIA_lab1_walkthrough.ipynb",
      "provenance": [],
      "collapsed_sections": [],
      "authorship_tag": "ABX9TyMNb3vRKIJ+rF7C1fuCrdmv",
      "include_colab_link": true
    },
    "kernelspec": {
      "name": "python3",
      "display_name": "Python 3"
    }
  },
  "cells": [
    {
      "cell_type": "markdown",
      "metadata": {
        "id": "view-in-github",
        "colab_type": "text"
      },
      "source": [
        "<a href=\"https://colab.research.google.com/github/michalis0/Business-Intelligence-and-Analytics/blob/master/BIA_lab1_walkthrough.ipynb\" target=\"_parent\"><img src=\"https://colab.research.google.com/assets/colab-badge.svg\" alt=\"Open In Colab\"/></a>"
      ]
    },
    {
      "cell_type": "markdown",
      "metadata": {
        "id": "fY_2Pgo01YV7"
      },
      "source": [
        "#Business Intelligence and Analytics\r\n",
        "**Instructeurs:** Prof. Vlachos, Dr. Orso\r\n",
        "\r\n",
        "**TAs:**\r\n",
        "- Jonas\r\n",
        "- Mathilde\r\n",
        "- Lucas\r\n",
        "- Kamil\r\n",
        "\r\n",
        "___\r\n",
        "\r\n",
        "## Description\r\n",
        "\r\n",
        ">Les entreprises collectent de grandes quantités de données sur leurs clients: historique des achats, réponses aux événements de marketing, journalisation des recherches sur le Web, etc. Dans l'économie actuelle, les données peuvent aider les entreprises à mieux comprendre leurs clients et à prendre des décisions commerciales plus éclairées.\r\n",
        ">>L'objectif de ce cours est d'introduire des concepts en Business Intelligence et en analyse de données (Data Analytics).Durant ce cours, nous passerons en revue plusieurs méthodes pour extraire et manipuler des données (SQL), visualiser des données et prendre des décisions prédictives à partir de données. Nous soulignerons également les pièges potentiels liés à ces méthodes. Les étudiants expérimenteront ces sujets de manière pratique avec du code Python.\r\n",
        "___\r\n",
        "\r\n",
        "##Livres\r\n",
        "Voici de bons livres\r\n",
        "1. [Business Analytics](https://www.amazon.com/gp/product/B075XLZY23/ref=ppx_yo_dt_b_d_asin_title_o02?ie=UTF8&psc=1)\r\n",
        "___\r\n",
        "##Quizzes/Examens\r\n",
        "| Examen | Contenu |\r\n",
        "| --- | --- |\r\n",
        "| **Mid-term** | semaine 1-6 |\r\n",
        "| **Final**| semaine 1-12|\r\n",
        "\r\n",
        "___\r\n",
        "\r\n",
        "## Evaluation\r\n",
        "$Note = [0.3 * \\max(midterm, final)] + [0.7 * final] + Assignment$\r\n",
        "\r\n",
        "\r\n",
        "\r\n",
        "\r\n",
        "\r\n"
      ]
    },
    {
      "cell_type": "code",
      "metadata": {
        "id": "Q3SrQXP0-Mg5"
      },
      "source": [
        "def Note(midterm, final, assignment):\r\n",
        "  if midterm <= final:\r\n",
        "    note = final + assignment\r\n",
        "  else:\r\n",
        "    note = 0.3*midterm + 0.7*final + assignment\r\n",
        "  note = min(note, 6)\r\n",
        "  note = round(note, 2)\r\n",
        "  print('Vous avez obtenu la note de ', note, ' dans se cours')"
      ],
      "execution_count": null,
      "outputs": []
    },
    {
      "cell_type": "code",
      "metadata": {
        "colab": {
          "base_uri": "https://localhost:8080/"
        },
        "id": "rmtanKcV-_NH",
        "outputId": "e1629892-1022-4b20-8360-e992e8f2ab29"
      },
      "source": [
        "Note(4.5, 5, 0.25)"
      ],
      "execution_count": null,
      "outputs": [
        {
          "output_type": "stream",
          "text": [
            "Vous avez obtenu la note de  5.25  dans se cours\n"
          ],
          "name": "stdout"
        }
      ]
    },
    {
      "cell_type": "markdown",
      "metadata": {
        "id": "eQnAegWC7N8w"
      },
      "source": [
        "##_Image de l'Unil_\r\n",
        "![error](https://coursera-university-assets.s3.amazonaws.com/cb/63426036f974ead503ecc0e0e25bbc/Carre_B_300x300.png \"UNIL\")"
      ]
    },
    {
      "cell_type": "markdown",
      "metadata": {
        "id": "-5DmHkue8hMX"
      },
      "source": [
        "##~Video de l'Unil~\r\n",
        "\r\n",
        "[![error](https://coursera-university-assets.s3.amazonaws.com/cb/63426036f974ead503ecc0e0e25bbc/Carre_B_300x300.png)](https://www.youtube.com/watch?v=0M2EbryHZr0)\r\n",
        "\r\n"
      ]
    }
  ]
}
 
