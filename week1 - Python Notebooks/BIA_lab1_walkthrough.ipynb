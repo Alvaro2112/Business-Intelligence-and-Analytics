{
  "nbformat": 4,
  "nbformat_minor": 0,
  "metadata": {
    "colab": {
      "name": "BIA_lab1_walkthrough.ipynb",
      "provenance": [],
      "collapsed_sections": [],
      "authorship_tag": "ABX9TyO7wg6D3PRkY8bjkyHeEa7n",
      "include_colab_link": true
    },
    "kernelspec": {
      "name": "python3",
      "display_name": "Python 3"
    }
  },
  "cells": [
    {
      "cell_type": "markdown",
      "metadata": {
        "id": "view-in-github",
        "colab_type": "text"
      },
      "source": [
        "<a href=\"https://colab.research.google.com/github/michalis0/Business-Intelligence-and-Analytics/blob/master/week1%20-%20Python%20Notebooks/BIA_lab1_walkthrough.ipynb\" target=\"_parent\"><img src=\"https://colab.research.google.com/assets/colab-badge.svg\" alt=\"Open In Colab\"/></a>"
      ]
    },
    {
      "cell_type": "markdown",
      "metadata": {
        "id": "V2ytee3GxKCe"
      },
      "source": [
        "#Walkthrough - Lab 1\r\n",
        "\r\n",
        "The goal of this Walkthrough is to allow you to familiarize yourself with Colab, Markdown, and the usage of Python. In order to achieve that, we partly recreated the Moodle-page of this course. As you will see, you can familiarize yourself with the following concepts:\r\n",
        "- ***Colab:***\r\n",
        "  - Open a notebook from GitHub\r\n",
        "  - Work on a notebook\r\n",
        "  - Save a notebook in Drive\r\n",
        "  - Download a notebook\r\n",
        "- ***Markdown:***\r\n",
        "  - Headers\r\n",
        "  - Emphasis (bold, italics, strikethrough)\r\n",
        "  - Blockquotes\r\n",
        "  - Lists\r\n",
        "  - Tables\r\n",
        "  - Horizontal lines\r\n",
        "  - Links\r\n",
        "  - Images\r\n",
        "  - videos\r\n",
        "  - Mathematical formulas\r\n",
        "- ***Python:***\r\n",
        "  - How to write code\r\n",
        "  - How to run code"
      ]
    },
    {
      "cell_type": "markdown",
      "metadata": {
        "id": "jyij8neZz4yD"
      },
      "source": [
        "#Colab\r\n",
        "**Open a Notebook from GitHub** To open a notebook in Google Colab, simply click the \"open in colab\" button you can find on the GitHub notebook.\r\n",
        "\r\n",
        "**Work on a Notebook** In order to work on the notebook, right after opening it, you should click \"Copy to drive\" (right above the cells). This will open another window in which you can then freely work on the notebook. You can then create, modify, and delete files as you wish.\r\n",
        "\r\n",
        "**Save a Notebook in Drive** Saving your notebooks on Google Drive is the easiest option. To do so, simply go to \"File\" > \"Save\". You will then be able to reopen it with \"File\" > \"Open notebook\" > \"Google Drive\".\r\n",
        "\r\n",
        "**Download a Notebook** This is an alternative to saving your notebooks on Google Drive. Use \"File\" > \"Download .ipynb\" to do so. You can then reopen your notebook with \"File\" > \"Open notebook\" > \"Upload\"."
      ]
    },
    {
      "cell_type": "markdown",
      "metadata": {
        "id": "5SFM7d2Qz6Oc"
      },
      "source": [
        "# Markdown\r\n",
        "Double-click on the cell below to find out how to write in Markdown (left part of the cell) so that it gets rendered as we want it to be (right part of the cell). As you can see, we partly recreated the BIA moodle-page so that you can see how Markdown works."
      ]
    },
    {
      "cell_type": "markdown",
      "metadata": {
        "id": "fY_2Pgo01YV7"
      },
      "source": [
        "#Business Intelligence and Analytics\r\n",
        "**Instructeurs:** Prof. Vlachos, Dr. Orso\r\n",
        "\r\n",
        "**TAs:**\r\n",
        "- Jonas\r\n",
        "- Mathilde\r\n",
        "- Lucas\r\n",
        "- Kamil\r\n",
        "\r\n",
        "___\r\n",
        "\r\n",
        "## Description\r\n",
        "\r\n",
        ">Les entreprises collectent de grandes quantités de données sur leurs clients: historique des achats, réponses aux événements de marketing, journalisation des recherches sur le Web, etc. Dans l'économie actuelle, les données peuvent aider les entreprises à mieux comprendre leurs clients et à prendre des décisions commerciales plus éclairées.\r\n",
        ">\r\n",
        ">L'objectif de ce cours est d'introduire des concepts en Business Intelligence et en analyse de données (Data Analytics).Durant ce cours, nous passerons en revue plusieurs méthodes pour extraire et manipuler des données (SQL), visualiser des données et prendre des décisions prédictives à partir de données. Nous soulignerons également les pièges potentiels liés à ces méthodes. Les étudiants expérimenteront ces sujets de manière pratique avec du code Python.\r\n",
        "___\r\n",
        "\r\n",
        "##Livres\r\n",
        "Voici de bons livres\r\n",
        "1. [Business Analytics](https://www.amazon.com/gp/product/B075XLZY23/ref=ppx_yo_dt_b_d_asin_title_o02?ie=UTF8&psc=1)\r\n",
        "2. [Business Intelligence, Analytics, and Data Science](https://www.amazon.com/gp/product/B01N5RQVHE/ref=ppx_yo_dt_b_d_asin_title_o00?ie=UTF8&psc=1)\r\n",
        "3. [Data Science for Business](https://www.amazon.com/Data-Science-Business-Data-Analytic-Thinking/dp/1449361323/ref=sr_1_1?crid=351XYNR4NUUSB&keywords=data+science+for+business+by+foster+provost+and+tom+fawcett&qid=1580462788&sprefix=provost+business+%2Caps%2C264&sr=8-1)\r\n",
        "___\r\n",
        "##Quizzes/Examens\r\n",
        "| Examen | Contenu |\r\n",
        "| --- | --- |\r\n",
        "| **Mid-term** | semaine 1-6 |\r\n",
        "| **Final**| semaine 1-12|\r\n",
        "\r\n",
        "___\r\n",
        "\r\n",
        "## Evaluation\r\n",
        "$Note = [0.3 * \\max(midterm, final)] + [0.7 * final] + Assignment$\r\n",
        "\r\n",
        "\r\n",
        "\r\n",
        "\r\n"
      ]
    },
    {
      "cell_type": "markdown",
      "metadata": {
        "id": "YW5zLjLd0p-j"
      },
      "source": [
        "# Python\r\n",
        "#### We have the formula to compute your final grade for this class. However, wouldn't it be convenient to let Python do the computations for us?\r\n",
        "#### In order to run the few code-cells that follow, you have two options. Either press press the \"play-button\" that appears if you hover your mouse over the cell, or select the cell by clicking on it and then press ctrl+shift on your keyboard."
      ]
    },
    {
      "cell_type": "code",
      "metadata": {
        "id": "Q3SrQXP0-Mg5"
      },
      "source": [
        "def Note(midterm, final, assignment):\r\n",
        "  if midterm <= final:\r\n",
        "    note = final + assignment\r\n",
        "  else:\r\n",
        "    note = 0.3*midterm + 0.7*final + assignment\r\n",
        "  note_in_range = min(note, 6)\r\n",
        "  note_rounded = round(note_in_range, 2)\r\n",
        "  print('Vous avez obtenu la note de', note_rounded, 'dans se cours')"
      ],
      "execution_count": null,
      "outputs": []
    },
    {
      "cell_type": "code",
      "metadata": {
        "id": "rmtanKcV-_NH"
      },
      "source": [
        "Note(4.5, 5, 0.25)"
      ],
      "execution_count": null,
      "outputs": []
    },
    {
      "cell_type": "code",
      "metadata": {
        "id": "JXLqNrBWwoQq"
      },
      "source": [
        "Note(6, 3.5, 0.5)"
      ],
      "execution_count": null,
      "outputs": []
    },
    {
      "cell_type": "code",
      "metadata": {
        "id": "csLhZZbpwxPe"
      },
      "source": [
        "Note(1, 5.5, 0)"
      ],
      "execution_count": null,
      "outputs": []
    },
    {
      "cell_type": "code",
      "metadata": {
        "id": "XGR1KVq7w4y-"
      },
      "source": [
        "Note(5.5, 6, 0.5)"
      ],
      "execution_count": null,
      "outputs": []
    },
    {
      "cell_type": "markdown",
      "metadata": {
        "id": "eQnAegWC7N8w"
      },
      "source": [
        "# Images and Videos\r\n",
        "\r\n",
        "##___This Week's Image___\r\n",
        "![error](https://moodle.unil.ch/pluginfile.php/1826658/course/section/245037/InovaPrime-Business-Intelligence.jpg)"
      ]
    },
    {
      "cell_type": "markdown",
      "metadata": {
        "id": "-5DmHkue8hMX"
      },
      "source": [
        "##***Unil Video***\r\n",
        "\r\n",
        "You can either do this:\r\n",
        "\r\n",
        "[![error](https://coursera-university-assets.s3.amazonaws.com/cb/63426036f974ead503ecc0e0e25bbc/Carre_B_300x300.png)](https://www.youtube.com/watch?v=0M2EbryHZr0)\r\n",
        "\r\n",
        "Or Alternatively that (possibility to change the size and border):\r\n",
        "\r\n",
        "<a href=\"http://www.youtube.com/watch?feature=player_embedded&v=0M2EbryHZr0\r\n",
        "\" target=\"_blank\"><img src=\"https://coursera-university-assets.s3.amazonaws.com/cb/63426036f974ead503ecc0e0e25bbc/Carre_B_300x300.png\" \r\n",
        "alt=\"Error\" width=\"500\" height=\"500\" border=\"5\" /></a>\r\n"
      ]
    }
  ]
}