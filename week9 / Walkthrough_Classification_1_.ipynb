{
  "nbformat": 4,
  "nbformat_minor": 0,
  "metadata": {
    "colab": {
      "name": "Walkthrough_Classification_1_.ipynb",
      "provenance": [],
      "include_colab_link": true
    },
    "kernelspec": {
      "display_name": "Python 3",
      "language": "python",
      "name": "python3"
    },
    "language_info": {
      "codemirror_mode": {
        "name": "ipython",
        "version": 3
      },
      "file_extension": ".py",
      "mimetype": "text/x-python",
      "name": "python",
      "nbconvert_exporter": "python",
      "pygments_lexer": "ipython3",
      "version": "3.6.9"
    }
  },
  "cells": [
    {
      "cell_type": "markdown",
      "metadata": {
        "id": "view-in-github",
        "colab_type": "text"
      },
      "source": [
        "<a href=\"https://colab.research.google.com/github/michalis0/Business-Intelligence-and-Analytics/blob/master/week9%20/%20Walkthrough_Classification_1_.ipynb\" target=\"_parent\"><img src=\"https://colab.research.google.com/assets/colab-badge.svg\" alt=\"Open In Colab\"/></a>"
      ]
    },
    {
      "cell_type": "markdown",
      "metadata": {
        "colab_type": "text",
        "id": "yqS3Z6AtqrmH"
      },
      "source": [
        "# Classification\n",
        "\n",
        "Classification is part of **supervised learning**. <br>\n",
        "### Here a quick reminder: <br>\n",
        "\n",
        "#### Types of Machine Learning: \n",
        "- Supervised Learning:\n",
        "  - **Classification**\n",
        "  - Regression\n",
        "- Unsupervised Learning:\n",
        "  - Dimensionality Reduction \n",
        "  - Clustering\n",
        "- others\n",
        "\n",
        "The idea is to classify items of a dataset into **predefined classes**. \n",
        "\n",
        "#### Examples of classification: <br>\n",
        "- Image classification (Is this a cat or not?)\n",
        "- Risky or safe loan application (Should a bank provide a loan to applicant or not?)\n",
        "- Prediction of customer behaviour (will a customer buy this new product or not?)\n",
        "- etc.\n",
        "\n",
        "\n",
        "\n",
        "\n"
      ]
    },
    {
      "cell_type": "markdown",
      "metadata": {
        "colab_type": "text",
        "id": "kPrU-9xrG0vz"
      },
      "source": [
        "For the walkthrough we will use the a data set on fruits. We will load it from the github week 9. "
      ]
    },
    {
      "cell_type": "code",
      "metadata": {
        "colab_type": "code",
        "id": "rjbMSebFfy3F",
        "outputId": "36df0ad8-9b9e-413e-c16d-f4c8b0b5b83a",
        "colab": {
          "base_uri": "https://localhost:8080/",
          "height": 201
        }
      },
      "source": [
        "#Load dataset\n",
        "%matplotlib inline\n",
        "import pandas as pd\n",
        "import matplotlib.pyplot as plt\n",
        "url = 'https://raw.githubusercontent.com/michalis0/Business-Intelligence-and-Analytics/master/week9%20/data/fruit_data_with_colors_2classes.csv'\n",
        "fruits = pd.read_csv(url,sep=\";\")\n",
        "fruits.head()"
      ],
      "execution_count": 1,
      "outputs": [
        {
          "output_type": "execute_result",
          "data": {
            "text/html": [
              "<div>\n",
              "<style scoped>\n",
              "    .dataframe tbody tr th:only-of-type {\n",
              "        vertical-align: middle;\n",
              "    }\n",
              "\n",
              "    .dataframe tbody tr th {\n",
              "        vertical-align: top;\n",
              "    }\n",
              "\n",
              "    .dataframe thead th {\n",
              "        text-align: right;\n",
              "    }\n",
              "</style>\n",
              "<table border=\"1\" class=\"dataframe\">\n",
              "  <thead>\n",
              "    <tr style=\"text-align: right;\">\n",
              "      <th></th>\n",
              "      <th>fruit_label</th>\n",
              "      <th>fruit_name</th>\n",
              "      <th>fruit_subtype</th>\n",
              "      <th>mass</th>\n",
              "      <th>width</th>\n",
              "      <th>height</th>\n",
              "      <th>color_score</th>\n",
              "    </tr>\n",
              "  </thead>\n",
              "  <tbody>\n",
              "    <tr>\n",
              "      <th>0</th>\n",
              "      <td>1</td>\n",
              "      <td>apple</td>\n",
              "      <td>granny_smith</td>\n",
              "      <td>192</td>\n",
              "      <td>8.4</td>\n",
              "      <td>7.3</td>\n",
              "      <td>0.55</td>\n",
              "    </tr>\n",
              "    <tr>\n",
              "      <th>1</th>\n",
              "      <td>1</td>\n",
              "      <td>apple</td>\n",
              "      <td>granny_smith</td>\n",
              "      <td>180</td>\n",
              "      <td>8.0</td>\n",
              "      <td>6.8</td>\n",
              "      <td>0.59</td>\n",
              "    </tr>\n",
              "    <tr>\n",
              "      <th>2</th>\n",
              "      <td>1</td>\n",
              "      <td>apple</td>\n",
              "      <td>granny_smith</td>\n",
              "      <td>176</td>\n",
              "      <td>7.4</td>\n",
              "      <td>7.2</td>\n",
              "      <td>0.60</td>\n",
              "    </tr>\n",
              "    <tr>\n",
              "      <th>3</th>\n",
              "      <td>1</td>\n",
              "      <td>apple</td>\n",
              "      <td>braeburn</td>\n",
              "      <td>178</td>\n",
              "      <td>7.1</td>\n",
              "      <td>7.8</td>\n",
              "      <td>0.92</td>\n",
              "    </tr>\n",
              "    <tr>\n",
              "      <th>4</th>\n",
              "      <td>1</td>\n",
              "      <td>apple</td>\n",
              "      <td>braeburn</td>\n",
              "      <td>172</td>\n",
              "      <td>7.4</td>\n",
              "      <td>7.0</td>\n",
              "      <td>0.89</td>\n",
              "    </tr>\n",
              "  </tbody>\n",
              "</table>\n",
              "</div>"
            ],
            "text/plain": [
              "   fruit_label fruit_name fruit_subtype  mass  width  height  color_score\n",
              "0            1      apple  granny_smith   192    8.4     7.3         0.55\n",
              "1            1      apple  granny_smith   180    8.0     6.8         0.59\n",
              "2            1      apple  granny_smith   176    7.4     7.2         0.60\n",
              "3            1      apple      braeburn   178    7.1     7.8         0.92\n",
              "4            1      apple      braeburn   172    7.4     7.0         0.89"
            ]
          },
          "metadata": {
            "tags": []
          },
          "execution_count": 1
        }
      ]
    },
    {
      "cell_type": "code",
      "metadata": {
        "colab_type": "code",
        "id": "TO_08h8zl3Wm",
        "colab": {}
      },
      "source": [
        "#Define features and target variable\n",
        "feature_names = ['mass', 'width', 'height', 'color_score']\n",
        "X = fruits[feature_names]\n",
        "y = fruits['fruit_label']"
      ],
      "execution_count": 0,
      "outputs": []
    },
    {
      "cell_type": "markdown",
      "metadata": {
        "colab_type": "text",
        "id": "dK_lptPte5pu"
      },
      "source": [
        "Let's see the different classes"
      ]
    },
    {
      "cell_type": "code",
      "metadata": {
        "colab_type": "code",
        "id": "fe_eDCBIe5pv",
        "outputId": "8748bbd9-c6e0-4277-f4b6-aaa6843ae941",
        "colab": {
          "base_uri": "https://localhost:8080/",
          "height": 32
        }
      },
      "source": [
        "print(fruits['fruit_name'].unique())"
      ],
      "execution_count": 3,
      "outputs": [
        {
          "output_type": "stream",
          "text": [
            "['apple' 'orange']\n"
          ],
          "name": "stdout"
        }
      ]
    },
    {
      "cell_type": "markdown",
      "metadata": {
        "colab_type": "text",
        "id": "tlUPoK3Ie5pz"
      },
      "source": [
        "In this exercise, we are going to try a fruit (find its name) using features like its mass"
      ]
    },
    {
      "cell_type": "markdown",
      "metadata": {
        "colab_type": "text",
        "id": "AkF9wmujkOmZ"
      },
      "source": [
        "#### 1) Split into train and test set\n",
        " \n",
        "The data is split into random train and test subsets. The training set contains a known output and the model learns on this data in order to be generalized to other data later on. We use the test dataset in order to test our prediction on this subset.\n"
      ]
    },
    {
      "cell_type": "code",
      "metadata": {
        "colab_type": "code",
        "id": "0KxeLYcbf0wx",
        "colab": {}
      },
      "source": [
        "#Split data set into a train and a test data sets\n",
        "from sklearn.model_selection import train_test_split\n",
        "X_train, X_test, y_train, y_test = train_test_split(X, y, random_state=0)"
      ],
      "execution_count": 0,
      "outputs": []
    },
    {
      "cell_type": "markdown",
      "metadata": {
        "colab_type": "text",
        "id": "oWsiJT07Gt7c"
      },
      "source": [
        "#### 2) Normalization\n",
        "\n",
        "When we have a dataset with features that have very distinct ranges (for example one feature where age is between 0 and 99 year and another feature being the income raning from 1'000CHF to 200'000CHF) we might get biaised results. We want the features to be in the same or similar ranges. Therefore, we **normalize** the data. It involves scaling all values for a specific feature given attribute so that they fall within a small specified range.\n",
        "We can use *StandardScaler()*, *MinMaxScaler* () or others for normalization.\n",
        "<br>\n",
        "\n",
        "In our example we will normalize our **train AND test data** using MinMaxScaler.\n",
        "\n",
        "/!\\ **IMPORTANT**: When you normalize the train data, you need to do the same modificaiton (here normalization) to the test data. "
      ]
    },
    {
      "cell_type": "code",
      "metadata": {
        "colab_type": "code",
        "id": "xVOubyMJ7-HX",
        "outputId": "0b078853-6546-4c37-d7a2-522177c2ce3c",
        "colab": {
          "base_uri": "https://localhost:8080/",
          "height": 477
        }
      },
      "source": [
        "#Define normalization \n",
        "from sklearn.preprocessing import MinMaxScaler\n",
        "scaler = MinMaxScaler()\n",
        "scaler.fit_transform(X_train, y_train)"
      ],
      "execution_count": 5,
      "outputs": [
        {
          "output_type": "execute_result",
          "data": {
            "text/plain": [
              "array([[0.09009009, 0.13793103, 0.30769231, 0.55263158],\n",
              "       [0.08108108, 0.17241379, 0.38461538, 0.57894737],\n",
              "       [0.06306306, 0.20689655, 0.19230769, 0.63157895],\n",
              "       [0.06306306, 0.17241379, 0.15384615, 0.71052632],\n",
              "       [0.06306306, 0.13793103, 0.26923077, 0.60526316],\n",
              "       [0.04504505, 0.13793103, 0.42307692, 0.52631579],\n",
              "       [0.01801802, 0.03448276, 0.23076923, 0.52631579],\n",
              "       [0.10810811, 0.20689655, 0.34615385, 0.39473684],\n",
              "       [0.0990991 , 0.27586207, 0.11538462, 0.73684211],\n",
              "       [0.11711712, 0.06896552, 0.19230769, 1.        ],\n",
              "       [0.        , 0.20689655, 0.11538462, 0.84210526],\n",
              "       [0.0990991 , 0.24137931, 0.15384615, 0.78947368],\n",
              "       [0.06306306, 0.10344828, 0.11538462, 0.86842105],\n",
              "       [0.22522523, 0.27586207, 0.5       , 0.5       ],\n",
              "       [0.18018018, 0.44827586, 0.        , 0.10526316],\n",
              "       [0.12612613, 0.27586207, 0.30769231, 0.47368421],\n",
              "       [0.10810811, 0.17241379, 0.07692308, 0.65789474],\n",
              "       [0.09009009, 0.10344828, 0.23076923, 0.68421053],\n",
              "       [0.14414414, 0.13793103, 0.30769231, 0.97368421],\n",
              "       [0.        , 0.        , 0.11538462, 0.44736842],\n",
              "       [0.14414414, 0.24137931, 0.07692308, 0.89473684],\n",
              "       [0.13513514, 0.31034483, 0.42307692, 0.86842105],\n",
              "       [1.        , 1.        , 0.92307692, 0.5       ],\n",
              "       [0.90990991, 0.79310345, 1.        , 0.52631579],\n",
              "       [0.05405405, 0.31034483, 0.19230769, 0.36842105],\n",
              "       [0.18018018, 0.31034483, 0.53846154, 0.63157895],\n",
              "       [0.17117117, 0.13793103, 0.38461538, 0.97368421],\n",
              "       [0.23423423, 0.5862069 , 0.19230769, 0.        ]])"
            ]
          },
          "metadata": {
            "tags": []
          },
          "execution_count": 5
        }
      ]
    },
    {
      "cell_type": "code",
      "metadata": {
        "colab_type": "code",
        "id": "1xFGLVl2lSD6",
        "colab": {}
      },
      "source": [
        "#Apply normalization\n",
        "X_train = scaler.transform(X_train)\n",
        "X_test = scaler.transform(X_test)"
      ],
      "execution_count": 0,
      "outputs": []
    },
    {
      "cell_type": "markdown",
      "metadata": {
        "colab_type": "text",
        "id": "y3Sd10_7HXd8"
      },
      "source": [
        "#### 3) Building the Classifier or Model <br>\n",
        "\n",
        "First we will need to create our model which can be for example a *Linear Regression* (simple linear classifier, simple quadratic classifier) or a *Logistic Regression*. We will build the model from the **training set**. So, we will need to split our dataset into **test** and **trainig sets**. Then we use the train set to create the model. "
      ]
    },
    {
      "cell_type": "code",
      "metadata": {
        "colab_type": "code",
        "id": "F73BSCQVlVx7",
        "colab": {}
      },
      "source": [
        "#Create model\n",
        "from sklearn.linear_model import LogisticRegression\n",
        "model = LogisticRegression()"
      ],
      "execution_count": 0,
      "outputs": []
    },
    {
      "cell_type": "code",
      "metadata": {
        "colab_type": "code",
        "id": "EAKdFLlPmcUF",
        "outputId": "7a70ba0b-f1fe-4b1d-abf4-8be8e7a3ee98",
        "colab": {
          "base_uri": "https://localhost:8080/",
          "height": 98
        }
      },
      "source": [
        "#Fit model\n",
        "model.fit(X_train, y_train)"
      ],
      "execution_count": 8,
      "outputs": [
        {
          "output_type": "execute_result",
          "data": {
            "text/plain": [
              "LogisticRegression(C=1.0, class_weight=None, dual=False, fit_intercept=True,\n",
              "                   intercept_scaling=1, l1_ratio=None, max_iter=100,\n",
              "                   multi_class='auto', n_jobs=None, penalty='l2',\n",
              "                   random_state=None, solver='lbfgs', tol=0.0001, verbose=0,\n",
              "                   warm_start=False)"
            ]
          },
          "metadata": {
            "tags": []
          },
          "execution_count": 8
        }
      ]
    },
    {
      "cell_type": "markdown",
      "metadata": {
        "colab_type": "text",
        "id": "QHty9lwXmiKB"
      },
      "source": [
        "#### 4) Using Classifier for Classification\n",
        "\n",
        "Once our model has been built we can use the **test set** to predict the model. Basically, the test data is used to estimate the accuracy of classification rules. If the accuracy is considered acceptable we can use our model for new data. <br>\n",
        "*/!\\ When using new data in our model we will need potentially to normalize this data.*"
      ]
    },
    {
      "cell_type": "markdown",
      "metadata": {
        "colab_type": "text",
        "id": "ToSIOpO5HfI6"
      },
      "source": [
        "#### 5) Evaluation of our Classification\n",
        "\n",
        "We want to check the accuracy of our model using train and test data. "
      ]
    },
    {
      "cell_type": "code",
      "metadata": {
        "colab_type": "code",
        "id": "c9yJCqcll9lo",
        "outputId": "8ebc2268-b68d-4586-af52-4346e5b5a019",
        "colab": {
          "base_uri": "https://localhost:8080/",
          "height": 49
        }
      },
      "source": [
        "#Use model on test and check accuracy\n",
        "print('Accuracy of Logistic regression classifier on training set: {:.2f}'\n",
        "     .format(model.score(X_train, y_train)))\n",
        "print('Accuracy of Logistic regression classifier on test set: {:.2f}'\n",
        "     .format(model.score(X_test, y_test)))"
      ],
      "execution_count": 9,
      "outputs": [
        {
          "output_type": "stream",
          "text": [
            "Accuracy of Logistic regression classifier on training set: 0.64\n",
            "Accuracy of Logistic regression classifier on test set: 0.70\n"
          ],
          "name": "stdout"
        }
      ]
    },
    {
      "cell_type": "markdown",
      "metadata": {
        "colab_type": "text",
        "id": "jRDYL9TMDT__"
      },
      "source": [
        "####Baserate for evaluation\n",
        "\n",
        "You should have found an accuracy of approximately 70%? Is it good or bad? \n",
        "\n",
        "It all depends on the baserate. Baserate = $\\frac{\\text{most frequent class}}{\\text{total observations}}$\n",
        "\n",
        "If the base rate is too high then the classification can be biaised, meaning that the data set has too many variables of one class compared to the other classes and has hence more impact on the classification results. \n",
        "\n",
        "Let's calculate the base rate!"
      ]
    },
    {
      "cell_type": "code",
      "metadata": {
        "colab_type": "code",
        "id": "zlidCzmpez92",
        "outputId": "01d8416f-1e24-4dd2-f9c0-f5178ef31d07",
        "colab": {
          "base_uri": "https://localhost:8080/",
          "height": 65
        }
      },
      "source": [
        "#Compute the base rate\n",
        "#Base rate = (most frequent class)/(total observations)\n",
        "\n",
        "number_of_apples = fruits.loc[fruits[\"fruit_name\"] == \"apple\"].shape[0]\n",
        "print(\"#Apples = \", number_of_apples)\n",
        "\n",
        "number_of_oranges = fruits.loc[fruits[\"fruit_name\"] == \"orange\"].shape[0]\n",
        "print(\"#Oranges = \", number_of_oranges)\n",
        "\n",
        "print(\"Baserate = \", max(number_of_apples, number_of_oranges)/(number_of_apples+ number_of_oranges))"
      ],
      "execution_count": 10,
      "outputs": [
        {
          "output_type": "stream",
          "text": [
            "#Apples =  19\n",
            "#Oranges =  19\n",
            "Baserate =  0.5\n"
          ],
          "name": "stdout"
        }
      ]
    },
    {
      "cell_type": "markdown",
      "metadata": {
        "colab_type": "text",
        "id": "41xpKWLMihMq"
      },
      "source": [
        "####Confusion matrix\n",
        "The confusion matrix allows us to get more details on the performance of our model. It will allow us to see what our classification model is getting right and what types of errors it is making.\n",
        "\n",
        "You will get this: \n",
        "\n",
        "|   | Class 1 predicted  | Class 2 predicted  |    \n",
        "|---|---|---|\n",
        "| **Class 1 actual**  |  TP |FN   |    \n",
        "| **Class 2 actual**  | FP  | TN  |   \n",
        "\n",
        "<br>\n",
        "\n",
        "where TP = true positive, FN = false negative, FP = false positive and TN = true negative \n",
        "          "
      ]
    },
    {
      "cell_type": "code",
      "metadata": {
        "colab_type": "code",
        "id": "SgiVb0dwo8_n",
        "outputId": "87092313-4a1f-4d29-b346-dd60e7a6e2a6",
        "colab": {
          "base_uri": "https://localhost:8080/",
          "height": 49
        }
      },
      "source": [
        "#Confusion matrix\n",
        "from sklearn.metrics import confusion_matrix\n",
        "confusion_matrix(y_test, model.predict(X_test))"
      ],
      "execution_count": 12,
      "outputs": [
        {
          "output_type": "execute_result",
          "data": {
            "text/plain": [
              "array([[3, 2],\n",
              "       [1, 4]])"
            ]
          },
          "metadata": {
            "tags": []
          },
          "execution_count": 12
        }
      ]
    },
    {
      "cell_type": "markdown",
      "metadata": {
        "colab_type": "text",
        "id": "yC_mMp8ruhf2"
      },
      "source": [
        "#### 6) Visualization of our Model \n",
        "\n",
        "In order to visualize our model created we can plot decision boundaries. In fact, depending on how many classes we have we will see different zones on the graph. Each zone corresponds to a class. Decision boundaries indicate the lines above /below which a data point belongs to one or another class.\n",
        "\n",
        "However we can only visualize 2 dimensionnal data. Thus for visualization purposes we are only going to consider the mass and the width feature.\n",
        "\n",
        "\n",
        "\n",
        "\n",
        "\n"
      ]
    },
    {
      "cell_type": "code",
      "metadata": {
        "colab_type": "code",
        "id": "2pYKIkOmIswc",
        "outputId": "f7e67c1d-8ec3-4b07-c544-ec079ae83d7b",
        "colab": {
          "base_uri": "https://localhost:8080/",
          "height": 279
        }
      },
      "source": [
        "#Decision boundaries\n",
        "import numpy as np\n",
        "import matplotlib.pyplot as plt\n",
        "\n",
        "\n",
        "X = X [['mass', 'width']]\n",
        "model = LogisticRegression()\n",
        "model.fit(X, y)\n",
        "\n",
        "\n",
        "plt.scatter(X['mass'].values, X['width'].values, c=y, edgecolors='k', cmap=plt.cm.Paired)\n",
        "ax = plt.gca()\n",
        "x_vals = np.array(ax.get_xlim())\n",
        "y_vals = (-x_vals * model.coef_[0][0] - model.intercept_[0])/model.coef_[0][1]\n",
        "plt.plot(x_vals, y_vals, '--', c=\"red\")\n",
        "\n",
        "plt.xlabel('Fruit mass')\n",
        "plt.ylabel('Fruit width')\n",
        "\n",
        "\n",
        "plt.xticks()\n",
        "plt.yticks()\n",
        "\n",
        "plt.show()"
      ],
      "execution_count": 0,
      "outputs": [
        {
          "output_type": "display_data",
          "data": {
            "image/png": "[encoded data removed]",
            "text/plain": [
              "<Figure size 432x288 with 1 Axes>"
            ]
          },
          "metadata": {
            "tags": [],
            "needs_background": "light"
          }
        }
      ]
    },
    {
      "cell_type": "markdown",
      "metadata": {
        "id": "M9V4G8hs72nu",
        "colab_type": "text"
      },
      "source": [
        "Let's interpret this graph. The red doted line shows the boundary between the two regions. Everything on one side of this line will be in one class while everything on the other side will be on the other class. \n",
        "Furthermore, the closer a point is to the decision region boundary the more uncertain we are about the accuracy of the classification. This doted line is found using the coefficient of our model"
      ]
    },
    {
      "cell_type": "markdown",
      "metadata": {
        "id": "iqZM40W272nv",
        "colab_type": "text"
      },
      "source": [
        "Let's see how our model would classify new data points"
      ]
    },
    {
      "cell_type": "code",
      "metadata": {
        "id": "eovmM3UN72nw",
        "colab_type": "code",
        "outputId": "a22e9418-d062-4d4d-868d-dc9e7dbd5472",
        "colab": {
          "base_uri": "https://localhost:8080/",
          "height": 34
        }
      },
      "source": [
        "model.predict([[250,3], [250,9.5]])"
      ],
      "execution_count": 0,
      "outputs": [
        {
          "output_type": "execute_result",
          "data": {
            "text/plain": [
              "array([2, 1])"
            ]
          },
          "metadata": {
            "tags": []
          },
          "execution_count": 13
        }
      ]
    },
    {
      "cell_type": "markdown",
      "metadata": {
        "id": "KrjtfI8v72n1",
        "colab_type": "text"
      },
      "source": [
        "As expected a fruit with a mass of 250 and of width of 3 is in one class while for the same mass but for a width of 10 the fruit belongs to the other class"
      ]
    },
    {
      "cell_type": "markdown",
      "metadata": {
        "id": "VGKkgupM72n2",
        "colab_type": "text"
      },
      "source": [
        "We can also compute the probability of making the correct prediction. Obviously any point on the boundary has equal probability for both classes"
      ]
    },
    {
      "cell_type": "code",
      "metadata": {
        "id": "YaidYOpb72n3",
        "colab_type": "code",
        "outputId": "a10b5d25-6ef7-4cf6-c643-4de797a08ef9",
        "colab": {
          "base_uri": "https://localhost:8080/",
          "height": 51
        }
      },
      "source": [
        "model.predict_proba([[250,3], [250,9.5]])"
      ],
      "execution_count": 0,
      "outputs": [
        {
          "output_type": "execute_result",
          "data": {
            "text/plain": [
              "array([[0.0011616 , 0.9988384 ],\n",
              "       [0.57766641, 0.42233359]])"
            ]
          },
          "metadata": {
            "tags": []
          },
          "execution_count": 14
        }
      ]
    },
    {
      "cell_type": "markdown",
      "metadata": {
        "id": "NDEvAve_72n-",
        "colab_type": "text"
      },
      "source": [
        "We see that the first data point is correclty classified with almost certainty. It makes sense since it is located far from the boundary. However, for the second one, it is way more uncertain"
      ]
    },
    {
      "cell_type": "markdown",
      "metadata": {
        "colab_type": "text",
        "id": "8325gFVRrlD4"
      },
      "source": [
        "#### Adding Cross Validation\n",
        "We will use logisitic regressio with CROSS VALIDATION. So, instead of LogisticRegresion() we will use LogisticRegresionCV(CV= K)\n",
        "\n",
        "To prevent overfitting we can use cross-validation. We will as before split the data set into train adn test data, \n",
        "fit the model using training data and evaluate the model using testing data. **The difference** is that we will now repeat the process K times then take average of the testing errors as a final performance measure.\n",
        "\n"
      ]
    },
    {
      "cell_type": "code",
      "metadata": {
        "colab_type": "code",
        "id": "2p10i_pVxKAJ",
        "colab": {}
      },
      "source": [
        "#Create model\n",
        "from sklearn.linear_model import LogisticRegressionCV\n",
        "model_cv = LogisticRegressionCV(solver='lbfgs', cv=5, max_iter=1000)"
      ],
      "execution_count": 0,
      "outputs": []
    },
    {
      "cell_type": "code",
      "metadata": {
        "colab_type": "code",
        "id": "9x60_hmqxSEV",
        "outputId": "c6f60814-5720-43c2-b1a5-e55260a00fcd",
        "colab": {
          "base_uri": "https://localhost:8080/",
          "height": 102
        }
      },
      "source": [
        "#Fit the model using the training data\n",
        "model_cv.fit(X_train, y_train)"
      ],
      "execution_count": 0,
      "outputs": [
        {
          "output_type": "execute_result",
          "data": {
            "text/plain": [
              "LogisticRegressionCV(Cs=10, class_weight=None, cv=5, dual=False,\n",
              "                     fit_intercept=True, intercept_scaling=1.0, l1_ratios=None,\n",
              "                     max_iter=1000, multi_class='auto', n_jobs=None,\n",
              "                     penalty='l2', random_state=None, refit=True, scoring=None,\n",
              "                     solver='lbfgs', tol=0.0001, verbose=0)"
            ]
          },
          "metadata": {
            "tags": []
          },
          "execution_count": 16
        }
      ]
    },
    {
      "cell_type": "code",
      "metadata": {
        "colab_type": "code",
        "id": "skNLbFaux1tN",
        "outputId": "5ee5251a-6679-486d-88da-597fbfc61b26",
        "colab": {
          "base_uri": "https://localhost:8080/",
          "height": 51
        }
      },
      "source": [
        "#Use model on test and check accuracy\n",
        "print('Accuracy of Logistic regression classifier on training set: {:.2f}'\n",
        "     .format(model_cv.score(X_train, y_train)))\n",
        "print('Accuracy of Logistic regression classifier on test set: {:.2f}'\n",
        "     .format(model_cv.score(X_test, y_test)))"
      ],
      "execution_count": 0,
      "outputs": [
        {
          "output_type": "stream",
          "text": [
            "Accuracy of Logistic regression classifier on training set: 0.79\n",
            "Accuracy of Logistic regression classifier on test set: 0.80\n"
          ],
          "name": "stdout"
        }
      ]
    },
    {
      "cell_type": "code",
      "metadata": {
        "colab_type": "code",
        "id": "6-Q_WdnGpibs",
        "outputId": "e8d39b32-5fa1-4acc-922e-9d3ec21cf93f",
        "colab": {
          "base_uri": "https://localhost:8080/",
          "height": 51
        }
      },
      "source": [
        "#Confusion matrix\n",
        "from sklearn.metrics import confusion_matrix\n",
        "confusion_matrix(y_train, model_cv.predict(X_train))"
      ],
      "execution_count": 0,
      "outputs": [
        {
          "output_type": "execute_result",
          "data": {
            "text/plain": [
              "array([[11,  3],\n",
              "       [ 3, 11]])"
            ]
          },
          "metadata": {
            "tags": []
          },
          "execution_count": 18
        }
      ]
    },
    {
      "cell_type": "code",
      "metadata": {
        "colab_type": "code",
        "id": "1Lmg-IsOx-VP",
        "outputId": "43bf5bfa-8518-4e32-f46a-01ad5917b072",
        "colab": {
          "base_uri": "https://localhost:8080/",
          "height": 279
        }
      },
      "source": [
        "#Decision boundaries\n",
        "import numpy as np\n",
        "import matplotlib.pyplot as plt\n",
        "\n",
        "\n",
        "X = X [['mass', 'width']]\n",
        "model = LogisticRegressionCV(solver='lbfgs', cv=5, max_iter=1000)\n",
        "model.fit(X, y)\n",
        "\n",
        "\n",
        "plt.scatter(X['mass'].values, X['width'].values, c=y, edgecolors='k', cmap=plt.cm.Paired)\n",
        "ax = plt.gca()\n",
        "x_vals = np.array(ax.get_xlim())\n",
        "y_vals = (-x_vals * model.coef_[0][0] - model.intercept_[0])/model.coef_[0][1]\n",
        "plt.plot(x_vals, y_vals, '--', c=\"red\")\n",
        "\n",
        "plt.xlabel('Fruit mass')\n",
        "plt.ylabel('Fruit width')\n",
        "\n",
        "\n",
        "plt.xticks()\n",
        "plt.yticks()\n",
        "\n",
        "plt.show()"
      ],
      "execution_count": 0,
      "outputs": [
        {
          "output_type": "display_data",
          "data": {
            "image/png": "[encoded data removed]",
            "text/plain": [
              "<Figure size 432x288 with 1 Axes>"
            ]
          },
          "metadata": {
            "tags": [],
            "needs_background": "light"
          }
        }
      ]
    },
    {
      "cell_type": "code",
      "metadata": {
        "id": "5ZagMip58Oxf",
        "colab_type": "code",
        "colab": {}
      },
      "source": [
        ""
      ],
      "execution_count": 0,
      "outputs": []
    }
  ]
}