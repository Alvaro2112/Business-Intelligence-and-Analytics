{
  "nbformat": 4,
  "nbformat_minor": 0,
  "metadata": {
    "kernelspec": {
      "display_name": "Python 3",
      "language": "python",
      "name": "python3"
    },
    "language_info": {
      "codemirror_mode": {
        "name": "ipython",
        "version": 3
      },
      "file_extension": ".py",
      "mimetype": "text/x-python",
      "name": "python",
      "nbconvert_exporter": "python",
      "pygments_lexer": "ipython3",
      "version": "3.6.7"
    },
    "colab": {
      "name": "Correction_SQL2_lab.ipynb",
      "provenance": [],
      "collapsed_sections": [
        "v1dXQKXu8WTv",
        "i1uXCjq68WUJ"
      ],
      "include_colab_link": true
    },
    "nteract": {
      "version": "0.22.0"
    }
  },
  "cells": [
    {
      "cell_type": "markdown",
      "metadata": {
        "id": "view-in-github",
        "colab_type": "text"
      },
      "source": [
        "<a href=\"https://colab.research.google.com/github/michalis0/Business-Intelligence-and-Analytics/blob/master/week6%20-%20SQL2/Correction_SQL_lab2.ipynb\" target=\"_parent\"><img src=\"https://colab.research.google.com/assets/colab-badge.svg\" alt=\"Open In Colab\"/></a>"
      ]
    },
    {
      "cell_type": "markdown",
      "metadata": {
        "id": "Ow3xcCbn8WSO",
        "colab_type": "text"
      },
      "source": [
        "# Lab SQL and Python"
      ]
    },
    {
      "cell_type": "code",
      "metadata": {
        "id": "QDym0OMZ30rN",
        "colab_type": "code",
        "colab": {}
      },
      "source": [
        "# Example how to read from Python\n",
        "import pandas as pd\n",
        "from sqlalchemy import create_engine\n",
        "import seaborn as sns\n",
        "import matplotlib\n",
        "import matplotlib.pyplot as plt\n",
        "%matplotlib inline\n",
        "\n",
        "# create the database\n",
        "db = create_engine('sqlite://', echo=False)\n",
        "\n",
        "# first table\n",
        "csvfile = 'https://raw.githubusercontent.com/michalis0/Business-Intelligence-and-Analytics/master/week6%20-%20SQL2/data/Players.csv'\n",
        "df = pd.read_csv(csvfile)\n",
        "table_name = \"Players\"\n",
        "df.to_sql(table_name, con=db) # populate it with the data\n",
        "\n",
        "# second table\n",
        "csvfile = 'https://raw.githubusercontent.com/michalis0/Business-Intelligence-and-Analytics/master/week6%20-%20SQL2/data/Teams.csv'\n",
        "df = pd.read_csv(csvfile)\n",
        "table_name = \"Teams\"\n",
        "df.to_sql(table_name, con=db) # populate it with the data\n",
        "\n"
      ],
      "execution_count": 0,
      "outputs": []
    },
    {
      "cell_type": "markdown",
      "metadata": {
        "id": "H2Ea0LTO8WSe",
        "colab_type": "text"
      },
      "source": [
        "### <font color = 'green'>World Cup Data</font>"
      ]
    },
    {
      "cell_type": "markdown",
      "metadata": {
        "id": "meZCn5os8WSu",
        "colab_type": "text"
      },
      "source": [
        "#### Look at a sample of Players and Teams tables"
      ]
    },
    {
      "cell_type": "code",
      "metadata": {
        "id": "meh70hNH8WSx",
        "colab_type": "code",
        "outputId": "72d5dbe6-d737-47cb-b977-d87ed9b3e457",
        "colab": {
          "base_uri": "https://localhost:8080/",
          "height": 197
        }
      },
      "source": [
        "query = \"SELECT * FROM Players LIMIT 5\"\n",
        "sql_df = pd.read_sql(query, con=db)\n",
        "sql_df"
      ],
      "execution_count": 0,
      "outputs": [
        {
          "output_type": "execute_result",
          "data": {
            "text/html": [
              "<div>\n",
              "<style scoped>\n",
              "    .dataframe tbody tr th:only-of-type {\n",
              "        vertical-align: middle;\n",
              "    }\n",
              "\n",
              "    .dataframe tbody tr th {\n",
              "        vertical-align: top;\n",
              "    }\n",
              "\n",
              "    .dataframe thead th {\n",
              "        text-align: right;\n",
              "    }\n",
              "</style>\n",
              "<table border=\"1\" class=\"dataframe\">\n",
              "  <thead>\n",
              "    <tr style=\"text-align: right;\">\n",
              "      <th></th>\n",
              "      <th>index</th>\n",
              "      <th>surname</th>\n",
              "      <th>team</th>\n",
              "      <th>position</th>\n",
              "      <th>minutes</th>\n",
              "      <th>shots</th>\n",
              "      <th>passes</th>\n",
              "      <th>tackles</th>\n",
              "      <th>saves</th>\n",
              "    </tr>\n",
              "  </thead>\n",
              "  <tbody>\n",
              "    <tr>\n",
              "      <th>0</th>\n",
              "      <td>0</td>\n",
              "      <td>Abdoun</td>\n",
              "      <td>Algeria</td>\n",
              "      <td>midfielder</td>\n",
              "      <td>16</td>\n",
              "      <td>0</td>\n",
              "      <td>6</td>\n",
              "      <td>0</td>\n",
              "      <td>0</td>\n",
              "    </tr>\n",
              "    <tr>\n",
              "      <th>1</th>\n",
              "      <td>1</td>\n",
              "      <td>Belhadj</td>\n",
              "      <td>Algeria</td>\n",
              "      <td>defender</td>\n",
              "      <td>270</td>\n",
              "      <td>1</td>\n",
              "      <td>146</td>\n",
              "      <td>8</td>\n",
              "      <td>0</td>\n",
              "    </tr>\n",
              "    <tr>\n",
              "      <th>2</th>\n",
              "      <td>2</td>\n",
              "      <td>Boudebouz</td>\n",
              "      <td>Algeria</td>\n",
              "      <td>midfielder</td>\n",
              "      <td>74</td>\n",
              "      <td>3</td>\n",
              "      <td>28</td>\n",
              "      <td>1</td>\n",
              "      <td>0</td>\n",
              "    </tr>\n",
              "    <tr>\n",
              "      <th>3</th>\n",
              "      <td>3</td>\n",
              "      <td>Bougherra</td>\n",
              "      <td>Algeria</td>\n",
              "      <td>defender</td>\n",
              "      <td>270</td>\n",
              "      <td>1</td>\n",
              "      <td>89</td>\n",
              "      <td>11</td>\n",
              "      <td>0</td>\n",
              "    </tr>\n",
              "    <tr>\n",
              "      <th>4</th>\n",
              "      <td>4</td>\n",
              "      <td>Chaouchi</td>\n",
              "      <td>Algeria</td>\n",
              "      <td>goalkeeper</td>\n",
              "      <td>90</td>\n",
              "      <td>0</td>\n",
              "      <td>17</td>\n",
              "      <td>0</td>\n",
              "      <td>2</td>\n",
              "    </tr>\n",
              "  </tbody>\n",
              "</table>\n",
              "</div>"
            ],
            "text/plain": [
              "   index    surname     team    position  ...  shots  passes  tackles  saves\n",
              "0      0     Abdoun  Algeria  midfielder  ...      0       6        0      0\n",
              "1      1    Belhadj  Algeria    defender  ...      1     146        8      0\n",
              "2      2  Boudebouz  Algeria  midfielder  ...      3      28        1      0\n",
              "3      3  Bougherra  Algeria    defender  ...      1      89       11      0\n",
              "4      4   Chaouchi  Algeria  goalkeeper  ...      0      17        0      2\n",
              "\n",
              "[5 rows x 9 columns]"
            ]
          },
          "metadata": {
            "tags": []
          },
          "execution_count": 2
        }
      ]
    },
    {
      "cell_type": "code",
      "metadata": {
        "id": "flnoKz4U8WS6",
        "colab_type": "code",
        "outputId": "558ad8b8-ff38-4b36-c28f-24568b789084",
        "colab": {
          "base_uri": "https://localhost:8080/",
          "height": 197
        }
      },
      "source": [
        "query = \"SELECT * FROM Teams LIMIT 5\"\n",
        "sql_df = pd.read_sql(query, con=db)\n",
        "sql_df"
      ],
      "execution_count": 0,
      "outputs": [
        {
          "output_type": "execute_result",
          "data": {
            "text/html": [
              "<div>\n",
              "<style scoped>\n",
              "    .dataframe tbody tr th:only-of-type {\n",
              "        vertical-align: middle;\n",
              "    }\n",
              "\n",
              "    .dataframe tbody tr th {\n",
              "        vertical-align: top;\n",
              "    }\n",
              "\n",
              "    .dataframe thead th {\n",
              "        text-align: right;\n",
              "    }\n",
              "</style>\n",
              "<table border=\"1\" class=\"dataframe\">\n",
              "  <thead>\n",
              "    <tr style=\"text-align: right;\">\n",
              "      <th></th>\n",
              "      <th>index</th>\n",
              "      <th>team</th>\n",
              "      <th>ranking</th>\n",
              "      <th>games</th>\n",
              "      <th>wins</th>\n",
              "      <th>draws</th>\n",
              "      <th>losses</th>\n",
              "      <th>goalsFor</th>\n",
              "      <th>goalsAgainst</th>\n",
              "      <th>yellowCards</th>\n",
              "      <th>redCards</th>\n",
              "    </tr>\n",
              "  </thead>\n",
              "  <tbody>\n",
              "    <tr>\n",
              "      <th>0</th>\n",
              "      <td>0</td>\n",
              "      <td>Brazil</td>\n",
              "      <td>1</td>\n",
              "      <td>5</td>\n",
              "      <td>3</td>\n",
              "      <td>1</td>\n",
              "      <td>1</td>\n",
              "      <td>9</td>\n",
              "      <td>4</td>\n",
              "      <td>7</td>\n",
              "      <td>2</td>\n",
              "    </tr>\n",
              "    <tr>\n",
              "      <th>1</th>\n",
              "      <td>1</td>\n",
              "      <td>Spain</td>\n",
              "      <td>2</td>\n",
              "      <td>6</td>\n",
              "      <td>5</td>\n",
              "      <td>0</td>\n",
              "      <td>1</td>\n",
              "      <td>7</td>\n",
              "      <td>2</td>\n",
              "      <td>3</td>\n",
              "      <td>0</td>\n",
              "    </tr>\n",
              "    <tr>\n",
              "      <th>2</th>\n",
              "      <td>2</td>\n",
              "      <td>Portugal</td>\n",
              "      <td>3</td>\n",
              "      <td>4</td>\n",
              "      <td>1</td>\n",
              "      <td>2</td>\n",
              "      <td>1</td>\n",
              "      <td>7</td>\n",
              "      <td>1</td>\n",
              "      <td>8</td>\n",
              "      <td>1</td>\n",
              "    </tr>\n",
              "    <tr>\n",
              "      <th>3</th>\n",
              "      <td>3</td>\n",
              "      <td>Netherlands</td>\n",
              "      <td>4</td>\n",
              "      <td>6</td>\n",
              "      <td>6</td>\n",
              "      <td>0</td>\n",
              "      <td>0</td>\n",
              "      <td>12</td>\n",
              "      <td>5</td>\n",
              "      <td>15</td>\n",
              "      <td>0</td>\n",
              "    </tr>\n",
              "    <tr>\n",
              "      <th>4</th>\n",
              "      <td>4</td>\n",
              "      <td>Italy</td>\n",
              "      <td>5</td>\n",
              "      <td>3</td>\n",
              "      <td>0</td>\n",
              "      <td>2</td>\n",
              "      <td>1</td>\n",
              "      <td>4</td>\n",
              "      <td>5</td>\n",
              "      <td>5</td>\n",
              "      <td>0</td>\n",
              "    </tr>\n",
              "  </tbody>\n",
              "</table>\n",
              "</div>"
            ],
            "text/plain": [
              "   index         team  ranking  ...  goalsAgainst  yellowCards  redCards\n",
              "0      0       Brazil        1  ...             4            7         2\n",
              "1      1        Spain        2  ...             2            3         0\n",
              "2      2     Portugal        3  ...             1            8         1\n",
              "3      3  Netherlands        4  ...             5           15         0\n",
              "4      4        Italy        5  ...             5            5         0\n",
              "\n",
              "[5 rows x 11 columns]"
            ]
          },
          "metadata": {
            "tags": []
          },
          "execution_count": 3
        }
      ]
    },
    {
      "cell_type": "markdown",
      "metadata": {
        "id": "as0Jh2YK8WTF",
        "colab_type": "text"
      },
      "source": [
        "\n",
        "#### <font color = 'green'>World Cup Basic Queries</font>"
      ]
    },
    {
      "cell_type": "markdown",
      "metadata": {
        "collapsed": true,
        "id": "C4zdhp2c8WTG",
        "colab_type": "text"
      },
      "source": [
        "## Question 1\n",
        "What player on a team with “ia” in the team name played less than 200 minutes and made more than 100 passes? Return the player surname and team. *\n",
        "\n",
        "__Hint: To check if attribute A contains string S use \"A like '%S%'\" __"
      ]
    },
    {
      "cell_type": "code",
      "metadata": {
        "id": "6K_kIn3b8WTK",
        "colab_type": "code",
        "outputId": "d4a36abe-4a55-4fdc-841a-fc36dd91190c",
        "colab": {
          "base_uri": "https://localhost:8080/",
          "height": 77
        }
      },
      "source": [
        "query = \"\"\"\n",
        "select surname, team \n",
        "from Players \n",
        "where Players.team like '%ia%' AND Players.minutes < 200 \n",
        "AND Players.passes > 100\n",
        "\"\"\"\n",
        "sql_df = pd.read_sql(query, con=db)\n",
        "sql_df"
      ],
      "execution_count": 0,
      "outputs": [
        {
          "output_type": "execute_result",
          "data": {
            "text/html": [
              "<div>\n",
              "<style scoped>\n",
              "    .dataframe tbody tr th:only-of-type {\n",
              "        vertical-align: middle;\n",
              "    }\n",
              "\n",
              "    .dataframe tbody tr th {\n",
              "        vertical-align: top;\n",
              "    }\n",
              "\n",
              "    .dataframe thead th {\n",
              "        text-align: right;\n",
              "    }\n",
              "</style>\n",
              "<table border=\"1\" class=\"dataframe\">\n",
              "  <thead>\n",
              "    <tr style=\"text-align: right;\">\n",
              "      <th></th>\n",
              "      <th>surname</th>\n",
              "      <th>team</th>\n",
              "    </tr>\n",
              "  </thead>\n",
              "  <tbody>\n",
              "    <tr>\n",
              "      <th>0</th>\n",
              "      <td>Kuzmanovic</td>\n",
              "      <td>Serbia</td>\n",
              "    </tr>\n",
              "  </tbody>\n",
              "</table>\n",
              "</div>"
            ],
            "text/plain": [
              "      surname    team\n",
              "0  Kuzmanovic  Serbia"
            ]
          },
          "metadata": {
            "tags": []
          },
          "execution_count": 4
        }
      ]
    },
    {
      "cell_type": "markdown",
      "metadata": {
        "id": "7_-A-UimMRfY",
        "colab_type": "text"
      },
      "source": [
        "## Question 2.1\n",
        "Use seaborn to find if their is correlation for players between: `minutes`,`shots`, `minutes`,`passes`, `tackles`. "
      ]
    },
    {
      "cell_type": "code",
      "metadata": {
        "id": "-N7apE4INhhz",
        "colab_type": "code",
        "outputId": "b7d3a2e9-f8fb-476c-c246-a522c87a25e7",
        "colab": {
          "base_uri": "https://localhost:8080/",
          "height": 980
        }
      },
      "source": [
        "#hints: you need to do a query and have a look of the last plot of the:\"walkthroughs  week 3 BIA\" \n",
        "query = \"SELECT * FROM Players\"\n",
        "sql_df = pd.read_sql(query, con=db)\n",
        "sql_df\n",
        "g = sns.PairGrid(sql_df, vars=['minutes', 'shots', 'passes', 'tackles'],\n",
        "                 palette='pale red')\n",
        "g.map(plt.scatter, alpha=0.2)\n",
        "plt.subplots_adjust(top=0.9)\n",
        "g.fig.suptitle('PairGrid to find a possible correlation', size=24)\n",
        "g.add_legend();\n",
        "\n",
        "sql_df.corr(method='pearson')"
      ],
      "execution_count": 0,
      "outputs": [
        {
          "output_type": "stream",
          "text": [
            "/usr/local/lib/python3.6/dist-packages/seaborn/axisgrid.py:98: UserWarning: The handle <matplotlib.patches.Patch object at 0x7f7ca1ef0f28> has a label of '_nolegend_' which cannot be automatically added to the legend.\n",
            "  figlegend = self.fig.legend(handles, labels, **kwargs)\n"
          ],
          "name": "stderr"
        },
        {
          "output_type": "execute_result",
          "data": {
            "text/html": [
              "<div>\n",
              "<style scoped>\n",
              "    .dataframe tbody tr th:only-of-type {\n",
              "        vertical-align: middle;\n",
              "    }\n",
              "\n",
              "    .dataframe tbody tr th {\n",
              "        vertical-align: top;\n",
              "    }\n",
              "\n",
              "    .dataframe thead th {\n",
              "        text-align: right;\n",
              "    }\n",
              "</style>\n",
              "<table border=\"1\" class=\"dataframe\">\n",
              "  <thead>\n",
              "    <tr style=\"text-align: right;\">\n",
              "      <th></th>\n",
              "      <th>index</th>\n",
              "      <th>minutes</th>\n",
              "      <th>shots</th>\n",
              "      <th>passes</th>\n",
              "      <th>tackles</th>\n",
              "      <th>saves</th>\n",
              "    </tr>\n",
              "  </thead>\n",
              "  <tbody>\n",
              "    <tr>\n",
              "      <th>index</th>\n",
              "      <td>1.000000</td>\n",
              "      <td>0.072236</td>\n",
              "      <td>0.011117</td>\n",
              "      <td>0.011606</td>\n",
              "      <td>0.018683</td>\n",
              "      <td>0.013302</td>\n",
              "    </tr>\n",
              "    <tr>\n",
              "      <th>minutes</th>\n",
              "      <td>0.072236</td>\n",
              "      <td>1.000000</td>\n",
              "      <td>0.407923</td>\n",
              "      <td>0.815119</td>\n",
              "      <td>0.610673</td>\n",
              "      <td>0.228477</td>\n",
              "    </tr>\n",
              "    <tr>\n",
              "      <th>shots</th>\n",
              "      <td>0.011117</td>\n",
              "      <td>0.407923</td>\n",
              "      <td>1.000000</td>\n",
              "      <td>0.343163</td>\n",
              "      <td>0.176283</td>\n",
              "      <td>-0.154958</td>\n",
              "    </tr>\n",
              "    <tr>\n",
              "      <th>passes</th>\n",
              "      <td>0.011606</td>\n",
              "      <td>0.815119</td>\n",
              "      <td>0.343163</td>\n",
              "      <td>1.000000</td>\n",
              "      <td>0.702097</td>\n",
              "      <td>-0.062057</td>\n",
              "    </tr>\n",
              "    <tr>\n",
              "      <th>tackles</th>\n",
              "      <td>0.018683</td>\n",
              "      <td>0.610673</td>\n",
              "      <td>0.176283</td>\n",
              "      <td>0.702097</td>\n",
              "      <td>1.000000</td>\n",
              "      <td>-0.201190</td>\n",
              "    </tr>\n",
              "    <tr>\n",
              "      <th>saves</th>\n",
              "      <td>0.013302</td>\n",
              "      <td>0.228477</td>\n",
              "      <td>-0.154958</td>\n",
              "      <td>-0.062057</td>\n",
              "      <td>-0.201190</td>\n",
              "      <td>1.000000</td>\n",
              "    </tr>\n",
              "  </tbody>\n",
              "</table>\n",
              "</div>"
            ],
            "text/plain": [
              "            index   minutes     shots    passes   tackles     saves\n",
              "index    1.000000  0.072236  0.011117  0.011606  0.018683  0.013302\n",
              "minutes  0.072236  1.000000  0.407923  0.815119  0.610673  0.228477\n",
              "shots    0.011117  0.407923  1.000000  0.343163  0.176283 -0.154958\n",
              "passes   0.011606  0.815119  0.343163  1.000000  0.702097 -0.062057\n",
              "tackles  0.018683  0.610673  0.176283  0.702097  1.000000 -0.201190\n",
              "saves    0.013302  0.228477 -0.154958 -0.062057 -0.201190  1.000000"
            ]
          },
          "metadata": {
            "tags": []
          },
          "execution_count": 5
        },
        {
          "output_type": "display_data",
          "data": {
            "image/png": "[encoded data removed]",
            "text/plain": [
              "<Figure size 728x720 with 16 Axes>"
            ]
          },
          "metadata": {
            "tags": []
          }
        }
      ]
    },
    {
      "cell_type": "markdown",
      "metadata": {
        "collapsed": true,
        "id": "4gNjdG4H8WTR",
        "colab_type": "text"
      },
      "source": [
        "## Question 2.2\n",
        " Find all players who made more than 20 shots. Return all player information in descending order of shots made.*\n",
        "\n",
        "__Hint: SQL ordering syntax: \"ORDER BY column1, column2, ... ASC|DESC\" __"
      ]
    },
    {
      "cell_type": "code",
      "metadata": {
        "id": "wmYeLAw68WTU",
        "colab_type": "code",
        "outputId": "50799b22-2c01-4b7d-c7fc-c4cd814621ab",
        "colab": {
          "base_uri": "https://localhost:8080/",
          "height": 137
        }
      },
      "source": [
        "query = \"\"\"\n",
        "select * \n",
        "from Players \n",
        "where Players.shots > 20 \n",
        "order by Players.shots desc\n",
        "\"\"\"\n",
        "sql_df = pd.read_sql(query, con=db)\n",
        "sql_df"
      ],
      "execution_count": 0,
      "outputs": [
        {
          "output_type": "execute_result",
          "data": {
            "text/html": [
              "<div>\n",
              "<style scoped>\n",
              "    .dataframe tbody tr th:only-of-type {\n",
              "        vertical-align: middle;\n",
              "    }\n",
              "\n",
              "    .dataframe tbody tr th {\n",
              "        vertical-align: top;\n",
              "    }\n",
              "\n",
              "    .dataframe thead th {\n",
              "        text-align: right;\n",
              "    }\n",
              "</style>\n",
              "<table border=\"1\" class=\"dataframe\">\n",
              "  <thead>\n",
              "    <tr style=\"text-align: right;\">\n",
              "      <th></th>\n",
              "      <th>index</th>\n",
              "      <th>surname</th>\n",
              "      <th>team</th>\n",
              "      <th>position</th>\n",
              "      <th>minutes</th>\n",
              "      <th>shots</th>\n",
              "      <th>passes</th>\n",
              "      <th>tackles</th>\n",
              "      <th>saves</th>\n",
              "    </tr>\n",
              "  </thead>\n",
              "  <tbody>\n",
              "    <tr>\n",
              "      <th>0</th>\n",
              "      <td>200</td>\n",
              "      <td>Gyan</td>\n",
              "      <td>Ghana</td>\n",
              "      <td>forward</td>\n",
              "      <td>501</td>\n",
              "      <td>27</td>\n",
              "      <td>151</td>\n",
              "      <td>1</td>\n",
              "      <td>0</td>\n",
              "    </tr>\n",
              "    <tr>\n",
              "      <th>1</th>\n",
              "      <td>535</td>\n",
              "      <td>Villa</td>\n",
              "      <td>Spain</td>\n",
              "      <td>forward</td>\n",
              "      <td>529</td>\n",
              "      <td>22</td>\n",
              "      <td>169</td>\n",
              "      <td>2</td>\n",
              "      <td>0</td>\n",
              "    </tr>\n",
              "    <tr>\n",
              "      <th>2</th>\n",
              "      <td>28</td>\n",
              "      <td>Messi</td>\n",
              "      <td>Argentina</td>\n",
              "      <td>forward</td>\n",
              "      <td>450</td>\n",
              "      <td>21</td>\n",
              "      <td>321</td>\n",
              "      <td>10</td>\n",
              "      <td>0</td>\n",
              "    </tr>\n",
              "  </tbody>\n",
              "</table>\n",
              "</div>"
            ],
            "text/plain": [
              "   index surname       team position  minutes  shots  passes  tackles  saves\n",
              "0    200    Gyan      Ghana  forward      501     27     151        1      0\n",
              "1    535   Villa      Spain  forward      529     22     169        2      0\n",
              "2     28   Messi  Argentina  forward      450     21     321       10      0"
            ]
          },
          "metadata": {
            "tags": []
          },
          "execution_count": 6
        }
      ]
    },
    {
      "cell_type": "markdown",
      "metadata": {
        "collapsed": true,
        "id": "aLralf658WTb",
        "colab_type": "text"
      },
      "source": [
        "## Question 3.1 SQL\n",
        "Find the goalkeepers of teams that played more than four games. List the surname of the goalkeeper, the team, and the number of minutes the goalkeeper played.*\n",
        "\n",
        "__Hint: You should join the two tables (on which attribute??)."
      ]
    },
    {
      "cell_type": "code",
      "metadata": {
        "id": "AMRLCwdh8WTc",
        "colab_type": "code",
        "outputId": "462e8182-5e74-45fc-d26b-ceb8f205d89e",
        "colab": {
          "base_uri": "https://localhost:8080/",
          "height": 496
        }
      },
      "source": [
        "query = \"\"\"\n",
        "select P.surname, P.team, P.minutes\n",
        "from Players P\n",
        "join Teams T on T.team = P.team\n",
        "where P.position like 'goalkeeper' and (P.minutes/90) >= 4\n",
        "order by P.minutes desc\n",
        "\"\"\"\n",
        "sql_df = pd.read_sql(query, con=db)\n",
        "sql_df"
      ],
      "execution_count": 0,
      "outputs": [
        {
          "output_type": "execute_result",
          "data": {
            "text/html": [
              "<div>\n",
              "<style scoped>\n",
              "    .dataframe tbody tr th:only-of-type {\n",
              "        vertical-align: middle;\n",
              "    }\n",
              "\n",
              "    .dataframe tbody tr th {\n",
              "        vertical-align: top;\n",
              "    }\n",
              "\n",
              "    .dataframe thead th {\n",
              "        text-align: right;\n",
              "    }\n",
              "</style>\n",
              "<table border=\"1\" class=\"dataframe\">\n",
              "  <thead>\n",
              "    <tr style=\"text-align: right;\">\n",
              "      <th></th>\n",
              "      <th>surname</th>\n",
              "      <th>team</th>\n",
              "      <th>minutes</th>\n",
              "    </tr>\n",
              "  </thead>\n",
              "  <tbody>\n",
              "    <tr>\n",
              "      <th>0</th>\n",
              "      <td>Muslera</td>\n",
              "      <td>Uruguay</td>\n",
              "      <td>570</td>\n",
              "    </tr>\n",
              "    <tr>\n",
              "      <th>1</th>\n",
              "      <td>Neuer</td>\n",
              "      <td>Germany</td>\n",
              "      <td>540</td>\n",
              "    </tr>\n",
              "    <tr>\n",
              "      <th>2</th>\n",
              "      <td>Stekelenburg</td>\n",
              "      <td>Netherlands</td>\n",
              "      <td>540</td>\n",
              "    </tr>\n",
              "    <tr>\n",
              "      <th>3</th>\n",
              "      <td>Casillas</td>\n",
              "      <td>Spain</td>\n",
              "      <td>540</td>\n",
              "    </tr>\n",
              "    <tr>\n",
              "      <th>4</th>\n",
              "      <td>Kingson</td>\n",
              "      <td>Ghana</td>\n",
              "      <td>510</td>\n",
              "    </tr>\n",
              "    <tr>\n",
              "      <th>5</th>\n",
              "      <td>Villar</td>\n",
              "      <td>Paraguay</td>\n",
              "      <td>480</td>\n",
              "    </tr>\n",
              "    <tr>\n",
              "      <th>6</th>\n",
              "      <td>Romero</td>\n",
              "      <td>Argentina</td>\n",
              "      <td>450</td>\n",
              "    </tr>\n",
              "    <tr>\n",
              "      <th>7</th>\n",
              "      <td>Julio Cesar</td>\n",
              "      <td>Brazil</td>\n",
              "      <td>450</td>\n",
              "    </tr>\n",
              "    <tr>\n",
              "      <th>8</th>\n",
              "      <td>Kawashima</td>\n",
              "      <td>Japan</td>\n",
              "      <td>390</td>\n",
              "    </tr>\n",
              "    <tr>\n",
              "      <th>9</th>\n",
              "      <td>Howard</td>\n",
              "      <td>USA</td>\n",
              "      <td>390</td>\n",
              "    </tr>\n",
              "    <tr>\n",
              "      <th>10</th>\n",
              "      <td>Bravo</td>\n",
              "      <td>Chile</td>\n",
              "      <td>360</td>\n",
              "    </tr>\n",
              "    <tr>\n",
              "      <th>11</th>\n",
              "      <td>Perez</td>\n",
              "      <td>Mexico</td>\n",
              "      <td>360</td>\n",
              "    </tr>\n",
              "    <tr>\n",
              "      <th>12</th>\n",
              "      <td>Eduardo</td>\n",
              "      <td>Portugal</td>\n",
              "      <td>360</td>\n",
              "    </tr>\n",
              "    <tr>\n",
              "      <th>13</th>\n",
              "      <td>Mucha</td>\n",
              "      <td>Slovakia</td>\n",
              "      <td>360</td>\n",
              "    </tr>\n",
              "    <tr>\n",
              "      <th>14</th>\n",
              "      <td>Jung Sung-Ryong</td>\n",
              "      <td>South Korea</td>\n",
              "      <td>360</td>\n",
              "    </tr>\n",
              "  </tbody>\n",
              "</table>\n",
              "</div>"
            ],
            "text/plain": [
              "            surname         team  minutes\n",
              "0           Muslera      Uruguay      570\n",
              "1             Neuer      Germany      540\n",
              "2      Stekelenburg  Netherlands      540\n",
              "3          Casillas        Spain      540\n",
              "4           Kingson        Ghana      510\n",
              "5            Villar     Paraguay      480\n",
              "6            Romero    Argentina      450\n",
              "7       Julio Cesar       Brazil      450\n",
              "8         Kawashima        Japan      390\n",
              "9            Howard          USA      390\n",
              "10            Bravo        Chile      360\n",
              "11            Perez       Mexico      360\n",
              "12          Eduardo     Portugal      360\n",
              "13            Mucha     Slovakia      360\n",
              "14  Jung Sung-Ryong  South Korea      360"
            ]
          },
          "metadata": {
            "tags": []
          },
          "execution_count": 7
        }
      ]
    },
    {
      "cell_type": "code",
      "metadata": {
        "id": "AzBzw9jFpxFd",
        "colab_type": "code",
        "outputId": "b1d83317-ff1b-4920-94e0-eeb6212a1cba",
        "colab": {
          "base_uri": "https://localhost:8080/",
          "height": 714
        }
      },
      "source": [
        "fig = plt.gcf() #the aera of the plt figure\n",
        "fig.set_size_inches(16, 12) #resize the figure\n",
        "ax = sns.barplot(x=\"surname\", y=\"minutes\", data=sql_df, palette=\"Blues_d\")\n",
        "plt.show() "
      ],
      "execution_count": 0,
      "outputs": [
        {
          "output_type": "display_data",
          "data": {
            "image/png": "[encoded data removed]",
            "text/plain": [
              "<Figure size 1152x864 with 1 Axes>"
            ]
          },
          "metadata": {
            "tags": []
          }
        }
      ]
    },
    {
      "cell_type": "markdown",
      "metadata": {
        "collapsed": true,
        "id": "vRT0J7sY8WTh",
        "colab_type": "text"
      },
      "source": [
        "## Question 4\n",
        "How many players who play on a team with ranking <10 played more than 350 minutes? Return one number in a column named 'superstar'.*\n",
        "\n",
        "__Hint: use \"SELECT ... AS new_col_name\" to rename a column__"
      ]
    },
    {
      "cell_type": "code",
      "metadata": {
        "id": "hSseV7oi8WTi",
        "colab_type": "code",
        "outputId": "bb077e8a-a6cf-434c-990b-2e194fd85840",
        "colab": {
          "base_uri": "https://localhost:8080/",
          "height": 80
        }
      },
      "source": [
        "query = \"\"\"\n",
        "select count(P.surname) as 'superstar'\n",
        "from Players P\n",
        "join Teams T on T.team = P.team\n",
        "where P.minutes > 350 and T.ranking < 10\n",
        "\n",
        "\"\"\"\n",
        "sql_df = pd.read_sql(query, con=db)\n",
        "sql_df"
      ],
      "execution_count": 0,
      "outputs": [
        {
          "output_type": "execute_result",
          "data": {
            "text/html": [
              "<div>\n",
              "<style scoped>\n",
              "    .dataframe tbody tr th:only-of-type {\n",
              "        vertical-align: middle;\n",
              "    }\n",
              "\n",
              "    .dataframe tbody tr th {\n",
              "        vertical-align: top;\n",
              "    }\n",
              "\n",
              "    .dataframe thead th {\n",
              "        text-align: right;\n",
              "    }\n",
              "</style>\n",
              "<table border=\"1\" class=\"dataframe\">\n",
              "  <thead>\n",
              "    <tr style=\"text-align: right;\">\n",
              "      <th></th>\n",
              "      <th>superstar</th>\n",
              "    </tr>\n",
              "  </thead>\n",
              "  <tbody>\n",
              "    <tr>\n",
              "      <th>0</th>\n",
              "      <td>54</td>\n",
              "    </tr>\n",
              "  </tbody>\n",
              "</table>\n",
              "</div>"
            ],
            "text/plain": [
              "   superstar\n",
              "0         54"
            ]
          },
          "metadata": {
            "tags": []
          },
          "execution_count": 29
        }
      ]
    },
    {
      "cell_type": "markdown",
      "metadata": {
        "collapsed": true,
        "id": "DZlTul358WTl",
        "colab_type": "text"
      },
      "source": [
        "## Question 5\n",
        "What is the average number of passes made by forwards? By midfielders? Write one query that gives both values with the corresponding position.*\n",
        "\n",
        "__Hint: use the GROUP BY clause__\n",
        "\n",
        "__Hint: when selecting columns you can use AVG, SUM or COUNT clauses to calculate aggregates__"
      ]
    },
    {
      "cell_type": "code",
      "metadata": {
        "id": "76mZ7BVJ8WTm",
        "colab_type": "code",
        "outputId": "d902168e-800e-40fb-9923-8a2d6fc0085a",
        "colab": {
          "base_uri": "https://localhost:8080/",
          "height": 107
        }
      },
      "source": [
        "query = \"\"\"\n",
        "select P.position, round(avg(P.passes)) as 'moyenne de passe'\n",
        "from Players P\n",
        "where P.position = \"forward\" or P.position = \"midfielder\"\n",
        "group by P.position\n",
        "\"\"\"\n",
        "sql_df = pd.read_sql(query, con=db)\n",
        "sql_df"
      ],
      "execution_count": 0,
      "outputs": [
        {
          "output_type": "execute_result",
          "data": {
            "text/html": [
              "<div>\n",
              "<style scoped>\n",
              "    .dataframe tbody tr th:only-of-type {\n",
              "        vertical-align: middle;\n",
              "    }\n",
              "\n",
              "    .dataframe tbody tr th {\n",
              "        vertical-align: top;\n",
              "    }\n",
              "\n",
              "    .dataframe thead th {\n",
              "        text-align: right;\n",
              "    }\n",
              "</style>\n",
              "<table border=\"1\" class=\"dataframe\">\n",
              "  <thead>\n",
              "    <tr style=\"text-align: right;\">\n",
              "      <th></th>\n",
              "      <th>position</th>\n",
              "      <th>moyenne de passe</th>\n",
              "    </tr>\n",
              "  </thead>\n",
              "  <tbody>\n",
              "    <tr>\n",
              "      <th>0</th>\n",
              "      <td>forward</td>\n",
              "      <td>51.0</td>\n",
              "    </tr>\n",
              "    <tr>\n",
              "      <th>1</th>\n",
              "      <td>midfielder</td>\n",
              "      <td>95.0</td>\n",
              "    </tr>\n",
              "  </tbody>\n",
              "</table>\n",
              "</div>"
            ],
            "text/plain": [
              "     position  moyenne de passe\n",
              "0     forward              51.0\n",
              "1  midfielder              95.0"
            ]
          },
          "metadata": {
            "tags": []
          },
          "execution_count": 4
        }
      ]
    },
    {
      "cell_type": "code",
      "metadata": {
        "id": "COBzAw-TUbJn",
        "colab_type": "code",
        "outputId": "c3f2a74e-ac62-4588-bc48-4d8abd51b6a0",
        "colab": {
          "base_uri": "https://localhost:8080/",
          "height": 48
        }
      },
      "source": [
        "query = \"\"\"\n",
        "SELECT avg(P.passes) as AVG_Passes, P.position\n",
        "FROM Players P\n",
        "WHERE P.position like 'forwards' or P.position like 'midfielders'\n",
        "GROUP BY P.position\n",
        "\"\"\"\n",
        "sql_df = pd.read_sql(query, con=db)\n",
        "sql_df"
      ],
      "execution_count": 0,
      "outputs": [
        {
          "output_type": "execute_result",
          "data": {
            "text/html": [
              "<div>\n",
              "<style scoped>\n",
              "    .dataframe tbody tr th:only-of-type {\n",
              "        vertical-align: middle;\n",
              "    }\n",
              "\n",
              "    .dataframe tbody tr th {\n",
              "        vertical-align: top;\n",
              "    }\n",
              "\n",
              "    .dataframe thead th {\n",
              "        text-align: right;\n",
              "    }\n",
              "</style>\n",
              "<table border=\"1\" class=\"dataframe\">\n",
              "  <thead>\n",
              "    <tr style=\"text-align: right;\">\n",
              "      <th></th>\n",
              "      <th>AVG_Passes</th>\n",
              "      <th>position</th>\n",
              "    </tr>\n",
              "  </thead>\n",
              "  <tbody>\n",
              "  </tbody>\n",
              "</table>\n",
              "</div>"
            ],
            "text/plain": [
              "Empty DataFrame\n",
              "Columns: [AVG_Passes, position]\n",
              "Index: []"
            ]
          },
          "metadata": {
            "tags": []
          },
          "execution_count": 9
        }
      ]
    },
    {
      "cell_type": "markdown",
      "metadata": {
        "collapsed": true,
        "id": "pLjyR6wh8WTo",
        "colab_type": "text"
      },
      "source": [
        "*6) Which team has the highest average number of passes per minute played? Return the team and average passes per minute. *\n",
        "\n",
        "__Hint 1: You can compute a team's average number of passes per minute played by dividing the total number of passes by the total number of minutes. To force floating point division, multiply one operand by 1.0. __\n",
        "\n",
        "__Hint 2: Consider using Limit. __"
      ]
    },
    {
      "cell_type": "code",
      "metadata": {
        "id": "7ApyOn9N8WTq",
        "colab_type": "code",
        "outputId": "d5fc7e4c-55f8-4cb0-b66b-10a7516a8816",
        "colab": {
          "base_uri": "https://localhost:8080/",
          "height": 204
        }
      },
      "source": [
        "query = \"\"\"\n",
        "select T.team, round(sum(P.passes)/(90.0*T.games),2) as 'PpMin played'\n",
        "from Players P\n",
        "join Teams T on T.team = P.team\n",
        "group by T.team\n",
        "limit 5\n",
        "\n",
        "\"\"\"\n",
        "sql_df = pd.read_sql(query, con=db)\n",
        "sql_df"
      ],
      "execution_count": 0,
      "outputs": [
        {
          "output_type": "execute_result",
          "data": {
            "text/html": [
              "<div>\n",
              "<style scoped>\n",
              "    .dataframe tbody tr th:only-of-type {\n",
              "        vertical-align: middle;\n",
              "    }\n",
              "\n",
              "    .dataframe tbody tr th {\n",
              "        vertical-align: top;\n",
              "    }\n",
              "\n",
              "    .dataframe thead th {\n",
              "        text-align: right;\n",
              "    }\n",
              "</style>\n",
              "<table border=\"1\" class=\"dataframe\">\n",
              "  <thead>\n",
              "    <tr style=\"text-align: right;\">\n",
              "      <th></th>\n",
              "      <th>team</th>\n",
              "      <th>PpMin played</th>\n",
              "    </tr>\n",
              "  </thead>\n",
              "  <tbody>\n",
              "    <tr>\n",
              "      <th>0</th>\n",
              "      <td>Algeria</td>\n",
              "      <td>4.07</td>\n",
              "    </tr>\n",
              "    <tr>\n",
              "      <th>1</th>\n",
              "      <td>Argentina</td>\n",
              "      <td>5.81</td>\n",
              "    </tr>\n",
              "    <tr>\n",
              "      <th>2</th>\n",
              "      <td>Australia</td>\n",
              "      <td>4.26</td>\n",
              "    </tr>\n",
              "    <tr>\n",
              "      <th>3</th>\n",
              "      <td>Brazil</td>\n",
              "      <td>5.32</td>\n",
              "    </tr>\n",
              "    <tr>\n",
              "      <th>4</th>\n",
              "      <td>Cameroon</td>\n",
              "      <td>4.98</td>\n",
              "    </tr>\n",
              "  </tbody>\n",
              "</table>\n",
              "</div>"
            ],
            "text/plain": [
              "        team  PpMin played\n",
              "0    Algeria          4.07\n",
              "1  Argentina          5.81\n",
              "2  Australia          4.26\n",
              "3     Brazil          5.32\n",
              "4   Cameroon          4.98"
            ]
          },
          "metadata": {
            "tags": []
          },
          "execution_count": 34
        }
      ]
    },
    {
      "cell_type": "markdown",
      "metadata": {
        "id": "v1dXQKXu8WTv",
        "colab_type": "text"
      },
      "source": [
        "#### <font color = 'green'>World Cup Advanced Queries</font>"
      ]
    },
    {
      "cell_type": "markdown",
      "metadata": {
        "id": "js1aBftZ8WTy",
        "colab_type": "text"
      },
      "source": [
        "## Question 1\n",
        "\n",
        "Find all pairs of teams who have the same number of goalsFor as\n",
        "each other and the same number of goalsAgainst as each other.\n",
        "Return the teams and numbers of goalsFor and goalsAgainst.\n",
        "Make sure to return each pair only once.*\n",
        "\n",
        "__Hint: You basically need to do a self join of the Teams table. For that you need to join different name aliases of the Teams table. checkout [here](https://www.w3schools.com/sql/sql_join_self.asp) for help.__"
      ]
    },
    {
      "cell_type": "code",
      "metadata": {
        "id": "LzpO1c3V8WTz",
        "colab_type": "code",
        "outputId": "3081abe0-12e6-4b97-cd1f-7bb49f39460a",
        "colab": {
          "base_uri": "https://localhost:8080/",
          "height": 607
        }
      },
      "source": [
        "query = \"\"\"\n",
        "select A.team AS team_1, B.team AS team_2, A.goalsFor, A.goalsAgainst\n",
        "from Teams A, Teams B\n",
        "where A.goalsFor = B.goalsFor and A.goalsAgainst=B.goalsAgainst and A.team <>B.team\n",
        "\"\"\"\n",
        "sql_df = pd.read_sql(query, con=db)\n",
        "sql_df\n"
      ],
      "execution_count": 0,
      "outputs": [
        {
          "output_type": "execute_result",
          "data": {
            "text/html": [
              "<div>\n",
              "<style scoped>\n",
              "    .dataframe tbody tr th:only-of-type {\n",
              "        vertical-align: middle;\n",
              "    }\n",
              "\n",
              "    .dataframe tbody tr th {\n",
              "        vertical-align: top;\n",
              "    }\n",
              "\n",
              "    .dataframe thead th {\n",
              "        text-align: right;\n",
              "    }\n",
              "</style>\n",
              "<table border=\"1\" class=\"dataframe\">\n",
              "  <thead>\n",
              "    <tr style=\"text-align: right;\">\n",
              "      <th></th>\n",
              "      <th>team_1</th>\n",
              "      <th>team_2</th>\n",
              "      <th>goalsFor</th>\n",
              "      <th>goalsAgainst</th>\n",
              "    </tr>\n",
              "  </thead>\n",
              "  <tbody>\n",
              "    <tr>\n",
              "      <th>0</th>\n",
              "      <td>Italy</td>\n",
              "      <td>Mexico</td>\n",
              "      <td>4</td>\n",
              "      <td>5</td>\n",
              "    </tr>\n",
              "    <tr>\n",
              "      <th>1</th>\n",
              "      <td>England</td>\n",
              "      <td>Chile</td>\n",
              "      <td>3</td>\n",
              "      <td>5</td>\n",
              "    </tr>\n",
              "    <tr>\n",
              "      <th>2</th>\n",
              "      <td>England</td>\n",
              "      <td>Nigeria</td>\n",
              "      <td>3</td>\n",
              "      <td>5</td>\n",
              "    </tr>\n",
              "    <tr>\n",
              "      <th>3</th>\n",
              "      <td>England</td>\n",
              "      <td>South Africa</td>\n",
              "      <td>3</td>\n",
              "      <td>5</td>\n",
              "    </tr>\n",
              "    <tr>\n",
              "      <th>4</th>\n",
              "      <td>Greece</td>\n",
              "      <td>Cameroon</td>\n",
              "      <td>2</td>\n",
              "      <td>5</td>\n",
              "    </tr>\n",
              "    <tr>\n",
              "      <th>5</th>\n",
              "      <td>Mexico</td>\n",
              "      <td>Italy</td>\n",
              "      <td>4</td>\n",
              "      <td>5</td>\n",
              "    </tr>\n",
              "    <tr>\n",
              "      <th>6</th>\n",
              "      <td>Chile</td>\n",
              "      <td>England</td>\n",
              "      <td>3</td>\n",
              "      <td>5</td>\n",
              "    </tr>\n",
              "    <tr>\n",
              "      <th>7</th>\n",
              "      <td>Chile</td>\n",
              "      <td>Nigeria</td>\n",
              "      <td>3</td>\n",
              "      <td>5</td>\n",
              "    </tr>\n",
              "    <tr>\n",
              "      <th>8</th>\n",
              "      <td>Chile</td>\n",
              "      <td>South Africa</td>\n",
              "      <td>3</td>\n",
              "      <td>5</td>\n",
              "    </tr>\n",
              "    <tr>\n",
              "      <th>9</th>\n",
              "      <td>Cameroon</td>\n",
              "      <td>Greece</td>\n",
              "      <td>2</td>\n",
              "      <td>5</td>\n",
              "    </tr>\n",
              "    <tr>\n",
              "      <th>10</th>\n",
              "      <td>Australia</td>\n",
              "      <td>Denmark</td>\n",
              "      <td>3</td>\n",
              "      <td>6</td>\n",
              "    </tr>\n",
              "    <tr>\n",
              "      <th>11</th>\n",
              "      <td>Nigeria</td>\n",
              "      <td>Chile</td>\n",
              "      <td>3</td>\n",
              "      <td>5</td>\n",
              "    </tr>\n",
              "    <tr>\n",
              "      <th>12</th>\n",
              "      <td>Nigeria</td>\n",
              "      <td>England</td>\n",
              "      <td>3</td>\n",
              "      <td>5</td>\n",
              "    </tr>\n",
              "    <tr>\n",
              "      <th>13</th>\n",
              "      <td>Nigeria</td>\n",
              "      <td>South Africa</td>\n",
              "      <td>3</td>\n",
              "      <td>5</td>\n",
              "    </tr>\n",
              "    <tr>\n",
              "      <th>14</th>\n",
              "      <td>Denmark</td>\n",
              "      <td>Australia</td>\n",
              "      <td>3</td>\n",
              "      <td>6</td>\n",
              "    </tr>\n",
              "    <tr>\n",
              "      <th>15</th>\n",
              "      <td>South Africa</td>\n",
              "      <td>Chile</td>\n",
              "      <td>3</td>\n",
              "      <td>5</td>\n",
              "    </tr>\n",
              "    <tr>\n",
              "      <th>16</th>\n",
              "      <td>South Africa</td>\n",
              "      <td>England</td>\n",
              "      <td>3</td>\n",
              "      <td>5</td>\n",
              "    </tr>\n",
              "    <tr>\n",
              "      <th>17</th>\n",
              "      <td>South Africa</td>\n",
              "      <td>Nigeria</td>\n",
              "      <td>3</td>\n",
              "      <td>5</td>\n",
              "    </tr>\n",
              "  </tbody>\n",
              "</table>\n",
              "</div>"
            ],
            "text/plain": [
              "          team_1        team_2  goalsFor  goalsAgainst\n",
              "0          Italy        Mexico         4             5\n",
              "1        England         Chile         3             5\n",
              "2        England       Nigeria         3             5\n",
              "3        England  South Africa         3             5\n",
              "4         Greece      Cameroon         2             5\n",
              "5         Mexico         Italy         4             5\n",
              "6          Chile       England         3             5\n",
              "7          Chile       Nigeria         3             5\n",
              "8          Chile  South Africa         3             5\n",
              "9       Cameroon        Greece         2             5\n",
              "10     Australia       Denmark         3             6\n",
              "11       Nigeria         Chile         3             5\n",
              "12       Nigeria       England         3             5\n",
              "13       Nigeria  South Africa         3             5\n",
              "14       Denmark     Australia         3             6\n",
              "15  South Africa         Chile         3             5\n",
              "16  South Africa       England         3             5\n",
              "17  South Africa       Nigeria         3             5"
            ]
          },
          "metadata": {
            "tags": []
          },
          "execution_count": 35
        }
      ]
    },
    {
      "cell_type": "markdown",
      "metadata": {
        "id": "g9QX2Jie8WT4",
        "colab_type": "text"
      },
      "source": [
        "## Question 2\n",
        "Find all teams with ranking <30 where no player made more than 150 passes. Return the team and ranking.*\n",
        "\n",
        "__Hint: use HAVING clause (documentation [here](https://www.w3schools.com/sql/sql_having.asp))__"
      ]
    },
    {
      "cell_type": "code",
      "metadata": {
        "id": "xPOBexhd8WT4",
        "colab_type": "code",
        "outputId": "9e730570-32d3-4534-fe74-72305df18d27",
        "colab": {
          "base_uri": "https://localhost:8080/",
          "height": 142
        }
      },
      "source": [
        "query = \"\"\"\n",
        "select P.team, T.ranking, max(P.passes) as maxPasses\n",
        "from Players P\n",
        "join Teams T on T.team = P.team\n",
        "where T.ranking < 30\n",
        "group by P.team\n",
        "having maxPasses<150\n",
        "\"\"\"\n",
        "sql_df = pd.read_sql(query, con=db)\n",
        "sql_df"
      ],
      "execution_count": 0,
      "outputs": [
        {
          "output_type": "execute_result",
          "data": {
            "text/html": [
              "<div>\n",
              "<style scoped>\n",
              "    .dataframe tbody tr th:only-of-type {\n",
              "        vertical-align: middle;\n",
              "    }\n",
              "\n",
              "    .dataframe tbody tr th {\n",
              "        vertical-align: top;\n",
              "    }\n",
              "\n",
              "    .dataframe thead th {\n",
              "        text-align: right;\n",
              "    }\n",
              "</style>\n",
              "<table border=\"1\" class=\"dataframe\">\n",
              "  <thead>\n",
              "    <tr style=\"text-align: right;\">\n",
              "      <th></th>\n",
              "      <th>team</th>\n",
              "      <th>ranking</th>\n",
              "      <th>maxPasses</th>\n",
              "    </tr>\n",
              "  </thead>\n",
              "  <tbody>\n",
              "    <tr>\n",
              "      <th>0</th>\n",
              "      <td>France</td>\n",
              "      <td>9</td>\n",
              "      <td>125</td>\n",
              "    </tr>\n",
              "    <tr>\n",
              "      <th>1</th>\n",
              "      <td>Nigeria</td>\n",
              "      <td>21</td>\n",
              "      <td>111</td>\n",
              "    </tr>\n",
              "    <tr>\n",
              "      <th>2</th>\n",
              "      <td>Switzerland</td>\n",
              "      <td>24</td>\n",
              "      <td>138</td>\n",
              "    </tr>\n",
              "  </tbody>\n",
              "</table>\n",
              "</div>"
            ],
            "text/plain": [
              "          team  ranking  maxPasses\n",
              "0       France        9        125\n",
              "1      Nigeria       21        111\n",
              "2  Switzerland       24        138"
            ]
          },
          "metadata": {
            "tags": []
          },
          "execution_count": 43
        }
      ]
    },
    {
      "cell_type": "markdown",
      "metadata": {
        "id": "NbJzKIm98WT7",
        "colab_type": "text"
      },
      "source": [
        "## Question 3\n",
        "Which team has the highest ratio of goalsFor to goalsAgainst?*"
      ]
    },
    {
      "cell_type": "code",
      "metadata": {
        "id": "Bi2SUQgM8WT8",
        "colab_type": "code",
        "outputId": "51977b54-b41e-478c-d7a2-308b7fc292f2",
        "colab": {
          "base_uri": "https://localhost:8080/",
          "height": 80
        }
      },
      "source": [
        "query = \"\"\"\n",
        "select team, goalsFor, goalsAgainst,goalsFor/goalsAgainst as Ratio\n",
        "from Teams\n",
        "group by team\n",
        "order by ratio desc\n",
        "limit 1\n",
        "\"\"\"\n",
        "sql_df = pd.read_sql(query, con=db)\n",
        "sql_df"
      ],
      "execution_count": 0,
      "outputs": [
        {
          "output_type": "execute_result",
          "data": {
            "text/html": [
              "<div>\n",
              "<style scoped>\n",
              "    .dataframe tbody tr th:only-of-type {\n",
              "        vertical-align: middle;\n",
              "    }\n",
              "\n",
              "    .dataframe tbody tr th {\n",
              "        vertical-align: top;\n",
              "    }\n",
              "\n",
              "    .dataframe thead th {\n",
              "        text-align: right;\n",
              "    }\n",
              "</style>\n",
              "<table border=\"1\" class=\"dataframe\">\n",
              "  <thead>\n",
              "    <tr style=\"text-align: right;\">\n",
              "      <th></th>\n",
              "      <th>team</th>\n",
              "      <th>goalsFor</th>\n",
              "      <th>goalsAgainst</th>\n",
              "      <th>Ratio</th>\n",
              "    </tr>\n",
              "  </thead>\n",
              "  <tbody>\n",
              "    <tr>\n",
              "      <th>0</th>\n",
              "      <td>Portugal</td>\n",
              "      <td>7</td>\n",
              "      <td>1</td>\n",
              "      <td>7</td>\n",
              "    </tr>\n",
              "  </tbody>\n",
              "</table>\n",
              "</div>"
            ],
            "text/plain": [
              "       team  goalsFor  goalsAgainst  Ratio\n",
              "0  Portugal         7             1      7"
            ]
          },
          "metadata": {
            "tags": []
          },
          "execution_count": 39
        }
      ]
    },
    {
      "cell_type": "markdown",
      "metadata": {
        "id": "u_7fplnQ8WT-",
        "colab_type": "text"
      },
      "source": [
        "## Question 4\n",
        "Find all teams whose defenders averaged more than 150 passes. Return the team and average number of passes by defenders, in descending order of average passes.*\n",
        "\n",
        "__Hint: again you may use the HAVING clause here__"
      ]
    },
    {
      "cell_type": "code",
      "metadata": {
        "id": "qOapic7E8WT_",
        "colab_type": "code",
        "outputId": "7911d975-2c99-4b07-ee58-b425f500d018",
        "colab": {
          "base_uri": "https://localhost:8080/",
          "height": 204
        }
      },
      "source": [
        "query = \"\"\"\n",
        "select P.team, avg(P.passes) as avg_Passes\n",
        "from Players P\n",
        "where P.position ='defender'\n",
        "group by P.team\n",
        "having avg_Passes > 150\n",
        "order by avg_Passes desc\n",
        "\"\"\"\n",
        "sql_df = pd.read_sql(query, con=db)\n",
        "sql_df"
      ],
      "execution_count": 0,
      "outputs": [
        {
          "output_type": "execute_result",
          "data": {
            "text/html": [
              "<div>\n",
              "<style scoped>\n",
              "    .dataframe tbody tr th:only-of-type {\n",
              "        vertical-align: middle;\n",
              "    }\n",
              "\n",
              "    .dataframe tbody tr th {\n",
              "        vertical-align: top;\n",
              "    }\n",
              "\n",
              "    .dataframe thead th {\n",
              "        text-align: right;\n",
              "    }\n",
              "</style>\n",
              "<table border=\"1\" class=\"dataframe\">\n",
              "  <thead>\n",
              "    <tr style=\"text-align: right;\">\n",
              "      <th></th>\n",
              "      <th>team</th>\n",
              "      <th>avg_Passes</th>\n",
              "    </tr>\n",
              "  </thead>\n",
              "  <tbody>\n",
              "    <tr>\n",
              "      <th>0</th>\n",
              "      <td>Spain</td>\n",
              "      <td>213.000000</td>\n",
              "    </tr>\n",
              "    <tr>\n",
              "      <th>1</th>\n",
              "      <td>Brazil</td>\n",
              "      <td>190.000000</td>\n",
              "    </tr>\n",
              "    <tr>\n",
              "      <th>2</th>\n",
              "      <td>Germany</td>\n",
              "      <td>189.833333</td>\n",
              "    </tr>\n",
              "    <tr>\n",
              "      <th>3</th>\n",
              "      <td>Netherlands</td>\n",
              "      <td>182.500000</td>\n",
              "    </tr>\n",
              "    <tr>\n",
              "      <th>4</th>\n",
              "      <td>Mexico</td>\n",
              "      <td>152.142857</td>\n",
              "    </tr>\n",
              "  </tbody>\n",
              "</table>\n",
              "</div>"
            ],
            "text/plain": [
              "          team  avg_Passes\n",
              "0        Spain  213.000000\n",
              "1       Brazil  190.000000\n",
              "2      Germany  189.833333\n",
              "3  Netherlands  182.500000\n",
              "4       Mexico  152.142857"
            ]
          },
          "metadata": {
            "tags": []
          },
          "execution_count": 46
        }
      ]
    },
    {
      "cell_type": "markdown",
      "metadata": {
        "id": "QWbQ8phy8WUD",
        "colab_type": "text"
      },
      "source": [
        "# <font color = 'green'>Titanic Data</font>"
      ]
    },
    {
      "cell_type": "code",
      "metadata": {
        "id": "Fef539uG8WUE",
        "colab_type": "code",
        "colab": {}
      },
      "source": [
        "# Load table from CSV file\n",
        "import pandas as pd\n",
        "from sqlalchemy import create_engine\n",
        "\n",
        "# create the database\n",
        "db = create_engine('sqlite://', echo=False)\n",
        "\n",
        "# Titanic table\n",
        "csvfile = 'https://raw.githubusercontent.com/michalis0/Business-Intelligence-and-Analytics/master/week6%20-%20SQL2/data/Titanic.csv'\n",
        "df = pd.read_csv(csvfile)\n",
        "table_name = \"Titanic\"\n",
        "df.to_sql(table_name, con=db) # populate it with the data"
      ],
      "execution_count": 0,
      "outputs": []
    },
    {
      "cell_type": "markdown",
      "metadata": {
        "id": "tbJ2MgXT8WUG",
        "colab_type": "text"
      },
      "source": [
        "## Look at sample of Titanic table"
      ]
    },
    {
      "cell_type": "code",
      "metadata": {
        "id": "GpCKkNZR8WUH",
        "colab_type": "code",
        "outputId": "edccc00a-691d-4a94-ed7c-988fc9e6c2ab",
        "colab": {
          "base_uri": "https://localhost:8080/",
          "height": 204
        }
      },
      "source": [
        "query = \"\"\"\n",
        "select * from Titanic \n",
        "\n",
        "\"\"\"\n",
        "sql_df = pd.read_sql(query, con=db)\n",
        "sql_df.head()"
      ],
      "execution_count": 0,
      "outputs": [
        {
          "output_type": "execute_result",
          "data": {
            "text/html": [
              "<div>\n",
              "<style scoped>\n",
              "    .dataframe tbody tr th:only-of-type {\n",
              "        vertical-align: middle;\n",
              "    }\n",
              "\n",
              "    .dataframe tbody tr th {\n",
              "        vertical-align: top;\n",
              "    }\n",
              "\n",
              "    .dataframe thead th {\n",
              "        text-align: right;\n",
              "    }\n",
              "</style>\n",
              "<table border=\"1\" class=\"dataframe\">\n",
              "  <thead>\n",
              "    <tr style=\"text-align: right;\">\n",
              "      <th></th>\n",
              "      <th>index</th>\n",
              "      <th>last</th>\n",
              "      <th>first</th>\n",
              "      <th>gender</th>\n",
              "      <th>age</th>\n",
              "      <th>class</th>\n",
              "      <th>fare</th>\n",
              "      <th>embarked</th>\n",
              "      <th>survived</th>\n",
              "    </tr>\n",
              "  </thead>\n",
              "  <tbody>\n",
              "    <tr>\n",
              "      <th>0</th>\n",
              "      <td>0</td>\n",
              "      <td>Braund</td>\n",
              "      <td>Mr. Owen Harris</td>\n",
              "      <td>M</td>\n",
              "      <td>22.0</td>\n",
              "      <td>3</td>\n",
              "      <td>7.2500</td>\n",
              "      <td>Southampton</td>\n",
              "      <td>no</td>\n",
              "    </tr>\n",
              "    <tr>\n",
              "      <th>1</th>\n",
              "      <td>1</td>\n",
              "      <td>Cumings</td>\n",
              "      <td>Mrs. John Bradley (Florence Briggs Thayer)</td>\n",
              "      <td>F</td>\n",
              "      <td>38.0</td>\n",
              "      <td>1</td>\n",
              "      <td>71.2833</td>\n",
              "      <td>Cherbourg</td>\n",
              "      <td>yes</td>\n",
              "    </tr>\n",
              "    <tr>\n",
              "      <th>2</th>\n",
              "      <td>2</td>\n",
              "      <td>Heikkinen</td>\n",
              "      <td>Miss Laina</td>\n",
              "      <td>F</td>\n",
              "      <td>26.0</td>\n",
              "      <td>3</td>\n",
              "      <td>7.9250</td>\n",
              "      <td>Southampton</td>\n",
              "      <td>yes</td>\n",
              "    </tr>\n",
              "    <tr>\n",
              "      <th>3</th>\n",
              "      <td>3</td>\n",
              "      <td>Futrelle</td>\n",
              "      <td>Mrs. Jacques Heath (Lily May Peel)</td>\n",
              "      <td>F</td>\n",
              "      <td>35.0</td>\n",
              "      <td>1</td>\n",
              "      <td>53.1000</td>\n",
              "      <td>Southampton</td>\n",
              "      <td>yes</td>\n",
              "    </tr>\n",
              "    <tr>\n",
              "      <th>4</th>\n",
              "      <td>4</td>\n",
              "      <td>Allen</td>\n",
              "      <td>Mr. William Henry</td>\n",
              "      <td>M</td>\n",
              "      <td>35.0</td>\n",
              "      <td>3</td>\n",
              "      <td>8.0500</td>\n",
              "      <td>Southampton</td>\n",
              "      <td>no</td>\n",
              "    </tr>\n",
              "  </tbody>\n",
              "</table>\n",
              "</div>"
            ],
            "text/plain": [
              "   index       last  ...     embarked survived\n",
              "0      0     Braund  ...  Southampton       no\n",
              "1      1    Cumings  ...    Cherbourg      yes\n",
              "2      2  Heikkinen  ...  Southampton      yes\n",
              "3      3   Futrelle  ...  Southampton      yes\n",
              "4      4      Allen  ...  Southampton       no\n",
              "\n",
              "[5 rows x 9 columns]"
            ]
          },
          "metadata": {
            "tags": []
          },
          "execution_count": 48
        }
      ]
    },
    {
      "cell_type": "markdown",
      "metadata": {
        "id": "i1uXCjq68WUJ",
        "colab_type": "text"
      },
      "source": [
        "## <font color = 'green'>Titanic Basic Queries</font>"
      ]
    },
    {
      "cell_type": "markdown",
      "metadata": {
        "collapsed": true,
        "id": "OZxzuzCw8WUK",
        "colab_type": "text"
      },
      "source": [
        "## Question 1\n",
        "How many married women over age 50 embarked in Cherbourg? Note: To check if attribute A begins with string S use \"A like 'S%'\"*"
      ]
    },
    {
      "cell_type": "code",
      "metadata": {
        "id": "YkqQht348WUL",
        "colab_type": "code",
        "outputId": "d0d2cf08-bdd1-4842-d8e7-98b06c9b7a0d",
        "colab": {
          "base_uri": "https://localhost:8080/",
          "height": 80
        }
      },
      "source": [
        "query = \"\"\"\n",
        "\n",
        "select count(*) from Titanic where Titanic.gender == 'F' \n",
        "AND Titanic.embarked like 'Cherbourg%'\n",
        "AND Titanic.age > 50\n",
        "\n",
        "\"\"\"\n",
        "sql_df = pd.read_sql(query, con=db)\n",
        "sql_df"
      ],
      "execution_count": 0,
      "outputs": [
        {
          "output_type": "execute_result",
          "data": {
            "text/html": [
              "<div>\n",
              "<style scoped>\n",
              "    .dataframe tbody tr th:only-of-type {\n",
              "        vertical-align: middle;\n",
              "    }\n",
              "\n",
              "    .dataframe tbody tr th {\n",
              "        vertical-align: top;\n",
              "    }\n",
              "\n",
              "    .dataframe thead th {\n",
              "        text-align: right;\n",
              "    }\n",
              "</style>\n",
              "<table border=\"1\" class=\"dataframe\">\n",
              "  <thead>\n",
              "    <tr style=\"text-align: right;\">\n",
              "      <th></th>\n",
              "      <th>count(*)</th>\n",
              "    </tr>\n",
              "  </thead>\n",
              "  <tbody>\n",
              "    <tr>\n",
              "      <th>0</th>\n",
              "      <td>6</td>\n",
              "    </tr>\n",
              "  </tbody>\n",
              "</table>\n",
              "</div>"
            ],
            "text/plain": [
              "   count(*)\n",
              "0         6"
            ]
          },
          "metadata": {
            "tags": []
          },
          "execution_count": 49
        }
      ]
    },
    {
      "cell_type": "markdown",
      "metadata": {
        "id": "gggYs97FK-z6",
        "colab_type": "text"
      },
      "source": [
        "## Question 2.1\n",
        "Create a boxplot the fare paid by passengers in each of the embarkation cities."
      ]
    },
    {
      "cell_type": "code",
      "metadata": {
        "id": "qzlv-xSkLF67",
        "colab_type": "code",
        "outputId": "cd661aa0-ff09-476b-8d5c-cb98018055ed",
        "colab": {
          "base_uri": "https://localhost:8080/",
          "height": 279
        }
      },
      "source": [
        "#use seaborn\n",
        "query = \"\"\"\n",
        "select * from Titanic \n",
        "\n",
        "\"\"\"\n",
        "sql_df = pd.read_sql(query, con=db)\n",
        "sql_df.head()\n",
        "\n",
        "ax = sns.boxplot(x=\"fare\", y=\"embarked\", data=sql_df)"
      ],
      "execution_count": 0,
      "outputs": [
        {
          "output_type": "display_data",
          "data": {
            "image/png": "[encoded data removed]",
            "text/plain": [
              "<Figure size 432x288 with 1 Axes>"
            ]
          },
          "metadata": {
            "tags": []
          }
        }
      ]
    },
    {
      "cell_type": "markdown",
      "metadata": {
        "collapsed": true,
        "id": "uSB3G2dg8WUQ",
        "colab_type": "text"
      },
      "source": [
        "## Question 2.2 \n",
        "List the average fare paid by passengers in each of the embarkation cities (along with the city), in descending order of average fare.*"
      ]
    },
    {
      "cell_type": "code",
      "metadata": {
        "id": "31-xalVn8WUR",
        "colab_type": "code",
        "outputId": "6dce797e-88bf-45f8-9648-cd1d6b501051",
        "colab": {
          "base_uri": "https://localhost:8080/",
          "height": 142
        }
      },
      "source": [
        "query = \"\"\"\n",
        "\n",
        "select t.embarked, round(AVG(fare),2) as mean from Titanic as T\n",
        "group by t.embarked\n",
        "order by mean desc\n",
        "\n",
        "\"\"\"\n",
        "sql_df = pd.read_sql(query, con=db)\n",
        "sql_df"
      ],
      "execution_count": 0,
      "outputs": [
        {
          "output_type": "execute_result",
          "data": {
            "text/html": [
              "<div>\n",
              "<style scoped>\n",
              "    .dataframe tbody tr th:only-of-type {\n",
              "        vertical-align: middle;\n",
              "    }\n",
              "\n",
              "    .dataframe tbody tr th {\n",
              "        vertical-align: top;\n",
              "    }\n",
              "\n",
              "    .dataframe thead th {\n",
              "        text-align: right;\n",
              "    }\n",
              "</style>\n",
              "<table border=\"1\" class=\"dataframe\">\n",
              "  <thead>\n",
              "    <tr style=\"text-align: right;\">\n",
              "      <th></th>\n",
              "      <th>embarked</th>\n",
              "      <th>mean</th>\n",
              "    </tr>\n",
              "  </thead>\n",
              "  <tbody>\n",
              "    <tr>\n",
              "      <th>0</th>\n",
              "      <td>Cherbourg</td>\n",
              "      <td>59.95</td>\n",
              "    </tr>\n",
              "    <tr>\n",
              "      <th>1</th>\n",
              "      <td>Southampton</td>\n",
              "      <td>27.24</td>\n",
              "    </tr>\n",
              "    <tr>\n",
              "      <th>2</th>\n",
              "      <td>Queenstown</td>\n",
              "      <td>13.28</td>\n",
              "    </tr>\n",
              "  </tbody>\n",
              "</table>\n",
              "</div>"
            ],
            "text/plain": [
              "      embarked   mean\n",
              "0    Cherbourg  59.95\n",
              "1  Southampton  27.24\n",
              "2   Queenstown  13.28"
            ]
          },
          "metadata": {
            "tags": []
          },
          "execution_count": 51
        }
      ]
    },
    {
      "cell_type": "markdown",
      "metadata": {
        "collapsed": true,
        "id": "rEL4ECjg8WUV",
        "colab_type": "text"
      },
      "source": [
        "## Question 3.1 \n",
        "What's the most common last name among passengers?*"
      ]
    },
    {
      "cell_type": "code",
      "metadata": {
        "id": "T4r9akbA8WUX",
        "colab_type": "code",
        "outputId": "71ba5d8b-08aa-4f1b-b4c8-47c2b5e210ef",
        "colab": {
          "base_uri": "https://localhost:8080/",
          "height": 204
        }
      },
      "source": [
        "query = \"\"\"\n",
        "\n",
        "select last, count(last) as total \n",
        "from Titanic \n",
        "group by last \n",
        "order by count(last) desc \n",
        "limit 5\n",
        "\n",
        "\"\"\"\n",
        "sql_df = pd.read_sql(query, con=db)\n",
        "sql_df"
      ],
      "execution_count": 0,
      "outputs": [
        {
          "output_type": "execute_result",
          "data": {
            "text/html": [
              "<div>\n",
              "<style scoped>\n",
              "    .dataframe tbody tr th:only-of-type {\n",
              "        vertical-align: middle;\n",
              "    }\n",
              "\n",
              "    .dataframe tbody tr th {\n",
              "        vertical-align: top;\n",
              "    }\n",
              "\n",
              "    .dataframe thead th {\n",
              "        text-align: right;\n",
              "    }\n",
              "</style>\n",
              "<table border=\"1\" class=\"dataframe\">\n",
              "  <thead>\n",
              "    <tr style=\"text-align: right;\">\n",
              "      <th></th>\n",
              "      <th>last</th>\n",
              "      <th>total</th>\n",
              "    </tr>\n",
              "  </thead>\n",
              "  <tbody>\n",
              "    <tr>\n",
              "      <th>0</th>\n",
              "      <td>Andersson</td>\n",
              "      <td>9</td>\n",
              "    </tr>\n",
              "    <tr>\n",
              "      <th>1</th>\n",
              "      <td>Sage</td>\n",
              "      <td>7</td>\n",
              "    </tr>\n",
              "    <tr>\n",
              "      <th>2</th>\n",
              "      <td>Carter</td>\n",
              "      <td>6</td>\n",
              "    </tr>\n",
              "    <tr>\n",
              "      <th>3</th>\n",
              "      <td>Goodwin</td>\n",
              "      <td>6</td>\n",
              "    </tr>\n",
              "    <tr>\n",
              "      <th>4</th>\n",
              "      <td>Johnson</td>\n",
              "      <td>6</td>\n",
              "    </tr>\n",
              "  </tbody>\n",
              "</table>\n",
              "</div>"
            ],
            "text/plain": [
              "        last  total\n",
              "0  Andersson      9\n",
              "1       Sage      7\n",
              "2     Carter      6\n",
              "3    Goodwin      6\n",
              "4    Johnson      6"
            ]
          },
          "metadata": {
            "tags": []
          },
          "execution_count": 52
        }
      ]
    },
    {
      "cell_type": "markdown",
      "metadata": {
        "id": "DsihVRSdLO4G",
        "colab_type": "text"
      },
      "source": [
        "## Question 3.2 \n",
        "Use barplot to visualize and order the previous data."
      ]
    },
    {
      "cell_type": "code",
      "metadata": {
        "id": "bPL9bsV4LSE_",
        "colab_type": "code",
        "outputId": "05bdcfd1-9ae2-4399-a37c-ec30ef86b93e",
        "colab": {
          "base_uri": "https://localhost:8080/",
          "height": 279
        }
      },
      "source": [
        "#you can use seaborn or matplolib\n",
        "ax = sns.barplot(x=\"last\", y=\"total\", data=sql_df, palette=\"Blues_d\")\n",
        "plt.show() "
      ],
      "execution_count": 0,
      "outputs": [
        {
          "output_type": "display_data",
          "data": {
            "image/png": "[encoded data removed]",
            "text/plain": [
              "<Figure size 432x288 with 1 Axes>"
            ]
          },
          "metadata": {
            "tags": []
          }
        }
      ]
    },
    {
      "cell_type": "markdown",
      "metadata": {
        "collapsed": true,
        "id": "OqIfsDiu8WUa",
        "colab_type": "text"
      },
      "source": [
        "## Question 3.3 \n",
        "Write three queries: the total number of passengers; the number of passengers under 30; the number of passengers 30 or older. Why do the second and third numbers not add up to the first?*"
      ]
    },
    {
      "cell_type": "code",
      "metadata": {
        "id": "mc-KOeLo8WUb",
        "colab_type": "code",
        "outputId": "f35f8655-f6b5-447b-acb4-7ba154d5d25a",
        "colab": {
          "base_uri": "https://localhost:8080/",
          "height": 80
        }
      },
      "source": [
        "query = \"\"\"\n",
        "select count(*) as total_number \n",
        "from Titanic\n",
        "\n",
        "\"\"\"\n",
        "sql_df = pd.read_sql(query, con=db)\n",
        "sql_df"
      ],
      "execution_count": 0,
      "outputs": [
        {
          "output_type": "execute_result",
          "data": {
            "text/html": [
              "<div>\n",
              "<style scoped>\n",
              "    .dataframe tbody tr th:only-of-type {\n",
              "        vertical-align: middle;\n",
              "    }\n",
              "\n",
              "    .dataframe tbody tr th {\n",
              "        vertical-align: top;\n",
              "    }\n",
              "\n",
              "    .dataframe thead th {\n",
              "        text-align: right;\n",
              "    }\n",
              "</style>\n",
              "<table border=\"1\" class=\"dataframe\">\n",
              "  <thead>\n",
              "    <tr style=\"text-align: right;\">\n",
              "      <th></th>\n",
              "      <th>total_number</th>\n",
              "    </tr>\n",
              "  </thead>\n",
              "  <tbody>\n",
              "    <tr>\n",
              "      <th>0</th>\n",
              "      <td>891</td>\n",
              "    </tr>\n",
              "  </tbody>\n",
              "</table>\n",
              "</div>"
            ],
            "text/plain": [
              "   total_number\n",
              "0           891"
            ]
          },
          "metadata": {
            "tags": []
          },
          "execution_count": 54
        }
      ]
    },
    {
      "cell_type": "code",
      "metadata": {
        "id": "n_UtmFrl8WUe",
        "colab_type": "code",
        "outputId": "9190bc1d-4871-4f17-bae1-d771463a031d",
        "colab": {
          "base_uri": "https://localhost:8080/",
          "height": 80
        }
      },
      "source": [
        "query = \"\"\"\n",
        "\n",
        "select count(*) as total_number_u30 \n",
        "from Titanic \n",
        "where age<30\n",
        "\n",
        "\"\"\"\n",
        "sql_df = pd.read_sql(query, con=db)\n",
        "sql_df"
      ],
      "execution_count": 0,
      "outputs": [
        {
          "output_type": "execute_result",
          "data": {
            "text/html": [
              "<div>\n",
              "<style scoped>\n",
              "    .dataframe tbody tr th:only-of-type {\n",
              "        vertical-align: middle;\n",
              "    }\n",
              "\n",
              "    .dataframe tbody tr th {\n",
              "        vertical-align: top;\n",
              "    }\n",
              "\n",
              "    .dataframe thead th {\n",
              "        text-align: right;\n",
              "    }\n",
              "</style>\n",
              "<table border=\"1\" class=\"dataframe\">\n",
              "  <thead>\n",
              "    <tr style=\"text-align: right;\">\n",
              "      <th></th>\n",
              "      <th>total_number_u30</th>\n",
              "    </tr>\n",
              "  </thead>\n",
              "  <tbody>\n",
              "    <tr>\n",
              "      <th>0</th>\n",
              "      <td>384</td>\n",
              "    </tr>\n",
              "  </tbody>\n",
              "</table>\n",
              "</div>"
            ],
            "text/plain": [
              "   total_number_u30\n",
              "0               384"
            ]
          },
          "metadata": {
            "tags": []
          },
          "execution_count": 55
        }
      ]
    },
    {
      "cell_type": "code",
      "metadata": {
        "id": "1SUbq9q98WUj",
        "colab_type": "code",
        "outputId": "7a0fff60-8bd3-4631-c2e2-165a56a21716",
        "colab": {
          "base_uri": "https://localhost:8080/",
          "height": 80
        }
      },
      "source": [
        "query = \"\"\"\n",
        "\n",
        "select count(*) as total_number_a30 \n",
        "from Titanic \n",
        "where age>=30\n",
        "\n",
        "\"\"\"\n",
        "sql_df = pd.read_sql(query, con=db)\n",
        "sql_df"
      ],
      "execution_count": 0,
      "outputs": [
        {
          "output_type": "execute_result",
          "data": {
            "text/html": [
              "<div>\n",
              "<style scoped>\n",
              "    .dataframe tbody tr th:only-of-type {\n",
              "        vertical-align: middle;\n",
              "    }\n",
              "\n",
              "    .dataframe tbody tr th {\n",
              "        vertical-align: top;\n",
              "    }\n",
              "\n",
              "    .dataframe thead th {\n",
              "        text-align: right;\n",
              "    }\n",
              "</style>\n",
              "<table border=\"1\" class=\"dataframe\">\n",
              "  <thead>\n",
              "    <tr style=\"text-align: right;\">\n",
              "      <th></th>\n",
              "      <th>total_number_a30</th>\n",
              "    </tr>\n",
              "  </thead>\n",
              "  <tbody>\n",
              "    <tr>\n",
              "      <th>0</th>\n",
              "      <td>330</td>\n",
              "    </tr>\n",
              "  </tbody>\n",
              "</table>\n",
              "</div>"
            ],
            "text/plain": [
              "   total_number_a30\n",
              "0               330"
            ]
          },
          "metadata": {
            "tags": []
          },
          "execution_count": 56
        }
      ]
    },
    {
      "cell_type": "markdown",
      "metadata": {
        "collapsed": true,
        "id": "oGoJIsqS8WUm",
        "colab_type": "text"
      },
      "source": [
        "## Question 5 \n",
        "Blanks in SQL tables are given a special value called 'null', and conditions 'A is null' and 'A is not null' can be used in Where clauses to check whether attribute A has the 'null' value. How many passengers don't have a value for age? Now do your numbers add up?*"
      ]
    },
    {
      "cell_type": "code",
      "metadata": {
        "id": "yvK_LOoJ8WUm",
        "colab_type": "code",
        "outputId": "6b9904ed-121c-4a4e-e73d-d4d364e6a4f4",
        "colab": {
          "base_uri": "https://localhost:8080/",
          "height": 80
        }
      },
      "source": [
        "query = \"\"\"\n",
        "\n",
        "select count(*) as total_number_null \n",
        "from Titanic \n",
        "where age is null\n",
        "\n",
        "\"\"\"\n",
        "sql_df = pd.read_sql(query, con=db)\n",
        "sql_df"
      ],
      "execution_count": 0,
      "outputs": [
        {
          "output_type": "execute_result",
          "data": {
            "text/html": [
              "<div>\n",
              "<style scoped>\n",
              "    .dataframe tbody tr th:only-of-type {\n",
              "        vertical-align: middle;\n",
              "    }\n",
              "\n",
              "    .dataframe tbody tr th {\n",
              "        vertical-align: top;\n",
              "    }\n",
              "\n",
              "    .dataframe thead th {\n",
              "        text-align: right;\n",
              "    }\n",
              "</style>\n",
              "<table border=\"1\" class=\"dataframe\">\n",
              "  <thead>\n",
              "    <tr style=\"text-align: right;\">\n",
              "      <th></th>\n",
              "      <th>total_number_null</th>\n",
              "    </tr>\n",
              "  </thead>\n",
              "  <tbody>\n",
              "    <tr>\n",
              "      <th>0</th>\n",
              "      <td>177</td>\n",
              "    </tr>\n",
              "  </tbody>\n",
              "</table>\n",
              "</div>"
            ],
            "text/plain": [
              "   total_number_null\n",
              "0                177"
            ]
          },
          "metadata": {
            "tags": []
          },
          "execution_count": 57
        }
      ]
    },
    {
      "cell_type": "markdown",
      "metadata": {
        "collapsed": true,
        "id": "-Xj20xpl8WUq",
        "colab_type": "text"
      },
      "source": [
        "## Question 6 \n",
        "For male survivors, female survivors, male non-survivors, and female non-survivors, how many passengers were in each of those four categories and what was their average fare paid?*"
      ]
    },
    {
      "cell_type": "code",
      "metadata": {
        "id": "mUnjnnH28WUt",
        "colab_type": "code",
        "outputId": "57a60ede-e451-4494-bb8a-80cc5b59d929",
        "colab": {
          "base_uri": "https://localhost:8080/",
          "height": 173
        }
      },
      "source": [
        "query = \"\"\"\n",
        "\n",
        "select \n",
        " case \n",
        "    when (gender like 'M' and survived like 'yes') then 'male survivors'\n",
        "    when (gender like 'M' and survived like 'no') then 'male non-survivors'\n",
        "    when (gender like 'F' and survived like 'no') then 'female non-survivors'\n",
        "    when (gender like 'F' and survived like 'yes') then 'female survivors'\n",
        "  end as status,\n",
        "  count (*) as total_passenger, round(AVG(fare),2) as mean_fare\n",
        "from Titanic\n",
        "group by status\n",
        "order by mean_fare desc\n",
        "\n",
        "\"\"\"\n",
        "sql_df = pd.read_sql(query, con=db)\n",
        "sql_df"
      ],
      "execution_count": 0,
      "outputs": [
        {
          "output_type": "execute_result",
          "data": {
            "text/html": [
              "<div>\n",
              "<style scoped>\n",
              "    .dataframe tbody tr th:only-of-type {\n",
              "        vertical-align: middle;\n",
              "    }\n",
              "\n",
              "    .dataframe tbody tr th {\n",
              "        vertical-align: top;\n",
              "    }\n",
              "\n",
              "    .dataframe thead th {\n",
              "        text-align: right;\n",
              "    }\n",
              "</style>\n",
              "<table border=\"1\" class=\"dataframe\">\n",
              "  <thead>\n",
              "    <tr style=\"text-align: right;\">\n",
              "      <th></th>\n",
              "      <th>status</th>\n",
              "      <th>total_passenger</th>\n",
              "      <th>mean_fare</th>\n",
              "    </tr>\n",
              "  </thead>\n",
              "  <tbody>\n",
              "    <tr>\n",
              "      <th>0</th>\n",
              "      <td>female survivors</td>\n",
              "      <td>233</td>\n",
              "      <td>51.94</td>\n",
              "    </tr>\n",
              "    <tr>\n",
              "      <th>1</th>\n",
              "      <td>male survivors</td>\n",
              "      <td>109</td>\n",
              "      <td>40.82</td>\n",
              "    </tr>\n",
              "    <tr>\n",
              "      <th>2</th>\n",
              "      <td>female non-survivors</td>\n",
              "      <td>81</td>\n",
              "      <td>23.02</td>\n",
              "    </tr>\n",
              "    <tr>\n",
              "      <th>3</th>\n",
              "      <td>male non-survivors</td>\n",
              "      <td>468</td>\n",
              "      <td>21.96</td>\n",
              "    </tr>\n",
              "  </tbody>\n",
              "</table>\n",
              "</div>"
            ],
            "text/plain": [
              "                 status  total_passenger  mean_fare\n",
              "0      female survivors              233      51.94\n",
              "1        male survivors              109      40.82\n",
              "2  female non-survivors               81      23.02\n",
              "3    male non-survivors              468      21.96"
            ]
          },
          "metadata": {
            "tags": []
          },
          "execution_count": 58
        }
      ]
    }
  ]
}