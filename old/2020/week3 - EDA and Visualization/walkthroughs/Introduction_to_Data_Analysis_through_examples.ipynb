{
  "nbformat": 4,
  "nbformat_minor": 0,
  "metadata": {
    "kernel_info": {
      "name": "python3"
    },
    "kernelspec": {
      "name": "python3",
      "language": "python",
      "display_name": "Python 3"
    },
    "language_info": {
      "name": "python",
      "version": "3.7.3",
      "mimetype": "text/x-python",
      "codemirror_mode": {
        "name": "ipython",
        "version": 3
      },
      "pygments_lexer": "ipython3",
      "nbconvert_exporter": "python",
      "file_extension": ".py"
    },
    "nteract": {
      "version": "0.15.0"
    },
    "colab": {
      "name": "Introduction to Data Analysis through examples.ipynb",
      "provenance": [],
      "collapsed_sections": [
        "wkWYJ4bY-5Zu",
        "7UYNUh2b-5aK",
        "lf7oLTE_-5aa",
        "Xj-vBAEp-5ai",
        "Q1U937dQ-5a8",
        "rRTJcYpY-5a_",
        "6LZ2FGqh-5bm",
        "HgohX1UX-5by",
        "CUxu2Sly-5c3",
        "95HST5mx-5dV",
        "prkF-V1B-5da",
        "MCyyF1Cx-5d3",
        "K9XaTlzm-5eC",
        "LMDBFj-2-5eW",
        "jOfSNAr2-5ei",
        "OR_4WTA5-5el"
      ],
      "include_colab_link": true
    }
  },
  "cells": [
    {
      "cell_type": "markdown",
      "metadata": {
        "id": "view-in-github",
        "colab_type": "text"
      },
      "source": [
        "<a href=\"https://colab.research.google.com/github/michalis0/Business-Intelligence-and-Analytics/blob/master/week3%20-%20EDA%20and%20Visualization/walkthroughs/Introduction_to_Data_Analysis_through_examples.ipynb\" target=\"_parent\"><img src=\"https://colab.research.google.com/assets/colab-badge.svg\" alt=\"Open In Colab\"/></a>"
      ]
    },
    {
      "cell_type": "markdown",
      "metadata": {
        "id": "ilaXClLQ-5ZK",
        "colab_type": "text"
      },
      "source": [
        "# Week 3 Introduction to Data Analysis through examples"
      ]
    },
    {
      "cell_type": "markdown",
      "metadata": {
        "id": "_RDPmf8o-5ZN",
        "colab_type": "text"
      },
      "source": [
        "## Setup and preliminaries"
      ]
    },
    {
      "cell_type": "code",
      "metadata": {
        "id": "9QxXCaiT-5ZO",
        "colab_type": "code",
        "colab": {}
      },
      "source": [
        "# Render our plots inline\n",
        "%matplotlib inline\n",
        "%config InlineBackend.figure_format = 'retina'"
      ],
      "execution_count": 0,
      "outputs": []
    },
    {
      "cell_type": "code",
      "metadata": {
        "id": "lt84DIXP-5ZX",
        "colab_type": "code",
        "colab": {}
      },
      "source": [
        "import pandas as pd\n",
        "import numpy as np\n",
        "import matplotlib\n",
        "import matplotlib.pyplot as plt\n",
        "import seaborn as sns"
      ],
      "execution_count": 0,
      "outputs": []
    },
    {
      "cell_type": "markdown",
      "metadata": {
        "id": "nEwKQ3kO-5Zb",
        "colab_type": "text"
      },
      "source": [
        "We type some code to simply change the visual style of the plots. (The code below is optional and not necessary, and for now you do not need to understand what exactly is happening.)"
      ]
    },
    {
      "cell_type": "code",
      "metadata": {
        "id": "z3DPGwYF-5Zc",
        "colab_type": "code",
        "colab": {}
      },
      "source": [
        "# Make the graphs a bit bigger\n",
        "matplotlib.style.use(['seaborn-talk', 'seaborn-ticks', 'seaborn-whitegrid'])"
      ],
      "execution_count": 0,
      "outputs": []
    },
    {
      "cell_type": "markdown",
      "metadata": {
        "id": "ZxonwdxC-5Zs",
        "colab_type": "text"
      },
      "source": [
        "## Restaurant inspection results in NYC"
      ]
    },
    {
      "cell_type": "markdown",
      "metadata": {
        "id": "8xemg-UI-5Zt",
        "colab_type": "text"
      },
      "source": [
        "We will use a dataset with restaurant inspection results in NYC which is stored at `/data/restaurants.csv`.\n"
      ]
    },
    {
      "cell_type": "markdown",
      "metadata": {
        "id": "wkWYJ4bY-5Zu",
        "colab_type": "text"
      },
      "source": [
        "### Reading a CSV file\n",
        "We can directly load csv file from the url with pandas"
      ]
    },
    {
      "cell_type": "code",
      "metadata": {
        "id": "RTcAYHRl-5Zv",
        "colab_type": "code",
        "colab": {}
      },
      "source": [
        "import pandas as pd\n",
        "restaurants = pd.read_csv('https://data.cityofnewyork.us/api/views/43nn-pn8j/rows.csv?accessType=DOWNLOAD', \n",
        "                          encoding='utf_8', \n",
        "                          dtype = 'unicode',\n",
        "                          parse_dates = True,\n",
        "                          infer_datetime_format = True,\n",
        "                          low_memory=False)"
      ],
      "execution_count": 0,
      "outputs": []
    },
    {
      "cell_type": "markdown",
      "metadata": {
        "id": "RHy8uAfc-5Zy",
        "colab_type": "text"
      },
      "source": [
        "Alternatively, you can first download it and then load it from a local directory in your computer(in case you are not using colab)"
      ]
    },
    {
      "cell_type": "markdown",
      "metadata": {
        "id": "24JcKcT5-5aA",
        "colab_type": "text"
      },
      "source": [
        "Let's take a look at the first 5 rows of the dataframe"
      ]
    },
    {
      "cell_type": "code",
      "metadata": {
        "id": "iF0wnULj-5aB",
        "colab_type": "code",
        "outputId": "fede4c38-4daa-4a39-f5c4-adf434736555",
        "colab": {
          "base_uri": "https://localhost:8080/",
          "height": 666
        }
      },
      "source": [
        "restaurants.head(5)"
      ],
      "execution_count": 0,
      "outputs": [
        {
          "output_type": "execute_result",
          "data": {
            "text/html": [
              "<div>\n",
              "<style scoped>\n",
              "    .dataframe tbody tr th:only-of-type {\n",
              "        vertical-align: middle;\n",
              "    }\n",
              "\n",
              "    .dataframe tbody tr th {\n",
              "        vertical-align: top;\n",
              "    }\n",
              "\n",
              "    .dataframe thead th {\n",
              "        text-align: right;\n",
              "    }\n",
              "</style>\n",
              "<table border=\"1\" class=\"dataframe\">\n",
              "  <thead>\n",
              "    <tr style=\"text-align: right;\">\n",
              "      <th></th>\n",
              "      <th>CAMIS</th>\n",
              "      <th>DBA</th>\n",
              "      <th>BORO</th>\n",
              "      <th>BUILDING</th>\n",
              "      <th>STREET</th>\n",
              "      <th>ZIPCODE</th>\n",
              "      <th>PHONE</th>\n",
              "      <th>CUISINE DESCRIPTION</th>\n",
              "      <th>INSPECTION DATE</th>\n",
              "      <th>ACTION</th>\n",
              "      <th>VIOLATION CODE</th>\n",
              "      <th>VIOLATION DESCRIPTION</th>\n",
              "      <th>CRITICAL FLAG</th>\n",
              "      <th>SCORE</th>\n",
              "      <th>GRADE</th>\n",
              "      <th>GRADE DATE</th>\n",
              "      <th>RECORD DATE</th>\n",
              "      <th>INSPECTION TYPE</th>\n",
              "      <th>Latitude</th>\n",
              "      <th>Longitude</th>\n",
              "      <th>Community Board</th>\n",
              "      <th>Council District</th>\n",
              "      <th>Census Tract</th>\n",
              "      <th>BIN</th>\n",
              "      <th>BBL</th>\n",
              "      <th>NTA</th>\n",
              "    </tr>\n",
              "  </thead>\n",
              "  <tbody>\n",
              "    <tr>\n",
              "      <th>0</th>\n",
              "      <td>40372631</td>\n",
              "      <td>YANKEE JZ PIZZA</td>\n",
              "      <td>Bronx</td>\n",
              "      <td>1599</td>\n",
              "      <td>WESTCHESTER AVENUE</td>\n",
              "      <td>10472</td>\n",
              "      <td>7183284349</td>\n",
              "      <td>Pizza</td>\n",
              "      <td>03/06/2018</td>\n",
              "      <td>Violations were cited in the following area(s).</td>\n",
              "      <td>10F</td>\n",
              "      <td>Non-food contact surface improperly constructe...</td>\n",
              "      <td>N</td>\n",
              "      <td>17</td>\n",
              "      <td>B</td>\n",
              "      <td>03/06/2018</td>\n",
              "      <td>03/02/2020</td>\n",
              "      <td>Cycle Inspection / Re-inspection</td>\n",
              "      <td>40.829178325164</td>\n",
              "      <td>-73.87570682252</td>\n",
              "      <td>209</td>\n",
              "      <td>18</td>\n",
              "      <td>005400</td>\n",
              "      <td>2025317</td>\n",
              "      <td>2037760001</td>\n",
              "      <td>BX08</td>\n",
              "    </tr>\n",
              "    <tr>\n",
              "      <th>1</th>\n",
              "      <td>40868400</td>\n",
              "      <td>ARIANA KEBAB HOUSE</td>\n",
              "      <td>Manhattan</td>\n",
              "      <td>787</td>\n",
              "      <td>9 AVENUE</td>\n",
              "      <td>10019</td>\n",
              "      <td>2122622323</td>\n",
              "      <td>Afghan</td>\n",
              "      <td>08/20/2019</td>\n",
              "      <td>Violations were cited in the following area(s).</td>\n",
              "      <td>10B</td>\n",
              "      <td>Plumbing not properly installed or maintained;...</td>\n",
              "      <td>N</td>\n",
              "      <td>5</td>\n",
              "      <td>A</td>\n",
              "      <td>08/20/2019</td>\n",
              "      <td>03/02/2020</td>\n",
              "      <td>Cycle Inspection / Initial Inspection</td>\n",
              "      <td>40.764993098016</td>\n",
              "      <td>-73.987855987299</td>\n",
              "      <td>104</td>\n",
              "      <td>03</td>\n",
              "      <td>013300</td>\n",
              "      <td>1082418</td>\n",
              "      <td>1010620032</td>\n",
              "      <td>MN15</td>\n",
              "    </tr>\n",
              "    <tr>\n",
              "      <th>2</th>\n",
              "      <td>50064218</td>\n",
              "      <td>TAP NYC</td>\n",
              "      <td>Manhattan</td>\n",
              "      <td>267</td>\n",
              "      <td>COLUMBUS AVE</td>\n",
              "      <td>10023</td>\n",
              "      <td>9175957012</td>\n",
              "      <td>Café/Coffee/Tea</td>\n",
              "      <td>10/10/2018</td>\n",
              "      <td>Violations were cited in the following area(s).</td>\n",
              "      <td>08C</td>\n",
              "      <td>Pesticide use not in accordance with label or ...</td>\n",
              "      <td>N</td>\n",
              "      <td>20</td>\n",
              "      <td>NaN</td>\n",
              "      <td>NaN</td>\n",
              "      <td>03/02/2020</td>\n",
              "      <td>Cycle Inspection / Initial Inspection</td>\n",
              "      <td>40.77771642487</td>\n",
              "      <td>-73.978556145725</td>\n",
              "      <td>107</td>\n",
              "      <td>06</td>\n",
              "      <td>015700</td>\n",
              "      <td>1028631</td>\n",
              "      <td>1011250001</td>\n",
              "      <td>MN14</td>\n",
              "    </tr>\n",
              "    <tr>\n",
              "      <th>3</th>\n",
              "      <td>40571528</td>\n",
              "      <td>GEORGES RESTAURANT</td>\n",
              "      <td>Brooklyn</td>\n",
              "      <td>5701</td>\n",
              "      <td>5 AVENUE</td>\n",
              "      <td>11220</td>\n",
              "      <td>7184391403</td>\n",
              "      <td>American</td>\n",
              "      <td>06/08/2017</td>\n",
              "      <td>Violations were cited in the following area(s).</td>\n",
              "      <td>10F</td>\n",
              "      <td>Non-food contact surface improperly constructe...</td>\n",
              "      <td>N</td>\n",
              "      <td>7</td>\n",
              "      <td>A</td>\n",
              "      <td>06/08/2017</td>\n",
              "      <td>03/02/2020</td>\n",
              "      <td>Cycle Inspection / Initial Inspection</td>\n",
              "      <td>40.641088397474</td>\n",
              "      <td>-74.014474306129</td>\n",
              "      <td>307</td>\n",
              "      <td>38</td>\n",
              "      <td>010200</td>\n",
              "      <td>3015722</td>\n",
              "      <td>3008480008</td>\n",
              "      <td>BK34</td>\n",
              "    </tr>\n",
              "    <tr>\n",
              "      <th>4</th>\n",
              "      <td>50071397</td>\n",
              "      <td>Q &amp; I BAKERY</td>\n",
              "      <td>Brooklyn</td>\n",
              "      <td>6516</td>\n",
              "      <td>11TH AVE</td>\n",
              "      <td>11219</td>\n",
              "      <td>7182382638</td>\n",
              "      <td>Bakery</td>\n",
              "      <td>04/15/2019</td>\n",
              "      <td>Violations were cited in the following area(s).</td>\n",
              "      <td>06C</td>\n",
              "      <td>Food not protected from potential source of co...</td>\n",
              "      <td>Y</td>\n",
              "      <td>22</td>\n",
              "      <td>NaN</td>\n",
              "      <td>NaN</td>\n",
              "      <td>03/02/2020</td>\n",
              "      <td>Cycle Inspection / Initial Inspection</td>\n",
              "      <td>40.628482363808</td>\n",
              "      <td>-74.006099166977</td>\n",
              "      <td>310</td>\n",
              "      <td>38</td>\n",
              "      <td>021200</td>\n",
              "      <td>3142182</td>\n",
              "      <td>3057510045</td>\n",
              "      <td>BK30</td>\n",
              "    </tr>\n",
              "  </tbody>\n",
              "</table>\n",
              "</div>"
            ],
            "text/plain": [
              "      CAMIS                 DBA       BORO  ...      BIN         BBL   NTA\n",
              "0  40372631     YANKEE JZ PIZZA      Bronx  ...  2025317  2037760001  BX08\n",
              "1  40868400  ARIANA KEBAB HOUSE  Manhattan  ...  1082418  1010620032  MN15\n",
              "2  50064218             TAP NYC  Manhattan  ...  1028631  1011250001  MN14\n",
              "3  40571528  GEORGES RESTAURANT   Brooklyn  ...  3015722  3008480008  BK34\n",
              "4  50071397        Q & I BAKERY   Brooklyn  ...  3142182  3057510045  BK30\n",
              "\n",
              "[5 rows x 26 columns]"
            ]
          },
          "metadata": {
            "tags": []
          },
          "execution_count": 5
        }
      ]
    },
    {
      "cell_type": "markdown",
      "metadata": {
        "id": "CcJgowz_-5aJ",
        "colab_type": "text"
      },
      "source": [
        "The read_csv method has many options, and you can read further in the [online documentation](http://pandas.pydata.org/pandas-docs/stable/generated/pandas.io.parsers.read_csv.html)."
      ]
    },
    {
      "cell_type": "markdown",
      "metadata": {
        "id": "7UYNUh2b-5aK",
        "colab_type": "text"
      },
      "source": [
        "### Descriptive statistics\n",
        "\n",
        "We can use the method \"describe()\" to get a quick overview of the data in the dataframe."
      ]
    },
    {
      "cell_type": "code",
      "metadata": {
        "id": "v_J9CkuV-5aL",
        "colab_type": "code",
        "outputId": "7d8c1556-cdb7-49bd-bd10-6af4b6bc0fc9",
        "colab": {
          "base_uri": "https://localhost:8080/",
          "height": 295
        }
      },
      "source": [
        "restaurants.describe()"
      ],
      "execution_count": 0,
      "outputs": [
        {
          "output_type": "execute_result",
          "data": {
            "text/html": [
              "<div>\n",
              "<style scoped>\n",
              "    .dataframe tbody tr th:only-of-type {\n",
              "        vertical-align: middle;\n",
              "    }\n",
              "\n",
              "    .dataframe tbody tr th {\n",
              "        vertical-align: top;\n",
              "    }\n",
              "\n",
              "    .dataframe thead th {\n",
              "        text-align: right;\n",
              "    }\n",
              "</style>\n",
              "<table border=\"1\" class=\"dataframe\">\n",
              "  <thead>\n",
              "    <tr style=\"text-align: right;\">\n",
              "      <th></th>\n",
              "      <th>CAMIS</th>\n",
              "      <th>DBA</th>\n",
              "      <th>BORO</th>\n",
              "      <th>BUILDING</th>\n",
              "      <th>STREET</th>\n",
              "      <th>ZIPCODE</th>\n",
              "      <th>PHONE</th>\n",
              "      <th>CUISINE DESCRIPTION</th>\n",
              "      <th>INSPECTION DATE</th>\n",
              "      <th>ACTION</th>\n",
              "      <th>VIOLATION CODE</th>\n",
              "      <th>VIOLATION DESCRIPTION</th>\n",
              "      <th>CRITICAL FLAG</th>\n",
              "      <th>SCORE</th>\n",
              "      <th>GRADE</th>\n",
              "      <th>GRADE DATE</th>\n",
              "      <th>RECORD DATE</th>\n",
              "      <th>INSPECTION TYPE</th>\n",
              "      <th>Latitude</th>\n",
              "      <th>Longitude</th>\n",
              "      <th>Community Board</th>\n",
              "      <th>Council District</th>\n",
              "      <th>Census Tract</th>\n",
              "      <th>BIN</th>\n",
              "      <th>BBL</th>\n",
              "      <th>NTA</th>\n",
              "    </tr>\n",
              "  </thead>\n",
              "  <tbody>\n",
              "    <tr>\n",
              "      <th>count</th>\n",
              "      <td>401346</td>\n",
              "      <td>400983</td>\n",
              "      <td>401346</td>\n",
              "      <td>401085</td>\n",
              "      <td>401345</td>\n",
              "      <td>395860</td>\n",
              "      <td>401329</td>\n",
              "      <td>401346</td>\n",
              "      <td>401346</td>\n",
              "      <td>400038</td>\n",
              "      <td>395754</td>\n",
              "      <td>392367</td>\n",
              "      <td>392367</td>\n",
              "      <td>384517</td>\n",
              "      <td>203231</td>\n",
              "      <td>200632</td>\n",
              "      <td>401346</td>\n",
              "      <td>400038</td>\n",
              "      <td>400932</td>\n",
              "      <td>400932</td>\n",
              "      <td>395447</td>\n",
              "      <td>395459</td>\n",
              "      <td>395459</td>\n",
              "      <td>393708</td>\n",
              "      <td>400932</td>\n",
              "      <td>395447</td>\n",
              "    </tr>\n",
              "    <tr>\n",
              "      <th>unique</th>\n",
              "      <td>27253</td>\n",
              "      <td>21595</td>\n",
              "      <td>6</td>\n",
              "      <td>7301</td>\n",
              "      <td>3235</td>\n",
              "      <td>227</td>\n",
              "      <td>25499</td>\n",
              "      <td>84</td>\n",
              "      <td>1341</td>\n",
              "      <td>5</td>\n",
              "      <td>104</td>\n",
              "      <td>89</td>\n",
              "      <td>2</td>\n",
              "      <td>136</td>\n",
              "      <td>7</td>\n",
              "      <td>1271</td>\n",
              "      <td>1</td>\n",
              "      <td>31</td>\n",
              "      <td>22654</td>\n",
              "      <td>22654</td>\n",
              "      <td>69</td>\n",
              "      <td>51</td>\n",
              "      <td>1184</td>\n",
              "      <td>19697</td>\n",
              "      <td>19398</td>\n",
              "      <td>193</td>\n",
              "    </tr>\n",
              "    <tr>\n",
              "      <th>top</th>\n",
              "      <td>50018552</td>\n",
              "      <td>DUNKIN'</td>\n",
              "      <td>Manhattan</td>\n",
              "      <td>1</td>\n",
              "      <td>BROADWAY</td>\n",
              "      <td>10003</td>\n",
              "      <td>7185958100</td>\n",
              "      <td>American</td>\n",
              "      <td>01/01/1900</td>\n",
              "      <td>Violations were cited in the following area(s).</td>\n",
              "      <td>10F</td>\n",
              "      <td>Non-food contact surface improperly constructe...</td>\n",
              "      <td>Y</td>\n",
              "      <td>12</td>\n",
              "      <td>A</td>\n",
              "      <td>06/13/2019</td>\n",
              "      <td>03/02/2020</td>\n",
              "      <td>Cycle Inspection / Initial Inspection</td>\n",
              "      <td>0</td>\n",
              "      <td>0</td>\n",
              "      <td>105</td>\n",
              "      <td>03</td>\n",
              "      <td>006500</td>\n",
              "      <td>4000000</td>\n",
              "      <td>1</td>\n",
              "      <td>MN17</td>\n",
              "    </tr>\n",
              "    <tr>\n",
              "      <th>freq</th>\n",
              "      <td>98</td>\n",
              "      <td>4154</td>\n",
              "      <td>158004</td>\n",
              "      <td>2292</td>\n",
              "      <td>14482</td>\n",
              "      <td>10322</td>\n",
              "      <td>274</td>\n",
              "      <td>83759</td>\n",
              "      <td>1308</td>\n",
              "      <td>375202</td>\n",
              "      <td>57211</td>\n",
              "      <td>57211</td>\n",
              "      <td>219195</td>\n",
              "      <td>41893</td>\n",
              "      <td>159952</td>\n",
              "      <td>501</td>\n",
              "      <td>401346</td>\n",
              "      <td>234472</td>\n",
              "      <td>5485</td>\n",
              "      <td>5485</td>\n",
              "      <td>32474</td>\n",
              "      <td>35309</td>\n",
              "      <td>3279</td>\n",
              "      <td>2447</td>\n",
              "      <td>3112</td>\n",
              "      <td>23858</td>\n",
              "    </tr>\n",
              "  </tbody>\n",
              "</table>\n",
              "</div>"
            ],
            "text/plain": [
              "           CAMIS      DBA       BORO  ...      BIN     BBL     NTA\n",
              "count     401346   400983     401346  ...   393708  400932  395447\n",
              "unique     27253    21595          6  ...    19697   19398     193\n",
              "top     50018552  DUNKIN'  Manhattan  ...  4000000       1    MN17\n",
              "freq          98     4154     158004  ...     2447    3112   23858\n",
              "\n",
              "[4 rows x 26 columns]"
            ]
          },
          "metadata": {
            "tags": []
          },
          "execution_count": 6
        }
      ]
    },
    {
      "cell_type": "markdown",
      "metadata": {
        "id": "maPaWtxJ-5aP",
        "colab_type": "text"
      },
      "source": [
        "We can also check the data types for each column"
      ]
    },
    {
      "cell_type": "code",
      "metadata": {
        "id": "HejzO_j_-5aQ",
        "colab_type": "code",
        "outputId": "dae166ce-63f4-408b-908b-84cb8f990803",
        "colab": {
          "base_uri": "https://localhost:8080/",
          "height": 476
        }
      },
      "source": [
        "restaurants.dtypes"
      ],
      "execution_count": 0,
      "outputs": [
        {
          "output_type": "execute_result",
          "data": {
            "text/plain": [
              "CAMIS                    object\n",
              "DBA                      object\n",
              "BORO                     object\n",
              "BUILDING                 object\n",
              "STREET                   object\n",
              "ZIPCODE                  object\n",
              "PHONE                    object\n",
              "CUISINE DESCRIPTION      object\n",
              "INSPECTION DATE          object\n",
              "ACTION                   object\n",
              "VIOLATION CODE           object\n",
              "VIOLATION DESCRIPTION    object\n",
              "CRITICAL FLAG            object\n",
              "SCORE                    object\n",
              "GRADE                    object\n",
              "GRADE DATE               object\n",
              "RECORD DATE              object\n",
              "INSPECTION TYPE          object\n",
              "Latitude                 object\n",
              "Longitude                object\n",
              "Community Board          object\n",
              "Council District         object\n",
              "Census Tract             object\n",
              "BIN                      object\n",
              "BBL                      object\n",
              "NTA                      object\n",
              "dtype: object"
            ]
          },
          "metadata": {
            "tags": []
          },
          "execution_count": 7
        }
      ]
    },
    {
      "cell_type": "markdown",
      "metadata": {
        "id": "ALgf83UJ-5aU",
        "colab_type": "text"
      },
      "source": [
        "The `object` type is a string. For many of these, we would like to change the data types for a few columns, using the `pd.to_numeric` and `pd.to_datetime` functions. We examine how to convert data types below."
      ]
    },
    {
      "cell_type": "markdown",
      "metadata": {
        "id": "dUgi59bW-5aY",
        "colab_type": "text"
      },
      "source": [
        "### Descriptive Statistics for Numeric Variables\n"
      ]
    },
    {
      "cell_type": "markdown",
      "metadata": {
        "id": "lf7oLTE_-5aa",
        "colab_type": "text"
      },
      "source": [
        "#### Converting Data Types to Numeric"
      ]
    },
    {
      "cell_type": "markdown",
      "metadata": {
        "id": "6K6v41tQ-5ab",
        "colab_type": "text"
      },
      "source": [
        "The `object` type is a string. When we want to convert an object to numeric, we can use the `pd.to_numeric` function, as shown below:"
      ]
    },
    {
      "cell_type": "code",
      "metadata": {
        "id": "anbfqm3s-5ac",
        "colab_type": "code",
        "outputId": "e37b8726-db17-42d0-9087-7018244c2f85",
        "colab": {
          "base_uri": "https://localhost:8080/",
          "height": 204
        }
      },
      "source": [
        "restaurants[[\"SCORE\"]].head()"
      ],
      "execution_count": 0,
      "outputs": [
        {
          "output_type": "execute_result",
          "data": {
            "text/html": [
              "<div>\n",
              "<style scoped>\n",
              "    .dataframe tbody tr th:only-of-type {\n",
              "        vertical-align: middle;\n",
              "    }\n",
              "\n",
              "    .dataframe tbody tr th {\n",
              "        vertical-align: top;\n",
              "    }\n",
              "\n",
              "    .dataframe thead th {\n",
              "        text-align: right;\n",
              "    }\n",
              "</style>\n",
              "<table border=\"1\" class=\"dataframe\">\n",
              "  <thead>\n",
              "    <tr style=\"text-align: right;\">\n",
              "      <th></th>\n",
              "      <th>SCORE</th>\n",
              "    </tr>\n",
              "  </thead>\n",
              "  <tbody>\n",
              "    <tr>\n",
              "      <th>0</th>\n",
              "      <td>17</td>\n",
              "    </tr>\n",
              "    <tr>\n",
              "      <th>1</th>\n",
              "      <td>5</td>\n",
              "    </tr>\n",
              "    <tr>\n",
              "      <th>2</th>\n",
              "      <td>20</td>\n",
              "    </tr>\n",
              "    <tr>\n",
              "      <th>3</th>\n",
              "      <td>7</td>\n",
              "    </tr>\n",
              "    <tr>\n",
              "      <th>4</th>\n",
              "      <td>22</td>\n",
              "    </tr>\n",
              "  </tbody>\n",
              "</table>\n",
              "</div>"
            ],
            "text/plain": [
              "  SCORE\n",
              "0    17\n",
              "1     5\n",
              "2    20\n",
              "3     7\n",
              "4    22"
            ]
          },
          "metadata": {
            "tags": []
          },
          "execution_count": 8
        }
      ]
    },
    {
      "cell_type": "code",
      "metadata": {
        "id": "O4ejYSGR-5af",
        "colab_type": "code",
        "outputId": "579a9ab5-36b3-4090-9294-f6e362e57537",
        "colab": {
          "base_uri": "https://localhost:8080/",
          "height": 476
        }
      },
      "source": [
        "restaurants[\"SCORE\"] = pd.to_numeric(restaurants[\"SCORE\"])\n",
        "restaurants.dtypes"
      ],
      "execution_count": 0,
      "outputs": [
        {
          "output_type": "execute_result",
          "data": {
            "text/plain": [
              "CAMIS                     object\n",
              "DBA                       object\n",
              "BORO                      object\n",
              "BUILDING                  object\n",
              "STREET                    object\n",
              "ZIPCODE                   object\n",
              "PHONE                     object\n",
              "CUISINE DESCRIPTION       object\n",
              "INSPECTION DATE           object\n",
              "ACTION                    object\n",
              "VIOLATION CODE            object\n",
              "VIOLATION DESCRIPTION     object\n",
              "CRITICAL FLAG             object\n",
              "SCORE                    float64\n",
              "GRADE                     object\n",
              "GRADE DATE                object\n",
              "RECORD DATE               object\n",
              "INSPECTION TYPE           object\n",
              "Latitude                  object\n",
              "Longitude                 object\n",
              "Community Board           object\n",
              "Council District          object\n",
              "Census Tract              object\n",
              "BIN                       object\n",
              "BBL                       object\n",
              "NTA                       object\n",
              "dtype: object"
            ]
          },
          "metadata": {
            "tags": []
          },
          "execution_count": 9
        }
      ]
    },
    {
      "cell_type": "markdown",
      "metadata": {
        "id": "Xj-vBAEp-5ai",
        "colab_type": "text"
      },
      "source": [
        "#### Basic descriptive statistics for numeric variables\n",
        "\n",
        "And now that SCORE is a numeric variable, we can get more detailed descriptive statistics for the variable using the `.describe()` command:"
      ]
    },
    {
      "cell_type": "code",
      "metadata": {
        "id": "uveGgdYr-5aj",
        "colab_type": "code",
        "outputId": "ab7e64ad-a41f-4e76-874b-7b50d11551a3",
        "colab": {
          "base_uri": "https://localhost:8080/",
          "height": 170
        }
      },
      "source": [
        "# For column names without a space, we can also access directly the column as follows:\n",
        "restaurants.SCORE.describe()"
      ],
      "execution_count": 0,
      "outputs": [
        {
          "output_type": "execute_result",
          "data": {
            "text/plain": [
              "count    384517.000000\n",
              "mean         20.415511\n",
              "std          14.837406\n",
              "min          -1.000000\n",
              "25%          11.000000\n",
              "50%          15.000000\n",
              "75%          26.000000\n",
              "max         164.000000\n",
              "Name: SCORE, dtype: float64"
            ]
          },
          "metadata": {
            "tags": []
          },
          "execution_count": 10
        }
      ]
    },
    {
      "cell_type": "markdown",
      "metadata": {
        "id": "WrP0zOzF-5ar",
        "colab_type": "text"
      },
      "source": [
        "And now that SCORE is a numeric variable, we can examine its distribution by using the `hist` command of Pandas, which creates a histogram. (The histogram is also available as `plot.hist`, or `plot(kind='hist'))`.)"
      ]
    },
    {
      "cell_type": "code",
      "metadata": {
        "id": "8mKD8THY-5au",
        "colab_type": "code",
        "outputId": "9154fcf9-ef70-4685-9a21-a172404f4e91",
        "colab": {
          "base_uri": "https://localhost:8080/",
          "height": 458
        }
      },
      "source": [
        "restaurants[\"SCORE\"].hist()"
      ],
      "execution_count": 0,
      "outputs": [
        {
          "output_type": "execute_result",
          "data": {
            "text/plain": [
              "<matplotlib.axes._subplots.AxesSubplot at 0x7f17dc9e5c88>"
            ]
          },
          "metadata": {
            "tags": []
          },
          "execution_count": 11
        },
        {
          "output_type": "display_data",
          "data": {
            "image/png": "[encoded data removed]",
            "text/plain": [
              "<Figure size 748.8x514.8 with 1 Axes>"
            ]
          },
          "metadata": {
            "tags": [],
            "image/png": {
              "width": 647,
              "height": 424
            }
          }
        }
      ]
    },
    {
      "cell_type": "markdown",
      "metadata": {
        "id": "mZxz7kh7-5ax",
        "colab_type": "text"
      },
      "source": [
        "By default, the histogram has ~10 bars in out plot. We can change the resolution of the histogram using the `bins` variable. Larger number of `bins` allow for higher resolution, but if we increase the number too much, many bins end up having very few, or no data points. For example, experiment with changing the balue of bins below, and change the value from 50 to something bigger."
      ]
    },
    {
      "cell_type": "code",
      "metadata": {
        "id": "lQjpoLhm-5ay",
        "colab_type": "code",
        "outputId": "be6a286e-050c-4b81-f3f4-f61bda30d73a",
        "colab": {
          "base_uri": "https://localhost:8080/",
          "height": 458
        }
      },
      "source": [
        "restaurants[\"SCORE\"].hist(bins=50)"
      ],
      "execution_count": 0,
      "outputs": [
        {
          "output_type": "execute_result",
          "data": {
            "text/plain": [
              "<matplotlib.axes._subplots.AxesSubplot at 0x7f17dc505438>"
            ]
          },
          "metadata": {
            "tags": []
          },
          "execution_count": 12
        },
        {
          "output_type": "display_data",
          "data": {
            "image/png": "[encoded data removed]",
            "text/plain": [
              "<Figure size 748.8x514.8 with 1 Axes>"
            ]
          },
          "metadata": {
            "tags": [],
            "image/png": {
              "width": 647,
              "height": 424
            }
          }
        }
      ]
    },
    {
      "cell_type": "code",
      "metadata": {
        "id": "U5-4yJIk-5a1",
        "colab_type": "code",
        "outputId": "912a1314-30a9-46f7-9a27-a1281b14240b",
        "colab": {
          "base_uri": "https://localhost:8080/",
          "height": 341
        }
      },
      "source": [
        "# A quick exposure to various options of the \"hist\" command \n",
        "restaurants.SCORE.hist(bins=50, # use 50 bars\n",
        "                          range=(0,50), # x-axis from 0 to 50\n",
        "                          density=False,  # show normalized count (density=True), or raw counts (density= False)\n",
        "                          figsize=(15,5), # controls the size of the plot\n",
        "                          alpha = 0.8 # make the plot 20% transparent\n",
        "                         )"
      ],
      "execution_count": 0,
      "outputs": [
        {
          "output_type": "execute_result",
          "data": {
            "text/plain": [
              "<matplotlib.axes._subplots.AxesSubplot at 0x7f17dc3f6d68>"
            ]
          },
          "metadata": {
            "tags": []
          },
          "execution_count": 13
        },
        {
          "output_type": "display_data",
          "data": {
            "image/png": "[encoded data removed]",
            "text/plain": [
              "<Figure size 1080x360 with 1 Axes>"
            ]
          },
          "metadata": {
            "tags": [],
            "image/png": {
              "width": 896,
              "height": 307
            }
          }
        }
      ]
    },
    {
      "cell_type": "markdown",
      "metadata": {
        "id": "rRTJcYpY-5a_",
        "colab_type": "text"
      },
      "source": [
        "### Converting Dates"
      ]
    },
    {
      "cell_type": "markdown",
      "metadata": {
        "id": "5uZkNA3X-5bA",
        "colab_type": "text"
      },
      "source": [
        "Now let's convert the dates columns into the appropriate data types. Let's take a look at a few dates."
      ]
    },
    {
      "cell_type": "code",
      "metadata": {
        "id": "PHY2Y0hj-5bB",
        "colab_type": "code",
        "outputId": "52f872c6-55c6-49e2-b572-2098eb349230",
        "colab": {
          "base_uri": "https://localhost:8080/",
          "height": 204
        }
      },
      "source": [
        "restaurants[\"GRADE DATE\"].head(10)"
      ],
      "execution_count": 0,
      "outputs": [
        {
          "output_type": "execute_result",
          "data": {
            "text/plain": [
              "0    03/06/2018\n",
              "1    08/20/2019\n",
              "2           NaN\n",
              "3    06/08/2017\n",
              "4           NaN\n",
              "5           NaN\n",
              "6           NaN\n",
              "7    09/18/2019\n",
              "8    04/26/2019\n",
              "9           NaN\n",
              "Name: GRADE DATE, dtype: object"
            ]
          },
          "metadata": {
            "tags": []
          },
          "execution_count": 15
        }
      ]
    },
    {
      "cell_type": "markdown",
      "metadata": {
        "id": "bYBig-6o-5bD",
        "colab_type": "text"
      },
      "source": [
        "For that, we need to understand first how to [parse dates using the Python conventions](https://docs.python.org/3/library/datetime.html#strftime-and-strptime-behavior).\n",
        "\n",
        "The relevant entries from the table are:\n",
        "* `%m` Month as a zero-padded decimal number.\n",
        "* `%d` \tDay of the month as a zero-padded decimal number.\n",
        "* `%Y` Year with century as a decimal number.\n",
        "\n",
        "Now, we can specify how to parse these dates. (In principle, we can let Pandas do this automatically, but it is _much_ faster if we specify it ourselves. It is also much less error-prone.)"
      ]
    },
    {
      "cell_type": "code",
      "metadata": {
        "id": "VyTaVFiA-5bF",
        "colab_type": "code",
        "colab": {}
      },
      "source": [
        "restaurants[\"GRADE DATE\"] = pd.to_datetime(restaurants[\"GRADE DATE\"], format=\"%m/%d/%Y\")\n",
        "restaurants[\"RECORD DATE\"] = pd.to_datetime(restaurants[\"RECORD DATE\"], format=\"%m/%d/%Y\")\n",
        "restaurants[\"INSPECTION DATE\"] = pd.to_datetime(restaurants[\"INSPECTION DATE\"], format=\"%m/%d/%Y\")"
      ],
      "execution_count": 0,
      "outputs": []
    },
    {
      "cell_type": "code",
      "metadata": {
        "id": "gheSNDW7-5bN",
        "colab_type": "code",
        "outputId": "b035e9a6-2734-43fa-961a-b8316460d688",
        "colab": {
          "base_uri": "https://localhost:8080/",
          "height": 476
        }
      },
      "source": [
        "restaurants.dtypes"
      ],
      "execution_count": 0,
      "outputs": [
        {
          "output_type": "execute_result",
          "data": {
            "text/plain": [
              "CAMIS                            object\n",
              "DBA                              object\n",
              "BORO                             object\n",
              "BUILDING                         object\n",
              "STREET                           object\n",
              "ZIPCODE                          object\n",
              "PHONE                            object\n",
              "CUISINE DESCRIPTION              object\n",
              "INSPECTION DATE          datetime64[ns]\n",
              "ACTION                           object\n",
              "VIOLATION CODE                   object\n",
              "VIOLATION DESCRIPTION            object\n",
              "CRITICAL FLAG                    object\n",
              "SCORE                           float64\n",
              "GRADE                            object\n",
              "GRADE DATE               datetime64[ns]\n",
              "RECORD DATE              datetime64[ns]\n",
              "INSPECTION TYPE                  object\n",
              "Latitude                         object\n",
              "Longitude                        object\n",
              "Community Board                  object\n",
              "Council District                 object\n",
              "Census Tract                     object\n",
              "BIN                              object\n",
              "BBL                              object\n",
              "NTA                              object\n",
              "dtype: object"
            ]
          },
          "metadata": {
            "tags": []
          },
          "execution_count": 17
        }
      ]
    },
    {
      "cell_type": "code",
      "metadata": {
        "id": "kEMG6KCf-5bR",
        "colab_type": "code",
        "colab": {}
      },
      "source": [
        "restaurants[[\"INSPECTION DATE\", \"GRADE DATE\", \"RECORD DATE\"]].describe()"
      ],
      "execution_count": 0,
      "outputs": []
    },
    {
      "cell_type": "markdown",
      "metadata": {
        "id": "Na8jM6x0-5bU",
        "colab_type": "text"
      },
      "source": [
        "#### Exercise\n",
        "\n",
        "* Plot a histogram for `INSPECTION DATE`, `GRADE DATE`, `RECORD DATE`. What do you see?\n",
        "* Try modifying the `bins` parameter. What are the results?\n",
        "* The `range=(start, finish)` command is often useful, when we want to focus on a particular part of the dataset. Try using that for  `INSPECTION DATE` to limit the dates to be between 1/1/2014 and 05/31/2018."
      ]
    },
    {
      "cell_type": "code",
      "metadata": {
        "solution2": "hidden",
        "id": "PXAtQ8iR-5bV",
        "colab_type": "code",
        "outputId": "8b122b02-9a79-4011-cf8e-312d0bf05f92",
        "colab": {
          "base_uri": "https://localhost:8080/",
          "height": 458
        }
      },
      "source": [
        "# Not very appealing\n",
        "restaurants['INSPECTION DATE'].hist()"
      ],
      "execution_count": 0,
      "outputs": [
        {
          "output_type": "execute_result",
          "data": {
            "text/plain": [
              "<matplotlib.axes._subplots.AxesSubplot at 0x7f17dc29dbe0>"
            ]
          },
          "metadata": {
            "tags": []
          },
          "execution_count": 19
        },
        {
          "output_type": "display_data",
          "data": {
            "image/png": "[encoded data removed]",
            "text/plain": [
              "<Figure size 748.8x514.8 with 1 Axes>"
            ]
          },
          "metadata": {
            "tags": [],
            "image/png": {
              "width": 647,
              "height": 424
            }
          }
        }
      ]
    },
    {
      "cell_type": "code",
      "metadata": {
        "solution2": "hidden",
        "id": "2nSterF9-5bc",
        "colab_type": "code",
        "outputId": "09e3bd93-316a-4c73-845f-191a03a8305e",
        "colab": {
          "base_uri": "https://localhost:8080/",
          "height": 458
        }
      },
      "source": [
        "restaurants['GRADE DATE'].hist()"
      ],
      "execution_count": 0,
      "outputs": [
        {
          "output_type": "execute_result",
          "data": {
            "text/plain": [
              "<matplotlib.axes._subplots.AxesSubplot at 0x7f17d9a7ffd0>"
            ]
          },
          "metadata": {
            "tags": []
          },
          "execution_count": 20
        },
        {
          "output_type": "display_data",
          "data": {
            "image/png": "[encoded data removed]",
            "text/plain": [
              "<Figure size 748.8x514.8 with 1 Axes>"
            ]
          },
          "metadata": {
            "tags": [],
            "image/png": {
              "width": 640,
              "height": 424
            }
          }
        }
      ]
    },
    {
      "cell_type": "code",
      "metadata": {
        "solution2": "hidden",
        "id": "b_XIFHBG-5bg",
        "colab_type": "code",
        "outputId": "1a7b954f-b71a-4042-cdc4-df36f946a323",
        "colab": {
          "base_uri": "https://localhost:8080/",
          "height": 341
        }
      },
      "source": [
        "restaurants['INSPECTION DATE'].hist(\n",
        "    range = ('1/1/2014','9/30/2018'), # limit the range of dates, ignore the 1/1/1990 faulty valye\n",
        "    bins = 57, # number of months in the range -- computed manually\n",
        "    figsize = (15,5) # resize 15-width, 5-height\n",
        ")"
      ],
      "execution_count": 0,
      "outputs": [
        {
          "output_type": "execute_result",
          "data": {
            "text/plain": [
              "<matplotlib.axes._subplots.AxesSubplot at 0x7f17d81b5b00>"
            ]
          },
          "metadata": {
            "tags": []
          },
          "execution_count": 21
        },
        {
          "output_type": "display_data",
          "data": {
            "image/png": "[encoded data removed]",
            "text/plain": [
              "<Figure size 1080x360 with 1 Axes>"
            ]
          },
          "metadata": {
            "tags": [],
            "image/png": {
              "width": 896,
              "height": 307
            }
          }
        }
      ]
    },
    {
      "cell_type": "code",
      "metadata": {
        "solution2": "hidden",
        "id": "j71z1clL-5bj",
        "colab_type": "code",
        "outputId": "0ab1bf72-5abc-4022-d715-8100ce439405",
        "colab": {
          "base_uri": "https://localhost:8080/",
          "height": 341
        }
      },
      "source": [
        "restaurants['GRADE DATE'].hist(\n",
        "    range = ('1/1/2014','9/30/2018'), # limit the range of dates, ignore the 1/1/1990 faulty valye\n",
        "    bins = 57, # number of months in the range -- computed manually\n",
        "    figsize = (15,5) # resize 15-width, 5-height\n",
        ")"
      ],
      "execution_count": 0,
      "outputs": [
        {
          "output_type": "execute_result",
          "data": {
            "text/plain": [
              "<matplotlib.axes._subplots.AxesSubplot at 0x7f17d80b5940>"
            ]
          },
          "metadata": {
            "tags": []
          },
          "execution_count": 22
        },
        {
          "output_type": "display_data",
          "data": {
            "image/png": "[encoded data removed]",
            "text/plain": [
              "<Figure size 1080x360 with 1 Axes>"
            ]
          },
          "metadata": {
            "tags": [],
            "image/png": {
              "width": 889,
              "height": 307
            }
          }
        }
      ]
    },
    {
      "cell_type": "markdown",
      "metadata": {
        "id": "6LZ2FGqh-5bm",
        "colab_type": "text"
      },
      "source": [
        "### Categorical Variables\n",
        "\n",
        "This is less important, but sometimes we want to specify variables to be \"Categorical\". This is most commonly useful when we have variables that have an implicit order (e.g., the A/B/C grade of the restaurant)."
      ]
    },
    {
      "cell_type": "code",
      "metadata": {
        "id": "wi6kiLBa-5bn",
        "colab_type": "code",
        "outputId": "d484269f-3a3b-40ae-d639-dedaacdf3432",
        "colab": {
          "base_uri": "https://localhost:8080/",
          "height": 476
        }
      },
      "source": [
        "restaurants[\"BORO\"] =  pd.Categorical(restaurants[\"BORO\"], ordered=False)\n",
        "restaurants[\"GRADE\"] =  pd.Categorical(restaurants[\"GRADE\"], categories = ['A', 'B', 'C'], ordered=True)\n",
        "restaurants[\"VIOLATION CODE\"] =  pd.Categorical(restaurants[\"VIOLATION CODE\"], ordered=False)\n",
        "restaurants[\"CRITICAL FLAG\"] =  pd.Categorical(restaurants[\"CRITICAL FLAG\"], ordered=False)\n",
        "restaurants[\"ACTION\"] =  pd.Categorical(restaurants[\"ACTION\"], ordered=False)\n",
        "restaurants[\"CUISINE DESCRIPTION\"] =  pd.Categorical(restaurants[\"CUISINE DESCRIPTION\"], ordered=False)\n",
        "restaurants.dtypes"
      ],
      "execution_count": 0,
      "outputs": [
        {
          "output_type": "execute_result",
          "data": {
            "text/plain": [
              "CAMIS                            object\n",
              "DBA                              object\n",
              "BORO                           category\n",
              "BUILDING                         object\n",
              "STREET                           object\n",
              "ZIPCODE                          object\n",
              "PHONE                            object\n",
              "CUISINE DESCRIPTION            category\n",
              "INSPECTION DATE          datetime64[ns]\n",
              "ACTION                         category\n",
              "VIOLATION CODE                 category\n",
              "VIOLATION DESCRIPTION            object\n",
              "CRITICAL FLAG                  category\n",
              "SCORE                           float64\n",
              "GRADE                          category\n",
              "GRADE DATE               datetime64[ns]\n",
              "RECORD DATE              datetime64[ns]\n",
              "INSPECTION TYPE                  object\n",
              "Latitude                         object\n",
              "Longitude                        object\n",
              "Community Board                  object\n",
              "Council District                 object\n",
              "Census Tract                     object\n",
              "BIN                              object\n",
              "BBL                              object\n",
              "NTA                              object\n",
              "dtype: object"
            ]
          },
          "metadata": {
            "tags": []
          },
          "execution_count": 23
        }
      ]
    },
    {
      "cell_type": "markdown",
      "metadata": {
        "id": "HgohX1UX-5by",
        "colab_type": "text"
      },
      "source": [
        "### Analyzing the content of the columns"
      ]
    },
    {
      "cell_type": "markdown",
      "metadata": {
        "id": "Wg8WdXNW-5by",
        "colab_type": "text"
      },
      "source": [
        "We can also get quick statistics about the common values that appear in each column:"
      ]
    },
    {
      "cell_type": "code",
      "metadata": {
        "id": "D5PKaYu3-5bz",
        "colab_type": "code",
        "outputId": "13b2bffe-e753-4a13-de4a-668acbe645f0",
        "colab": {
          "base_uri": "https://localhost:8080/",
          "height": 204
        }
      },
      "source": [
        "restaurants[\"DBA\"].value_counts()[:10] "
      ],
      "execution_count": 0,
      "outputs": [
        {
          "output_type": "execute_result",
          "data": {
            "text/plain": [
              "DUNKIN'                                  4154\n",
              "SUBWAY                                   2941\n",
              "STARBUCKS                                2129\n",
              "MCDONALD'S                               1944\n",
              "KENNEDY FRIED CHICKEN                    1338\n",
              "DUNKIN', BASKIN ROBBINS                  1171\n",
              "CROWN FRIED CHICKEN                      1144\n",
              "BURGER KING                              1058\n",
              "POPEYES                                   958\n",
              "GOLDEN KRUST CARIBBEAN BAKERY & GRILL     784\n",
              "Name: DBA, dtype: int64"
            ]
          },
          "metadata": {
            "tags": []
          },
          "execution_count": 24
        }
      ]
    },
    {
      "cell_type": "code",
      "metadata": {
        "id": "oQF45X21-5b2",
        "colab_type": "code",
        "outputId": "1c986864-d8fa-4e0f-c1e7-11591156b218",
        "colab": {
          "base_uri": "https://localhost:8080/",
          "height": 119
        }
      },
      "source": [
        "restaurants[\"CUISINE DESCRIPTION\"].value_counts()[:5]"
      ],
      "execution_count": 0,
      "outputs": [
        {
          "output_type": "execute_result",
          "data": {
            "text/plain": [
              "American                                                            83759\n",
              "Chinese                                                             42191\n",
              "Café/Coffee/Tea                                                     19684\n",
              "Latin (Cuban, Dominican, Puerto Rican, South & Central American)    17655\n",
              "Pizza                                                               17462\n",
              "Name: CUISINE DESCRIPTION, dtype: int64"
            ]
          },
          "metadata": {
            "tags": []
          },
          "execution_count": 25
        }
      ]
    },
    {
      "cell_type": "markdown",
      "metadata": {
        "id": "1eKFppN4-5b9",
        "colab_type": "text"
      },
      "source": [
        "And we can use the \"plot\" command to plot the resulting histogram. (More details at http://pandas.pydata.org/pandas-docs/stable/visualization.html) We also revisit plotting below."
      ]
    },
    {
      "cell_type": "code",
      "metadata": {
        "id": "LylyhwJ9-5b-",
        "colab_type": "code",
        "outputId": "0fa9f58c-427e-4fac-d543-5a5f9bf54634",
        "colab": {
          "base_uri": "https://localhost:8080/",
          "height": 833
        }
      },
      "source": [
        "restaurants[\"CUISINE DESCRIPTION\"].value_counts()[:5].plot(kind='bar')"
      ],
      "execution_count": 0,
      "outputs": [
        {
          "output_type": "execute_result",
          "data": {
            "text/plain": [
              "<matplotlib.axes._subplots.AxesSubplot at 0x7f17d7fbfac8>"
            ]
          },
          "metadata": {
            "tags": []
          },
          "execution_count": 26
        },
        {
          "output_type": "display_data",
          "data": {
            "image/png": "[encoded data removed]",
            "text/plain": [
              "<Figure size 748.8x514.8 with 1 Axes>"
            ]
          },
          "metadata": {
            "tags": [],
            "image/png": {
              "width": 640,
              "height": 799
            }
          }
        }
      ]
    },
    {
      "cell_type": "code",
      "metadata": {
        "id": "w9rfOa-E-5cB",
        "colab_type": "code",
        "outputId": "2ccc62a7-48ee-420d-a604-3a28268b1bb0",
        "colab": {
          "base_uri": "https://localhost:8080/",
          "height": 221
        }
      },
      "source": [
        "popular = restaurants[\"CUISINE DESCRIPTION\"].value_counts()\n",
        "popular"
      ],
      "execution_count": 0,
      "outputs": [
        {
          "output_type": "execute_result",
          "data": {
            "text/plain": [
              "American                                                            83759\n",
              "Chinese                                                             42191\n",
              "Café/Coffee/Tea                                                     19684\n",
              "Latin (Cuban, Dominican, Puerto Rican, South & Central American)    17655\n",
              "Pizza                                                               17462\n",
              "                                                                    ...  \n",
              "Iranian                                                                69\n",
              "Czech                                                                  43\n",
              "Nuts/Confectionary                                                     43\n",
              "Chilean                                                                34\n",
              "Basque                                                                  7\n",
              "Name: CUISINE DESCRIPTION, Length: 84, dtype: int64"
            ]
          },
          "metadata": {
            "tags": []
          },
          "execution_count": 27
        }
      ]
    },
    {
      "cell_type": "markdown",
      "metadata": {
        "id": "03nmQVW7-5cD",
        "colab_type": "text"
      },
      "source": [
        "Hm, that does not look nice. Let's shorten the name of the cuisine for the _\"Latin (Cuban, Dominican, Puerto Rican, South & Central American)\"_ and replace it with _\"Latin American\"_. We will use the `replace` command in Pandas:"
      ]
    },
    {
      "cell_type": "code",
      "metadata": {
        "id": "wObfari0-5cE",
        "colab_type": "code",
        "colab": {}
      },
      "source": [
        "restaurants[\"CUISINE DESCRIPTION\"].replace(\n",
        "    to_replace='Latin (Cuban, Dominican, Puerto Rican, South & Central American)',\n",
        "    value = 'Latin American',\n",
        "    inplace=True\n",
        ")"
      ],
      "execution_count": 0,
      "outputs": []
    },
    {
      "cell_type": "code",
      "metadata": {
        "id": "rvOtC9EY-5cS",
        "colab_type": "code",
        "colab": {}
      },
      "source": [
        "restaurants[\"CUISINE DESCRIPTION\"].replace(\n",
        "    to_replace='CafÃ©/Coffee/Tea',\n",
        "    value = 'Cafe/Coffee/Tea',\n",
        "    inplace=True\n",
        ")\n"
      ],
      "execution_count": 0,
      "outputs": []
    },
    {
      "cell_type": "code",
      "metadata": {
        "id": "wjgxdU4x-5cX",
        "colab_type": "code",
        "outputId": "1186c776-fe09-4b76-ee5f-9d1d282e7ade",
        "colab": {
          "base_uri": "https://localhost:8080/",
          "height": 541
        }
      },
      "source": [
        "popular = restaurants[\"CUISINE DESCRIPTION\"].value_counts()\n",
        "popular[:5].plot(kind='bar')"
      ],
      "execution_count": 0,
      "outputs": [
        {
          "output_type": "execute_result",
          "data": {
            "text/plain": [
              "<matplotlib.axes._subplots.AxesSubplot at 0x7f17d7f35da0>"
            ]
          },
          "metadata": {
            "tags": []
          },
          "execution_count": 30
        },
        {
          "output_type": "display_data",
          "data": {
            "image/png": "[encoded data removed]",
            "text/plain": [
              "<Figure size 748.8x514.8 with 1 Axes>"
            ]
          },
          "metadata": {
            "tags": [],
            "image/png": {
              "width": 640,
              "height": 507
            }
          }
        }
      ]
    },
    {
      "cell_type": "markdown",
      "metadata": {
        "id": "bK5qNtqr-5ck",
        "colab_type": "text"
      },
      "source": [
        "Let's do the similar histogram for the violation codes"
      ]
    },
    {
      "cell_type": "code",
      "metadata": {
        "id": "dllqlYjT-5cl",
        "colab_type": "code",
        "outputId": "1b412c9b-9c02-42cb-efcb-272b641a4d5f",
        "colab": {
          "base_uri": "https://localhost:8080/",
          "height": 136
        }
      },
      "source": [
        "restaurants[\"VIOLATION CODE\"].head(5)"
      ],
      "execution_count": 0,
      "outputs": [
        {
          "output_type": "execute_result",
          "data": {
            "text/plain": [
              "0    10F\n",
              "1    10B\n",
              "2    08C\n",
              "3    10F\n",
              "4    06C\n",
              "Name: VIOLATION CODE, dtype: category\n",
              "Categories (104, object): [02A, 02B, 02C, 02D, ..., 22C, 22E, 22F, 22G]"
            ]
          },
          "metadata": {
            "tags": []
          },
          "execution_count": 31
        }
      ]
    },
    {
      "cell_type": "code",
      "metadata": {
        "id": "UdZOwsOx-5cp",
        "colab_type": "code",
        "outputId": "cdecf44f-4469-44e6-bc80-88cc92167ea1",
        "colab": {
          "base_uri": "https://localhost:8080/",
          "height": 204
        }
      },
      "source": [
        "violation_counts = restaurants[\"VIOLATION CODE\"].value_counts();\n",
        "violation_counts[0:10]"
      ],
      "execution_count": 0,
      "outputs": [
        {
          "output_type": "execute_result",
          "data": {
            "text/plain": [
              "10F    57211\n",
              "08A    44591\n",
              "04L    29860\n",
              "06D    27464\n",
              "06C    24428\n",
              "10B    23514\n",
              "02G    23013\n",
              "04N    21154\n",
              "02B    20533\n",
              "04M     8886\n",
              "Name: VIOLATION CODE, dtype: int64"
            ]
          },
          "metadata": {
            "tags": []
          },
          "execution_count": 32
        }
      ]
    },
    {
      "cell_type": "code",
      "metadata": {
        "id": "UwiYTO0X-5cw",
        "colab_type": "code",
        "outputId": "27a058ce-acc4-4455-cf72-ad79011293c8",
        "colab": {
          "base_uri": "https://localhost:8080/",
          "height": 475
        }
      },
      "source": [
        "violation_counts[0:20].plot(kind='bar')"
      ],
      "execution_count": 0,
      "outputs": [
        {
          "output_type": "execute_result",
          "data": {
            "text/plain": [
              "<matplotlib.axes._subplots.AxesSubplot at 0x7f17d7f02f98>"
            ]
          },
          "metadata": {
            "tags": []
          },
          "execution_count": 33
        },
        {
          "output_type": "display_data",
          "data": {
            "image/png": "[encoded data removed]",
            "text/plain": [
              "<Figure size 748.8x514.8 with 1 Axes>"
            ]
          },
          "metadata": {
            "tags": [],
            "image/png": {
              "width": 640,
              "height": 441
            }
          }
        }
      ]
    },
    {
      "cell_type": "markdown",
      "metadata": {
        "id": "CUxu2Sly-5c3",
        "colab_type": "text"
      },
      "source": [
        "#### Exercise\n",
        "\n",
        "* Create a plot showing the number of inspections that happen across **boroughs**. Use the `BORO` column and the `value_counts()` function."
      ]
    },
    {
      "cell_type": "code",
      "metadata": {
        "solution2": "hidden",
        "id": "_IUWpssm-5c5",
        "colab_type": "code",
        "outputId": "dde341d8-3025-4577-c52d-a108f7378eff",
        "colab": {
          "base_uri": "https://localhost:8080/",
          "height": 136
        }
      },
      "source": [
        "restaurants['BORO'].value_counts()"
      ],
      "execution_count": 0,
      "outputs": [
        {
          "output_type": "execute_result",
          "data": {
            "text/plain": [
              "Manhattan        158004\n",
              "Brooklyn         102014\n",
              "Queens            91633\n",
              "Bronx             36268\n",
              "Staten Island     13349\n",
              "0                    78\n",
              "Name: BORO, dtype: int64"
            ]
          },
          "metadata": {
            "tags": []
          },
          "execution_count": 34
        }
      ]
    },
    {
      "cell_type": "code",
      "metadata": {
        "solution2": "hidden",
        "id": "T7Jlgkvn-5dG",
        "colab_type": "code",
        "outputId": "17ec36f1-f12e-46af-cd7b-69d6a25c0641",
        "colab": {
          "base_uri": "https://localhost:8080/",
          "height": 136
        }
      },
      "source": [
        "# Same as above; works only for attribute names without spaces\n",
        "restaurants.BORO.value_counts()"
      ],
      "execution_count": 0,
      "outputs": [
        {
          "output_type": "execute_result",
          "data": {
            "text/plain": [
              "Manhattan        158004\n",
              "Brooklyn         102014\n",
              "Queens            91633\n",
              "Bronx             36268\n",
              "Staten Island     13349\n",
              "0                    78\n",
              "Name: BORO, dtype: int64"
            ]
          },
          "metadata": {
            "tags": []
          },
          "execution_count": 35
        }
      ]
    },
    {
      "cell_type": "code",
      "metadata": {
        "solution2": "hidden",
        "id": "6yJdu7oP-5dJ",
        "colab_type": "code",
        "outputId": "5d8dbd5e-646f-4c3d-ab89-b9cae1bd4b48",
        "colab": {
          "base_uri": "https://localhost:8080/",
          "height": 522
        }
      },
      "source": [
        "restaurants['BORO'].value_counts().plot(kind='bar')"
      ],
      "execution_count": 0,
      "outputs": [
        {
          "output_type": "execute_result",
          "data": {
            "text/plain": [
              "<matplotlib.axes._subplots.AxesSubplot at 0x7f17d7dda668>"
            ]
          },
          "metadata": {
            "tags": []
          },
          "execution_count": 36
        },
        {
          "output_type": "display_data",
          "data": {
            "image/png": "[encoded data removed]",
            "text/plain": [
              "<Figure size 748.8x514.8 with 1 Axes>"
            ]
          },
          "metadata": {
            "tags": [],
            "image/png": {
              "width": 647,
              "height": 488
            }
          }
        }
      ]
    },
    {
      "cell_type": "code",
      "metadata": {
        "solution2": "hidden",
        "id": "adj_Ux2c-5dP",
        "colab_type": "code",
        "outputId": "2793f090-4300-42e1-a04a-eb824dca27a1",
        "colab": {
          "base_uri": "https://localhost:8080/",
          "height": 458
        }
      },
      "source": [
        "restaurants['BORO'].value_counts().plot(kind='barh')"
      ],
      "execution_count": 0,
      "outputs": [
        {
          "output_type": "execute_result",
          "data": {
            "text/plain": [
              "<matplotlib.axes._subplots.AxesSubplot at 0x7f17d7d4b668>"
            ]
          },
          "metadata": {
            "tags": []
          },
          "execution_count": 37
        },
        {
          "output_type": "display_data",
          "data": {
            "image/png": "[encoded data removed]",
            "text/plain": [
              "<Figure size 748.8x514.8 with 1 Axes>"
            ]
          },
          "metadata": {
            "tags": [],
            "image/png": {
              "width": 680,
              "height": 424
            }
          }
        }
      ]
    },
    {
      "cell_type": "markdown",
      "metadata": {
        "id": "95HST5mx-5dV",
        "colab_type": "text"
      },
      "source": [
        "### Selecting a subset of the columns\n",
        "\n",
        "In a dataframe, we can specify the column(s) that we want to keep, and get back another dataframe with just the subset of the columns that we want to keep."
      ]
    },
    {
      "cell_type": "code",
      "metadata": {
        "id": "kxvwJ5tJ-5dW",
        "colab_type": "code",
        "outputId": "203beff7-e50c-400a-d0f6-8109247b6b98",
        "colab": {
          "base_uri": "https://localhost:8080/",
          "height": 204
        }
      },
      "source": [
        "restaurants[ [\"DBA\", \"GRADE\", \"GRADE DATE\"] ].head()"
      ],
      "execution_count": 0,
      "outputs": [
        {
          "output_type": "execute_result",
          "data": {
            "text/html": [
              "<div>\n",
              "<style scoped>\n",
              "    .dataframe tbody tr th:only-of-type {\n",
              "        vertical-align: middle;\n",
              "    }\n",
              "\n",
              "    .dataframe tbody tr th {\n",
              "        vertical-align: top;\n",
              "    }\n",
              "\n",
              "    .dataframe thead th {\n",
              "        text-align: right;\n",
              "    }\n",
              "</style>\n",
              "<table border=\"1\" class=\"dataframe\">\n",
              "  <thead>\n",
              "    <tr style=\"text-align: right;\">\n",
              "      <th></th>\n",
              "      <th>DBA</th>\n",
              "      <th>GRADE</th>\n",
              "      <th>GRADE DATE</th>\n",
              "    </tr>\n",
              "  </thead>\n",
              "  <tbody>\n",
              "    <tr>\n",
              "      <th>0</th>\n",
              "      <td>YANKEE JZ PIZZA</td>\n",
              "      <td>B</td>\n",
              "      <td>2018-03-06</td>\n",
              "    </tr>\n",
              "    <tr>\n",
              "      <th>1</th>\n",
              "      <td>ARIANA KEBAB HOUSE</td>\n",
              "      <td>A</td>\n",
              "      <td>2019-08-20</td>\n",
              "    </tr>\n",
              "    <tr>\n",
              "      <th>2</th>\n",
              "      <td>TAP NYC</td>\n",
              "      <td>NaN</td>\n",
              "      <td>NaT</td>\n",
              "    </tr>\n",
              "    <tr>\n",
              "      <th>3</th>\n",
              "      <td>GEORGES RESTAURANT</td>\n",
              "      <td>A</td>\n",
              "      <td>2017-06-08</td>\n",
              "    </tr>\n",
              "    <tr>\n",
              "      <th>4</th>\n",
              "      <td>Q &amp; I BAKERY</td>\n",
              "      <td>NaN</td>\n",
              "      <td>NaT</td>\n",
              "    </tr>\n",
              "  </tbody>\n",
              "</table>\n",
              "</div>"
            ],
            "text/plain": [
              "                  DBA GRADE GRADE DATE\n",
              "0     YANKEE JZ PIZZA     B 2018-03-06\n",
              "1  ARIANA KEBAB HOUSE     A 2019-08-20\n",
              "2             TAP NYC   NaN        NaT\n",
              "3  GEORGES RESTAURANT     A 2017-06-08\n",
              "4        Q & I BAKERY   NaN        NaT"
            ]
          },
          "metadata": {
            "tags": []
          },
          "execution_count": 38
        }
      ]
    },
    {
      "cell_type": "code",
      "metadata": {
        "id": "OSk_94JT-5dY",
        "colab_type": "code",
        "outputId": "2e044dc3-30cc-45b0-835b-595df2968c12",
        "colab": {
          "base_uri": "https://localhost:8080/",
          "height": 204
        }
      },
      "source": [
        "columns = [\"GRADE DATE\",\"VIOLATION CODE\", \"DBA\", \"SCORE\"]\n",
        "restaurants[ columns ].head()"
      ],
      "execution_count": 0,
      "outputs": [
        {
          "output_type": "execute_result",
          "data": {
            "text/html": [
              "<div>\n",
              "<style scoped>\n",
              "    .dataframe tbody tr th:only-of-type {\n",
              "        vertical-align: middle;\n",
              "    }\n",
              "\n",
              "    .dataframe tbody tr th {\n",
              "        vertical-align: top;\n",
              "    }\n",
              "\n",
              "    .dataframe thead th {\n",
              "        text-align: right;\n",
              "    }\n",
              "</style>\n",
              "<table border=\"1\" class=\"dataframe\">\n",
              "  <thead>\n",
              "    <tr style=\"text-align: right;\">\n",
              "      <th></th>\n",
              "      <th>GRADE DATE</th>\n",
              "      <th>VIOLATION CODE</th>\n",
              "      <th>DBA</th>\n",
              "      <th>SCORE</th>\n",
              "    </tr>\n",
              "  </thead>\n",
              "  <tbody>\n",
              "    <tr>\n",
              "      <th>0</th>\n",
              "      <td>2018-03-06</td>\n",
              "      <td>10F</td>\n",
              "      <td>YANKEE JZ PIZZA</td>\n",
              "      <td>17.0</td>\n",
              "    </tr>\n",
              "    <tr>\n",
              "      <th>1</th>\n",
              "      <td>2019-08-20</td>\n",
              "      <td>10B</td>\n",
              "      <td>ARIANA KEBAB HOUSE</td>\n",
              "      <td>5.0</td>\n",
              "    </tr>\n",
              "    <tr>\n",
              "      <th>2</th>\n",
              "      <td>NaT</td>\n",
              "      <td>08C</td>\n",
              "      <td>TAP NYC</td>\n",
              "      <td>20.0</td>\n",
              "    </tr>\n",
              "    <tr>\n",
              "      <th>3</th>\n",
              "      <td>2017-06-08</td>\n",
              "      <td>10F</td>\n",
              "      <td>GEORGES RESTAURANT</td>\n",
              "      <td>7.0</td>\n",
              "    </tr>\n",
              "    <tr>\n",
              "      <th>4</th>\n",
              "      <td>NaT</td>\n",
              "      <td>06C</td>\n",
              "      <td>Q &amp; I BAKERY</td>\n",
              "      <td>22.0</td>\n",
              "    </tr>\n",
              "  </tbody>\n",
              "</table>\n",
              "</div>"
            ],
            "text/plain": [
              "  GRADE DATE VIOLATION CODE                 DBA  SCORE\n",
              "0 2018-03-06            10F     YANKEE JZ PIZZA   17.0\n",
              "1 2019-08-20            10B  ARIANA KEBAB HOUSE    5.0\n",
              "2        NaT            08C             TAP NYC   20.0\n",
              "3 2017-06-08            10F  GEORGES RESTAURANT    7.0\n",
              "4        NaT            06C        Q & I BAKERY   22.0"
            ]
          },
          "metadata": {
            "tags": []
          },
          "execution_count": 39
        }
      ]
    },
    {
      "cell_type": "markdown",
      "metadata": {
        "id": "prkF-V1B-5da",
        "colab_type": "text"
      },
      "source": [
        "### Selecting rows\n",
        "\n",
        "To select rows, we can use the following approach, where we generate a list of boolean values, one for each row of the dataframe, and then we use the list to select which of the rows of the dataframe we want to keep\""
      ]
    },
    {
      "cell_type": "code",
      "metadata": {
        "id": "IyzQCk9T-5dc",
        "colab_type": "code",
        "outputId": "a08586f4-f031-4080-e962-9c35e3e633b4",
        "colab": {
          "base_uri": "https://localhost:8080/",
          "height": 119
        }
      },
      "source": [
        "# Create the condition \"has mice\" for code 04L\n",
        "mice = (restaurants[\"VIOLATION CODE\"] == \"04L\")\n",
        "mice.head()"
      ],
      "execution_count": 0,
      "outputs": [
        {
          "output_type": "execute_result",
          "data": {
            "text/plain": [
              "0    False\n",
              "1    False\n",
              "2    False\n",
              "3    False\n",
              "4    False\n",
              "Name: VIOLATION CODE, dtype: bool"
            ]
          },
          "metadata": {
            "tags": []
          },
          "execution_count": 40
        }
      ]
    },
    {
      "cell_type": "code",
      "metadata": {
        "id": "fdeZuLot-5dh",
        "colab_type": "code",
        "outputId": "460b49f2-9de4-4257-deb0-0d66bb9d58c0",
        "colab": {
          "base_uri": "https://localhost:8080/",
          "height": 666
        }
      },
      "source": [
        "# Apply the condition to the dataframe \"restaurants\" and store the result \n",
        "# in a dataframe called  has_mice\n",
        "has_mice = restaurants[mice]\n",
        "has_mice.head()"
      ],
      "execution_count": 0,
      "outputs": [
        {
          "output_type": "execute_result",
          "data": {
            "text/html": [
              "<div>\n",
              "<style scoped>\n",
              "    .dataframe tbody tr th:only-of-type {\n",
              "        vertical-align: middle;\n",
              "    }\n",
              "\n",
              "    .dataframe tbody tr th {\n",
              "        vertical-align: top;\n",
              "    }\n",
              "\n",
              "    .dataframe thead th {\n",
              "        text-align: right;\n",
              "    }\n",
              "</style>\n",
              "<table border=\"1\" class=\"dataframe\">\n",
              "  <thead>\n",
              "    <tr style=\"text-align: right;\">\n",
              "      <th></th>\n",
              "      <th>CAMIS</th>\n",
              "      <th>DBA</th>\n",
              "      <th>BORO</th>\n",
              "      <th>BUILDING</th>\n",
              "      <th>STREET</th>\n",
              "      <th>ZIPCODE</th>\n",
              "      <th>PHONE</th>\n",
              "      <th>CUISINE DESCRIPTION</th>\n",
              "      <th>INSPECTION DATE</th>\n",
              "      <th>ACTION</th>\n",
              "      <th>VIOLATION CODE</th>\n",
              "      <th>VIOLATION DESCRIPTION</th>\n",
              "      <th>CRITICAL FLAG</th>\n",
              "      <th>SCORE</th>\n",
              "      <th>GRADE</th>\n",
              "      <th>GRADE DATE</th>\n",
              "      <th>RECORD DATE</th>\n",
              "      <th>INSPECTION TYPE</th>\n",
              "      <th>Latitude</th>\n",
              "      <th>Longitude</th>\n",
              "      <th>Community Board</th>\n",
              "      <th>Council District</th>\n",
              "      <th>Census Tract</th>\n",
              "      <th>BIN</th>\n",
              "      <th>BBL</th>\n",
              "      <th>NTA</th>\n",
              "    </tr>\n",
              "  </thead>\n",
              "  <tbody>\n",
              "    <tr>\n",
              "      <th>18</th>\n",
              "      <td>50033001</td>\n",
              "      <td>RONDEL</td>\n",
              "      <td>Brooklyn</td>\n",
              "      <td>2006</td>\n",
              "      <td>CONEY ISLAND AVE</td>\n",
              "      <td>11223</td>\n",
              "      <td>3473719276</td>\n",
              "      <td>Eastern European</td>\n",
              "      <td>2018-02-13</td>\n",
              "      <td>Violations were cited in the following area(s).</td>\n",
              "      <td>04L</td>\n",
              "      <td>Evidence of mice or live mice present in facil...</td>\n",
              "      <td>Y</td>\n",
              "      <td>25.0</td>\n",
              "      <td>NaN</td>\n",
              "      <td>NaT</td>\n",
              "      <td>2020-03-02</td>\n",
              "      <td>Cycle Inspection / Initial Inspection</td>\n",
              "      <td>40.608485987867</td>\n",
              "      <td>-73.962101454312</td>\n",
              "      <td>315</td>\n",
              "      <td>44</td>\n",
              "      <td>042000</td>\n",
              "      <td>3329198</td>\n",
              "      <td>3066420034</td>\n",
              "      <td>BK25</td>\n",
              "    </tr>\n",
              "    <tr>\n",
              "      <th>35</th>\n",
              "      <td>41284555</td>\n",
              "      <td>JIMMY'S DINER</td>\n",
              "      <td>Brooklyn</td>\n",
              "      <td>577</td>\n",
              "      <td>UNION AVENUE</td>\n",
              "      <td>11211</td>\n",
              "      <td>7182187174</td>\n",
              "      <td>American</td>\n",
              "      <td>2018-08-07</td>\n",
              "      <td>Violations were cited in the following area(s).</td>\n",
              "      <td>04L</td>\n",
              "      <td>Evidence of mice or live mice present in facil...</td>\n",
              "      <td>Y</td>\n",
              "      <td>27.0</td>\n",
              "      <td>NaN</td>\n",
              "      <td>NaT</td>\n",
              "      <td>2020-03-02</td>\n",
              "      <td>Cycle Inspection / Initial Inspection</td>\n",
              "      <td>40.717669569068</td>\n",
              "      <td>-73.952226950759</td>\n",
              "      <td>301</td>\n",
              "      <td>33</td>\n",
              "      <td>051900</td>\n",
              "      <td>3061639</td>\n",
              "      <td>3023000018</td>\n",
              "      <td>BK73</td>\n",
              "    </tr>\n",
              "    <tr>\n",
              "      <th>98</th>\n",
              "      <td>50039681</td>\n",
              "      <td>YUAN BAO 50</td>\n",
              "      <td>Brooklyn</td>\n",
              "      <td>4924</td>\n",
              "      <td>8TH AVE</td>\n",
              "      <td>11220</td>\n",
              "      <td>7184371888</td>\n",
              "      <td>Chinese</td>\n",
              "      <td>2017-04-10</td>\n",
              "      <td>Violations were cited in the following area(s).</td>\n",
              "      <td>04L</td>\n",
              "      <td>Evidence of mice or live mice present in facil...</td>\n",
              "      <td>Y</td>\n",
              "      <td>45.0</td>\n",
              "      <td>NaN</td>\n",
              "      <td>NaT</td>\n",
              "      <td>2020-03-02</td>\n",
              "      <td>Cycle Inspection / Initial Inspection</td>\n",
              "      <td>40.641492746629</td>\n",
              "      <td>-74.003322228373</td>\n",
              "      <td>307</td>\n",
              "      <td>38</td>\n",
              "      <td>010800</td>\n",
              "      <td>3013117</td>\n",
              "      <td>3007860047</td>\n",
              "      <td>BK34</td>\n",
              "    </tr>\n",
              "    <tr>\n",
              "      <th>112</th>\n",
              "      <td>50073755</td>\n",
              "      <td>LITTLE GIO'S PIZZA</td>\n",
              "      <td>Manhattan</td>\n",
              "      <td>26</td>\n",
              "      <td>1ST AVE</td>\n",
              "      <td>10009</td>\n",
              "      <td>6469619801</td>\n",
              "      <td>Pizza</td>\n",
              "      <td>2019-11-26</td>\n",
              "      <td>Violations were cited in the following area(s).</td>\n",
              "      <td>04L</td>\n",
              "      <td>Evidence of mice or live mice present in facil...</td>\n",
              "      <td>Y</td>\n",
              "      <td>66.0</td>\n",
              "      <td>NaN</td>\n",
              "      <td>NaT</td>\n",
              "      <td>2020-03-02</td>\n",
              "      <td>Cycle Inspection / Initial Inspection</td>\n",
              "      <td>40.723791492614</td>\n",
              "      <td>-73.988040303961</td>\n",
              "      <td>103</td>\n",
              "      <td>02</td>\n",
              "      <td>003002</td>\n",
              "      <td>1005735</td>\n",
              "      <td>1004290009</td>\n",
              "      <td>MN22</td>\n",
              "    </tr>\n",
              "    <tr>\n",
              "      <th>117</th>\n",
              "      <td>50060455</td>\n",
              "      <td>FOUR &amp; TWENTY BLACKBIRDS</td>\n",
              "      <td>Brooklyn</td>\n",
              "      <td>634</td>\n",
              "      <td>DEAN ST</td>\n",
              "      <td>11238</td>\n",
              "      <td>3473505110</td>\n",
              "      <td>Café/Coffee/Tea</td>\n",
              "      <td>2019-05-09</td>\n",
              "      <td>Violations were cited in the following area(s).</td>\n",
              "      <td>04L</td>\n",
              "      <td>Evidence of mice or live mice present in facil...</td>\n",
              "      <td>Y</td>\n",
              "      <td>13.0</td>\n",
              "      <td>A</td>\n",
              "      <td>2019-05-09</td>\n",
              "      <td>2020-03-02</td>\n",
              "      <td>Cycle Inspection / Initial Inspection</td>\n",
              "      <td>40.680445313491</td>\n",
              "      <td>-73.969260381268</td>\n",
              "      <td>308</td>\n",
              "      <td>35</td>\n",
              "      <td>016300</td>\n",
              "      <td>3027866</td>\n",
              "      <td>3011370035</td>\n",
              "      <td>BK64</td>\n",
              "    </tr>\n",
              "  </tbody>\n",
              "</table>\n",
              "</div>"
            ],
            "text/plain": [
              "        CAMIS                       DBA       BORO  ...      BIN         BBL   NTA\n",
              "18   50033001                    RONDEL   Brooklyn  ...  3329198  3066420034  BK25\n",
              "35   41284555             JIMMY'S DINER   Brooklyn  ...  3061639  3023000018  BK73\n",
              "98   50039681               YUAN BAO 50   Brooklyn  ...  3013117  3007860047  BK34\n",
              "112  50073755        LITTLE GIO'S PIZZA  Manhattan  ...  1005735  1004290009  MN22\n",
              "117  50060455  FOUR & TWENTY BLACKBIRDS   Brooklyn  ...  3027866  3011370035  BK64\n",
              "\n",
              "[5 rows x 26 columns]"
            ]
          },
          "metadata": {
            "tags": []
          },
          "execution_count": 41
        }
      ]
    },
    {
      "cell_type": "code",
      "metadata": {
        "id": "xs1lsevf-5dk",
        "colab_type": "code",
        "outputId": "2995d2e5-bc9a-41a4-8e5e-60751743cc68",
        "colab": {
          "base_uri": "https://localhost:8080/",
          "height": 374
        }
      },
      "source": [
        "# List the most frequent DBA values in the data of restaurants that have mice\n",
        "has_mice[\"DBA\"].value_counts()[:20]"
      ],
      "execution_count": 0,
      "outputs": [
        {
          "output_type": "execute_result",
          "data": {
            "text/plain": [
              "SUBWAY                                   255\n",
              "DUNKIN'                                  147\n",
              "KENNEDY FRIED CHICKEN                    126\n",
              "CROWN FRIED CHICKEN                      119\n",
              "STARBUCKS                                 85\n",
              "MCDONALD'S                                74\n",
              "POPEYES                                   71\n",
              "BURGER KING                               71\n",
              "GOLDEN KRUST CARIBBEAN BAKERY & GRILL     66\n",
              "DUNKIN', BASKIN ROBBINS                   56\n",
              "KFC                                       39\n",
              "LE PAIN QUOTIDIEN                         37\n",
              "DOMINO'S                                  37\n",
              "LITTLE CAESARS                            35\n",
              "AMC THEATRES                              31\n",
              "CARVEL ICE CREAM                          29\n",
              "BAREBURGER                                22\n",
              "PAPA JOHN'S                               22\n",
              "VIVI BUBBLE TEA                           22\n",
              "EMPANADAS MONUMENTAL                      21\n",
              "Name: DBA, dtype: int64"
            ]
          },
          "metadata": {
            "tags": []
          },
          "execution_count": 42
        }
      ]
    },
    {
      "cell_type": "code",
      "metadata": {
        "id": "zrIigepP-5dn",
        "colab_type": "code",
        "outputId": "4e5d47cd-f175-48c6-af4b-0527a79ab0b2",
        "colab": {
          "base_uri": "https://localhost:8080/",
          "height": 119
        }
      },
      "source": [
        "has_mice[\"CAMIS\"].value_counts()[:5]"
      ],
      "execution_count": 0,
      "outputs": [
        {
          "output_type": "execute_result",
          "data": {
            "text/plain": [
              "50016943    13\n",
              "50015263    13\n",
              "50046623    12\n",
              "41642251    12\n",
              "50058969    12\n",
              "Name: CAMIS, dtype: int64"
            ]
          },
          "metadata": {
            "tags": []
          },
          "execution_count": 43
        }
      ]
    },
    {
      "cell_type": "code",
      "metadata": {
        "id": "874-uLh3-5dp",
        "colab_type": "code",
        "outputId": "2e249af9-c9bd-48cd-9ce6-d407f1bdd338",
        "colab": {
          "base_uri": "https://localhost:8080/",
          "height": 513
        }
      },
      "source": [
        "condition = (has_mice[\"CAMIS\"] == '41259444')\n",
        "has_mice[condition].head()"
      ],
      "execution_count": 0,
      "outputs": [
        {
          "output_type": "execute_result",
          "data": {
            "text/html": [
              "<div>\n",
              "<style scoped>\n",
              "    .dataframe tbody tr th:only-of-type {\n",
              "        vertical-align: middle;\n",
              "    }\n",
              "\n",
              "    .dataframe tbody tr th {\n",
              "        vertical-align: top;\n",
              "    }\n",
              "\n",
              "    .dataframe thead th {\n",
              "        text-align: right;\n",
              "    }\n",
              "</style>\n",
              "<table border=\"1\" class=\"dataframe\">\n",
              "  <thead>\n",
              "    <tr style=\"text-align: right;\">\n",
              "      <th></th>\n",
              "      <th>CAMIS</th>\n",
              "      <th>DBA</th>\n",
              "      <th>BORO</th>\n",
              "      <th>BUILDING</th>\n",
              "      <th>STREET</th>\n",
              "      <th>ZIPCODE</th>\n",
              "      <th>PHONE</th>\n",
              "      <th>CUISINE DESCRIPTION</th>\n",
              "      <th>INSPECTION DATE</th>\n",
              "      <th>ACTION</th>\n",
              "      <th>VIOLATION CODE</th>\n",
              "      <th>VIOLATION DESCRIPTION</th>\n",
              "      <th>CRITICAL FLAG</th>\n",
              "      <th>SCORE</th>\n",
              "      <th>GRADE</th>\n",
              "      <th>GRADE DATE</th>\n",
              "      <th>RECORD DATE</th>\n",
              "      <th>INSPECTION TYPE</th>\n",
              "      <th>Latitude</th>\n",
              "      <th>Longitude</th>\n",
              "      <th>Community Board</th>\n",
              "      <th>Council District</th>\n",
              "      <th>Census Tract</th>\n",
              "      <th>BIN</th>\n",
              "      <th>BBL</th>\n",
              "      <th>NTA</th>\n",
              "    </tr>\n",
              "  </thead>\n",
              "  <tbody>\n",
              "    <tr>\n",
              "      <th>461</th>\n",
              "      <td>41259444</td>\n",
              "      <td>COCO ROCO RESTAURANT</td>\n",
              "      <td>Brooklyn</td>\n",
              "      <td>392</td>\n",
              "      <td>5 AVENUE</td>\n",
              "      <td>11215</td>\n",
              "      <td>7189653376</td>\n",
              "      <td>Peruvian</td>\n",
              "      <td>2017-03-09</td>\n",
              "      <td>Violations were cited in the following area(s).</td>\n",
              "      <td>04L</td>\n",
              "      <td>Evidence of mice or live mice present in facil...</td>\n",
              "      <td>Y</td>\n",
              "      <td>17.0</td>\n",
              "      <td>NaN</td>\n",
              "      <td>NaT</td>\n",
              "      <td>2020-03-02</td>\n",
              "      <td>Cycle Inspection / Initial Inspection</td>\n",
              "      <td>40.670737437043</td>\n",
              "      <td>-73.985007343144</td>\n",
              "      <td>306</td>\n",
              "      <td>39</td>\n",
              "      <td>013700</td>\n",
              "      <td>3021602</td>\n",
              "      <td>3009930037</td>\n",
              "      <td>BK37</td>\n",
              "    </tr>\n",
              "    <tr>\n",
              "      <th>78340</th>\n",
              "      <td>41259444</td>\n",
              "      <td>COCO ROCO RESTAURANT</td>\n",
              "      <td>Brooklyn</td>\n",
              "      <td>392</td>\n",
              "      <td>5 AVENUE</td>\n",
              "      <td>11215</td>\n",
              "      <td>7189653376</td>\n",
              "      <td>Peruvian</td>\n",
              "      <td>2018-07-25</td>\n",
              "      <td>Violations were cited in the following area(s).</td>\n",
              "      <td>04L</td>\n",
              "      <td>Evidence of mice or live mice present in facil...</td>\n",
              "      <td>Y</td>\n",
              "      <td>11.0</td>\n",
              "      <td>A</td>\n",
              "      <td>2018-07-25</td>\n",
              "      <td>2020-03-02</td>\n",
              "      <td>Cycle Inspection / Re-inspection</td>\n",
              "      <td>40.670737437043</td>\n",
              "      <td>-73.985007343144</td>\n",
              "      <td>306</td>\n",
              "      <td>39</td>\n",
              "      <td>013700</td>\n",
              "      <td>3021602</td>\n",
              "      <td>3009930037</td>\n",
              "      <td>BK37</td>\n",
              "    </tr>\n",
              "    <tr>\n",
              "      <th>82933</th>\n",
              "      <td>41259444</td>\n",
              "      <td>COCO ROCO RESTAURANT</td>\n",
              "      <td>Brooklyn</td>\n",
              "      <td>392</td>\n",
              "      <td>5 AVENUE</td>\n",
              "      <td>11215</td>\n",
              "      <td>7189653376</td>\n",
              "      <td>Peruvian</td>\n",
              "      <td>2019-10-15</td>\n",
              "      <td>Violations were cited in the following area(s).</td>\n",
              "      <td>04L</td>\n",
              "      <td>Evidence of mice or live mice present in facil...</td>\n",
              "      <td>Y</td>\n",
              "      <td>19.0</td>\n",
              "      <td>B</td>\n",
              "      <td>2019-10-15</td>\n",
              "      <td>2020-03-02</td>\n",
              "      <td>Cycle Inspection / Re-inspection</td>\n",
              "      <td>40.670737437043</td>\n",
              "      <td>-73.985007343144</td>\n",
              "      <td>306</td>\n",
              "      <td>39</td>\n",
              "      <td>013700</td>\n",
              "      <td>3021602</td>\n",
              "      <td>3009930037</td>\n",
              "      <td>BK37</td>\n",
              "    </tr>\n",
              "    <tr>\n",
              "      <th>125494</th>\n",
              "      <td>41259444</td>\n",
              "      <td>COCO ROCO RESTAURANT</td>\n",
              "      <td>Brooklyn</td>\n",
              "      <td>392</td>\n",
              "      <td>5 AVENUE</td>\n",
              "      <td>11215</td>\n",
              "      <td>7189653376</td>\n",
              "      <td>Peruvian</td>\n",
              "      <td>2017-12-19</td>\n",
              "      <td>Violations were cited in the following area(s).</td>\n",
              "      <td>04L</td>\n",
              "      <td>Evidence of mice or live mice present in facil...</td>\n",
              "      <td>Y</td>\n",
              "      <td>12.0</td>\n",
              "      <td>A</td>\n",
              "      <td>2017-12-19</td>\n",
              "      <td>2020-03-02</td>\n",
              "      <td>Cycle Inspection / Re-inspection</td>\n",
              "      <td>40.670737437043</td>\n",
              "      <td>-73.985007343144</td>\n",
              "      <td>306</td>\n",
              "      <td>39</td>\n",
              "      <td>013700</td>\n",
              "      <td>3021602</td>\n",
              "      <td>3009930037</td>\n",
              "      <td>BK37</td>\n",
              "    </tr>\n",
              "    <tr>\n",
              "      <th>136478</th>\n",
              "      <td>41259444</td>\n",
              "      <td>COCO ROCO RESTAURANT</td>\n",
              "      <td>Brooklyn</td>\n",
              "      <td>392</td>\n",
              "      <td>5 AVENUE</td>\n",
              "      <td>11215</td>\n",
              "      <td>7189653376</td>\n",
              "      <td>Peruvian</td>\n",
              "      <td>2018-06-05</td>\n",
              "      <td>Establishment Closed by DOHMH.  Violations wer...</td>\n",
              "      <td>04L</td>\n",
              "      <td>Evidence of mice or live mice present in facil...</td>\n",
              "      <td>Y</td>\n",
              "      <td>43.0</td>\n",
              "      <td>NaN</td>\n",
              "      <td>NaT</td>\n",
              "      <td>2020-03-02</td>\n",
              "      <td>Cycle Inspection / Initial Inspection</td>\n",
              "      <td>40.670737437043</td>\n",
              "      <td>-73.985007343144</td>\n",
              "      <td>306</td>\n",
              "      <td>39</td>\n",
              "      <td>013700</td>\n",
              "      <td>3021602</td>\n",
              "      <td>3009930037</td>\n",
              "      <td>BK37</td>\n",
              "    </tr>\n",
              "  </tbody>\n",
              "</table>\n",
              "</div>"
            ],
            "text/plain": [
              "           CAMIS                   DBA      BORO  ...      BIN         BBL   NTA\n",
              "461     41259444  COCO ROCO RESTAURANT  Brooklyn  ...  3021602  3009930037  BK37\n",
              "78340   41259444  COCO ROCO RESTAURANT  Brooklyn  ...  3021602  3009930037  BK37\n",
              "82933   41259444  COCO ROCO RESTAURANT  Brooklyn  ...  3021602  3009930037  BK37\n",
              "125494  41259444  COCO ROCO RESTAURANT  Brooklyn  ...  3021602  3009930037  BK37\n",
              "136478  41259444  COCO ROCO RESTAURANT  Brooklyn  ...  3021602  3009930037  BK37\n",
              "\n",
              "[5 rows x 26 columns]"
            ]
          },
          "metadata": {
            "tags": []
          },
          "execution_count": 44
        }
      ]
    },
    {
      "cell_type": "markdown",
      "metadata": {
        "id": "L0m5Fp6a-5dr",
        "colab_type": "text"
      },
      "source": [
        "And we can use more complex conditions. "
      ]
    },
    {
      "cell_type": "code",
      "metadata": {
        "id": "DfrZTdiv-5ds",
        "colab_type": "code",
        "colab": {}
      },
      "source": [
        "mice_Brooklyn =  ( (restaurants[\"VIOLATION CODE\"] == \"04L\") \n",
        "                    & (restaurants[\"BORO\"] == \"Brooklyn\") )"
      ],
      "execution_count": 0,
      "outputs": []
    },
    {
      "cell_type": "code",
      "metadata": {
        "id": "yfLUGIHu-5dy",
        "colab_type": "code",
        "outputId": "22157763-d686-4525-9236-70d1ff0d1354",
        "colab": {
          "base_uri": "https://localhost:8080/",
          "height": 666
        }
      },
      "source": [
        "has_mice_brooklyn = restaurants[mice_Brooklyn]\n",
        "has_mice_brooklyn.head()"
      ],
      "execution_count": 0,
      "outputs": [
        {
          "output_type": "execute_result",
          "data": {
            "text/html": [
              "<div>\n",
              "<style scoped>\n",
              "    .dataframe tbody tr th:only-of-type {\n",
              "        vertical-align: middle;\n",
              "    }\n",
              "\n",
              "    .dataframe tbody tr th {\n",
              "        vertical-align: top;\n",
              "    }\n",
              "\n",
              "    .dataframe thead th {\n",
              "        text-align: right;\n",
              "    }\n",
              "</style>\n",
              "<table border=\"1\" class=\"dataframe\">\n",
              "  <thead>\n",
              "    <tr style=\"text-align: right;\">\n",
              "      <th></th>\n",
              "      <th>CAMIS</th>\n",
              "      <th>DBA</th>\n",
              "      <th>BORO</th>\n",
              "      <th>BUILDING</th>\n",
              "      <th>STREET</th>\n",
              "      <th>ZIPCODE</th>\n",
              "      <th>PHONE</th>\n",
              "      <th>CUISINE DESCRIPTION</th>\n",
              "      <th>INSPECTION DATE</th>\n",
              "      <th>ACTION</th>\n",
              "      <th>VIOLATION CODE</th>\n",
              "      <th>VIOLATION DESCRIPTION</th>\n",
              "      <th>CRITICAL FLAG</th>\n",
              "      <th>SCORE</th>\n",
              "      <th>GRADE</th>\n",
              "      <th>GRADE DATE</th>\n",
              "      <th>RECORD DATE</th>\n",
              "      <th>INSPECTION TYPE</th>\n",
              "      <th>Latitude</th>\n",
              "      <th>Longitude</th>\n",
              "      <th>Community Board</th>\n",
              "      <th>Council District</th>\n",
              "      <th>Census Tract</th>\n",
              "      <th>BIN</th>\n",
              "      <th>BBL</th>\n",
              "      <th>NTA</th>\n",
              "    </tr>\n",
              "  </thead>\n",
              "  <tbody>\n",
              "    <tr>\n",
              "      <th>18</th>\n",
              "      <td>50033001</td>\n",
              "      <td>RONDEL</td>\n",
              "      <td>Brooklyn</td>\n",
              "      <td>2006</td>\n",
              "      <td>CONEY ISLAND AVE</td>\n",
              "      <td>11223</td>\n",
              "      <td>3473719276</td>\n",
              "      <td>Eastern European</td>\n",
              "      <td>2018-02-13</td>\n",
              "      <td>Violations were cited in the following area(s).</td>\n",
              "      <td>04L</td>\n",
              "      <td>Evidence of mice or live mice present in facil...</td>\n",
              "      <td>Y</td>\n",
              "      <td>25.0</td>\n",
              "      <td>NaN</td>\n",
              "      <td>NaT</td>\n",
              "      <td>2020-03-02</td>\n",
              "      <td>Cycle Inspection / Initial Inspection</td>\n",
              "      <td>40.608485987867</td>\n",
              "      <td>-73.962101454312</td>\n",
              "      <td>315</td>\n",
              "      <td>44</td>\n",
              "      <td>042000</td>\n",
              "      <td>3329198</td>\n",
              "      <td>3066420034</td>\n",
              "      <td>BK25</td>\n",
              "    </tr>\n",
              "    <tr>\n",
              "      <th>35</th>\n",
              "      <td>41284555</td>\n",
              "      <td>JIMMY'S DINER</td>\n",
              "      <td>Brooklyn</td>\n",
              "      <td>577</td>\n",
              "      <td>UNION AVENUE</td>\n",
              "      <td>11211</td>\n",
              "      <td>7182187174</td>\n",
              "      <td>American</td>\n",
              "      <td>2018-08-07</td>\n",
              "      <td>Violations were cited in the following area(s).</td>\n",
              "      <td>04L</td>\n",
              "      <td>Evidence of mice or live mice present in facil...</td>\n",
              "      <td>Y</td>\n",
              "      <td>27.0</td>\n",
              "      <td>NaN</td>\n",
              "      <td>NaT</td>\n",
              "      <td>2020-03-02</td>\n",
              "      <td>Cycle Inspection / Initial Inspection</td>\n",
              "      <td>40.717669569068</td>\n",
              "      <td>-73.952226950759</td>\n",
              "      <td>301</td>\n",
              "      <td>33</td>\n",
              "      <td>051900</td>\n",
              "      <td>3061639</td>\n",
              "      <td>3023000018</td>\n",
              "      <td>BK73</td>\n",
              "    </tr>\n",
              "    <tr>\n",
              "      <th>98</th>\n",
              "      <td>50039681</td>\n",
              "      <td>YUAN BAO 50</td>\n",
              "      <td>Brooklyn</td>\n",
              "      <td>4924</td>\n",
              "      <td>8TH AVE</td>\n",
              "      <td>11220</td>\n",
              "      <td>7184371888</td>\n",
              "      <td>Chinese</td>\n",
              "      <td>2017-04-10</td>\n",
              "      <td>Violations were cited in the following area(s).</td>\n",
              "      <td>04L</td>\n",
              "      <td>Evidence of mice or live mice present in facil...</td>\n",
              "      <td>Y</td>\n",
              "      <td>45.0</td>\n",
              "      <td>NaN</td>\n",
              "      <td>NaT</td>\n",
              "      <td>2020-03-02</td>\n",
              "      <td>Cycle Inspection / Initial Inspection</td>\n",
              "      <td>40.641492746629</td>\n",
              "      <td>-74.003322228373</td>\n",
              "      <td>307</td>\n",
              "      <td>38</td>\n",
              "      <td>010800</td>\n",
              "      <td>3013117</td>\n",
              "      <td>3007860047</td>\n",
              "      <td>BK34</td>\n",
              "    </tr>\n",
              "    <tr>\n",
              "      <th>117</th>\n",
              "      <td>50060455</td>\n",
              "      <td>FOUR &amp; TWENTY BLACKBIRDS</td>\n",
              "      <td>Brooklyn</td>\n",
              "      <td>634</td>\n",
              "      <td>DEAN ST</td>\n",
              "      <td>11238</td>\n",
              "      <td>3473505110</td>\n",
              "      <td>Café/Coffee/Tea</td>\n",
              "      <td>2019-05-09</td>\n",
              "      <td>Violations were cited in the following area(s).</td>\n",
              "      <td>04L</td>\n",
              "      <td>Evidence of mice or live mice present in facil...</td>\n",
              "      <td>Y</td>\n",
              "      <td>13.0</td>\n",
              "      <td>A</td>\n",
              "      <td>2019-05-09</td>\n",
              "      <td>2020-03-02</td>\n",
              "      <td>Cycle Inspection / Initial Inspection</td>\n",
              "      <td>40.680445313491</td>\n",
              "      <td>-73.969260381268</td>\n",
              "      <td>308</td>\n",
              "      <td>35</td>\n",
              "      <td>016300</td>\n",
              "      <td>3027866</td>\n",
              "      <td>3011370035</td>\n",
              "      <td>BK64</td>\n",
              "    </tr>\n",
              "    <tr>\n",
              "      <th>127</th>\n",
              "      <td>50080868</td>\n",
              "      <td>HOMETOWN RESTAURANT</td>\n",
              "      <td>Brooklyn</td>\n",
              "      <td>7218</td>\n",
              "      <td>18TH AVE</td>\n",
              "      <td>11204</td>\n",
              "      <td>6467560498</td>\n",
              "      <td>Chinese</td>\n",
              "      <td>2019-11-04</td>\n",
              "      <td>Violations were cited in the following area(s).</td>\n",
              "      <td>04L</td>\n",
              "      <td>Evidence of mice or live mice present in facil...</td>\n",
              "      <td>Y</td>\n",
              "      <td>12.0</td>\n",
              "      <td>A</td>\n",
              "      <td>2019-11-04</td>\n",
              "      <td>2020-03-02</td>\n",
              "      <td>Cycle Inspection / Re-inspection</td>\n",
              "      <td>40.614969816367</td>\n",
              "      <td>-73.99439192365</td>\n",
              "      <td>311</td>\n",
              "      <td>43</td>\n",
              "      <td>026400</td>\n",
              "      <td>3158493</td>\n",
              "      <td>3061930048</td>\n",
              "      <td>BK28</td>\n",
              "    </tr>\n",
              "  </tbody>\n",
              "</table>\n",
              "</div>"
            ],
            "text/plain": [
              "        CAMIS                       DBA      BORO  ...      BIN         BBL   NTA\n",
              "18   50033001                    RONDEL  Brooklyn  ...  3329198  3066420034  BK25\n",
              "35   41284555             JIMMY'S DINER  Brooklyn  ...  3061639  3023000018  BK73\n",
              "98   50039681               YUAN BAO 50  Brooklyn  ...  3013117  3007860047  BK34\n",
              "117  50060455  FOUR & TWENTY BLACKBIRDS  Brooklyn  ...  3027866  3011370035  BK64\n",
              "127  50080868       HOMETOWN RESTAURANT  Brooklyn  ...  3158493  3061930048  BK28\n",
              "\n",
              "[5 rows x 26 columns]"
            ]
          },
          "metadata": {
            "tags": []
          },
          "execution_count": 46
        }
      ]
    },
    {
      "cell_type": "code",
      "metadata": {
        "id": "TwMiyjti-5d2",
        "colab_type": "code",
        "outputId": "f04f72d9-2934-42b4-f63f-25eb3a4050f4",
        "colab": {
          "base_uri": "https://localhost:8080/",
          "height": 374
        }
      },
      "source": [
        "has_mice_brooklyn[\"DBA\"].value_counts()[:20]"
      ],
      "execution_count": 0,
      "outputs": [
        {
          "output_type": "execute_result",
          "data": {
            "text/plain": [
              "CROWN FRIED CHICKEN                      70\n",
              "DUNKIN'                                  32\n",
              "BURGER KING                              31\n",
              "SUBWAY                                   29\n",
              "GOLDEN KRUST CARIBBEAN BAKERY & GRILL    28\n",
              "KENNEDY FRIED CHICKEN                    21\n",
              "KFC                                      17\n",
              "PAPA JOHN'S                              14\n",
              "DUNKIN', BASKIN ROBBINS                  12\n",
              "COLD STONE CREAMERY                      12\n",
              "CAFE CREOLE                              12\n",
              "LIN BAKERY & CAFE                        11\n",
              "TWIN SISTER PAN                          11\n",
              "TAQUERIA RESTAURANTE MI BARRIO           11\n",
              "RINCONCITO FAMILIAR MEXICAN CUISINE      11\n",
              "AUTHENTIC SZECHUAN                       11\n",
              "FISHERMAN'S COVE                         11\n",
              "COCO ROCO RESTAURANT                     11\n",
              "DOUBLE DRAGON                            11\n",
              "STARBUCKS                                11\n",
              "Name: DBA, dtype: int64"
            ]
          },
          "metadata": {
            "tags": []
          },
          "execution_count": 47
        }
      ]
    }
  ]
}