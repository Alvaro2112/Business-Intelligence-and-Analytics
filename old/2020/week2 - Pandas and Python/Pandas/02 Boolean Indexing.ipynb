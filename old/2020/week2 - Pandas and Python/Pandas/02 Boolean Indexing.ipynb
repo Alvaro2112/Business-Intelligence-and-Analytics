{
  "nbformat": 4,
  "nbformat_minor": 0,
  "metadata": {
    "kernelspec": {
      "display_name": "Python 3",
      "language": "python",
      "name": "python3"
    },
    "language_info": {
      "codemirror_mode": {
        "name": "ipython",
        "version": 3
      },
      "file_extension": ".py",
      "mimetype": "text/x-python",
      "name": "python",
      "nbconvert_exporter": "python",
      "pygments_lexer": "ipython3",
      "version": "3.7.6"
    },
    "colab": {
      "name": "02 Boolean Indexing.ipynb",
      "provenance": [],
      "include_colab_link": true
    }
  },
  "cells": [
    {
      "cell_type": "markdown",
      "metadata": {
        "id": "view-in-github",
        "colab_type": "text"
      },
      "source": [
        "<a href=\"https://colab.research.google.com/github/michalis0/Business-Intelligence-and-Analytics/blob/master/week2%20-%20Pandas%20and%20Python/Pandas/02%20Boolean%20Indexing.ipynb\" target=\"_parent\"><img src=\"https://colab.research.google.com/assets/colab-badge.svg\" alt=\"Open In Colab\"/></a>"
      ]
    },
    {
      "cell_type": "markdown",
      "metadata": {
        "id": "NiDZWEI7e56f",
        "colab_type": "text"
      },
      "source": [
        "# Selecting Subsets of Data in Pandas\n",
        "\n",
        "This notebook is also available as a [blog post on Medium](https://medium.com/dunder-data/selecting-subsets-of-data-in-pandas-39e811c81a0c).\n",
        "\n",
        "## Part 2: Boolean Indexing\n",
        "This is part 2 of a seven-part series on how to select subsets of data from a pandas DataFrame or Series. Pandas offers a wide variety of options for subset selection which necessitates multiple articles. This series is broken down into the following 7 topics.\n",
        "\n",
        "## Part 1 vs Part 2 subset selection\n",
        "\n",
        "Part 1 of this series covered subset selection with `[]`, `.loc` and `.iloc`. All three of these **indexers** use either the row/column labels or their integer location to make selections. The actual **data** of the Series/DataFrame is not used at all during the selection. \n",
        "\n",
        "In Part 2 of this series, on **boolean indexing**, we will select subsets of data based on the actual values of the data in the Series/DataFrame and NOT on their row/column labels or integer locations. \n",
        "\n",
        "\n",
        "## Documentation on boolean selection\n",
        "I will always recommend reading the official documentation in addition to this tutorial when learning about boolean selection. The documentation uses more formal examples with dummy data, but is still an excellent resource.\n",
        "\n",
        "The documentation use the term **boolean indexing** but you will also see **boolean selection**.\n",
        "\n",
        "[Boolean Indexing from pandas documentation](http://pandas.pydata.org/pandas-docs/stable/indexing.html#boolean-indexing)\n",
        "\n",
        "## Stack Overflow Data\n",
        "\n",
        "The data that we will use for this tutorial comes from [Stack Overflow's data explorer](https://data.stackexchange.com/stackoverflow/query/new), which is a fantastic tool to gather an incredible amount of data from the site. You must know SQL in order to use the data explorer. The data explorer allows you to save queries. [Take a look at the query](http://data.stackexchange.com/stackoverflow/query/768430/get-all-questions-and-answerers-from-tag) I used to collect the data. \n",
        "\n",
        "The table below contains data on each question asked on stack overflow [tagged as pandas](https://stackoverflow.com/questions/tagged/pandas). \n",
        "\n",
        "The first question was asked March 30, 2011. Since then, more than 56,000 questions have been added as of December 2, 2017."
      ]
    },
    {
      "cell_type": "code",
      "metadata": {
        "id": "V5mW7G08e56k",
        "colab_type": "code",
        "colab": {}
      },
      "source": [
        "import pandas as pd\n",
        "import numpy as np"
      ],
      "execution_count": 0,
      "outputs": []
    },
    {
      "cell_type": "code",
      "metadata": {
        "id": "ymZovQJge56v",
        "colab_type": "code",
        "colab": {}
      },
      "source": [
        "#so = pd.read_csv('../../data/stackoverflow_qa.csv')\n",
        "so = pd.read_csv(\"https://raw.githubusercontent.com/ahmadajal/DM_ML_course_public/master/2%263.%20Data%26EDA/data/stackoverflow_qa.csv\")\n",
        "so.head()"
      ],
      "execution_count": 0,
      "outputs": []
    },
    {
      "cell_type": "markdown",
      "metadata": {
        "id": "-DPjZ3UIe562",
        "colab_type": "text"
      },
      "source": [
        "## Asking simple questions in plain English\n",
        "\n",
        "Before we get to the technical definition of boolean indexing, let's see some examples of the types of questions it can answer.\n",
        "\n",
        "* Find all questions that were created before 2014\n",
        "* Find all questions with a score more than 50\n",
        "* Find all questions with a score between 50 and 100\n",
        "* Find all questions answered by Scott Boston\n",
        "* Find all questions answered by the following 5 users\n",
        "* Find all questions that were created between March, 2014 and October 2014 that were answered by Unutbu and have score less than 5.\n",
        "* Find all questions that have score between 5 and 10 or have a view count of greater than 10,000\n",
        "* Find all questions that are not answered by Scott Boston\n",
        "\n",
        "You will also see examples like this referred to by the term **queries**.\n",
        "\n",
        "## All queries have criteria\n",
        "Each of the above queries have a strict logical criteria that must be checked one row at a time.\n",
        "\n",
        "## Keep or Discard entire row of data\n",
        "If you were to manually answer the above queries, you would need to scan each row and determine whether the row as a whole meets the criterion or not. If the row meets the criteria, then it is kept and if not, then it is discarded.\n",
        "\n",
        "## Each row will have a `True` or `False` value associated with it\n",
        "When you perform boolean indexing, each row of the DataFrame (or value of a Series) will have a `True` or `False` value associated with it depending on whether or not it meets the criterion. True/False values are known as **boolean**. The documentation refers to the entire procedure as **boolean indexing**. \n",
        "\n",
        "Since we are using the booleans to select data, it is sometimes referred to as **boolean selection**. Essentially, we are using booleans to select subsets of data.\n",
        "\n",
        "## Using `[]` and `.loc` for boolean selection\n",
        "We will use the same three indexers, **`[]`** and **`.loc`** from part 1 to complete our boolean selections. We will do so by placing a sequence of booleans inside of these indexer. The sequence will be the same number of rows/values as the DataFrame/Series it is doing the selection on.\n",
        "\n",
        "The **`.iloc`** indexer can be made to work with boolean selection but is almost never used. A small section towards the end will show why it's unnecessary.\n",
        "\n",
        "## Focus on `[]` for now\n",
        "To simplify things, we will only the brackets, **`[]`**, which I called **just the indexing operator** from part 1. We will get to the other indexers a bit later.\n",
        "\n",
        "## Use a small DataFrame to get started\n",
        "Before we make our first boolean selection, let's simplify matters and use the first five rows of the stack overflow data as our starting DataFrame."
      ]
    },
    {
      "cell_type": "code",
      "metadata": {
        "id": "MGMUw9c0e564",
        "colab_type": "code",
        "colab": {}
      },
      "source": [
        "so_head = so.head()\n",
        "so_head"
      ],
      "execution_count": 0,
      "outputs": []
    },
    {
      "cell_type": "markdown",
      "metadata": {
        "id": "Dy8oYJdse56_",
        "colab_type": "text"
      },
      "source": [
        "## Manually create a list of booleans\n",
        "For our first boolean selection, we will not answer any interesting 'English' queries and instead just select rows with a list of booleans.\n",
        "\n",
        "For instance, let's select the first and third rows by creating the following list:"
      ]
    },
    {
      "cell_type": "code",
      "metadata": {
        "id": "PgW1TwEae57A",
        "colab_type": "code",
        "colab": {}
      },
      "source": [
        "criteria = [True, False, True, False, False]"
      ],
      "execution_count": 0,
      "outputs": []
    },
    {
      "cell_type": "markdown",
      "metadata": {
        "id": "-3rAoigFe57H",
        "colab_type": "text"
      },
      "source": [
        "We can pass this list of booleans to just the indexing operator and complete our selection:"
      ]
    },
    {
      "cell_type": "code",
      "metadata": {
        "id": "fvfSaXvle57I",
        "colab_type": "code",
        "colab": {}
      },
      "source": [
        "so_head[criteria]"
      ],
      "execution_count": 0,
      "outputs": []
    },
    {
      "cell_type": "markdown",
      "metadata": {
        "id": "Nyli7pkSe57N",
        "colab_type": "text"
      },
      "source": [
        "## Wait a second... Isn't `[]` just for column selection?\n",
        "The primary purpose of *just the indexing operator* for a DataFrame is to select one or more columns by using either a string or a list of strings. Now, all of a sudden, this example is showing that entire rows are selected with boolean values. This is what makes pandas, unfortunately, one of the most confusing libraries to use. \n",
        "\n",
        "## Operator Overloading\n",
        "*Just the indexing* operator is overloaded. This means, that depending on the inputs, pandas will do something completely different. Here are the rules for the different objects you pass to *just the indexing operator*.\n",
        "* string - return a column as a Series\n",
        "* list of strings - return all those columns as a DataFrame\n",
        "* a slice - select rows (can do both label and integer location - confusing!)\n",
        "* a sequence of booleans - select all rows where **`True`**\n",
        "\n",
        "In summary, primarily *just the indexing operator* selects **columns**, but if you pass it a sequence of booleans it will select all **rows** that are **`True`**."
      ]
    },
    {
      "cell_type": "markdown",
      "metadata": {
        "id": "ffoWM0jXe57P",
        "colab_type": "text"
      },
      "source": [
        "## What do you mean by 'sequence'?\n",
        "I keep using the term **sequence of booleans** to refer to the `True/False` values. Technically, the most common built-in [Python sequence](https://docs.python.org/3/library/stdtypes.html#typesseq) types are lists and tuples. In addition to a list, you will most often be using a pandas Series as your 'sequence' of booleans.\n",
        "\n",
        "Let's manually create a boolean Series to select the last three rows of **`so_head`**."
      ]
    },
    {
      "cell_type": "code",
      "metadata": {
        "id": "pBmTp17He57Q",
        "colab_type": "code",
        "colab": {}
      },
      "source": [
        "s = pd.Series([False, False, True, True, True])\n",
        "s"
      ],
      "execution_count": 0,
      "outputs": []
    },
    {
      "cell_type": "code",
      "metadata": {
        "id": "9qnEgcR0e57W",
        "colab_type": "code",
        "colab": {}
      },
      "source": [
        "so_head[s]"
      ],
      "execution_count": 0,
      "outputs": []
    },
    {
      "cell_type": "markdown",
      "metadata": {
        "id": "k9hzd8hEe57b",
        "colab_type": "text"
      },
      "source": [
        "## Take care when creating a boolean Series by hand\n",
        "The above example only worked because the index of both the boolean Series and **`so_head`** were the exact same. Let's output them so you can clearly see this."
      ]
    },
    {
      "cell_type": "code",
      "metadata": {
        "id": "dMeKFdlqe57c",
        "colab_type": "code",
        "colab": {}
      },
      "source": [
        "s.index"
      ],
      "execution_count": 0,
      "outputs": []
    },
    {
      "cell_type": "code",
      "metadata": {
        "id": "-tccguKCe57h",
        "colab_type": "code",
        "colab": {}
      },
      "source": [
        "so_head.index"
      ],
      "execution_count": 0,
      "outputs": []
    },
    {
      "cell_type": "markdown",
      "metadata": {
        "id": "drN0c81Be57m",
        "colab_type": "text"
      },
      "source": [
        "## Boolean selection fails when the index doesn't align\n",
        "When you are using a boolean Series to do boolean selection, the index of both objects must be the exact same. Let's create a slightly different Series with a different index than the DataFrame it is indexing on."
      ]
    },
    {
      "cell_type": "code",
      "metadata": {
        "id": "URw5C49Ee57o",
        "colab_type": "code",
        "colab": {}
      },
      "source": [
        "s = pd.Series([False, False, True, True, True], index=[2, 3, 4, 5, 6])\n",
        "s"
      ],
      "execution_count": 0,
      "outputs": []
    },
    {
      "cell_type": "code",
      "metadata": {
        "id": "lgku9uTve57s",
        "colab_type": "code",
        "colab": {}
      },
      "source": [
        "#so_head[s]"
      ],
      "execution_count": 0,
      "outputs": []
    },
    {
      "cell_type": "markdown",
      "metadata": {
        "id": "ZImYOu1Oe57w",
        "colab_type": "text"
      },
      "source": [
        "## `IndexingError`: Unalignable boolean Series!\n",
        "If the index of both the boolean Series and the object you are doing boolean selection on don't match exactly, you will get the above error. This is one reason, as you will below, why you will almost never create boolean Series by hand like this."
      ]
    },
    {
      "cell_type": "markdown",
      "metadata": {
        "id": "S8IXwEZAe57x",
        "colab_type": "text"
      },
      "source": [
        "## Also use NumPy arrays\n",
        "You can also use NumPy arrays to do boolean selection. NumPy arrays have no index so you won't get the error above, but your array needs to be the same exact length as the object you are doing boolean selection on."
      ]
    },
    {
      "cell_type": "code",
      "metadata": {
        "id": "Qe92Lqyje57z",
        "colab_type": "code",
        "colab": {}
      },
      "source": [
        "a = np.array([True, False, False, False, False])\n",
        "so_head[a]"
      ],
      "execution_count": 0,
      "outputs": []
    },
    {
      "cell_type": "markdown",
      "metadata": {
        "id": "z0mN61Pme573",
        "colab_type": "text"
      },
      "source": [
        "## Never creating boolean Series by hand\n",
        "You will likely never create a boolean Series by hand as was done above. Instead, you will produce them based on the values of your data.\n",
        "\n",
        "## Use the comparison operators to create boolean Series\n",
        "The primary method of creating a Series of booleans is to use one of the six comparison operators: \n",
        "* **`<`**\n",
        "* **`<=`**\n",
        "* **`>`**\n",
        "* **`>=`**\n",
        "* **`==`**\n",
        "* **`!=`** \n",
        "\n",
        "## Use comparison operator with a single column of data\n",
        "You will almost always use the comparison operators on just a single column or Series of data. For instance, let's create a boolean Series from the **`score`** column. Let's determine if the score is at least 10.\n",
        "\n",
        "We select the score column and then test the condition that each value is greater than or equal to 10. Notice that this operations gets applied to each value in the Series. A boolean Series is returned."
      ]
    },
    {
      "cell_type": "code",
      "metadata": {
        "id": "6JnP9ziSe574",
        "colab_type": "code",
        "colab": {}
      },
      "source": [
        "criteria = so['score'] >= 10\n",
        "criteria.head(10)"
      ],
      "execution_count": 0,
      "outputs": []
    },
    {
      "cell_type": "markdown",
      "metadata": {
        "id": "a7k0dFnme578",
        "colab_type": "text"
      },
      "source": [
        "## Finally making a boolean selection\n",
        "Now that we have our boolean Series stored in the variable **`criteria`**, we can pass this to *just the indexing operator* to select only the rows that have a score of at least 10. \n",
        "\n",
        "We are going to use the entire **`so`** DataFrame for the rest of the tutorial."
      ]
    },
    {
      "cell_type": "code",
      "metadata": {
        "id": "VY_9nXLve579",
        "colab_type": "code",
        "colab": {}
      },
      "source": [
        "so_score_10_or_more = so[criteria]\n",
        "so_score_10_or_more.head()"
      ],
      "execution_count": 0,
      "outputs": []
    },
    {
      "cell_type": "markdown",
      "metadata": {
        "id": "05ZAXuO7e58B",
        "colab_type": "text"
      },
      "source": [
        "## How many rows have a score of at least ten\n",
        "Just by looking at the head of the resulting DataFrame, we don't know how many rows passed our criterion. Let's output the shape of both our original and our resulting DataFrame."
      ]
    },
    {
      "cell_type": "code",
      "metadata": {
        "id": "RE97n2gLe58B",
        "colab_type": "code",
        "colab": {}
      },
      "source": [
        "so.shape"
      ],
      "execution_count": 0,
      "outputs": []
    },
    {
      "cell_type": "code",
      "metadata": {
        "id": "r6pkahoae58F",
        "colab_type": "code",
        "colab": {}
      },
      "source": [
        "so_score_10_or_more.shape"
      ],
      "execution_count": 0,
      "outputs": []
    },
    {
      "cell_type": "markdown",
      "metadata": {
        "id": "ZV-iGwFIe58I",
        "colab_type": "text"
      },
      "source": [
        "Only about 3% of questions get a score of 10 or more.\n",
        "\n",
        "## Boolean selection in one line\n",
        "Often, you will see boolean selection happen in a single line of code instead of the multiple lines we used above. If the following is confusing for you, then I recommend storing your boolean Series to a variable like I did with **`criteria`** above.\n",
        "\n",
        "It is possible to put the creation of the boolean Series inside of *just the indexing operator* like this."
      ]
    },
    {
      "cell_type": "code",
      "metadata": {
        "id": "OeEiLijYe58K",
        "colab_type": "code",
        "colab": {}
      },
      "source": [
        "so[so['score'] >= 10].head()"
      ],
      "execution_count": 0,
      "outputs": []
    },
    {
      "cell_type": "markdown",
      "metadata": {
        "id": "vVeN4inXe58N",
        "colab_type": "text"
      },
      "source": [
        "## Single condition expression\n",
        "Our first example tested a single condition (whether the score was 10 or more). Let's test a different single condition and look for all the questions that are answered by **Scott Boston**. The **`ans_name`** variable holds the display names of the people who posted the accepted answer to the question.\n",
        "\n",
        "We use the **`==`** operator to test for equality and again store this result to the variable **`criteria`**. Again, we pass this variable to *just the indexing operator* which completes our selection."
      ]
    },
    {
      "cell_type": "code",
      "metadata": {
        "id": "I_gzaVXDe58O",
        "colab_type": "code",
        "colab": {}
      },
      "source": [
        "\n",
        "# step 1 - create boolean Series\n",
        "criteria = so['ans_name'] == 'Scott Boston'\n",
        "\n",
        "# step 2 - do boolean selection\n",
        "so[criteria].head()"
      ],
      "execution_count": 0,
      "outputs": []
    },
    {
      "cell_type": "markdown",
      "metadata": {
        "id": "4e9yB3SOe58S",
        "colab_type": "text"
      },
      "source": [
        "## Multiple condition expression\n",
        "So far, both our boolean selections have involved a single condition. You can, of course, have as many conditions as you would like. To do so, you will need to combine your boolean expressions using the three logical operators **and**, **or** and **not**.\n",
        "\n",
        "## Use `&`, `|`, `~`\n",
        "Although Python uses the syntax **`and`**, **`or`**, and **`not`**, these will not work when testing multiple conditions with pandas. The details of why this is so will be left for part 7 of the Series.\n",
        "\n",
        "You must use the following operators with pandas:\n",
        "* **`&`** for **and**\n",
        "* **`|`** for **or**\n",
        "* **`~`** for **not**"
      ]
    },
    {
      "cell_type": "markdown",
      "metadata": {
        "id": "_6g9oMlye58T",
        "colab_type": "text"
      },
      "source": [
        "## Our first multiple condition expression\n",
        "Let's find all the questions that have a score of at least 5 and are answered by Scott Boston. To begin, we will create two separate variable to hold each criteria."
      ]
    },
    {
      "cell_type": "code",
      "metadata": {
        "id": "KhsUI_QJe58U",
        "colab_type": "code",
        "colab": {}
      },
      "source": [
        "criteria_1 = so['score'] >= 5\n",
        "criteria_2 = so['ans_name'] == 'Scott Boston'"
      ],
      "execution_count": 0,
      "outputs": []
    },
    {
      "cell_type": "markdown",
      "metadata": {
        "id": "oZNwg3bMe58X",
        "colab_type": "text"
      },
      "source": [
        "We will then use the **and** operator, the ampersand **`&`**, to combine them"
      ]
    },
    {
      "cell_type": "code",
      "metadata": {
        "id": "Z3WQsCQPe58Y",
        "colab_type": "code",
        "colab": {}
      },
      "source": [
        "criteria_all = criteria_1 & criteria_2"
      ],
      "execution_count": 0,
      "outputs": []
    },
    {
      "cell_type": "markdown",
      "metadata": {
        "id": "54eKNnqFe58a",
        "colab_type": "text"
      },
      "source": [
        "We can now pass this final criteria to *just the indexing operator*"
      ]
    },
    {
      "cell_type": "code",
      "metadata": {
        "id": "hhLh6REFe58b",
        "colab_type": "code",
        "colab": {}
      },
      "source": [
        "so[criteria_all]"
      ],
      "execution_count": 0,
      "outputs": []
    },
    {
      "cell_type": "markdown",
      "metadata": {
        "id": "7SSwABTze58f",
        "colab_type": "text"
      },
      "source": [
        "## Multiple conditions in one line\n",
        "It is possible to combine the entire expression into a single line. Many pandas users like doing this, others hate it. Regardless, it is a good idea to know how to do so as you will definitely encounter it.\n",
        "\n",
        "## Use parentheses to separate conditions\n",
        "You must encapsulate each condition in a set of parentheses in order to make this work. This again, will be explained in part 7.\n",
        "\n",
        "Each condition will be separated like this:\n",
        "```Python\n",
        "(so['score'] >= 5) & (so['ans_name'] == 'Scott Boston')\n",
        "```\n",
        "\n",
        "We can then drop this expression inside of *just the indexing operator*"
      ]
    },
    {
      "cell_type": "code",
      "metadata": {
        "id": "J-mLX9Hse58g",
        "colab_type": "code",
        "colab": {}
      },
      "source": [
        "so[(so['score'] >= 5) & (so['ans_name'] == 'Scott Boston')]"
      ],
      "execution_count": 0,
      "outputs": []
    },
    {
      "cell_type": "markdown",
      "metadata": {
        "id": "ms8_MCxqe58k",
        "colab_type": "text"
      },
      "source": [
        "## Using an `or` condition\n",
        "Let's find all the questions that have a score of at least 100 or have at least 10 answers.\n",
        "\n",
        "For the **or** condition, we use the pipe **`|`**"
      ]
    },
    {
      "cell_type": "code",
      "metadata": {
        "id": "AvtuRW1fe58l",
        "colab_type": "code",
        "colab": {}
      },
      "source": [
        "so[(so['score'] >= 100) | (so['answercount'] >= 10)].head()"
      ],
      "execution_count": 0,
      "outputs": []
    },
    {
      "cell_type": "markdown",
      "metadata": {
        "id": "HhCzQoS1e58w",
        "colab_type": "text"
      },
      "source": [
        "## Reversing a condition with the `not` operator\n",
        "The tilde character **`~`** represents the **not** operator and reverses a condition. For instance, if we wanted all the questions with score greater than 100, we could do it like this:"
      ]
    },
    {
      "cell_type": "code",
      "metadata": {
        "id": "b101Chkfe58w",
        "colab_type": "code",
        "colab": {}
      },
      "source": [
        "so[~(so['score'] <= 100)].head()"
      ],
      "execution_count": 0,
      "outputs": []
    },
    {
      "cell_type": "markdown",
      "metadata": {
        "id": "x8p2hCCTe58y",
        "colab_type": "text"
      },
      "source": [
        "Notice that there were parentheses around the condition '**`score`** less than equal to 100'. We had to use parentheses here or the operation wouldn't work correctly. \n",
        "\n",
        "Of course, this trivial example has no need for the not operator and can be replaced with the greater than operator, but it's easy to verify.\n",
        "\n",
        "Let's look back up one example and invert the condition of **`score`** at least 100 or number of answers at least 10.  To do this, we will have to wrap our entire expression with parentheses like this:\n",
        "\n",
        "```Python\n",
        "~((so['score'] >= 100) | (so['answercount'] >= 10))\n",
        "```\n",
        "\n",
        "There is a set of parentheses around each inner expression as well."
      ]
    },
    {
      "cell_type": "markdown",
      "metadata": {
        "id": "NCZI5Qh7e58z",
        "colab_type": "text"
      },
      "source": [
        "## Complex conditions\n",
        "It is possible to build extremely complex conditions to select rows of your DataFrame that meet a very specific criteria. For instance, we can select all questions answered by Scott Boston with **`score`** 5 or more OR questions answered by Ted Petrou with answer count 5 or more.\n",
        "\n",
        "With multiple conditions, its probably best to break out the logic into multiple steps:"
      ]
    },
    {
      "cell_type": "code",
      "metadata": {
        "id": "RhnmWD4Ze580",
        "colab_type": "code",
        "colab": {}
      },
      "source": [
        "criteria_1 = (so['score'] >= 5) & (so['ans_name'] == 'Scott Boston')\n",
        "criteria_2 = (so['answercount'] >= 5) & (so['ans_name'] == 'Ted Petrou')\n",
        "criteria_all = criteria_1 | criteria_2\n",
        "so[criteria_all]"
      ],
      "execution_count": 0,
      "outputs": []
    },
    {
      "cell_type": "markdown",
      "metadata": {
        "id": "ccEy686We584",
        "colab_type": "text"
      },
      "source": [
        "## Lots of `or` conditions in a single column - use `isin`\n",
        "Occasionally, we will want to test equality in a single column to multiple values. This is most common in string columns. For instance, let's say we wanted to find all the questions answered by Scott Boston, Ted Petrou, MaxU, and unutbu.\n",
        "\n",
        "One way to do this would be with four `or` conditions.\n",
        "\n",
        "```Python\n",
        "criteria = ((so['ans_name'] == 'Scott Boston') | (so['ans_name'] == 'Ted Petrou') | \n",
        "            (so['ans_name'] == 'MaxU') | (so['ans_name'] == 'unutbu'))\n",
        "```\n",
        "\n",
        "An easier way is to use the Series method **`isin`**. Pass it a list of all the items you want to check for equality."
      ]
    },
    {
      "cell_type": "code",
      "metadata": {
        "id": "it0Mc-p9e584",
        "colab_type": "code",
        "colab": {}
      },
      "source": [
        "criteria = so['ans_name'].isin(['Scott Boston', 'Ted Petrou', 'MaxU', 'unutbu'])\n",
        "criteria.head()"
      ],
      "execution_count": 0,
      "outputs": []
    },
    {
      "cell_type": "code",
      "metadata": {
        "id": "B09POU4pe587",
        "colab_type": "code",
        "colab": {}
      },
      "source": [
        "so[criteria].head()"
      ],
      "execution_count": 0,
      "outputs": []
    },
    {
      "cell_type": "markdown",
      "metadata": {
        "id": "RzewJwFhe589",
        "colab_type": "text"
      },
      "source": [
        "## Combining `isin` with other criteria\n",
        "You can use the resulting boolean Series from the **`isin`** method in the same way you would from the logical operators. For instance, If we wanted to find all the questions answered by the people above and had score greater than 30 we would do the following:"
      ]
    },
    {
      "cell_type": "code",
      "metadata": {
        "id": "fjJijDLge58-",
        "colab_type": "code",
        "colab": {}
      },
      "source": [
        "criteria_1 = so['ans_name'].isin(['Scott Boston', 'Ted Petrou', 'MaxU', 'unutbu'])\n",
        "criteria_2 = so['score'] > 30\n",
        "criteria_all = criteria_1 & criteria_2\n",
        "so[criteria_all].tail()"
      ],
      "execution_count": 0,
      "outputs": []
    },
    {
      "cell_type": "markdown",
      "metadata": {
        "id": "zvn5zP40e59A",
        "colab_type": "text"
      },
      "source": [
        "## Use `isnull` to find rows with missing values\n",
        "The **`isnull`** method returns a boolean Series where True indicates where a missing value is. For instance, questions that do not have an **accepted answer** have missing values for **`ans_name`**. Let's call **`isnull`** on this column."
      ]
    },
    {
      "cell_type": "code",
      "metadata": {
        "id": "IVxnh4lFe59B",
        "colab_type": "code",
        "colab": {}
      },
      "source": [
        "no_answer = so['ans_name'].isnull()\n",
        "no_answer.head(6)"
      ],
      "execution_count": 0,
      "outputs": []
    },
    {
      "cell_type": "markdown",
      "metadata": {
        "id": "DXzK5Kmpe59D",
        "colab_type": "text"
      },
      "source": [
        "This is just another boolean Series which we can pass to *just the indexing operator*"
      ]
    },
    {
      "cell_type": "code",
      "metadata": {
        "id": "rDOomUxKe59D",
        "colab_type": "code",
        "colab": {}
      },
      "source": [
        "so[no_answer].head()"
      ],
      "execution_count": 0,
      "outputs": []
    },
    {
      "cell_type": "markdown",
      "metadata": {
        "id": "uzyhcvVje59G",
        "colab_type": "text"
      },
      "source": [
        "An alias of **`isnull`** is the **`isna`** method. Alias means it is the same exact method with a different name."
      ]
    },
    {
      "cell_type": "markdown",
      "metadata": {
        "id": "q3gFuOEke59H",
        "colab_type": "text"
      },
      "source": [
        "# Boolean Selection on a Series\n",
        "All the examples thus far have taken place on the **`so`** DataFrame. Boolean selection on a Series happens almost identically. Since there is only one dimension of data, the queries you ask are usually going to be simpler.\n",
        "\n",
        "First, let's select a single column of data as a Series such as the **`commentcount`** column."
      ]
    },
    {
      "cell_type": "code",
      "metadata": {
        "id": "MG8EP19xe59H",
        "colab_type": "code",
        "colab": {}
      },
      "source": [
        "s = so['commentcount']\n",
        "s.head()"
      ],
      "execution_count": 0,
      "outputs": []
    },
    {
      "cell_type": "markdown",
      "metadata": {
        "id": "N5m4HRxee59J",
        "colab_type": "text"
      },
      "source": [
        "Let's test for number of comments greater than 10"
      ]
    },
    {
      "cell_type": "code",
      "metadata": {
        "id": "4DJ0G27Oe59K",
        "colab_type": "code",
        "colab": {}
      },
      "source": [
        "criteria = s > 10\n",
        "criteria.head()"
      ],
      "execution_count": 0,
      "outputs": []
    },
    {
      "cell_type": "markdown",
      "metadata": {
        "id": "qpD_l5I9e59N",
        "colab_type": "text"
      },
      "source": [
        "Notice that there is no column selection here as we are already down to a single column. Let's pass this criteria to *just the indexing operator* to select just the values greater than 10."
      ]
    },
    {
      "cell_type": "code",
      "metadata": {
        "id": "XvCg4EI4e59N",
        "colab_type": "code",
        "colab": {}
      },
      "source": [
        "s[criteria].head()"
      ],
      "execution_count": 0,
      "outputs": []
    },
    {
      "cell_type": "markdown",
      "metadata": {
        "id": "Ge3dBZThe59R",
        "colab_type": "text"
      },
      "source": [
        "We could have done this in one step like this"
      ]
    },
    {
      "cell_type": "code",
      "metadata": {
        "id": "Z58hOzwee59R",
        "colab_type": "code",
        "colab": {}
      },
      "source": [
        "s[s > 10].head()"
      ],
      "execution_count": 0,
      "outputs": []
    },
    {
      "cell_type": "markdown",
      "metadata": {
        "id": "iA5MrNyIe59U",
        "colab_type": "text"
      },
      "source": [
        "If we wanted to find those comments greater than 10 but less than 15 we could have used an **and** condition like this:"
      ]
    },
    {
      "cell_type": "code",
      "metadata": {
        "id": "scnMdgGpe59W",
        "colab_type": "code",
        "colab": {}
      },
      "source": [
        "s[(s > 10) & (s < 15)].head()"
      ],
      "execution_count": 0,
      "outputs": []
    },
    {
      "cell_type": "markdown",
      "metadata": {
        "id": "FXWNgRERe59Y",
        "colab_type": "text"
      },
      "source": [
        "## Another possibility is the `between` method\n",
        "Pandas has lots of duplicate functionality built in to it. Instead of writing two boolean conditions to select all values inside of a range as was done above, you can use the **`between`** method to create a boolean Series. To use, pass it the left and right end points of the range. These endpoints are inclusive.\n",
        "\n",
        "So, to replicate the previous example, you could have done this:"
      ]
    },
    {
      "cell_type": "code",
      "metadata": {
        "id": "QLhhEsSVe59Y",
        "colab_type": "code",
        "colab": {}
      },
      "source": [
        "s[s.between(11, 14)].head()"
      ],
      "execution_count": 0,
      "outputs": []
    },
    {
      "cell_type": "markdown",
      "metadata": {
        "id": "z8zqeXcwe59a",
        "colab_type": "text"
      },
      "source": [
        "# Simultaneous boolean selection with rows and column labels with `.loc`\n",
        "The **`.loc`** indexer was thoroughly covered in part 1 and will now be covered here to simultaneously select rows and columns. In part 1, it was stated that **`.loc`** made selections only by **label**. This wasn't strictly true as it is also able to do boolean selection along with selection by label.\n",
        "\n",
        "Remember that **`.loc`** takes both a row selection and a column selection separated by a comma. Since the row selection comes first, you can pass it the same exact inputs that you do for *just the indexing operator* and get the same results.\n",
        "\n",
        "Let's take a look at a couple examples from above:"
      ]
    },
    {
      "cell_type": "code",
      "metadata": {
        "id": "5AlKMKUWe59b",
        "colab_type": "code",
        "colab": {}
      },
      "source": [
        "# same as above\n",
        "so.loc[(so['score'] >= 5) & (so['ans_name'] == 'Scott Boston')]"
      ],
      "execution_count": 0,
      "outputs": []
    },
    {
      "cell_type": "code",
      "metadata": {
        "id": "Ge0Nd8POe59e",
        "colab_type": "code",
        "colab": {}
      },
      "source": [
        "# same as above\n",
        "criteria = so['ans_name'].isin(['Scott Boston', 'Ted Petrou', 'MaxU', 'unutbu'])\n",
        "so.loc[criteria].head()"
      ],
      "execution_count": 0,
      "outputs": []
    },
    {
      "cell_type": "markdown",
      "metadata": {
        "id": "yTisjCQ7e59g",
        "colab_type": "text"
      },
      "source": [
        "## Separate row and column selection with a comma for `.loc`\n",
        "The great benefit of **`.loc`** is that it allows you to simultaneously do boolean selection along the rows and make column selections by label.\n",
        "\n",
        "For instance, let's say we wanted to find all the questions with more than 20k views but only return the **`creationdate`**, **`viewcount`**, and **`ans_name`** columns. You would do the following."
      ]
    },
    {
      "cell_type": "code",
      "metadata": {
        "id": "LzV4yzvse59g",
        "colab_type": "code",
        "colab": {}
      },
      "source": [
        "so.loc[so['viewcount'] > 20000, ['creationdate', 'viewcount', 'ans_name']].head(10)"
      ],
      "execution_count": 0,
      "outputs": []
    },
    {
      "cell_type": "markdown",
      "metadata": {
        "id": "dGLE9q5Be59i",
        "colab_type": "text"
      },
      "source": [
        "You could have broken each selection into pieces like this:\n",
        "\n",
        "```Python\n",
        "\n",
        "row_selection = so['viewcount'] > 20000\n",
        "col_selection = ['creationdate', 'viewcount', 'ans_name']\n",
        "so.loc[row_selection, col_selection]\n",
        "```"
      ]
    },
    {
      "cell_type": "markdown",
      "metadata": {
        "id": "jB7HELKee59j",
        "colab_type": "text"
      },
      "source": [
        "## Lots of combinations possible with `.loc`\n",
        "Remember that **`.loc`** can take a string, a list of strings or a slice. You can use all three possible ways to select your data. You can also make very complex boolean selections for your rows.\n",
        "\n",
        "Let's select rows with **`favoritecount`** between 30 and 40 and every third column beginning from **`title`** to the end."
      ]
    },
    {
      "cell_type": "code",
      "metadata": {
        "id": "ohL5KVQNe59j",
        "colab_type": "code",
        "colab": {}
      },
      "source": [
        "# weird but possible\n",
        "so.loc[so['favoritecount'].between(30, 40), 'title'::3].head()"
      ],
      "execution_count": 0,
      "outputs": []
    },
    {
      "cell_type": "markdown",
      "metadata": {
        "id": "lPfjKO36e59m",
        "colab_type": "text"
      },
      "source": [
        "## Boolean selection for the columns?\n",
        "It is actually possible to use a sequence of booleans to select columns. You pass a list, Series, or array of booleans the same length as the number of columns to **`.loc`**.\n",
        "\n",
        "Let's do a simple manual example where we create a list of booleans by hand. First, let's find out how many columns are in our dataset"
      ]
    },
    {
      "cell_type": "code",
      "metadata": {
        "id": "3b1U8qX7e59m",
        "colab_type": "code",
        "colab": {}
      },
      "source": [
        "so.shape"
      ],
      "execution_count": 0,
      "outputs": []
    },
    {
      "cell_type": "markdown",
      "metadata": {
        "id": "whnXgxPfe59o",
        "colab_type": "text"
      },
      "source": [
        "Let's create a list of 12 booleans"
      ]
    },
    {
      "cell_type": "code",
      "metadata": {
        "id": "mrwWeydce59q",
        "colab_type": "code",
        "colab": {}
      },
      "source": [
        "col_bools = [True, False, False] * 4\n",
        "col_bools"
      ],
      "execution_count": 0,
      "outputs": []
    },
    {
      "cell_type": "markdown",
      "metadata": {
        "id": "7SA1Kc8je59s",
        "colab_type": "text"
      },
      "source": [
        "Use **`.loc`** to select all rows with just the `True` columns from **`col_bools`**."
      ]
    },
    {
      "cell_type": "code",
      "metadata": {
        "id": "cxvOjCSEe59s",
        "colab_type": "code",
        "colab": {}
      },
      "source": [
        "so.loc[:, col_bools].head()"
      ],
      "execution_count": 0,
      "outputs": []
    },
    {
      "cell_type": "markdown",
      "metadata": {
        "id": "O02h7Jy-e59v",
        "colab_type": "text"
      },
      "source": [
        "You can simultaneously select rows and columns too. Let's select the same columns but for rows that have over 500,000 views."
      ]
    },
    {
      "cell_type": "code",
      "metadata": {
        "id": "3Bt9zB6Xe59w",
        "colab_type": "code",
        "colab": {}
      },
      "source": [
        "so.loc[so['viewcount'] > 500000, col_bools]"
      ],
      "execution_count": 0,
      "outputs": []
    },
    {
      "cell_type": "markdown",
      "metadata": {
        "id": "GUwA63qHe59y",
        "colab_type": "text"
      },
      "source": [
        "## A more practical example\n",
        "Let's see a slightly more practical example of doing boolean selection on the columns. Let's say we flipped 10 coins one-hundred times and store each trial in a column in the DataFrame below"
      ]
    },
    {
      "cell_type": "code",
      "metadata": {
        "id": "o-TxE6wge59y",
        "colab_type": "code",
        "colab": {}
      },
      "source": [
        "coins = pd.DataFrame(np.random.randint(0, 2, (100, 10)), \n",
        "                     columns=list('abcdefghij'))\n",
        "coins.head()"
      ],
      "execution_count": 0,
      "outputs": []
    },
    {
      "cell_type": "code",
      "metadata": {
        "id": "gev2WEWde590",
        "colab_type": "code",
        "colab": {}
      },
      "source": [
        "coins.shape"
      ],
      "execution_count": 0,
      "outputs": []
    },
    {
      "cell_type": "markdown",
      "metadata": {
        "id": "JOUQblYWe593",
        "colab_type": "text"
      },
      "source": [
        "If we are interested in selecting only the columns that have more than 50% heads, we could first take the mean of each column like this."
      ]
    },
    {
      "cell_type": "code",
      "metadata": {
        "id": "lkyMg-IIe593",
        "colab_type": "code",
        "colab": {}
      },
      "source": [
        "coin_mean = coins.mean()\n",
        "coin_mean"
      ],
      "execution_count": 0,
      "outputs": []
    },
    {
      "cell_type": "markdown",
      "metadata": {
        "id": "U20Yq8Fje595",
        "colab_type": "text"
      },
      "source": [
        "Let's test the condition that the percentage is greater than .5"
      ]
    },
    {
      "cell_type": "code",
      "metadata": {
        "id": "Ey-zmmmEe596",
        "colab_type": "code",
        "colab": {}
      },
      "source": [
        "coin_mean > .5"
      ],
      "execution_count": 0,
      "outputs": []
    },
    {
      "cell_type": "markdown",
      "metadata": {
        "id": "1kDQ2dAde598",
        "colab_type": "text"
      },
      "source": [
        "Finally, we can use this boolean Series to select only the columns that meet our criteria."
      ]
    },
    {
      "cell_type": "code",
      "metadata": {
        "id": "Y8P9TzwJe599",
        "colab_type": "code",
        "colab": {}
      },
      "source": [
        "coins.loc[:, coins.mean() > .5].head()"
      ],
      "execution_count": 0,
      "outputs": []
    },
    {
      "cell_type": "markdown",
      "metadata": {
        "id": "pZtWM40ke59-",
        "colab_type": "text"
      },
      "source": [
        "# Column to column comparisons\n",
        "All of the previous Series comparisons happened against a single scalar value. It is possible to create a boolean Series by comparing one column to another. For instance, we can find all the questions where there are more answers than **`score`**."
      ]
    },
    {
      "cell_type": "code",
      "metadata": {
        "id": "L1XY-pVWe59_",
        "colab_type": "code",
        "colab": {}
      },
      "source": [
        "criteria = so['answercount'] > so['score']\n",
        "so[criteria].head()"
      ],
      "execution_count": 0,
      "outputs": []
    },
    {
      "cell_type": "markdown",
      "metadata": {
        "id": "kkc_P1qoe5-B",
        "colab_type": "text"
      },
      "source": [
        "In one line, the above would have looked like this:\n",
        "\n",
        "```Python\n",
        "so[so['answercount'] > so['score']]\n",
        "```"
      ]
    },
    {
      "cell_type": "markdown",
      "metadata": {
        "id": "KFfeNIcwe5-B",
        "colab_type": "text"
      },
      "source": [
        "## Almost never use `.iloc` with boolean selection\n",
        "First, remember that **`.iloc`** uses INTEGER location to make its selections. \n",
        "\n",
        "You will rarely use **`.loc`** to do boolean selection and almost always use *just the indexing operator* or **`.loc`**. To see why, let's try and run a simple boolean selection to find all the rows that have more than 100,000 views."
      ]
    },
    {
      "cell_type": "code",
      "metadata": {
        "id": "d86obPKxe5-D",
        "colab_type": "code",
        "colab": {}
      },
      "source": [
        "so.iloc[so['viewcount'] > 100000]"
      ],
      "execution_count": 0,
      "outputs": []
    },
    {
      "cell_type": "markdown",
      "metadata": {
        "id": "U6RUOMgce5-E",
        "colab_type": "text"
      },
      "source": [
        "## `NotImplementedError`\n",
        "The pandas developers have not decided to boolean selection (with a Series) for **`.iloc`** so it does not work. You can however convert the Series to a list or a NumPy array as a workaround.\n",
        "\n",
        "Let's save our Series to a variable and double-check its type."
      ]
    },
    {
      "cell_type": "code",
      "metadata": {
        "id": "_dbkhgbve5-F",
        "colab_type": "code",
        "colab": {}
      },
      "source": [
        "criteria = so['viewcount'] > 100000\n",
        "type(criteria)"
      ],
      "execution_count": 0,
      "outputs": []
    },
    {
      "cell_type": "markdown",
      "metadata": {
        "id": "y0z9SegKe5-H",
        "colab_type": "text"
      },
      "source": [
        "Let's grab the underlying NumPy array with the **`values`** attribute and pass it to **`.iloc`**"
      ]
    },
    {
      "cell_type": "code",
      "metadata": {
        "id": "sxl1XaR_e5-I",
        "colab_type": "code",
        "colab": {}
      },
      "source": [
        "a = criteria.values\n",
        "so.iloc[a].head()"
      ],
      "execution_count": 0,
      "outputs": []
    },
    {
      "cell_type": "markdown",
      "metadata": {
        "id": "Y2nfeqpBe5-K",
        "colab_type": "text"
      },
      "source": [
        "You can make simultaneous column selection as well with integers."
      ]
    },
    {
      "cell_type": "code",
      "metadata": {
        "id": "5VIRPV5te5-K",
        "colab_type": "code",
        "colab": {}
      },
      "source": [
        "so.iloc[a, [5, 10, 11]].head()"
      ],
      "execution_count": 0,
      "outputs": []
    },
    {
      "cell_type": "markdown",
      "metadata": {
        "id": "E1gU38lge5-M",
        "colab_type": "text"
      },
      "source": [
        "I don't think I have ever used **`.iloc`** for boolean selection as its not implemented for Series. I added because it's one of the three main indexers in pandas and it's important to know that it's not used much at all for boolean selection."
      ]
    },
    {
      "cell_type": "markdown",
      "metadata": {
        "id": "K-aN4tm1e5-N",
        "colab_type": "text"
      },
      "source": [
        "## `.loc` and `[]` work the same on a Series for boolean selection\n",
        "Boolean selection will work identically for **`.loc`** as it does with *just the indexing operator* on a Series. Both the indexers do row selection when passed a boolean Series. Since Series don't have columns, the two indexers are identical in this situation."
      ]
    },
    {
      "cell_type": "code",
      "metadata": {
        "id": "CU6nagTye5-N",
        "colab_type": "code",
        "colab": {}
      },
      "source": [
        "s = so['score']"
      ],
      "execution_count": 0,
      "outputs": []
    },
    {
      "cell_type": "code",
      "metadata": {
        "id": "GAFJB6Vee5-Q",
        "colab_type": "code",
        "colab": {}
      },
      "source": [
        "s[s > 100].head()"
      ],
      "execution_count": 0,
      "outputs": []
    },
    {
      "cell_type": "code",
      "metadata": {
        "id": "RaBx-B5Fe5-R",
        "colab_type": "code",
        "colab": {}
      },
      "source": [
        "s.loc[s > 100].head()"
      ],
      "execution_count": 0,
      "outputs": []
    },
    {
      "cell_type": "markdown",
      "metadata": {
        "id": "Prirs3Dwe5-S",
        "colab_type": "text"
      },
      "source": [
        "# Summary\n",
        "\n",
        "* **Boolean Indexing** or **Boolean Selection** is the selection of a subset of a Series/DataFrame based on the values themselves and not the row/column labels or integer location\n",
        "* Boolean selection is used to answer common queries like \"find all the female engineers with a salary over 150k/year\"\n",
        "* To do boolean selection, you first create a sequence of True/False values and pass it to a DataFrame/Series indexer\n",
        "* Each row of data is kept or discarded\n",
        "* The indexing operators are **overloaded** - change functionality depending on what is passed to them\n",
        "* Typically, you will first create a boolean Series with one of the 6 comparison operators\n",
        "* You will pass this boolean series to one of the indexers to make your selection\n",
        "* Use the **`isin`** method to test for multiple equalities in the same column\n",
        "* Use **`isnull`** to find all rows with missing values in a particular column\n",
        "* Can use the **`between`** Series method to test whether Series values are within a range\n",
        "* You can create complex criteria with the **and** (**`&`**), **or** (**`|`**), and **not** (**`~`**) logical operators\n",
        "* When you have multiple conditions in a single line, you must wrap each expression with a parentheses\n",
        "* If you have complex criteria, think about storing each set of criteria into its own variable (i.e. don't do everything in one line)\n",
        "* If you are only selecting rows, then you will almost always use *just the indexing operator*\n",
        "* If you are simultaneously doing boolean selection on the rows and selecting column labels then you will use **`.loc`**\n",
        "* You will almost never use **`.iloc`** to do boolean selection\n",
        "* Boolean selection works the same for Series as it does for DataFrames"
      ]
    },
    {
      "cell_type": "markdown",
      "metadata": {
        "id": "Tf24xaabe5-T",
        "colab_type": "text"
      },
      "source": [
        "# More to the story\n",
        "Believe or not, there is still more to the story when it comes to boolean selection. We will cover more advanced topics in part 7.\n",
        "\n",
        "# Exercises\n",
        "Boolean selection is difficult at first and the syntax is somewhat clunky. It will take some time to master. These questions will start easy and progressively become more difficult."
      ]
    },
    {
      "cell_type": "markdown",
      "metadata": {
        "id": "JYohi01Me5-T",
        "colab_type": "text"
      },
      "source": [
        "## Data for exercises\n",
        "We will use two datasets for these exercises. The stack overflow dataset which you have seen above and the employee dataset."
      ]
    },
    {
      "cell_type": "code",
      "metadata": {
        "id": "-a8Z7JOJe5-U",
        "colab_type": "code",
        "colab": {}
      },
      "source": [
        "so = pd.read_csv(\"https://raw.githubusercontent.com/ahmadajal/DM_ML_course_public/master/2%263.%20Data%26EDA/data/stackoverflow_qa.csv\")\n",
        "so.head()"
      ],
      "execution_count": 0,
      "outputs": []
    },
    {
      "cell_type": "code",
      "metadata": {
        "id": "S91bVjbhe5-W",
        "colab_type": "code",
        "colab": {}
      },
      "source": [
        "employee = pd.read_csv()\n",
        "employee = pd.read_csv('')\n",
        "employee.head()"
      ],
      "execution_count": 0,
      "outputs": []
    },
    {
      "cell_type": "markdown",
      "metadata": {
        "id": "IP4-bNuWe5-Z",
        "colab_type": "text"
      },
      "source": [
        "# Tip!\n",
        "Append the **`head`** method at the end of your statements to prevent long output as was done above.\n",
        "\n",
        "# Solutions\n",
        "Make sure you check your answers with the [solutions notebook](./Solutions.ipynb)."
      ]
    },
    {
      "cell_type": "markdown",
      "metadata": {
        "id": "RKgxMQWne5-g",
        "colab_type": "text"
      },
      "source": [
        "### Exercise 1\n",
        "<span  style=\"color:green; font-size:16px\">Find all the questions that have exactly 5 answers</span>"
      ]
    },
    {
      "cell_type": "code",
      "metadata": {
        "id": "3S4UgBJVe5-h",
        "colab_type": "code",
        "colab": {}
      },
      "source": [
        "# your code here"
      ],
      "execution_count": 0,
      "outputs": []
    },
    {
      "cell_type": "markdown",
      "metadata": {
        "id": "MtrFoeQne5-j",
        "colab_type": "text"
      },
      "source": [
        "### Exercise 2\n",
        "<span  style=\"color:green; font-size:16px\">Find all the questions that have less than 10 views</span>"
      ]
    },
    {
      "cell_type": "code",
      "metadata": {
        "id": "5s_M90xpe5-k",
        "colab_type": "code",
        "colab": {}
      },
      "source": [
        "# your code here"
      ],
      "execution_count": 0,
      "outputs": []
    },
    {
      "cell_type": "markdown",
      "metadata": {
        "id": "PDG7XJoFe5-l",
        "colab_type": "text"
      },
      "source": [
        "### Exercise 3\n",
        "<span  style=\"color:green; font-size:16px\">Find all the questions where the person asking it is the same as the person answering it</span>"
      ]
    },
    {
      "cell_type": "code",
      "metadata": {
        "id": "bIgvG-RVe5-m",
        "colab_type": "code",
        "colab": {}
      },
      "source": [
        "# your code here"
      ],
      "execution_count": 0,
      "outputs": []
    },
    {
      "cell_type": "markdown",
      "metadata": {
        "id": "7gT2-J3se5-o",
        "colab_type": "text"
      },
      "source": [
        "### Exercise 4\n",
        "<span  style=\"color:green; font-size:16px\">Find all the questions that don't have an accepted answer, but have a score of more than 100</span>"
      ]
    },
    {
      "cell_type": "code",
      "metadata": {
        "id": "ucCPoeE6e5-p",
        "colab_type": "code",
        "colab": {}
      },
      "source": [
        "# your code here"
      ],
      "execution_count": 0,
      "outputs": []
    },
    {
      "cell_type": "markdown",
      "metadata": {
        "id": "-4AKikA0e5-q",
        "colab_type": "text"
      },
      "source": [
        "### Exercise 5\n",
        "<span  style=\"color:green; font-size:16px\">Find all the questions where the reputation of the person asking the question is higher than the person answering it. Then find the percentage of times this happens</span>"
      ]
    },
    {
      "cell_type": "code",
      "metadata": {
        "id": "30ufj7qZe5-q",
        "colab_type": "code",
        "colab": {}
      },
      "source": [
        "# your code here"
      ],
      "execution_count": 0,
      "outputs": []
    },
    {
      "cell_type": "markdown",
      "metadata": {
        "id": "phy6xuWre5-s",
        "colab_type": "text"
      },
      "source": [
        "### Exercise 6\n",
        "<span  style=\"color:green; font-size:16px\">Find all the questions where the number of answers is between 5 and 10 inclusive, and the number of views is less than 1,000.</span>"
      ]
    },
    {
      "cell_type": "code",
      "metadata": {
        "id": "X9I8EyEwe5-t",
        "colab_type": "code",
        "colab": {}
      },
      "source": [
        "# your code here"
      ],
      "execution_count": 0,
      "outputs": []
    },
    {
      "cell_type": "markdown",
      "metadata": {
        "id": "VkxHftKGe5-v",
        "colab_type": "text"
      },
      "source": [
        "### Exercise 7\n",
        "<span  style=\"color:green; font-size:16px\">Find the inverse of exercise 6. Verify your results by adding the rows of both returned Series to see if it matches the number of rows of the original</span>"
      ]
    },
    {
      "cell_type": "code",
      "metadata": {
        "id": "XpFLtoTDe5-v",
        "colab_type": "code",
        "colab": {}
      },
      "source": [
        "# your code here"
      ],
      "execution_count": 0,
      "outputs": []
    },
    {
      "cell_type": "markdown",
      "metadata": {
        "id": "UcEcFwhUe5-z",
        "colab_type": "text"
      },
      "source": [
        "### Use the employee data for the rest of the exercises"
      ]
    },
    {
      "cell_type": "code",
      "metadata": {
        "id": "C5AiqRWie5-0",
        "colab_type": "code",
        "colab": {}
      },
      "source": [
        "employee = pd.read_csv('https://raw.githubusercontent.com/ahmadajal/DM_ML_course_public/master/2%263.%20Data%26EDA/data/employee.csv')\n",
        "\n",
        "employee.head()"
      ],
      "execution_count": 0,
      "outputs": []
    },
    {
      "cell_type": "markdown",
      "metadata": {
        "id": "lXmyETINe5-1",
        "colab_type": "text"
      },
      "source": [
        "### Exercise 8\n",
        "<span  style=\"color:green; font-size:16px\">Find all the **`Black or African American`** females that work in the **`Houston Police Department-HPD`**</span>"
      ]
    },
    {
      "cell_type": "code",
      "metadata": {
        "id": "QD-O61ZEe5-2",
        "colab_type": "code",
        "colab": {}
      },
      "source": [
        "# your code here"
      ],
      "execution_count": 0,
      "outputs": []
    },
    {
      "cell_type": "markdown",
      "metadata": {
        "id": "tYi4U76de5-3",
        "colab_type": "text"
      },
      "source": [
        "### Exercise 9\n",
        "<span  style=\"color:green; font-size:16px\">Find the females that have a salary over 100,000 OR males with salary under 50,000</span>"
      ]
    },
    {
      "cell_type": "code",
      "metadata": {
        "id": "yOnbIE_Se5-4",
        "colab_type": "code",
        "colab": {}
      },
      "source": [
        "# your code here"
      ],
      "execution_count": 0,
      "outputs": []
    },
    {
      "cell_type": "markdown",
      "metadata": {
        "id": "BMZ7qXS5e5-6",
        "colab_type": "text"
      },
      "source": [
        "### Exercise 10\n",
        "<span  style=\"color:green; font-size:16px\">Find the females in the following departments with salary over 60,000 (Parks & Recreation, Solid Waste Management, Fleet Management Department, Library)  </span>"
      ]
    },
    {
      "cell_type": "code",
      "metadata": {
        "id": "TRPHVRnWe5-7",
        "colab_type": "code",
        "colab": {}
      },
      "source": [
        "# your code here"
      ],
      "execution_count": 0,
      "outputs": []
    },
    {
      "cell_type": "markdown",
      "metadata": {
        "id": "5fw8kDZ3e5-7",
        "colab_type": "text"
      },
      "source": [
        "### Exercise 11\n",
        "<span  style=\"color:green; font-size:16px\">Find all the males with salary over 100,000. Return only the race, gender and salary columns</span>"
      ]
    },
    {
      "cell_type": "code",
      "metadata": {
        "id": "cgAz5UO9e5-8",
        "colab_type": "code",
        "colab": {}
      },
      "source": [
        "# your code here"
      ],
      "execution_count": 0,
      "outputs": []
    },
    {
      "cell_type": "markdown",
      "metadata": {
        "id": "VFt37udge5-9",
        "colab_type": "text"
      },
      "source": [
        "### Exercise 12\n",
        "<span  style=\"color:green; font-size:16px\">Select all salaries as a Series in a separate variable. From this series select all salaries under 25,000</span>"
      ]
    },
    {
      "cell_type": "code",
      "metadata": {
        "id": "7uc_ENFAe5--",
        "colab_type": "code",
        "colab": {}
      },
      "source": [
        "# your code here"
      ],
      "execution_count": 0,
      "outputs": []
    },
    {
      "cell_type": "markdown",
      "metadata": {
        "id": "8DbyUGU0e5-_",
        "colab_type": "text"
      },
      "source": [
        "### Exercise 13\n",
        "<span  style=\"color:green; font-size:16px\">Get the same exact result as exercise 11, but make your selection from the employee DataFrame. Use only a single line of code</span>"
      ]
    },
    {
      "cell_type": "code",
      "metadata": {
        "id": "xayD6u6he5_A",
        "colab_type": "code",
        "colab": {}
      },
      "source": [
        "# your code here"
      ],
      "execution_count": 0,
      "outputs": []
    }
  ]
}