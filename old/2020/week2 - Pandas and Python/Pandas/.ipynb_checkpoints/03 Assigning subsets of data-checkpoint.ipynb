{
  "nbformat": 4,
  "nbformat_minor": 0,
  "metadata": {
    "kernelspec": {
      "display_name": "Python 3",
      "language": "python",
      "name": "python3"
    },
    "language_info": {
      "codemirror_mode": {
        "name": "ipython",
        "version": 3
      },
      "file_extension": ".py",
      "mimetype": "text/x-python",
      "name": "python",
      "nbconvert_exporter": "python",
      "pygments_lexer": "ipython3",
      "version": "3.7.6"
    },
    "colab": {
      "name": "03 Assigning subsets of data-checkpoint.ipynb",
      "provenance": [],
      "include_colab_link": true
    }
  },
  "cells": [
    {
      "cell_type": "markdown",
      "metadata": {
        "id": "view-in-github",
        "colab_type": "text"
      },
      "source": [
        "<a href=\"https://colab.research.google.com/github/michalis0/Business-Intelligence-and-Analytics/blob/master/week2%20-%20Pandas%20and%20Python/Pandas/.ipynb_checkpoints/03%20Assigning%20subsets%20of%20data-checkpoint.ipynb\" target=\"_parent\"><img src=\"https://colab.research.google.com/assets/colab-badge.svg\" alt=\"Open In Colab\"/></a>"
      ]
    },
    {
      "cell_type": "markdown",
      "metadata": {
        "id": "PXRuDhneg92U",
        "colab_type": "text"
      },
      "source": [
        "# Selecting Subsets of Data in Pandas\n",
        "\n",
        "This notebook is also available as a [blog post on Medium](https://medium.com/dunder-data/selecting-subsets-of-data-in-pandas-part-3-d5704b4b9116).\n",
        "\n",
        "## Part 3: Assigning subsets of data\n",
        "This is part 3 of a 7-part series on how to select subsets of data from a pandas DataFrame or Series. Pandas offers a wide variety of options for subset selection which necessitates multiple articles. This series is broken down into the following 7 topics.\n",
        "\n",
        "\n",
        "## Assignment\n",
        "When you see the word **assign** used during a discussion on programming, it usually means that a variable is set equal to some value. For most programming languages, this means using the equal sign. For instance, to assign the value 5 to the variable **`x`** in Python, we do the following:\n",
        "\n",
        "```Python\n",
        "x = 5\n",
        "```\n",
        "\n",
        "This is formally called an [assignment statement][1]. More generally, we can define Python assignment statements as follows:\n",
        "\n",
        "```Python\n",
        "variable = expression\n",
        "```\n",
        "\n",
        "There is quite a bit more to the [Python assignment statement](https://docs.python.org/3/reference/simple_stmts.html), but for our purposes it just means using the equal sign to store the object on the right-hand side to the left-hand side.\n",
        "\n",
        "## Documentation on Assigning subsets of data\n",
        "There isn't one particular sub-section of the documentation that covers this topic precisely. Several examples are available throughout the entire [indexing section](http://pandas.pydata.org/pandas-docs/stable/indexing.html).\n",
        "\n",
        "## What does this have to do with selecting subsets of data?\n",
        "In this article, we will use the assignment statement, but only after we select a subset of data. We will be doing our subset selection based on what we learned from [part 1](https://medium.com/dunder-data/selecting-subsets-of-data-in-pandas-6fcd0170be9c) and [part 2](https://medium.com/dunder-data/selecting-subsets-of-data-in-pandas-39e811c81a0c) and changing just those values.\n",
        "\n",
        "The left-hand side will have our subset selection and the right-hand side will contain our new values like this:\n",
        "\n",
        "```Python\n",
        "subset_of_DataFrame_or_Series = new_values\n",
        "```\n",
        "\n",
        "## Small Sample Dataset\n",
        "During this tutorial, we will be working with a small sample of the [employee](Dataset%20Descriptions.ipynb#Employee-Data) dataset. The small dataset will help us immediately see the changes. Let's take a look at this dataset now, which uses the index to store the names of each employee.\n",
        "\n",
        "[1]: https://en.wikipedia.org/wiki/Assignment_(computer_science)"
      ]
    },
    {
      "cell_type": "code",
      "metadata": {
        "id": "lOqprBM8g92X",
        "colab_type": "code",
        "colab": {}
      },
      "source": [
        "import pandas as pd\n",
        "import numpy as np"
      ],
      "execution_count": 0,
      "outputs": []
    },
    {
      "cell_type": "code",
      "metadata": {
        "id": "wty0bxGIg92i",
        "colab_type": "code",
        "colab": {}
      },
      "source": [
        "#df = pd.read_csv('../../data/employee_sample.csv', index_col=0)\n",
        "url= 'https://raw.githubusercontent.com/ahmadajal/DM_ML_course_public/master/2%263.%20Data%26EDA/data/employee.csv'\n",
        "df = pd.read_csv(url, index_col=0)\n",
        "df"
      ],
      "execution_count": 0,
      "outputs": []
    },
    {
      "cell_type": "markdown",
      "metadata": {
        "id": "abZFYjKfg92u",
        "colab_type": "text"
      },
      "source": [
        "## Creating a new column\n",
        "Before we change any of the data in this DataFrame, we will add a single column to the end. There are multiple ways of doing so, but we will begin by using *just the indexing operator* (the brackets). Place a string inside of the brackets and make this the left-hand side of the assignment.\n",
        "\n",
        "The right-hand side can consist of any of the following:\n",
        "* A scalar value\n",
        "* A list or array with the same length as the DataFrame\n",
        "* A pandas Series with an index that matches the index of the DataFrame (a little tricky!)\n",
        "\n",
        "## New column assigned to a scalar value\n",
        "A **scalar** value is simply one single value, like an integer, string, boolean or date. When using a scalar for column assignment, each value in the column will be the same. Let's create a column **`SCORE`** and assign it the value 99."
      ]
    },
    {
      "cell_type": "code",
      "metadata": {
        "id": "VSD8Hvp7g92w",
        "colab_type": "code",
        "colab": {}
      },
      "source": [
        "df['SCORE'] = 99"
      ],
      "execution_count": 0,
      "outputs": []
    },
    {
      "cell_type": "markdown",
      "metadata": {
        "id": "q1NbjwyEg922",
        "colab_type": "text"
      },
      "source": [
        "## Where's the output?\n",
        "In the previous two notebooks, we were only making column selections (no equal signs) resulting in output displayed directly into the notebook after executing the line of code. In the above, we made an assignment, which will not yield any output. We must use an extra line to display our data."
      ]
    },
    {
      "cell_type": "code",
      "metadata": {
        "id": "8ERv2dyag923",
        "colab_type": "code",
        "colab": {}
      },
      "source": [
        "df"
      ],
      "execution_count": 0,
      "outputs": []
    },
    {
      "cell_type": "markdown",
      "metadata": {
        "id": "DswZJr69g928",
        "colab_type": "text"
      },
      "source": [
        "## Create a new column with a list or array\n",
        "\n",
        "Instead of creating a new column with all the same values, we can use a list or NumPy array with different values for each row. The only stipulation is that the number of new values in the list/array must be the same as the number of rows in the DataFrame.\n",
        "\n",
        "Let's create the column **`BONUS RATE`**, with a list of numbers between 0 and 1."
      ]
    },
    {
      "cell_type": "code",
      "metadata": {
        "id": "1Mv42MN1g92-",
        "colab_type": "code",
        "colab": {}
      },
      "source": [
        "df['BONUS RATE'] = np.random.random_sample((2000, 1))\n",
        "df"
      ],
      "execution_count": 0,
      "outputs": []
    },
    {
      "cell_type": "markdown",
      "metadata": {
        "id": "Q3YrojM3g93C",
        "colab_type": "text"
      },
      "source": [
        "We could have just as easily used a one dimensional NumPy array to get the same exact results. Let's do just that and create a random array of integers to represent the floor that the employee works on.\n",
        "\n",
        "We use the **`randint`** function from NumPy's **`rand`** module. Use the **`low`** (inclusive) and **`high`** (exclusive) parameters to bound the range of possible integers. **`len(df)`** returns the number of rows in the DataFrame ensuring that the size of the array is correct.."
      ]
    },
    {
      "cell_type": "code",
      "metadata": {
        "id": "9q7foL1Kg93E",
        "colab_type": "code",
        "colab": {}
      },
      "source": [
        "floor = np.random.randint(low=1, high=10, size=len(df))\n",
        "floor"
      ],
      "execution_count": 0,
      "outputs": []
    },
    {
      "cell_type": "markdown",
      "metadata": {
        "id": "MITik8uZg93J",
        "colab_type": "text"
      },
      "source": [
        "Then assign this to the **`FLOOR`** column:"
      ]
    },
    {
      "cell_type": "code",
      "metadata": {
        "id": "Eh03d0yhg93K",
        "colab_type": "code",
        "colab": {}
      },
      "source": [
        "df['FLOOR'] = floor\n",
        "df"
      ],
      "execution_count": 0,
      "outputs": []
    },
    {
      "cell_type": "markdown",
      "metadata": {
        "id": "dCzcFLwLg93P",
        "colab_type": "text"
      },
      "source": [
        "## Creating a new column with a Series (tricky!)\n",
        "Let's create a new pandas Series and see what happens when we attempt to assign it as a new column in our DataFrame.\n",
        "\n",
        "Let's try and add a column for the last name of each person."
      ]
    },
    {
      "cell_type": "code",
      "metadata": {
        "id": "204t_dmeg93P",
        "colab_type": "code",
        "colab": {}
      },
      "source": [
        "last_name = pd.Series(['Smith', 'Jones', 'Williams', 'Green', 'Brown', 'Simpson', 'Peters'])\n",
        "last_name"
      ],
      "execution_count": 0,
      "outputs": []
    },
    {
      "cell_type": "markdown",
      "metadata": {
        "id": "tZx8Owwsg93T",
        "colab_type": "text"
      },
      "source": [
        "Make the assignment like we have done above:"
      ]
    },
    {
      "cell_type": "code",
      "metadata": {
        "id": "6QkX-MmMg93V",
        "colab_type": "code",
        "colab": {}
      },
      "source": [
        "df['LAST NAME'] = last_name\n",
        "df"
      ],
      "execution_count": 0,
      "outputs": []
    },
    {
      "cell_type": "markdown",
      "metadata": {
        "id": "4utj_YQ0g93b",
        "colab_type": "text"
      },
      "source": [
        "## All missing values!\n",
        "Our attempt failed because pandas uses a completely different methodology for combining two pandas objects. \n",
        "\n",
        "## Automatic alignment of the Index\n",
        "Whenever two pandas objects are combined in some fashion the row/column index of one is aligned with the row/column index of the other. This all happens silently and implicitly behind the scenes. So if you are unaware of it, you will be completely taken by surprise. I will dedicate several notebooks in a different section to this surprising yet powerful feature.\n",
        "\n",
        "Our operation failed to add the last names because the index of our Series is the integers 0 through 6, while the index of the DataFrame are the names of the employees. There are no index values in common between the objects, so pandas defaults to NaN (Not a number).\n",
        "\n",
        "## Create a Series with same Index as DataFrame\n",
        "To use a Series to create a new column, the index must match that of the modifying DataFrame. Let's re-create our Series with the same index as the DataFrame."
      ]
    },
    {
      "cell_type": "code",
      "metadata": {
        "id": "tc9-DPW5g93c",
        "colab_type": "code",
        "colab": {}
      },
      "source": [
        "last_name = pd.Series(data=['Smith', 'Jones', 'Williams', 'Green', 'Brown', 'Simpson', 'Peters'],\n",
        "                      index=['Tom', 'Niko', 'Penelope', 'Aria', 'Sofia', 'Dean', 'Zach'])\n",
        "last_name"
      ],
      "execution_count": 0,
      "outputs": []
    },
    {
      "cell_type": "markdown",
      "metadata": {
        "id": "pcoxJdsYg93f",
        "colab_type": "text"
      },
      "source": [
        "Let's try that assignment again. This technically will overwrite our previous **`LAST NAME`** column"
      ]
    },
    {
      "cell_type": "code",
      "metadata": {
        "id": "lRdjSBejg93g",
        "colab_type": "code",
        "colab": {}
      },
      "source": [
        "df['LAST NAME'] = last_name\n",
        "df"
      ],
      "execution_count": 0,
      "outputs": []
    },
    {
      "cell_type": "markdown",
      "metadata": {
        "id": "7m0gs7Hpg93k",
        "colab_type": "text"
      },
      "source": [
        "## Create a new column with expressions involving other columns\n",
        "We can create a new column by combining any number of other columns. One primary way of doing that is through a mathematical expression. For instance, let's create a new column **`BONUS`** by multiplying the **`BONUS RATE`** and **`SALARY`** columns together.\n",
        "\n",
        "## Output before assignment\n",
        "Before adding this new column to your DataFrame, you might want to consider viewing the output before making the assignment. This gives you a little preview so that you can check your work before doing the more permanent assignment.\n",
        "\n",
        "Let's multiple our two columns without assignment:"
      ]
    },
    {
      "cell_type": "code",
      "metadata": {
        "id": "7RqC5xZGg93m",
        "colab_type": "code",
        "colab": {}
      },
      "source": [
        "df['BONUS RATE'] * df['BASE_SALARY']"
      ],
      "execution_count": 0,
      "outputs": []
    },
    {
      "cell_type": "markdown",
      "metadata": {
        "id": "lSrbNJQeg93p",
        "colab_type": "text"
      },
      "source": [
        "Everything appears to be OK, so go ahead and make the assignment. Notice that the output is a Series with index the same as the DataFrame."
      ]
    },
    {
      "cell_type": "code",
      "metadata": {
        "id": "OGvlTu_1g93q",
        "colab_type": "code",
        "colab": {}
      },
      "source": [
        "df['BONUS'] = df['BONUS RATE'] * df['BASE_SALARY']\n",
        "df"
      ],
      "execution_count": 0,
      "outputs": []
    },
    {
      "cell_type": "markdown",
      "metadata": {
        "id": "yauxmd3eg93u",
        "colab_type": "text"
      },
      "source": [
        "# Actual Subset Assignment\n",
        "So far, we have just added new columns to our DataFrame. We did not change any of the pre-existing values. Let's begin doing this by changing each person's **`SCORE`** to 100.\n",
        "\n",
        "The syntax is the same, whether it's adding a new column or changing an existing column:"
      ]
    },
    {
      "cell_type": "code",
      "metadata": {
        "id": "UtmAiJ3Yg93u",
        "colab_type": "code",
        "colab": {}
      },
      "source": [
        "df['SCORE'] = 100\n",
        "df"
      ],
      "execution_count": 0,
      "outputs": []
    },
    {
      "cell_type": "markdown",
      "metadata": {
        "id": "a2VEoI7Hg93x",
        "colab_type": "text"
      },
      "source": [
        "## Overwriting the same column\n",
        "You can use the column itself you are assigning in the expression on the right-hand side of the equal sign. For instance, if we want to remove the ugly decimals from the **`BONUS`** column, we can call the **`astype`** method on it and assign it to itself."
      ]
    },
    {
      "cell_type": "code",
      "metadata": {
        "id": "8sWMHb7gg93y",
        "colab_type": "code",
        "colab": {}
      },
      "source": [
        "df['BONUS'] = df['BONUS'].astype(int, errors='ignore')\n",
        "df"
      ],
      "execution_count": 0,
      "outputs": []
    },
    {
      "cell_type": "markdown",
      "metadata": {
        "id": "FBzneaFXg932",
        "colab_type": "text"
      },
      "source": [
        "## Assigning a subset of rows within a single column\n",
        "Now that we can change all the values in a single at once, let's learn how to change just a subset of them.\n",
        "\n",
        "For instance, let's change the **`FLOOR`** for **`Niko`**, **`Penelope`**, and **`Aria`**. Before doing so, let's remember how to make that subset selection with **`.loc`**:"
      ]
    },
    {
      "cell_type": "code",
      "metadata": {
        "id": "aQVmIGO2g933",
        "colab_type": "code",
        "colab": {}
      },
      "source": [
        "df.loc[['Niko', 'Penelope', 'Aria'], 'FLOOR']"
      ],
      "execution_count": 0,
      "outputs": []
    },
    {
      "cell_type": "markdown",
      "metadata": {
        "id": "dCBKJ4AIg936",
        "colab_type": "text"
      },
      "source": [
        "The **`.loc`** indexer allows for row and column selection separated by a comma. It only makes selections based on row/column **labels**. Once we have correctly selected our subset, let's assign it a list of three new integers"
      ]
    },
    {
      "cell_type": "code",
      "metadata": {
        "id": "wYTXll_xg936",
        "colab_type": "code",
        "colab": {}
      },
      "source": [
        "df.loc[['Niko', 'Penelope', 'Aria'], 'FLOOR'] = [3, 6, 4]\n",
        "df"
      ],
      "execution_count": 0,
      "outputs": []
    },
    {
      "cell_type": "markdown",
      "metadata": {
        "id": "3GFimpyhg939",
        "colab_type": "text"
      },
      "source": [
        "## Style DataFrame to show differences (advanced)\n",
        "It's not important you understand this section if you are new to pandas, but you should still read through it as the **`style_diff`** function will be used in subsequent sections. Pandas provides a **`style`** attribute which allows you to apply a wide variety of CSS styles to your DataFrames. Check the [style documentation](http://pandas.pydata.org/pandas-docs/stable/style.html) for more.\n",
        "\n",
        "We are going to change the background color and the color of the text for the values that have changed. To do this, you need to create a copy of the DataFrame before you make any changes with the **`copy`** method."
      ]
    },
    {
      "cell_type": "code",
      "metadata": {
        "id": "BMOM3ao8g93-",
        "colab_type": "code",
        "colab": {}
      },
      "source": [
        "df_orig = df.copy()"
      ],
      "execution_count": 0,
      "outputs": []
    },
    {
      "cell_type": "markdown",
      "metadata": {
        "id": "OO_z4Pevg94A",
        "colab_type": "text"
      },
      "source": [
        "Then, we make our changes to our DataFrame"
      ]
    },
    {
      "cell_type": "code",
      "metadata": {
        "id": "BIiI_2Q0g94B",
        "colab_type": "code",
        "colab": {}
      },
      "source": [
        "df.loc[['Niko', 'Penelope', 'Aria'], 'FLOOR'] = [60, 42, 99]\n",
        "df"
      ],
      "execution_count": 0,
      "outputs": []
    },
    {
      "cell_type": "markdown",
      "metadata": {
        "id": "FTuSHBffg94D",
        "colab_type": "text"
      },
      "source": [
        "We can see that the values have changed, but it would be a bit nicer if they stood out more. The function below accepts the entire DataFrame for parameter **`x`** and the original as **`orig`**. It then creates a boolean DataFrame and replaces all the **`False`** values with a semi-colon separated list of new CSS table **`attribute: value`** pairs."
      ]
    },
    {
      "cell_type": "code",
      "metadata": {
        "id": "nMJhNuGYg94E",
        "colab_type": "code",
        "colab": {}
      },
      "source": [
        "def style_diff(df, df_orig):\n",
        "    style = {True: '', \n",
        "             False: 'color: red; background-color: yellow'}\n",
        "    df_style = (df == df_orig).replace(style)\n",
        "    return df.style.apply(lambda x: df_style, axis=None)"
      ],
      "execution_count": 0,
      "outputs": []
    },
    {
      "cell_type": "markdown",
      "metadata": {
        "id": "KisuERKvg94G",
        "colab_type": "text"
      },
      "source": [
        "We can use this function with any DataFrame that we have. But, take care when using a large DataFrame as the style DataFrames **output every single row**. So, if you have a 10,000 row DataFrame, you are probably going to crash your notebook."
      ]
    },
    {
      "cell_type": "code",
      "metadata": {
        "id": "nVTWu9hXg94H",
        "colab_type": "code",
        "colab": {}
      },
      "source": [
        "style_diff(df, df_orig)"
      ],
      "execution_count": 0,
      "outputs": []
    },
    {
      "cell_type": "markdown",
      "metadata": {
        "id": "ZfWc0HlJg94K",
        "colab_type": "text"
      },
      "source": [
        "## Assigning subsets with `.iloc`\n",
        "Similarly, we can use the **`.iloc`** indexer which only makes selections via **`integer location`**.\n",
        "\n",
        "Let's assign the 3rd - 6th rows of the **`SCORE`** column (integer location 5) with the value 99. Again, we will make a copy of the DataFrame and display the difference with our **`style_diff`** function."
      ]
    },
    {
      "cell_type": "code",
      "metadata": {
        "id": "OrjW6fKwg94N",
        "colab_type": "code",
        "colab": {}
      },
      "source": [
        "df_orig = df.copy()\n",
        "\n",
        "df.iloc[3:6, 5] = 99"
      ],
      "execution_count": 0,
      "outputs": []
    },
    {
      "cell_type": "code",
      "metadata": {
        "id": "TgbPrMN3g94P",
        "colab_type": "code",
        "colab": {}
      },
      "source": [
        "style_diff(df, df_orig)"
      ],
      "execution_count": 0,
      "outputs": []
    },
    {
      "cell_type": "markdown",
      "metadata": {
        "id": "1y0W57i0g94R",
        "colab_type": "text"
      },
      "source": [
        "## Assigning an entire column with `.loc` and `.iloc`\n",
        "Normally, *just the indexing operator* is used to change values of an entire column, but it's also possible to do it with both **`.loc`** and **.`iloc`**. You have to remember that the fist selection made by both these indexers is the rows. To select all rows, use the colon **`:`**.\n",
        "\n",
        "For instance, let's see this in action by changing all values in the **`FLOOR`** column."
      ]
    },
    {
      "cell_type": "code",
      "metadata": {
        "id": "j-JP7_sFg94T",
        "colab_type": "code",
        "colab": {}
      },
      "source": [
        "df_orig = df.copy()\n",
        "df.loc[:, 'FLOOR'] = 33\n",
        "style_diff(df, df_orig)"
      ],
      "execution_count": 0,
      "outputs": []
    },
    {
      "cell_type": "markdown",
      "metadata": {
        "id": "UR27vgCAg94V",
        "colab_type": "text"
      },
      "source": [
        "And with **`.iloc`**:"
      ]
    },
    {
      "cell_type": "code",
      "metadata": {
        "id": "aNCk23yHg94V",
        "colab_type": "code",
        "colab": {}
      },
      "source": [
        "df_orig = df.copy()\n",
        "df.iloc[:, 7] = 22\n",
        "style_diff(df, df_orig)"
      ],
      "execution_count": 0,
      "outputs": []
    },
    {
      "cell_type": "markdown",
      "metadata": {
        "id": "CjL79-tCg94Y",
        "colab_type": "text"
      },
      "source": [
        "## Assigning with boolean selection\n",
        "It is more common to use boolean selection to make assignments to subsets than with directly selecting subsets by label or integer location.\n",
        "\n",
        "For instance, let's say we wanted to give everyone in the engineering department a $5,000 bonus on top of what they already have.\n",
        "\n",
        "Before making the assignment, let's properly select the data with boolean indexing."
      ]
    },
    {
      "cell_type": "code",
      "metadata": {
        "id": "WaRN3uPCg94Z",
        "colab_type": "code",
        "colab": {}
      },
      "source": [
        "df.loc[df['DEPARTMENT'] == 'Engineering', 'BONUS']"
      ],
      "execution_count": 0,
      "outputs": []
    },
    {
      "cell_type": "markdown",
      "metadata": {
        "id": "o9iyHbeDg94c",
        "colab_type": "text"
      },
      "source": [
        "Once we have confirmed that our selection works, we can make an assignment. We can use the **`+=`** operator to shorten the syntax considerably, which will assign the value back to itself."
      ]
    },
    {
      "cell_type": "code",
      "metadata": {
        "id": "wtD8mJxRg94e",
        "colab_type": "code",
        "colab": {}
      },
      "source": [
        "df_orig = df.copy()\n",
        "\n",
        "df.loc[df['DEPARTMENT'] == 'Engineering', 'BONUS'] += 5000\n",
        "style_diff(df, df_orig)"
      ],
      "execution_count": 0,
      "outputs": []
    },
    {
      "cell_type": "markdown",
      "metadata": {
        "id": "b7ROexmQg94g",
        "colab_type": "text"
      },
      "source": [
        "## Assigning with multiple condition boolean selection\n",
        "Let's do an example with multiple boolean conditions. Let's subtract 10 from the **`SCORE`** of all the black females and white males."
      ]
    },
    {
      "cell_type": "code",
      "metadata": {
        "id": "OppKbxTYg94h",
        "colab_type": "code",
        "colab": {}
      },
      "source": [
        "# check our logic first\n",
        "white_male = (df['GENDER'] == 'Male') & (df['RACE'] == 'White')\n",
        "black_female = (df['GENDER'] == 'Female') & (df['RACE'] == 'Black')\n",
        "criteria = white_male | black_female\n",
        "df[criteria]"
      ],
      "execution_count": 0,
      "outputs": []
    },
    {
      "cell_type": "code",
      "metadata": {
        "id": "h6DcPgRQg94j",
        "colab_type": "code",
        "colab": {}
      },
      "source": [
        "df_orig = df.copy()\n",
        "df.loc[criteria, 'SCORE'] -= 10\n",
        "style_diff(df, df_orig)"
      ],
      "execution_count": 0,
      "outputs": []
    },
    {
      "cell_type": "markdown",
      "metadata": {
        "id": "eA44DhS-g94l",
        "colab_type": "text"
      },
      "source": [
        "## Assigning subsets of data in a Series\n",
        "Assigning subsets of pandas Series is a less common operation but happens analogously to a DataFrame.\n",
        "\n",
        "Let's first select a copy of the **`SALARY`** column from our above DataFrame:"
      ]
    },
    {
      "cell_type": "code",
      "metadata": {
        "id": "TkKdbqIXg94m",
        "colab_type": "code",
        "colab": {}
      },
      "source": [
        "s = df['SALARY'].copy()\n",
        "s"
      ],
      "execution_count": 0,
      "outputs": []
    },
    {
      "cell_type": "markdown",
      "metadata": {
        "id": "1_ZhYhdWg94n",
        "colab_type": "text"
      },
      "source": [
        "We didn't have to use the **`copy`** method, but we did so to avoid the **`SettingWithCopy`** warning. This is a common warning when making assignments during subset selection. We will cover what it means and how to avoid it in the next notebook."
      ]
    },
    {
      "cell_type": "markdown",
      "metadata": {
        "id": "bcw2lflWg94p",
        "colab_type": "text"
      },
      "source": [
        "## Assigning with `.loc` and `.iloc`\n",
        "Since Series do not have columns, I don't use *just the indexing operator* with them (unless I am doing boolean selection). It can be used to select rows, but is ambiguous and confusing and therefore I avoid it. All the capability of explicitly selecting particular Series values is provided with **`.loc`** and **`.iloc`**.\n",
        "\n",
        "Let's change the salary of **`Tom`**, **`Sofia`**, and **`Zach`**."
      ]
    },
    {
      "cell_type": "code",
      "metadata": {
        "id": "3Ldcnw_-g94q",
        "colab_type": "code",
        "colab": {}
      },
      "source": [
        "s.loc[['Tom', 'Sofia', 'Zach']] = [99999, 39999, 49999]\n",
        "s"
      ],
      "execution_count": 0,
      "outputs": []
    },
    {
      "cell_type": "markdown",
      "metadata": {
        "id": "Rl0A7PzQg94t",
        "colab_type": "text"
      },
      "source": [
        "## No styling with Series\n",
        "Pandas outputs Series as plain text, so we cannot style them like we do with DataFrames.\n",
        "\n",
        "However, we can create a function to modify the index by appending '-changed' to the ones that have changed."
      ]
    },
    {
      "cell_type": "code",
      "metadata": {
        "id": "Yxxceho2g94t",
        "colab_type": "code",
        "colab": {}
      },
      "source": [
        "# advanced\n",
        "def style_diff_series(s, s_orig):\n",
        "    idx = s.index.where(s == s_orig, s.index + '-changed')\n",
        "    return s.set_axis(idx, inplace=False)"
      ],
      "execution_count": 0,
      "outputs": []
    },
    {
      "cell_type": "markdown",
      "metadata": {
        "id": "Cgztb62Bg94w",
        "colab_type": "text"
      },
      "source": [
        "Create a copy of our original like we did before:"
      ]
    },
    {
      "cell_type": "code",
      "metadata": {
        "id": "Qxb9GY3ng94w",
        "colab_type": "code",
        "colab": {}
      },
      "source": [
        "s = df['SALARY'].copy()\n",
        "s_orig = s.copy()"
      ],
      "execution_count": 0,
      "outputs": []
    },
    {
      "cell_type": "markdown",
      "metadata": {
        "id": "p8hV1mzwg940",
        "colab_type": "text"
      },
      "source": [
        "Apply the changes:"
      ]
    },
    {
      "cell_type": "code",
      "metadata": {
        "id": "DkanfpGxg941",
        "colab_type": "code",
        "colab": {}
      },
      "source": [
        "s.loc[['Tom', 'Sofia', 'Zach']] = [99999, 39999, 49999]"
      ],
      "execution_count": 0,
      "outputs": []
    },
    {
      "cell_type": "markdown",
      "metadata": {
        "id": "ls6V-kgOg943",
        "colab_type": "text"
      },
      "source": [
        "Add 'changed' to the index:"
      ]
    },
    {
      "cell_type": "code",
      "metadata": {
        "id": "IfynGsUhg945",
        "colab_type": "code",
        "colab": {}
      },
      "source": [
        "style_diff_series(s, s_orig)"
      ],
      "execution_count": 0,
      "outputs": []
    },
    {
      "cell_type": "markdown",
      "metadata": {
        "id": "sTu-HhZEg947",
        "colab_type": "text"
      },
      "source": [
        "We can make similar changes using integer location with **`.iloc`**. Here we change every other value."
      ]
    },
    {
      "cell_type": "code",
      "metadata": {
        "id": "dDPMuSfag947",
        "colab_type": "code",
        "colab": {}
      },
      "source": [
        "s_orig = s.copy()\n",
        "s.iloc[::2]  = 55555\n",
        "style_diff_series(s, s_orig)"
      ],
      "execution_count": 0,
      "outputs": []
    },
    {
      "cell_type": "markdown",
      "metadata": {
        "id": "t5YcE_kJg949",
        "colab_type": "text"
      },
      "source": [
        "## Assigning Series with boolean indexing\n",
        "We can use boolean indexing to make assignments as well. Using *just the indexing operator* is acceptable here. Let's double all the salaries below 40,000"
      ]
    },
    {
      "cell_type": "code",
      "metadata": {
        "id": "Q5-lMXsAg94-",
        "colab_type": "code",
        "colab": {}
      },
      "source": [
        "s_orig = s.copy()\n",
        "s[s < 40000] *= 2\n",
        "style_diff_series(s, s_orig)"
      ],
      "execution_count": 0,
      "outputs": []
    },
    {
      "cell_type": "markdown",
      "metadata": {
        "id": "YQrXk5TYg95B",
        "colab_type": "text"
      },
      "source": [
        "Both *just the indexing operator* and **`.loc`** work the same when doing boolean indexing on a Series. However, as mentioned in part 2, **`.iloc`** should almost never be used when doing boolean indexing as it's not implemented fully."
      ]
    },
    {
      "cell_type": "markdown",
      "metadata": {
        "id": "Y9zhyO8Ug95B",
        "colab_type": "text"
      },
      "source": [
        "# Summary\n",
        "\n",
        "* Assignment means using the equal sign to assign a variable on the left-hand side to an expression on the right-hand side\n",
        "* New columns are created by passing a string to *just the indexing operator* and setting it equal to either a scalar, a list/array the same length as the DataFrame, or a Series with identical index as the DataFrame\n",
        "* There is no output when you make an assignment. You must use an extra line to display the DataFrame/Series\n",
        "* Select a specific subset of rows/columns with **`.loc`** or **`.iloc`** and manually assign them value with a list/array.\n",
        "* Use the **`style`** attribute to make particular values pop out for visual display\n",
        "* You can assign entire columns with **`.loc`** or **`.iloc`** by using the colon, **`:`** for rows\n",
        "* A more common operation is to use boolean indexing to select subsets of data before making an assignment\n",
        "* Assigning new values to a Series is similar to DataFrames except that we don't use **`.iloc`** for boolean indexing"
      ]
    },
    {
      "cell_type": "markdown",
      "metadata": {
        "id": "_iQJZEYFg95C",
        "colab_type": "text"
      },
      "source": [
        "# Just the basics of assignment of subsets\n",
        "This tutorial covered the simplest and most frequently used assignment of subsets. The next notebook will cover some things NOT to do like **chained indexing** and triggering the **`SettingWithCopy`** warning.\n",
        "\n",
        "There are also many other ways to create new columns or even add multiple columns at the same time. This notebook again, is just drilling the basics.\n",
        "\n",
        "# Exercises\n",
        "We will continue to use the employee sample DataFrame for all the exercises in this tutorial"
      ]
    },
    {
      "cell_type": "code",
      "metadata": {
        "id": "1pR4PxhRg95D",
        "colab_type": "code",
        "colab": {}
      },
      "source": [
        "import pandas as pd\n",
        "import numpy as np"
      ],
      "execution_count": 0,
      "outputs": []
    },
    {
      "cell_type": "code",
      "metadata": {
        "id": "33Wom88Kg95E",
        "colab_type": "code",
        "colab": {}
      },
      "source": [
        "df = pd.read_csv('https://raw.githubusercontent.com/ahmadajal/DM_ML_course_public/master/2%263.%20Data%26EDA/data/employee_sample.csv', index_col=0)\n",
        "df"
      ],
      "execution_count": 0,
      "outputs": []
    },
    {
      "cell_type": "code",
      "metadata": {
        "id": "FmEkjU_6g95R",
        "colab_type": "code",
        "colab": {}
      },
      "source": [
        "def style_diff(df, df_orig):\n",
        "    style = {True: '', \n",
        "             False: 'color: red; background-color: yellow'}\n",
        "    df_style = (df == df_orig).replace(style)\n",
        "    return df.style.apply(lambda x: df_style, axis=None)"
      ],
      "execution_count": 0,
      "outputs": []
    },
    {
      "cell_type": "markdown",
      "metadata": {
        "id": "Z2EuOiVXg95T",
        "colab_type": "text"
      },
      "source": [
        "### Exercise 1\n",
        "<span  style=\"color:green; font-size:16px\"> Create a Series with the index equal to the same values in **`df`** but in a different order. Make the values of the Series integers representing the employee's age ranging somewhere from 20 to 65. Create a new column **`AGE`**. Does the order of the index matter?</span>"
      ]
    },
    {
      "cell_type": "code",
      "metadata": {
        "id": "bFl3UAeSg95U",
        "colab_type": "code",
        "colab": {}
      },
      "source": [
        "# your code here"
      ],
      "execution_count": 0,
      "outputs": []
    },
    {
      "cell_type": "markdown",
      "metadata": {
        "id": "_tU8RZZpg95W",
        "colab_type": "text"
      },
      "source": [
        "### Exercise 2\n",
        "<span  style=\"color:green; font-size:16px\"> Create a new column **`BONUS`** equal to 0 for everyone</span>"
      ]
    },
    {
      "cell_type": "code",
      "metadata": {
        "id": "rBPRhtxog95X",
        "colab_type": "code",
        "colab": {}
      },
      "source": [
        "# your code here"
      ],
      "execution_count": 0,
      "outputs": []
    },
    {
      "cell_type": "markdown",
      "metadata": {
        "id": "fgylCR1Tg95Z",
        "colab_type": "text"
      },
      "source": [
        "### Exercise 3\n",
        "<span  style=\"color:green; font-size:16px\"> Change the **`BONUS`** column so that everyone with more than 10 years of experience get $10,000. Use the **`style_diff`** function to display the results.</span>"
      ]
    },
    {
      "cell_type": "code",
      "metadata": {
        "id": "NUG9jEo1g95Z",
        "colab_type": "code",
        "colab": {}
      },
      "source": [
        "# your code here"
      ],
      "execution_count": 0,
      "outputs": []
    },
    {
      "cell_type": "markdown",
      "metadata": {
        "id": "FyKjJ06sg95c",
        "colab_type": "text"
      },
      "source": [
        "### Exercise 4\n",
        "<span  style=\"color:green; font-size:16px\"> Create a new column **`TOTAL SALARY`** that is 10% higher than the current **`SALARY`** column and add the bonus on top of that as well. Use **`.loc`** on the left-hand side and NOT *just the indexing operator*. Make the data type **`TOTAL SALARY`** an integer.</span>"
      ]
    },
    {
      "cell_type": "code",
      "metadata": {
        "id": "bt03LuxAg95e",
        "colab_type": "code",
        "colab": {}
      },
      "source": [
        "# your code here"
      ],
      "execution_count": 0,
      "outputs": []
    },
    {
      "cell_type": "markdown",
      "metadata": {
        "id": "4SkMaaldg95e",
        "colab_type": "text"
      },
      "source": [
        "### Exercise 5\n",
        "<span  style=\"color:green; font-size:16px\"> Set Aria's department to 'Police'. Highlight the change</span>"
      ]
    },
    {
      "cell_type": "code",
      "metadata": {
        "id": "x-lLDSTFg95f",
        "colab_type": "code",
        "colab": {}
      },
      "source": [
        "# your code here"
      ],
      "execution_count": 0,
      "outputs": []
    },
    {
      "cell_type": "markdown",
      "metadata": {
        "id": "bG6d8kKDg95h",
        "colab_type": "text"
      },
      "source": [
        "### Exercise 6\n",
        "<span  style=\"color:green; font-size:16px\"> Give all the white engineers a salary raise of \\$10,000 and all the black Parks & Recreation employees a decrease in salary by \\$10,000. Highlight the change.</span>"
      ]
    },
    {
      "cell_type": "code",
      "metadata": {
        "id": "tdthhYsFg95h",
        "colab_type": "code",
        "colab": {}
      },
      "source": [
        "# your code here"
      ],
      "execution_count": 0,
      "outputs": []
    },
    {
      "cell_type": "markdown",
      "metadata": {
        "id": "JpwYZQgQg95j",
        "colab_type": "text"
      },
      "source": [
        "### Exercise 7\n",
        "<span  style=\"color:green; font-size:16px\"> Use **`.iloc`** to change the age of the employees with integer location 3 and 5 to 60 and 65 respectively. Highlight the change.</span>"
      ]
    },
    {
      "cell_type": "code",
      "metadata": {
        "id": "INzQjf9dg95k",
        "colab_type": "code",
        "colab": {}
      },
      "source": [
        "# your code here"
      ],
      "execution_count": 0,
      "outputs": []
    }
  ]
}