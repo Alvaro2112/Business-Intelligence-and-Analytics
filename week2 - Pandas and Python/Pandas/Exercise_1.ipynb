{
  "nbformat": 4,
  "nbformat_minor": 0,
  "metadata": {
    "kernelspec": {
      "display_name": "Python 3",
      "language": "python",
      "name": "python3"
    },
    "language_info": {
      "codemirror_mode": {
        "name": "ipython",
        "version": 3
      },
      "file_extension": ".py",
      "mimetype": "text/x-python",
      "name": "python",
      "nbconvert_exporter": "python",
      "pygments_lexer": "ipython3",
      "version": "3.7.6"
    },
    "colab": {
      "name": "Exercise_1.ipynb",
      "provenance": [],
      "collapsed_sections": [],
      "include_colab_link": true
    }
  },
  "cells": [
    {
      "cell_type": "markdown",
      "metadata": {
        "id": "view-in-github",
        "colab_type": "text"
      },
      "source": [
        "<a href=\"https://colab.research.google.com/github/michalis0/Business-Intelligence-and-Analytics/blob/master/week2%20-%20Pandas%20and%20Python/Pandas/Exercise_1.ipynb\" target=\"_parent\"><img src=\"https://colab.research.google.com/assets/colab-badge.svg\" alt=\"Open In Colab\"/></a>"
      ]
    },
    {
      "cell_type": "markdown",
      "metadata": {
        "id": "ILyU0L16vFm6"
      },
      "source": [
        "# Part 1\n",
        "\n",
        "\n"
      ]
    },
    {
      "cell_type": "code",
      "metadata": {
        "id": "8C3A0jwrvFm_"
      },
      "source": [
        "import pandas as pd"
      ],
      "execution_count": null,
      "outputs": []
    },
    {
      "cell_type": "markdown",
      "metadata": {
        "id": "lhPJiZDYvFnK"
      },
      "source": [
        "##Question 1\n",
        "We will work on one dataset.\n",
        "With the function `pd.read_csv()`, this function takes a string as an argument which corresponds to the url or the path of the file, load the file: `google-play-store-apps/googleplaystore_user_reviews.csv`.\n",
        "\n",
        "The URL you need is: https://raw.githubusercontent.com/michalis0/Business-Intelligence-and-Analytics/master/data/google-play-store-apps/googleplaystore_user_reviews.csv\n",
        "\n",
        "Normally CSV files are separated by commas, but this one is separated by \";\". Use the argument `sep=\";\"` to let Pandas know that the values are separated by \";\". "
      ]
    },
    {
      "cell_type": "code",
      "metadata": {
        "id": "9-ArMjlRvFnM"
      },
      "source": [
        "#Load the googleplaystore_user_reviews.csv file\n",
        "googleplaystore_user_reviews = pd.read_csv('''YOUR CODE HERE''', sep=';')"
      ],
      "execution_count": null,
      "outputs": []
    },
    {
      "cell_type": "markdown",
      "metadata": {
        "id": "nt17aKbovFnS"
      },
      "source": [
        "##Question 2\n",
        "Chek the data (googleplaystore_user_reviews) by using the following functions:\n",
        "* `.head()`(beginning of the list)\n",
        "* `.tail()` (end of the list)\n",
        "* `.columns` (column names)\n",
        "* `.index` (raw identifier)\n",
        "* `.dtypes` (column types)"
      ]
    },
    {
      "cell_type": "code",
      "metadata": {
        "scrolled": true,
        "id": "PueLvW0PvFnU",
        "collapsed": true
      },
      "source": [
        "#Beginning of the list\r\n",
        "googleplaystore_user_reviews.head()"
      ],
      "execution_count": null,
      "outputs": []
    },
    {
      "cell_type": "code",
      "metadata": {
        "id": "lnnqISWG88he"
      },
      "source": [
        "#End of the list\n",
        "googleplaystore_user_reviews'''YOUR CODE HERE'''"
      ],
      "execution_count": null,
      "outputs": []
    },
    {
      "cell_type": "code",
      "metadata": {
        "id": "g8GQJzHP88YP"
      },
      "source": [
        "#Column names\n",
        "googleplaystore_user_reviews'''YOUR CODE HERE'''"
      ],
      "execution_count": null,
      "outputs": []
    },
    {
      "cell_type": "code",
      "metadata": {
        "id": "PMK_xp1b88Ng"
      },
      "source": [
        "#Raw identifier\n",
        "'''YOUR CODE HERE'''"
      ],
      "execution_count": null,
      "outputs": []
    },
    {
      "cell_type": "code",
      "metadata": {
        "id": "3l4E7KP187sG"
      },
      "source": [
        "#Column types\n",
        "'''YOUR CODE HERE'''"
      ],
      "execution_count": null,
      "outputs": []
    },
    {
      "cell_type": "markdown",
      "metadata": {
        "id": "cQIDsx8VDNps"
      },
      "source": [
        "##Question 3\n",
        "Look at the different types of the columns. Most of them are Object type, the most general one, we will convert correctly the type of each column. Convert each column types to a correct one. You can use the function `pd.to_numeric()` (give you either a int64 or float64 dtype) or `pd.as_type()`:\n",
        "\n",
        "| Pandas dtype  | Python type  | NumPy type|Usage\n",
        "| :--- | :--- | :--- | :--- |\n",
        "| object| str or mixed | string_, unicode_, mixed types| Text or mixed numeric and non_numeric values |\n",
        "| int 64| int| int_, int8, int16, int32, int64, uint8, uint18, uint32, uint64 | Integer numbers |\n",
        "| float64| float| float_, float15, float32, float64 | Floating point numbers |\n",
        "| bool| bool|bool_| True/False values|\n",
        "| datetime64 | NA | datetime64[ns]     | Date and time values  |\n",
        "| timedelta[ns] | NA  | NA| Differences between two datetime|\n",
        "| category | NA| NA| Finite list of text values|\n",
        "\n",
        "**Example: How to use astype**\n",
        "```python\n",
        "# convert all DataFrame columns to the int64 dtype\n",
        "df = df.astype(int)\n",
        "\n",
        "# convert column \"a\" to int64 dtype and \"b\" to complex type\n",
        "df = df.astype({\"a\": int, \"b\": complex})\n",
        "\n",
        "# convert Series to float16 type\n",
        "s = s.astype(np.float16)\n",
        "\n",
        "# convert Series to Python strings\n",
        "s = s.astype(str)\n",
        "\n",
        "# convert Series to categorical type - see docs for more details\n",
        "s = s.astype('category')\n",
        "```\n",
        "But here `to_numeric()` is sufficient! Use the argument `errors = 'coerce'`to deal with string values inside the column.\n",
        "\n",
        "**Example:**\n"
      ]
    },
    {
      "cell_type": "code",
      "metadata": {
        "id": "BmNiC4MpGbK7"
      },
      "source": [
        "#Convert Sentiment to categorical\n",
        "googleplaystore_user_reviews['''YOUR CODE HERE'''] = googleplaystore_user_reviews['''YOUR CODE HERE'''].astype('''YOUR CODE HERE''')"
      ],
      "execution_count": null,
      "outputs": []
    },
    {
      "cell_type": "code",
      "metadata": {
        "id": "Y1RZksytGrrL"
      },
      "source": [
        "#Sentiment_Polarity to numeric\n",
        "googleplaystore_user_reviews['''YOUR CODE HERE'''] = pd.to_numeric(googleplaystore_user_reviews['''YOUR CODE HERE'''], errors='coerce')"
      ],
      "execution_count": null,
      "outputs": []
    },
    {
      "cell_type": "code",
      "metadata": {
        "id": "GS362Z5VG50T"
      },
      "source": [
        "#Sentiment_Subjectivity to numeric\n",
        "googleplaystore_user_reviews['''YOUR CODE HERE'''] = '''YOUR CODE HERE'''"
      ],
      "execution_count": null,
      "outputs": []
    },
    {
      "cell_type": "markdown",
      "metadata": {
        "id": "IsJwcCBpHcUk"
      },
      "source": [
        "Now lets have a look at the dtypes:"
      ]
    },
    {
      "cell_type": "code",
      "metadata": {
        "id": "jeUm-hIsHb7g"
      },
      "source": [
        "#Column types (use .dtypes)\n",
        "'''YOUR CODE HERE'''"
      ],
      "execution_count": null,
      "outputs": []
    },
    {
      "cell_type": "markdown",
      "metadata": {
        "id": "2W0A_7b69dV-"
      },
      "source": [
        "# Part 2\n"
      ]
    },
    {
      "cell_type": "markdown",
      "metadata": {
        "id": "T0d2fZe2vFnx"
      },
      "source": [
        "##Question 4\n",
        "Note that there exist some null values. For each dataframe, count the number of null values by using: `.isnull()` and `.sum()`. Drop the null values if there exist. Print the shape of your dataframes before and after the cleaning process: `.shape`. How many data was deleted ?\n",
        "\n",
        "**Solution:**"
      ]
    },
    {
      "cell_type": "code",
      "metadata": {
        "id": "Yh4BS1SYvFny"
      },
      "source": [
        "#First, we want to see the DataFrame's size (use .size)\r\n",
        "googleplaystore_user_reviews'''YOUR CODE HERE'''"
      ],
      "execution_count": null,
      "outputs": []
    },
    {
      "cell_type": "code",
      "metadata": {
        "id": "k-cGLkTS_8go"
      },
      "source": [
        "#Let's count the number of null values per column (use .isnull() and .sum())\n",
        "googleplaystore_user_reviews'''YOUR CODE HERE'''"
      ],
      "execution_count": null,
      "outputs": []
    },
    {
      "cell_type": "code",
      "metadata": {
        "id": "tvRVINDk_6wn"
      },
      "source": [
        "#Now we store the number of rows of the original Dataframe\n",
        "nb_rows = len('''YOUR CODE HERE''')"
      ],
      "execution_count": null,
      "outputs": []
    },
    {
      "cell_type": "code",
      "metadata": {
        "id": "T6LRC2XV_6qK"
      },
      "source": [
        "#We can drop the rows that have a null value in them with .dropna()\n",
        "googleplaystore_user_reviews = googleplaystore_user_reviews'''YOUR CODE HERE'''"
      ],
      "execution_count": null,
      "outputs": []
    },
    {
      "cell_type": "code",
      "metadata": {
        "id": "6vtiw4fm_6jY"
      },
      "source": [
        "#Take a look at the new DataFrame, without any null values with .head()\n",
        "'''YOUR CODE HERE'''"
      ],
      "execution_count": null,
      "outputs": []
    },
    {
      "cell_type": "code",
      "metadata": {
        "id": "R9r0Z9f6_6Uk"
      },
      "source": [
        "#Check the size again, did it change?\n",
        "'''YOUR CODE HERE'''"
      ],
      "execution_count": null,
      "outputs": []
    },
    {
      "cell_type": "code",
      "metadata": {
        "id": "cgS-GSEKAC9z"
      },
      "source": [
        "#How many rows did we delete? (remember what you stored before dropping the null values)\n",
        "print('We deleted', '''YOUR CODE HERE''', 'rows!')"
      ],
      "execution_count": null,
      "outputs": []
    },
    {
      "cell_type": "markdown",
      "metadata": {
        "id": "9QNGjUe_vFoB"
      },
      "source": [
        "##Question 5\n",
        "We will apply now some selections/filters on the `google_playstore_user_reviews.csv` DataFrame: \n",
        "\n",
        "* filter  the data reviews where the Sentiment_Subjectivity mean  > 0.5 , use: `grouby()`, `mean()` and `where()`  \n",
        "* select the 10 best reviewed apps, use `.sort_values()`  \n",
        "* select the genres that have the highest rating  mean: use `groupby()`, `mean()`and `sort_values()`\n",
        "    \n",
        "**Solution:**"
      ]
    },
    {
      "cell_type": "code",
      "metadata": {
        "id": "PCPiPyHE7Zu0"
      },
      "source": [
        "#Take the mean of each App's Sentiment_Subjectivity\r\n",
        "grouped_mean = googleplaystore_user_reviews.groupby('''YOUR CODE HERE''')['''YOUR CODE HERE'''].mean()"
      ],
      "execution_count": null,
      "outputs": []
    },
    {
      "cell_type": "code",
      "metadata": {
        "id": "DKUEv32DAmD6"
      },
      "source": [
        "#Only keep the Apps with a mean higher than 0.5\n",
        "grouped_mean_higher = grouped_mean.where('''YOUR CODE HERE''')\n",
        "#There are some rows with null values, drop them\n",
        "good_apps = grouped_mean_higher'''YOUR CODE HERE'''"
      ],
      "execution_count": null,
      "outputs": []
    },
    {
      "cell_type": "code",
      "metadata": {
        "id": "2je81tmIAlu0"
      },
      "source": [
        "#Let's look at what we have (use .head())\n",
        "'''YOUR CODE HERE'''"
      ],
      "execution_count": null,
      "outputs": []
    },
    {
      "cell_type": "code",
      "metadata": {
        "id": "ynzzwQJ5-dNj"
      },
      "source": [
        "#All that is left to do is to select the 10 Apps with the highest SentimentSubjectivity\r\n",
        "good_apps.sort_values(ascending='''YOUR CODE HERE''')[:10]"
      ],
      "execution_count": null,
      "outputs": []
    },
    {
      "cell_type": "markdown",
      "metadata": {
        "id": "I-v4ARfLY_LH"
      },
      "source": [
        "# Extra: Not mandatory, but feel free to try it out if you were interested in today's exercice.\n"
      ]
    },
    {
      "cell_type": "markdown",
      "metadata": {
        "id": "tC2xnWYF3INy"
      },
      "source": [
        "## Question 1\r\n",
        "Load the file whose URL you can find below and display its first 5 rows.\r\n",
        "\r\n",
        "https://raw.githubusercontent.com/michalis0/Business-Intelligence-and-Analytics/master/data/google-play-store-apps/googleplaystore.csv"
      ]
    },
    {
      "cell_type": "code",
      "metadata": {
        "id": "WXhSV0ZjVqpL"
      },
      "source": [
        "#Load the csv file\n",
        "google_playstore = pd.read_csv('''YOUR CODE HERE''')\n",
        "\n",
        "#Display the first 5 rows\n",
        "'''YOUR CODE HERE'''"
      ],
      "execution_count": null,
      "outputs": []
    },
    {
      "cell_type": "markdown",
      "metadata": {
        "id": "GtgFXdxoXVjt"
      },
      "source": [
        "Can you see where Pandas would have problems intepreting values?\n",
        "\n",
        "The Size column could be problematic for starters. Python would not know how to handle the M for millions or K for thousands, nor would it be able to work with the '+'.\n",
        "\n",
        "\n",
        "\n",
        "\n",
        "\n",
        "**Solution**: To modify the string format to a numerical format when you have some letters like M for billion and k for thousands you can use the following:\n",
        "```python\n",
        "data_app['Reviews'] = data_app[\"Reviews\"].str.replace(\".\",\"\") # suppress comas\n",
        "data_app['Reviews'] = pd.to_numeric(data_app['Reviews'].map(lambda x: str(x)[:-1] + \"000000\" if str(x)[-1] == 'M' else str(x)[:-1] + \"000\"))\n",
        "\n",
        "```\n",
        "The `map()` function applies a function to all the columns. The lambda expression is a particular form in python to define a function. Some explanation of the example:   \n",
        "* `lambda`special character to specify a lambda expression for a function  \n",
        "* `x` is a variable that represent the value of column/raw,   \n",
        "* `str(x)[:-1] + \"000000\"` corresponds to the new value (instead of x), note that we delete the last character and we add `\"000000\"`to the string if the last character is `M`.  \n",
        "* `.str.replace(\".\",\"\")`first transform the `Object` type to a string, then replace the dot by a empty character.\n",
        "\n",
        "Use the following cell to modify the Size column, the example should help.\n"
      ]
    },
    {
      "cell_type": "code",
      "metadata": {
        "id": "ik4F1CLBZTQm"
      },
      "source": [
        "#Use the str.replace function to replace the \".\", replace them with empty quotes.\n",
        "google_playstore['''YOUR CODE HERE'''] = google_playstore['''YOUR CODE HERE'''].str.replace('''YOUR CODE HERE''') # suppress comas\n",
        "\n",
        "#Now use the lambda function to convert these numbers to actual numbers and the column type to numerical\n",
        "google_playstore['''YOUR CODE HERE'''] = pd.to_numeric(google_playstore['''YOUR CODE HERE'''].map(lambda x: str(x)[:-1] + \"000000\" if str(x)[-1] == 'M' else str(x)[:-1] + \"000\"), errors = 'ignore')\n",
        "\n",
        "#Last of all, use the .head() method to see what changed\n",
        "'''YOUR CODE HERE'''"
      ],
      "execution_count": null,
      "outputs": []
    },
    {
      "cell_type": "markdown",
      "metadata": {
        "id": "urRiSZiV-9Dk"
      },
      "source": [
        "Once again, have a look at the different dtypes:\n",
        "\n",
        "| Pandas dtype  | Python type  | NumPy type|Usage\n",
        "| :--- | :--- | :--- | :--- |\n",
        "| object| str or mixed | string_, unicode_, mixed types| Text or mixed numeric and non_numeric values |\n",
        "| int 64| int| int_, int8, int16, int32, int64, uint8, uint18, uint32, uint64 | Integer numbers |\n",
        "| float64| float| float_, float15, float32, float64 | Floating point numbers |\n",
        "| bool| bool|bool_| True/False values|\n",
        "| datetime64 | NA | datetime64[ns]     | Date and time values  |\n",
        "| timedelta[ns] | NA  | NA| Differences between two datetime|\n",
        "| category | NA| NA| Finite list of text values|\n",
        "\n",
        "Using the argument `errors = 'coerce'`to deal with string values inside the column, convert each column to the required type.\n",
        "\n"
      ]
    },
    {
      "cell_type": "code",
      "metadata": {
        "id": "IDvxhHVu_OnN"
      },
      "source": [
        "#Type to categorical\r\n",
        "google_playstore['''YOUR CODE HERE'''] = google_playstore['''YOUR CODE HERE'''].astype('''YOUR CODE HERE''')"
      ],
      "execution_count": null,
      "outputs": []
    },
    {
      "cell_type": "code",
      "metadata": {
        "id": "i9wEjsZ3J6fm"
      },
      "source": [
        "#Price to int\n",
        "google_playstore['''YOUR CODE HERE'''] = pd.to_numeric(google_playstore['''YOUR CODE HERE'''], errors = 'coerce')"
      ],
      "execution_count": null,
      "outputs": []
    },
    {
      "cell_type": "code",
      "metadata": {
        "id": "AC6u4klRJ8Dn"
      },
      "source": [
        "#Rating to categorical\n",
        "google_playstore['''YOUR CODE HERE'''] = google_playstore['''YOUR CODE HERE'''].astype('''YOUR CODE HERE''')"
      ],
      "execution_count": null,
      "outputs": []
    },
    {
      "cell_type": "code",
      "metadata": {
        "id": "9wOzVenkJ-_N"
      },
      "source": [
        "#Genre to categorical\n",
        "google_playstore['''YOUR CODE HERE'''] = google_playstore['''YOUR CODE HERE'''].astype('''YOUR CODE HERE''')"
      ],
      "execution_count": null,
      "outputs": []
    },
    {
      "cell_type": "code",
      "metadata": {
        "id": "m_z7eImZKAPK"
      },
      "source": [
        "#Last Updated to DateTime, you can use the following argument: format=\"%B %d, %Y\"\n",
        "google_playstore['''YOUR CODE HERE'''] = pd.to_datetime(google_playstore['''YOUR CODE HERE'''], format='''YOUR CODE HERE''', errors = 'coerce')"
      ],
      "execution_count": null,
      "outputs": []
    },
    {
      "cell_type": "code",
      "metadata": {
        "id": "woBiWfVpeveH"
      },
      "source": [
        "#Let's look at the data types now (use .dtypes)\n",
        "'''YOUR CODE HERE'''"
      ],
      "execution_count": null,
      "outputs": []
    }
  ]
}