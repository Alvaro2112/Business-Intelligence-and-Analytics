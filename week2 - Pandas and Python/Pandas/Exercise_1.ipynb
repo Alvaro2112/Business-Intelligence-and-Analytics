{
  "nbformat": 4,
  "nbformat_minor": 0,
  "metadata": {
    "kernelspec": {
      "display_name": "Python 3",
      "language": "python",
      "name": "python3"
    },
    "language_info": {
      "codemirror_mode": {
        "name": "ipython",
        "version": 3
      },
      "file_extension": ".py",
      "mimetype": "text/x-python",
      "name": "python",
      "nbconvert_exporter": "python",
      "pygments_lexer": "ipython3",
      "version": "3.7.6"
    },
    "colab": {
      "name": "Exercise 1 .ipynb",
      "provenance": [],
      "include_colab_link": true
    }
  },
  "cells": [
    {
      "cell_type": "markdown",
      "metadata": {
        "id": "view-in-github",
        "colab_type": "text"
      },
      "source": [
        "<a href=\"https://colab.research.google.com/github/michalis0/Business-Intelligence-and-Analytics/blob/master/week2%20-%20Pandas%20and%20Python/Pandas/Exercise_1.ipynb\" target=\"_parent\"><img src=\"https://colab.research.google.com/assets/colab-badge.svg\" alt=\"Open In Colab\"/></a>"
      ]
    },
    {
      "cell_type": "markdown",
      "metadata": {
        "id": "ILyU0L16vFm6"
      },
      "source": [
        "# Exercise 1\n",
        "\n",
        "\n"
      ]
    },
    {
      "cell_type": "code",
      "metadata": {
        "id": "8C3A0jwrvFm_"
      },
      "source": [
        "import pandas as pd\n"
      ],
      "execution_count": null,
      "outputs": []
    },
    {
      "cell_type": "markdown",
      "metadata": {
        "id": "lhPJiZDYvFnK"
      },
      "source": [
        "1) We will work on one dataset that contains 2 files.\n",
        "With the function `pd.read_csv()`, this function takes a string as an argument which corresponds to the url or the path of the file (i.e `\"../data/filename.csv\"`), load the different files: `google-play-store-apps/googleplaystore_user_reviews.csv` and `google-play-store-apps/googleplaystore.csv`. If you use google collab you can fill the `read_csv()` with the url on github repository:\n",
        "\n",
        "The two URLs you need are:\n",
        "- https://raw.githubusercontent.com/michalis0/Business-Intelligence-and-Analytics/master/data/google-play-store-apps/googleplaystore_user_reviews.csv\n",
        "- https://raw.githubusercontent.com/michalis0/Business-Intelligence-and-Analytics/master/data/google-play-store-apps/googleplaystore.csv\n",
        "\n",
        "**Example:**\n",
        "```python\n",
        "url_reviews = \"https://raw.githubusercontent.com/michalis0/Business-Intelligence-and-Analytics/master/data/google-play-store-apps/googleplaystore_user_reviews.csv\"\n",
        "data_app_reviews = pd.read_csv(url_reviews)\n",
        "```\n",
        "\n",
        "**Solution:**"
      ]
    },
    {
      "cell_type": "code",
      "metadata": {
        "id": "9-ArMjlRvFnM"
      },
      "source": [
        "#Load the googleplaystore_user_reviews.csv file\n",
        "'YOUR CODE HERE'\n",
        "\n",
        "#Load the googleplaystore.csv file\n",
        "'YOUR CODE HERE'"
      ],
      "execution_count": null,
      "outputs": []
    },
    {
      "cell_type": "markdown",
      "metadata": {
        "id": "nt17aKbovFnS"
      },
      "source": [
        "2) Chek the data with the following functions: \n",
        "* `.head()`(beginning of the list) \n",
        "* `.tail()` (end of the list) \n",
        "* `.columns` (column names) \n",
        "* `.index` (raw identifier) \n",
        "* `.dtypes` (column types) \n",
        "\n",
        "The `display(df.head())` function can be useful to display the dataframe directly without waiting for the output. \n",
        "\n",
        "**Hint:**\n",
        "```python\n",
        "display(data_app_reviews.head())\n",
        "display(data_app_reviews.columns)\n",
        "```\n",
        "\n",
        "**Solution:**"
      ]
    },
    {
      "cell_type": "code",
      "metadata": {
        "scrolled": true,
        "id": "PueLvW0PvFnU"
      },
      "source": [
        "#Check the googleplaystore_user_reviews data\r\n",
        "\r\n",
        "#Beginning of the list\r\n",
        "'YOUR CODE HERE'\r\n",
        "\r\n",
        "#End of the list\r\n",
        "'YOUR CODE HERE'\r\n",
        "\r\n",
        "#Column names\r\n",
        "'YOUR CODE HERE'\r\n",
        "\r\n",
        "#Raw identifier\r\n",
        "'YOUR CODE HERE'\r\n",
        "\r\n",
        "#Column types\r\n",
        "'YOUR CODE HERE'"
      ],
      "execution_count": null,
      "outputs": []
    },
    {
      "cell_type": "code",
      "metadata": {
        "scrolled": true,
        "id": "JZt-FqS0vFnb"
      },
      "source": [
        "#Check the googleplaystore data\r\n",
        "\r\n",
        "#Beginning of the list\r\n",
        "'YOUR CODE HERE'\r\n",
        "\r\n",
        "#End of the list\r\n",
        "'YOUR CODE HERE'\r\n",
        "\r\n",
        "#Column names\r\n",
        "'YOUR CODE HERE'\r\n",
        "\r\n",
        "#Raw identifier\r\n",
        "'YOUR CODE HERE'\r\n",
        "\r\n",
        "#Column types\r\n",
        "'YOUR CODE HERE'"
      ],
      "execution_count": null,
      "outputs": []
    },
    {
      "cell_type": "markdown",
      "metadata": {
        "id": "RAQqlM26vFnm"
      },
      "source": [
        "3) Look at the different types of the columns. Most of them are `Object` type, the most general one. Convert each column type to the correct one. You can use the function `pd.to_numeric()` (which will give you either an int64 or float64 dtype) or `pd.as_type()`:\n",
        "\n",
        "| Pandas dtype  | Python type  | NumPy type|Usage\n",
        "| :--- | :--- | :--- | :--- |\n",
        "| object| str or mixed | string_, unicode_, mixed types| Text or mixed numeric and non_numeric values |\n",
        "| int 64| int| int_, int8, int16, int32, int64, uint8, uint18, uint32, uint64 | Integer numbers |\n",
        "| float64| float| float_, float15, float32, float64 | Floating point numbers |\n",
        "| bool| bool|bool_| True/False values|\n",
        "| datetime64 | NA | datetime64[ns]     | Date and time values  |\n",
        "| timedelta[ns] | NA  | NA| Differences between two datetime|\n",
        "| category | NA| NA| Finite list of text values|\n",
        "\n",
        "\n",
        "**Example: How to use astype**\n",
        "```python\n",
        "# convert all DataFrame columns to the int64 dtype\n",
        "df = df.astype(int)\n",
        "\n",
        "# convert column \"a\" to int64 dtype and \"b\" to complex type\n",
        "df = df.astype({\"a\": int, \"b\": complex})\n",
        "\n",
        "# convert Series to float16 type\n",
        "s = s.astype(np.float16)\n",
        "\n",
        "# convert Series to Python strings\n",
        "s = s.astype(str)\n",
        "\n",
        "# convert Series to categorical type - see docs for more details\n",
        "s = s.astype('category')\n",
        "```\n",
        "\n",
        "In this case, `to_numeric()` is sufficient! Use the argument `errors = 'ignore'` to deal with string values inside the column. You will encounter some errors during the process, check how to progressively clean the data.\n",
        "\n",
        "Change the following columns of the `google-play-store-apps/googleplaystore.csv` to the required types:"
      ]
    },
    {
      "cell_type": "code",
      "metadata": {
        "id": "-I8v3Gy1vFno"
      },
      "source": [
        "#Type to categorical\n",
        "'YOUR CODE HERE'\n",
        "\n",
        "#Price to int\n",
        "'YOUR CODE HERE'\n",
        "\n",
        "#Rating to categorical\n",
        "'YOUR CODE HERE'\n",
        "\n",
        "#Genre to categorical\n",
        "'YOUR CODE HERE'\n",
        "\n",
        "#Last Updated to DateTime, use the following argument: format=\"%B %d, %Y\"\n",
        "'YOUR CODE HERE'\n"
      ],
      "execution_count": null,
      "outputs": []
    },
    {
      "cell_type": "code",
      "metadata": {
        "id": "ZGyvggnnvFns"
      },
      "source": [
        "#Let's look at the data types now\r\n",
        "'YOUR CODE HERE'"
      ],
      "execution_count": null,
      "outputs": []
    },
    {
      "cell_type": "markdown",
      "metadata": {
        "id": "T0d2fZe2vFnx"
      },
      "source": [
        "4) Note that there exists some null values. For each dataframe, count the number of null values by using: `.isnull()` and `.sum()`. Drop the null values if there exist. Print the shape of your dataframes before and after the cleaning process: `.shape`. How much data was deleted ?\n",
        "\n",
        "**Solution:**"
      ]
    },
    {
      "cell_type": "code",
      "metadata": {
        "id": "Yh4BS1SYvFny"
      },
      "source": [
        "#For googleplaystore_user_reviews\r\n",
        "\r\n",
        "#First, we want to see the DataFrame's size\r\n",
        "'YOUR CODE HERE'\r\n",
        "\r\n",
        "#Let's count the number of null values per column\r\n",
        "'YOUR CODE HERE'\r\n",
        "\r\n",
        "#Now we store the number of rows of the original Dataframe\r\n",
        "'YOUR CODE HERE'\r\n",
        "\r\n",
        "#We can drop the rows that have a null value in them with .dropna()\r\n",
        "'YOUR CODE HERE'\r\n",
        "\r\n",
        "#Take a look at the new DataFrame, without any null values with .head()\r\n",
        "'YOUR CODE HERE'\r\n",
        "\r\n",
        "#Check the size again, did it change?\r\n",
        "'YOUR CODE HERE'\r\n",
        "\r\n",
        "#How many rows did we delete?\r\n",
        "'YOUR CODE HERE'"
      ],
      "execution_count": null,
      "outputs": []
    },
    {
      "cell_type": "code",
      "metadata": {
        "id": "6TZyrV1xvFn4"
      },
      "source": [
        "#For googleplaystore\r\n",
        "\r\n",
        "#First, we want to see the DataFrame's size\r\n",
        "'YOUR CODE HERE'\r\n",
        "\r\n",
        "#Let's count the number of null values per column\r\n",
        "'YOUR CODE HERE'\r\n",
        "\r\n",
        "#Now we store the number of rows of the original Dataframe\r\n",
        "'YOUR CODE HERE'\r\n",
        "\r\n",
        "#We can drop the rows that have a null value in them with .dropna()\r\n",
        "'YOUR CODE HERE'\r\n",
        "\r\n",
        "#Take a look at the new DataFrame, without any null values with .head()\r\n",
        "'YOUR CODE HERE'\r\n",
        "\r\n",
        "#Check the size again, did it change?\r\n",
        "'YOUR CODE HERE'\r\n",
        "\r\n",
        "#How many rows did we delete?\r\n",
        "'YOUR CODE HERE'"
      ],
      "execution_count": null,
      "outputs": []
    },
    {
      "cell_type": "code",
      "metadata": {
        "id": "we6xjLCpvFn8"
      },
      "source": [
        "#Now we want to know how many rows we deleted across both DataFrames.\r\n",
        "#Add the number of rows deleted in each DataFrame together.\r\n",
        "'YOUR CODE HERE'"
      ],
      "execution_count": null,
      "outputs": []
    },
    {
      "cell_type": "markdown",
      "metadata": {
        "id": "9QNGjUe_vFoB"
      },
      "source": [
        "5) We will apply now some selections/filters on the `google_playstore_user_reviews.csv` DataFrame: \n",
        "* filter  the data reviews where the Sentiment_Subjectivity mean  > 0.5 , use: `grouby()`, `mean()` and `where()`  \n",
        "* select the 10 best reviewed apps, use `.sort_values()`  \n",
        "* select the genres that have the highest rating  mean: use `groupby()`, `mean()`and `sort_values()`\n",
        "    \n",
        "**Solution:**"
      ]
    },
    {
      "cell_type": "code",
      "metadata": {
        "id": "PCPiPyHE7Zu0"
      },
      "source": [
        "#Take the mean of each App's Sentiment_Subjectivity\r\n",
        "'YOUR CODE HERE'\r\n",
        "\r\n",
        "#Only keep the Apps with a mean higher than 0.5\r\n",
        "'YOUR CODE HERE'\r\n",
        "\r\n",
        "#Let's look at what we have with .head()\r\n",
        "'YOUR CODE HERE'"
      ],
      "execution_count": null,
      "outputs": []
    },
    {
      "cell_type": "code",
      "metadata": {
        "id": "ynzzwQJ5-dNj"
      },
      "source": [
        "#All that is left to do is to select the 10 Apps with the highest SentimentSubjectivity\r\n",
        "'YOUR CODE HERE'"
      ],
      "execution_count": null,
      "outputs": []
    },
    {
      "cell_type": "code",
      "metadata": {
        "id": "dI1mTR_S_XsD"
      },
      "source": [
        "#Select the genres that have the highest rating mean\r\n",
        "'YOUR CODE HERE'"
      ],
      "execution_count": null,
      "outputs": []
    },
    {
      "cell_type": "markdown",
      "metadata": {
        "id": "gkWaIek3VEB1"
      },
      "source": [
        "# Extra: Not mandatory, but feel free to try it out if you were interested in today's exercice.\n",
        "\n",
        "\n",
        "The data we worked with, needed some cleaning before being able to work with it. Run the following cell, can you see where Python would have problems adding values?"
      ]
    },
    {
      "cell_type": "code",
      "metadata": {
        "id": "WXhSV0ZjVqpL"
      },
      "source": [
        "#Load the original csv file\n",
        "original_file = pd.read_csv(\"https://raw.githubusercontent.com/michalis0/Business-Intelligence-and-Analytics/master/data/google-play-store-apps/googleplaystore_old.csv\")\n",
        "\n",
        "#Display the first 5 rows\n",
        "display(original_file.head())"
      ],
      "execution_count": null,
      "outputs": []
    },
    {
      "cell_type": "markdown",
      "metadata": {
        "id": "GtgFXdxoXVjt"
      },
      "source": [
        "The Size column could be problematic for starters. Python would not know how to handle the M for millions or K for thousands, nor would it be able to work with the \".\" .\n",
        "\n",
        "**Solution**: To modify the string format to a numerical format when you have some letters like M for billion and k for thousands you can use the following:\n",
        "```python\n",
        "data_app['Reviews'] = data_app[\"Reviews\"].str.replace(\".\",\"\") # suppress comas\n",
        "data_app['Reviews'] = pd.to_numeric(data_app['Reviews'].map(lambda x: str(x)[:-1] + \"000000\" if str(x)[-1] == 'M' else str(x)[:-1] + \"000\"))\n",
        "\n",
        "```\n",
        "The `map()` function applies a function to all the columns. The lambda expression is a particular form in python to define a function. Some explanation of the example:   \n",
        "* `lambda`special character to specify a lambda expression for a function  \n",
        "* `x` is a variable that represent the value of column/raw,   \n",
        "* `str(x)[:-1] + \"000000\"` corresponds to the new value (instead of x), note that we delete the last character and we add `\"000000\"`to the string if the last character is `M`.  \n",
        "* `.str.replace(\".\",\"\")`first transform the `Object` type to a string, then replace the dot by a empty character.\n"
      ]
    },
    {
      "cell_type": "code",
      "metadata": {
        "id": "ErgrDNSWYb-y"
      },
      "source": [
        "#Use the str.replace function to replace the \".\", replace them with empty quotes.\n",
        "#Your code here\n",
        "'YOUR CODE HERE'\n",
        "\n",
        "#Now use the lambda function to convert these numbers to actual numbers and the column type to numerical\n",
        "#Your code here\n",
        "'YOUR CODE HERE'\n",
        "\n",
        "#Last of all, use the .head() method to see what changed\n",
        "#Your code here\n",
        "'YOUR CODE HERE'"
      ],
      "execution_count": null,
      "outputs": []
    }
  ]
}