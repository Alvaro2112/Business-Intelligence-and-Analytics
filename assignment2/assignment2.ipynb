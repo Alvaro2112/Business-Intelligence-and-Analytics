{
  "cells": [
    {
      "cell_type": "markdown",
      "source": [
        "<a href=\"https://colab.research.google.com/github/michalis0/Business-Intelligence-and-Analytics_private/blob/master/assignment2/assignment2_subject.ipynb\" target=\"_parent\"><img src=\"https://colab.research.google.com/assets/colab-badge.svg\" alt=\"Open In Colab\"/></a>"
      ],
      "metadata": {
        "id": "view-in-github",
        "colab_type": "text"
      }
    },
    {
      "cell_type": "markdown",
      "source": [
        "## Assignment 2: Regression and Classification\n",
        "\n",
        "- Due: May 13 @ 23.59\n",
        "- Deliverables: You should submit this notebook in Moodle AND answer the questions in the relevant Quiz in Moodle (your grade depends on the quiz).\n",
        "- Please make sure you fill out the quiz carefully. If you have the correct response on the notebook but not in the quiz you will loose some points. \n",
        "\n",
        "The assignment is about regression over two different datasets (2 parts), then a classification for the third part. Each part is independent, you can proceed to complete the different tasks (**please respect the different indications from the statement and the following hints!!!**). Then you should be able to answer the different questions."
      ],
      "metadata": {
        "colab_type": "text",
        "id": "u0QKH8mswk1g"
      }
    },
    {
      "cell_type": "code",
      "source": [
        "# Useful starting lines\n",
        "%matplotlib inline\n",
        "%load_ext autoreload\n",
        "%autoreload 2\n",
        "\n",
        "#Data processing import\n",
        "import numpy as np\n",
        "import pandas as pd\n",
        "\n",
        "#Set displayed options \n",
        "pd.set_option('display.max_rows', 500)\n",
        "pd.set_option('display.max_columns', 500)\n",
        "pd.set_option('display.width', 1000)\n",
        "\n",
        "#Visualisation import\n",
        "import matplotlib.pyplot as plt\n",
        "import seaborn as sns\n",
        "sns.set_style(\"darkgrid\")\n",
        "\n",
        "# Sklearn import\n",
        "from sklearn.preprocessing import MinMaxScaler # Normalization\n",
        "from sklearn.linear_model import LinearRegression # Regression linear model\n",
        "from sklearn.model_selection import train_test_split # Splitting the data set\n",
        "from sklearn.metrics import mean_squared_error, mean_absolute_error, r2_score # Metrics for errors\n",
        "from sklearn.model_selection import KFold # Cross validation\n",
        "\n",
        "#Suppress warning messages\n",
        "import warnings\n",
        "warnings.filterwarnings('ignore')"
      ],
      "outputs": [
        {
          "output_type": "stream",
          "name": "stdout",
          "text": [
            "The autoreload extension is already loaded. To reload it, use:\n",
            "  %reload_ext autoreload\n"
          ]
        }
      ],
      "execution_count": 0,
      "metadata": {
        "colab_type": "code",
        "id": "knk9AfcHwk1i",
        "outputId": "8f4be43d-c1dc-4414-e26d-0c502527b654",
        "colab": {
          "base_uri": "https://localhost:8080/",
          "height": 52
        }
      }
    },
    {
      "cell_type": "markdown",
      "source": [
        "## Part 1: Credit prediction\n",
        "\n",
        "The first part focuses on a credit dataset and contains anonymous credit and banking information. First, we give you the loading and the preprocessing steps before proceeding with the regression."
      ],
      "metadata": {
        "colab_type": "text",
        "id": "xiqS0dc1wk1s"
      }
    },
    {
      "cell_type": "code",
      "source": [
        "url = \"https://raw.githubusercontent.com/michalis0/Business-Intelligence-and-Analytics/master/data/Credit.csv\"\n",
        "credits = pd.read_csv(url)\n",
        "display(credits.head())\n",
        "# Observations and columns (dimensions)\n",
        "print(\"Number of observations\", credits.shape[0])\n",
        "print(\"Number of dimensions\", credits.shape[1])\n",
        "#Drop unnamed: 0 columns because useless\n",
        "credits.drop(\"Unnamed: 0\", axis= 1)\n",
        "\n",
        "#Encode the Gender, Student and Married columns to integers for regression\n",
        "credits.replace(to_replace=['Female', ' Male'], value=[0, 1], inplace=True)\n",
        "credits.replace(to_replace=['No', 'Yes'], value=[0, 1], inplace=True)\n",
        "display(credits.head())"
      ],
      "outputs": [
        {
          "output_type": "display_data",
          "data": {
            "text/html": [
              "<div>\n",
              "<style scoped>\n",
              "    .dataframe tbody tr th:only-of-type {\n",
              "        vertical-align: middle;\n",
              "    }\n",
              "\n",
              "    .dataframe tbody tr th {\n",
              "        vertical-align: top;\n",
              "    }\n",
              "\n",
              "    .dataframe thead th {\n",
              "        text-align: right;\n",
              "    }\n",
              "</style>\n",
              "<table border=\"1\" class=\"dataframe\">\n",
              "  <thead>\n",
              "    <tr style=\"text-align: right;\">\n",
              "      <th></th>\n",
              "      <th>Unnamed: 0</th>\n",
              "      <th>Income</th>\n",
              "      <th>Limit</th>\n",
              "      <th>Rating</th>\n",
              "      <th>Cards</th>\n",
              "      <th>Age</th>\n",
              "      <th>Education</th>\n",
              "      <th>Gender</th>\n",
              "      <th>Student</th>\n",
              "      <th>Married</th>\n",
              "      <th>Ethnicity</th>\n",
              "      <th>Balance</th>\n",
              "    </tr>\n",
              "  </thead>\n",
              "  <tbody>\n",
              "    <tr>\n",
              "      <th>0</th>\n",
              "      <td>1</td>\n",
              "      <td>14.891</td>\n",
              "      <td>3606</td>\n",
              "      <td>283</td>\n",
              "      <td>2</td>\n",
              "      <td>34</td>\n",
              "      <td>11</td>\n",
              "      <td>Male</td>\n",
              "      <td>No</td>\n",
              "      <td>Yes</td>\n",
              "      <td>Caucasian</td>\n",
              "      <td>333</td>\n",
              "    </tr>\n",
              "    <tr>\n",
              "      <th>1</th>\n",
              "      <td>2</td>\n",
              "      <td>106.025</td>\n",
              "      <td>6645</td>\n",
              "      <td>483</td>\n",
              "      <td>3</td>\n",
              "      <td>82</td>\n",
              "      <td>15</td>\n",
              "      <td>Female</td>\n",
              "      <td>Yes</td>\n",
              "      <td>Yes</td>\n",
              "      <td>Asian</td>\n",
              "      <td>903</td>\n",
              "    </tr>\n",
              "    <tr>\n",
              "      <th>2</th>\n",
              "      <td>3</td>\n",
              "      <td>104.593</td>\n",
              "      <td>7075</td>\n",
              "      <td>514</td>\n",
              "      <td>4</td>\n",
              "      <td>71</td>\n",
              "      <td>11</td>\n",
              "      <td>Male</td>\n",
              "      <td>No</td>\n",
              "      <td>No</td>\n",
              "      <td>Asian</td>\n",
              "      <td>580</td>\n",
              "    </tr>\n",
              "    <tr>\n",
              "      <th>3</th>\n",
              "      <td>4</td>\n",
              "      <td>148.924</td>\n",
              "      <td>9504</td>\n",
              "      <td>681</td>\n",
              "      <td>3</td>\n",
              "      <td>36</td>\n",
              "      <td>11</td>\n",
              "      <td>Female</td>\n",
              "      <td>No</td>\n",
              "      <td>No</td>\n",
              "      <td>Asian</td>\n",
              "      <td>964</td>\n",
              "    </tr>\n",
              "    <tr>\n",
              "      <th>4</th>\n",
              "      <td>5</td>\n",
              "      <td>55.882</td>\n",
              "      <td>4897</td>\n",
              "      <td>357</td>\n",
              "      <td>2</td>\n",
              "      <td>68</td>\n",
              "      <td>16</td>\n",
              "      <td>Male</td>\n",
              "      <td>No</td>\n",
              "      <td>Yes</td>\n",
              "      <td>Caucasian</td>\n",
              "      <td>331</td>\n",
              "    </tr>\n",
              "  </tbody>\n",
              "</table>\n",
              "</div>"
            ],
            "text/plain": [
              "   Unnamed: 0   Income  Limit  Rating  Cards  Age  Education  Gender Student Married  Ethnicity  Balance\n",
              "0           1   14.891   3606     283      2   34         11    Male      No     Yes  Caucasian      333\n",
              "1           2  106.025   6645     483      3   82         15  Female     Yes     Yes      Asian      903\n",
              "2           3  104.593   7075     514      4   71         11    Male      No      No      Asian      580\n",
              "3           4  148.924   9504     681      3   36         11  Female      No      No      Asian      964\n",
              "4           5   55.882   4897     357      2   68         16    Male      No     Yes  Caucasian      331"
            ]
          },
          "metadata": {
            "tags": []
          }
        },
        {
          "output_type": "stream",
          "name": "stdout",
          "text": [
            "Number of observations 400\n",
            "Number of dimensions 12\n"
          ]
        },
        {
          "output_type": "display_data",
          "data": {
            "text/html": [
              "<div>\n",
              "<style scoped>\n",
              "    .dataframe tbody tr th:only-of-type {\n",
              "        vertical-align: middle;\n",
              "    }\n",
              "\n",
              "    .dataframe tbody tr th {\n",
              "        vertical-align: top;\n",
              "    }\n",
              "\n",
              "    .dataframe thead th {\n",
              "        text-align: right;\n",
              "    }\n",
              "</style>\n",
              "<table border=\"1\" class=\"dataframe\">\n",
              "  <thead>\n",
              "    <tr style=\"text-align: right;\">\n",
              "      <th></th>\n",
              "      <th>Unnamed: 0</th>\n",
              "      <th>Income</th>\n",
              "      <th>Limit</th>\n",
              "      <th>Rating</th>\n",
              "      <th>Cards</th>\n",
              "      <th>Age</th>\n",
              "      <th>Education</th>\n",
              "      <th>Gender</th>\n",
              "      <th>Student</th>\n",
              "      <th>Married</th>\n",
              "      <th>Ethnicity</th>\n",
              "      <th>Balance</th>\n",
              "    </tr>\n",
              "  </thead>\n",
              "  <tbody>\n",
              "    <tr>\n",
              "      <th>0</th>\n",
              "      <td>1</td>\n",
              "      <td>14.891</td>\n",
              "      <td>3606</td>\n",
              "      <td>283</td>\n",
              "      <td>2</td>\n",
              "      <td>34</td>\n",
              "      <td>11</td>\n",
              "      <td>1</td>\n",
              "      <td>0</td>\n",
              "      <td>1</td>\n",
              "      <td>Caucasian</td>\n",
              "      <td>333</td>\n",
              "    </tr>\n",
              "    <tr>\n",
              "      <th>1</th>\n",
              "      <td>2</td>\n",
              "      <td>106.025</td>\n",
              "      <td>6645</td>\n",
              "      <td>483</td>\n",
              "      <td>3</td>\n",
              "      <td>82</td>\n",
              "      <td>15</td>\n",
              "      <td>0</td>\n",
              "      <td>1</td>\n",
              "      <td>1</td>\n",
              "      <td>Asian</td>\n",
              "      <td>903</td>\n",
              "    </tr>\n",
              "    <tr>\n",
              "      <th>2</th>\n",
              "      <td>3</td>\n",
              "      <td>104.593</td>\n",
              "      <td>7075</td>\n",
              "      <td>514</td>\n",
              "      <td>4</td>\n",
              "      <td>71</td>\n",
              "      <td>11</td>\n",
              "      <td>1</td>\n",
              "      <td>0</td>\n",
              "      <td>0</td>\n",
              "      <td>Asian</td>\n",
              "      <td>580</td>\n",
              "    </tr>\n",
              "    <tr>\n",
              "      <th>3</th>\n",
              "      <td>4</td>\n",
              "      <td>148.924</td>\n",
              "      <td>9504</td>\n",
              "      <td>681</td>\n",
              "      <td>3</td>\n",
              "      <td>36</td>\n",
              "      <td>11</td>\n",
              "      <td>0</td>\n",
              "      <td>0</td>\n",
              "      <td>0</td>\n",
              "      <td>Asian</td>\n",
              "      <td>964</td>\n",
              "    </tr>\n",
              "    <tr>\n",
              "      <th>4</th>\n",
              "      <td>5</td>\n",
              "      <td>55.882</td>\n",
              "      <td>4897</td>\n",
              "      <td>357</td>\n",
              "      <td>2</td>\n",
              "      <td>68</td>\n",
              "      <td>16</td>\n",
              "      <td>1</td>\n",
              "      <td>0</td>\n",
              "      <td>1</td>\n",
              "      <td>Caucasian</td>\n",
              "      <td>331</td>\n",
              "    </tr>\n",
              "  </tbody>\n",
              "</table>\n",
              "</div>"
            ],
            "text/plain": [
              "   Unnamed: 0   Income  Limit  Rating  Cards  Age  Education  Gender  Student  Married  Ethnicity  Balance\n",
              "0           1   14.891   3606     283      2   34         11       1        0        1  Caucasian      333\n",
              "1           2  106.025   6645     483      3   82         15       0        1        1      Asian      903\n",
              "2           3  104.593   7075     514      4   71         11       1        0        0      Asian      580\n",
              "3           4  148.924   9504     681      3   36         11       0        0        0      Asian      964\n",
              "4           5   55.882   4897     357      2   68         16       1        0        1  Caucasian      331"
            ]
          },
          "metadata": {
            "tags": []
          }
        }
      ],
      "execution_count": 0,
      "metadata": {
        "colab_type": "code",
        "id": "ihAuQmYgwk1w",
        "outputId": "59a7e215-5ac0-4cb9-d236-0fd2e5e18d2f",
        "colab": {
          "base_uri": "https://localhost:8080/",
          "height": 430
        }
      }
    },
    {
      "cell_type": "markdown",
      "source": [
        "### One feature prediction without normalization\n",
        "\n",
        "**Task 1.1:**  \n",
        "From the credits dataset use a linear regression model to predict the `Rating` target from each of these 3 features separately: `Income`, `Limit` and `Age`. \n",
        "\n",
        "**Hint:** \n",
        "- Do not normalize the data\n",
        "- Split your dataset into two sets: the training set (80%) and the test set(20%), set the **shuffle parameter to true** and the **random state to 3**\n",
        "- Create your linear model by fitting also an intercept over the training dataset (set the fit_intercept parameter to `True`). Don't change any other parameters to the model.\n",
        "- Use the R^2 score, the MAE and the MSE on your test set to compare your 3 models (you should display these values)\n"
      ],
      "metadata": {
        "colab_type": "text",
        "id": "vWdb_8dRwk13"
      }
    },
    {
      "cell_type": "code",
      "source": [
        "#Your code here: Rating prediction from Income.\n",
        "# print MAE, MSE, R^2 for the test set"
      ],
      "outputs": [],
      "execution_count": 0,
      "metadata": {
        "colab_type": "code",
        "id": "dB9A_onYwk15",
        "colab": {}
      }
    },
    {
      "cell_type": "code",
      "source": [
        "#Your code here: Rating prediction from Limit\n",
        "# print MAE, MSE, R^2 for the test set"
      ],
      "outputs": [],
      "execution_count": 0,
      "metadata": {
        "colab_type": "code",
        "id": "qL-NQMCawk1-",
        "colab": {}
      }
    },
    {
      "cell_type": "code",
      "source": [
        "#Your code here: Rating prediction from Age\n",
        "# print MAE, MSE, R^2 for the test set"
      ],
      "outputs": [],
      "execution_count": 0,
      "metadata": {
        "colab_type": "code",
        "id": "mV1EUkkFwk2D",
        "colab": {}
      }
    },
    {
      "cell_type": "markdown",
      "source": [
        "**Question 1 :**  \n",
        "What is the MAE of the \"Age\" model (rounded to the closest integer, eg 60) ?"
      ],
      "metadata": {
        "colab_type": "text",
        "id": "y12u6w7Zwk2I"
      }
    },
    {
      "cell_type": "code",
      "source": [
        "#Your code here"
      ],
      "outputs": [],
      "execution_count": 0,
      "metadata": {
        "colab_type": "code",
        "id": "bNDlWI3iwk2I",
        "colab": {}
      }
    },
    {
      "cell_type": "markdown",
      "source": [
        "**Question 2 :**  \n",
        "What is the MSE of the \"Limit\" model (rounded to the closest integer) ?"
      ],
      "metadata": {
        "colab_type": "text",
        "id": "aJ9q2ts4wk2N"
      }
    },
    {
      "cell_type": "code",
      "source": [
        "#Your code here"
      ],
      "outputs": [],
      "execution_count": 0,
      "metadata": {
        "colab_type": "code",
        "id": "maTn_h9Ywk2O",
        "colab": {}
      }
    },
    {
      "cell_type": "markdown",
      "source": [
        "**Question 3 :**  \n",
        "Which feature best predicts the Rating target output ?"
      ],
      "metadata": {
        "colab_type": "text",
        "id": "xMDQ-W50wk2T"
      }
    },
    {
      "cell_type": "code",
      "source": [
        "#Your code here"
      ],
      "outputs": [],
      "execution_count": 0,
      "metadata": {
        "colab_type": "code",
        "id": "oKsjlw6Wwk2U",
        "scrolled": true,
        "colab": {}
      }
    },
    {
      "cell_type": "markdown",
      "source": [
        "### Several features encoding without normalization\n",
        "\n",
        "From the credits dataset, we want to predict the `Age` from some particular features: `Education`, `Student` and `Married`.\n",
        "\n",
        "**Task 1.2:**\n",
        "With a linear regression model, reuse the procedure from the previous task (applied to 3 features as inputs) to regress the `Age`.\n",
        "\n",
        "**Hint:** \n",
        "- Do not normalize the data\n",
        "- Split your dataset into two sets: the training (80%) and the test set(20%), set the shuffle parameter to true and the random state to 3\n",
        "- Create your linear model by fitting the intercept  weight over the training dataset (set the parameter to `True`)\n",
        "- Use the R^2 score, the MAE and the MSE to compare your 3 models (you should display these values)\n"
      ],
      "metadata": {
        "colab_type": "text",
        "id": "kpfEhuoywk2Y"
      }
    },
    {
      "cell_type": "code",
      "source": [
        "#Your code here: Age prediction from Education Student and Married\n",
        "# print MAE, MSE, R^2 for the test set."
      ],
      "outputs": [],
      "execution_count": 0,
      "metadata": {
        "colab_type": "code",
        "id": "aXyFRtb8wk2Z",
        "colab": {}
      }
    },
    {
      "cell_type": "markdown",
      "source": [
        "**Question 4:**  \n",
        "What is the MAE of your model (rounded to the nearest integer, eg 60) ?"
      ],
      "metadata": {
        "colab_type": "text",
        "id": "Hz_POFhVwk2c"
      }
    },
    {
      "cell_type": "code",
      "source": [
        "#Your code here:"
      ],
      "outputs": [],
      "execution_count": 0,
      "metadata": {
        "colab_type": "code",
        "id": "JAX0KcHowk2d",
        "colab": {}
      }
    },
    {
      "cell_type": "markdown",
      "source": [
        "**Question 5:**  \n",
        "Predict the resulting value when putting the 5th row of the *original* data as input (ie on the 5 row of the data that you have loaded using only the 3 features, before the train/test split). What predicted value for the age you get (rounded to the closest integer) ?\n",
        "\n",
        "**Hint:**\n",
        "- Use the `predict()` function of your model on the 5th row\n",
        "- To access this value you can use `iloc` (see definition of iloc to access the correct value)"
      ],
      "metadata": {
        "colab_type": "text",
        "id": "tHVJp2rHwk2g"
      }
    },
    {
      "cell_type": "code",
      "source": [
        "#Your code here:"
      ],
      "outputs": [],
      "execution_count": 0,
      "metadata": {
        "colab_type": "code",
        "id": "oE0vn6yowk2i",
        "colab": {}
      }
    },
    {
      "cell_type": "markdown",
      "source": [
        "**Question 6:**  \n",
        "After rounding your prediction to the closest integer value, compute the absolute error from the true age value. What value do you get ?"
      ],
      "metadata": {
        "colab_type": "text",
        "id": "PMRSJTU_wk2n"
      }
    },
    {
      "cell_type": "code",
      "source": [
        "#Your code here:"
      ],
      "outputs": [],
      "execution_count": 0,
      "metadata": {
        "colab_type": "code",
        "id": "VIontemVwk2n",
        "colab": {}
      }
    },
    {
      "cell_type": "markdown",
      "source": [
        "**Task 1.3:**  \n",
        "Now redo the task 1.2 but this time with a normalization (`MinMaxScaler`sklearn module). Keep the same indications present in the hint. \n",
        "\n",
        "**Hints:**\n",
        "- with the scaler fit and transform X_train then transform X_test"
      ],
      "metadata": {
        "colab_type": "text",
        "id": "dVnB6DpVOcxQ"
      }
    },
    {
      "cell_type": "code",
      "source": [
        "#Your code here: Age prediction from Education Student and Married with normalization"
      ],
      "outputs": [],
      "execution_count": 0,
      "metadata": {
        "colab_type": "code",
        "id": "KsSLtG1LOcxS",
        "colab": {}
      }
    },
    {
      "cell_type": "markdown",
      "source": [
        "**Question 7:**  \n",
        "What is the new value of the coefficient related to the `Student` feature (rounding to one decimal place, e.g: 1.1) ?\n"
      ],
      "metadata": {
        "colab_type": "text",
        "id": "HmOzkh_zQnqJ"
      }
    },
    {
      "cell_type": "code",
      "source": [
        "#Your code here:"
      ],
      "outputs": [],
      "execution_count": 0,
      "metadata": {
        "colab_type": "code",
        "id": "sjI3UG3SQz-T",
        "colab": {}
      }
    },
    {
      "cell_type": "markdown",
      "source": [
        "### One hot encoding over ethnicity with normalization\n",
        "\n",
        "**Task 1.4:**  \n",
        "From the `credits` dataset, do 1-hot encoding on the column `Ethnicity` using the function `get_dummies()` from pandas. We are interested in the influence of ethnicity to predict the rating. \n",
        "Compare two models:\n",
        "- for the first one try to predict `Rating` from: `Education`, `Student` and `Married`\n",
        "- for the second one try to predict `Rating` from: `Student`, `Married`, `Education` and all the `Etchnicity` encoded columns generated by `get_dummies()`\n",
        "\n",
        "For both, apply normalization using the `MinMaxScaler`sklearn module.\n",
        "\n",
        "**Hint:**\n",
        "- Split your dataset into two sets: the training set (80%) and the test set(20%), set the **shuffle parameter to true** and the **random state to 3**\n",
        "- Create your linear model by fitting also the intercept over the training dataset (set the parameter to `True`)\n",
        "- Use the R^2 score, the MAE and the MSE on your test set to compare your 3 models (you should display these values)\n"
      ],
      "metadata": {
        "colab_type": "text",
        "id": "kTVg2QcBwk2r"
      }
    },
    {
      "cell_type": "code",
      "source": [
        "#Your code here: One hot encoding on ethnicity"
      ],
      "outputs": [],
      "execution_count": 0,
      "metadata": {
        "colab_type": "code",
        "id": "VvlU0zcWwk2r",
        "colab": {}
      }
    },
    {
      "cell_type": "code",
      "source": [
        "#Your code here: Rating prediction from Education Student and Married\n",
        "# print MAE, MSE, R^2 of the test set"
      ],
      "outputs": [],
      "execution_count": 0,
      "metadata": {
        "colab_type": "code",
        "id": "7MbSNwrJwk2w",
        "colab": {}
      }
    },
    {
      "cell_type": "code",
      "source": [
        "#Your code here: Age prediction from Education Student Married and Ethnicity encoding columns\n",
        "# print MAE, MSE, R^2 of the test set"
      ],
      "outputs": [],
      "execution_count": 0,
      "metadata": {
        "colab_type": "code",
        "id": "gIg8fBi3wk2y",
        "colab": {}
      }
    },
    {
      "cell_type": "markdown",
      "source": [
        "**Question 8:**  \n",
        "What is the value of the MSE for the first model (rounded to the closest integer, eg 10000)?\n"
      ],
      "metadata": {
        "colab_type": "text",
        "id": "gC_bfhYJwk22"
      }
    },
    {
      "cell_type": "code",
      "source": [
        "#Your code here:"
      ],
      "outputs": [],
      "execution_count": 0,
      "metadata": {
        "colab_type": "code",
        "id": "v1J1kLJewk22",
        "colab": {}
      }
    },
    {
      "cell_type": "markdown",
      "source": [
        "**Question 9:**   \n",
        "Is adding the ethnicity helping to better predict the rating?\n"
      ],
      "metadata": {
        "colab_type": "text",
        "id": "QSJsNIcTwk25"
      }
    },
    {
      "cell_type": "code",
      "source": [
        "#Your code here:"
      ],
      "outputs": [],
      "execution_count": 0,
      "metadata": {
        "colab_type": "code",
        "id": "56u5BHt3wk26",
        "colab": {}
      }
    },
    {
      "cell_type": "markdown",
      "source": [
        "## Part 2: Wage prediction \n",
        "\n",
        "This part of this assignment will focus on the compensation CEO dataset. For this part, apply normalization each time (`MinMaxScaler` sklearn module)."
      ],
      "metadata": {
        "colab_type": "text",
        "id": "NktP-w9nwk29"
      }
    },
    {
      "cell_type": "code",
      "source": [
        "url = \"https://raw.githubusercontent.com/michalis0/Business-Intelligence-and-Analytics/master/data/Wage.csv\"\n",
        "wages = pd.read_csv(url)\n",
        "wages.drop(['sex', 'region'], axis=1, inplace=True)\n",
        "display(wages.head())\n",
        "\n",
        "# Observations and columns (dimensions)\n",
        "print(\"Number of observations\", wages.shape[0])\n",
        "print(\"Number of dimensions\", wages.shape[1])\n",
        "columns_one_hot_encoding = ['race', 'maritl', 'education' ]\n",
        "columns_bin_encoding = ['jobclass', 'health', 'health_ins']\n",
        "\n",
        "wages.replace(to_replace=['2. No', '1. Yes', '1. Industrial', '2. Information', '1. <=Good', '2. >=Very Good' ], value=[0, 1, 0, 1, 0, 1], inplace=True)\n",
        "wages.replace(to_replace=['1. Never Married', '2. Married', '4. Divorced', '3. Widowed', '5. Separated'], value=['Never Married', 'Married', 'Divorced', 'Widowed', 'Separated'], inplace=True)\n",
        "wages.replace(to_replace=['1. White', '3. Asian', '4. Other', '2. Black'], value=['White', 'Asian', 'Other', 'Black'], inplace=True)\n",
        "wages.replace(to_replace=['1. < HS Grad', '4. College Grad', '3. Some College', '2. HS Grad'\n",
        " '5. Advanced Degree'], value=['< HS Grad', 'College Grad', 'Some College', 'HS Grad'\n",
        " 'Advanced Degree'], inplace=True)\n",
        "\n",
        "display(wages.head())"
      ],
      "outputs": [
        {
          "output_type": "display_data",
          "data": {
            "text/html": [
              "<div>\n",
              "<style scoped>\n",
              "    .dataframe tbody tr th:only-of-type {\n",
              "        vertical-align: middle;\n",
              "    }\n",
              "\n",
              "    .dataframe tbody tr th {\n",
              "        vertical-align: top;\n",
              "    }\n",
              "\n",
              "    .dataframe thead th {\n",
              "        text-align: right;\n",
              "    }\n",
              "</style>\n",
              "<table border=\"1\" class=\"dataframe\">\n",
              "  <thead>\n",
              "    <tr style=\"text-align: right;\">\n",
              "      <th></th>\n",
              "      <th>year</th>\n",
              "      <th>age</th>\n",
              "      <th>maritl</th>\n",
              "      <th>race</th>\n",
              "      <th>education</th>\n",
              "      <th>jobclass</th>\n",
              "      <th>health</th>\n",
              "      <th>health_ins</th>\n",
              "      <th>logwage</th>\n",
              "      <th>wage</th>\n",
              "    </tr>\n",
              "  </thead>\n",
              "  <tbody>\n",
              "    <tr>\n",
              "      <th>0</th>\n",
              "      <td>2006</td>\n",
              "      <td>18</td>\n",
              "      <td>1. Never Married</td>\n",
              "      <td>1. White</td>\n",
              "      <td>1. &lt; HS Grad</td>\n",
              "      <td>1. Industrial</td>\n",
              "      <td>1. &lt;=Good</td>\n",
              "      <td>2. No</td>\n",
              "      <td>4.318063</td>\n",
              "      <td>75.043154</td>\n",
              "    </tr>\n",
              "    <tr>\n",
              "      <th>1</th>\n",
              "      <td>2004</td>\n",
              "      <td>24</td>\n",
              "      <td>1. Never Married</td>\n",
              "      <td>1. White</td>\n",
              "      <td>4. College Grad</td>\n",
              "      <td>2. Information</td>\n",
              "      <td>2. &gt;=Very Good</td>\n",
              "      <td>2. No</td>\n",
              "      <td>4.255273</td>\n",
              "      <td>70.476020</td>\n",
              "    </tr>\n",
              "    <tr>\n",
              "      <th>2</th>\n",
              "      <td>2003</td>\n",
              "      <td>45</td>\n",
              "      <td>2. Married</td>\n",
              "      <td>1. White</td>\n",
              "      <td>3. Some College</td>\n",
              "      <td>1. Industrial</td>\n",
              "      <td>1. &lt;=Good</td>\n",
              "      <td>1. Yes</td>\n",
              "      <td>4.875061</td>\n",
              "      <td>130.982177</td>\n",
              "    </tr>\n",
              "    <tr>\n",
              "      <th>3</th>\n",
              "      <td>2003</td>\n",
              "      <td>43</td>\n",
              "      <td>2. Married</td>\n",
              "      <td>3. Asian</td>\n",
              "      <td>4. College Grad</td>\n",
              "      <td>2. Information</td>\n",
              "      <td>2. &gt;=Very Good</td>\n",
              "      <td>1. Yes</td>\n",
              "      <td>5.041393</td>\n",
              "      <td>154.685293</td>\n",
              "    </tr>\n",
              "    <tr>\n",
              "      <th>4</th>\n",
              "      <td>2005</td>\n",
              "      <td>50</td>\n",
              "      <td>4. Divorced</td>\n",
              "      <td>1. White</td>\n",
              "      <td>2. HS Grad</td>\n",
              "      <td>2. Information</td>\n",
              "      <td>1. &lt;=Good</td>\n",
              "      <td>1. Yes</td>\n",
              "      <td>4.318063</td>\n",
              "      <td>75.043154</td>\n",
              "    </tr>\n",
              "  </tbody>\n",
              "</table>\n",
              "</div>"
            ],
            "text/plain": [
              "   year  age            maritl      race        education        jobclass          health health_ins   logwage        wage\n",
              "0  2006   18  1. Never Married  1. White     1. < HS Grad   1. Industrial       1. <=Good      2. No  4.318063   75.043154\n",
              "1  2004   24  1. Never Married  1. White  4. College Grad  2. Information  2. >=Very Good      2. No  4.255273   70.476020\n",
              "2  2003   45        2. Married  1. White  3. Some College   1. Industrial       1. <=Good     1. Yes  4.875061  130.982177\n",
              "3  2003   43        2. Married  3. Asian  4. College Grad  2. Information  2. >=Very Good     1. Yes  5.041393  154.685293\n",
              "4  2005   50       4. Divorced  1. White       2. HS Grad  2. Information       1. <=Good     1. Yes  4.318063   75.043154"
            ]
          },
          "metadata": {
            "tags": []
          }
        },
        {
          "output_type": "stream",
          "name": "stdout",
          "text": [
            "Number of observations 3000\n",
            "Number of dimensions 10\n"
          ]
        },
        {
          "output_type": "display_data",
          "data": {
            "text/html": [
              "<div>\n",
              "<style scoped>\n",
              "    .dataframe tbody tr th:only-of-type {\n",
              "        vertical-align: middle;\n",
              "    }\n",
              "\n",
              "    .dataframe tbody tr th {\n",
              "        vertical-align: top;\n",
              "    }\n",
              "\n",
              "    .dataframe thead th {\n",
              "        text-align: right;\n",
              "    }\n",
              "</style>\n",
              "<table border=\"1\" class=\"dataframe\">\n",
              "  <thead>\n",
              "    <tr style=\"text-align: right;\">\n",
              "      <th></th>\n",
              "      <th>year</th>\n",
              "      <th>age</th>\n",
              "      <th>maritl</th>\n",
              "      <th>race</th>\n",
              "      <th>education</th>\n",
              "      <th>jobclass</th>\n",
              "      <th>health</th>\n",
              "      <th>health_ins</th>\n",
              "      <th>logwage</th>\n",
              "      <th>wage</th>\n",
              "    </tr>\n",
              "  </thead>\n",
              "  <tbody>\n",
              "    <tr>\n",
              "      <th>0</th>\n",
              "      <td>2006</td>\n",
              "      <td>18</td>\n",
              "      <td>Never Married</td>\n",
              "      <td>White</td>\n",
              "      <td>&lt; HS Grad</td>\n",
              "      <td>0</td>\n",
              "      <td>0</td>\n",
              "      <td>0</td>\n",
              "      <td>4.318063</td>\n",
              "      <td>75.043154</td>\n",
              "    </tr>\n",
              "    <tr>\n",
              "      <th>1</th>\n",
              "      <td>2004</td>\n",
              "      <td>24</td>\n",
              "      <td>Never Married</td>\n",
              "      <td>White</td>\n",
              "      <td>College Grad</td>\n",
              "      <td>1</td>\n",
              "      <td>1</td>\n",
              "      <td>0</td>\n",
              "      <td>4.255273</td>\n",
              "      <td>70.476020</td>\n",
              "    </tr>\n",
              "    <tr>\n",
              "      <th>2</th>\n",
              "      <td>2003</td>\n",
              "      <td>45</td>\n",
              "      <td>Married</td>\n",
              "      <td>White</td>\n",
              "      <td>Some College</td>\n",
              "      <td>0</td>\n",
              "      <td>0</td>\n",
              "      <td>1</td>\n",
              "      <td>4.875061</td>\n",
              "      <td>130.982177</td>\n",
              "    </tr>\n",
              "    <tr>\n",
              "      <th>3</th>\n",
              "      <td>2003</td>\n",
              "      <td>43</td>\n",
              "      <td>Married</td>\n",
              "      <td>Asian</td>\n",
              "      <td>College Grad</td>\n",
              "      <td>1</td>\n",
              "      <td>1</td>\n",
              "      <td>1</td>\n",
              "      <td>5.041393</td>\n",
              "      <td>154.685293</td>\n",
              "    </tr>\n",
              "    <tr>\n",
              "      <th>4</th>\n",
              "      <td>2005</td>\n",
              "      <td>50</td>\n",
              "      <td>Divorced</td>\n",
              "      <td>White</td>\n",
              "      <td>2. HS Grad</td>\n",
              "      <td>1</td>\n",
              "      <td>0</td>\n",
              "      <td>1</td>\n",
              "      <td>4.318063</td>\n",
              "      <td>75.043154</td>\n",
              "    </tr>\n",
              "  </tbody>\n",
              "</table>\n",
              "</div>"
            ],
            "text/plain": [
              "   year  age         maritl   race     education  jobclass  health  health_ins   logwage        wage\n",
              "0  2006   18  Never Married  White     < HS Grad         0       0           0  4.318063   75.043154\n",
              "1  2004   24  Never Married  White  College Grad         1       1           0  4.255273   70.476020\n",
              "2  2003   45        Married  White  Some College         0       0           1  4.875061  130.982177\n",
              "3  2003   43        Married  Asian  College Grad         1       1           1  5.041393  154.685293\n",
              "4  2005   50       Divorced  White    2. HS Grad         1       0           1  4.318063   75.043154"
            ]
          },
          "metadata": {
            "tags": []
          }
        }
      ],
      "execution_count": 0,
      "metadata": {
        "colab_type": "code",
        "id": "LyOlYTZEwk29",
        "outputId": "846c4d6f-5a70-4064-bb25-d570471255e9",
        "scrolled": true,
        "colab": {
          "base_uri": "https://localhost:8080/",
          "height": 430
        }
      }
    },
    {
      "cell_type": "markdown",
      "source": [
        "### Several features regression\n",
        "**Task 2.1:**  \n",
        "Use a linear regression model to predict the `wage` and the `logwage` (two separate models) using the features: `jobclass` ,`health_ins` and `health`. \n",
        "\n",
        "**Hint:**\n",
        "- Split your dataset into two sets: the training set (80%) and the test set(20%), set the **shuffle parameter to true** and the **random state to 3**\n",
        "- Create your linear model by fitting the intercept  weight over the training dataset (set the parameter to `True`)\n",
        "- Use the R^2 score, the MAE and the MSE on your test set to compare your 3 models (you should display these values)\n",
        "- Apply normalization (`MinMaxScaler` sklearn module).\n",
        "\n",
        "\n"
      ],
      "metadata": {
        "colab_type": "text",
        "id": "hy0WcRQqwk3B"
      }
    },
    {
      "cell_type": "code",
      "source": [
        "#Your code here: wage prediction from jobclass health_ins and health\n",
        "# print MAE, MSE, R^2 of test set"
      ],
      "outputs": [],
      "execution_count": 0,
      "metadata": {
        "colab_type": "code",
        "id": "JDOWcRYowk3B",
        "colab": {}
      }
    },
    {
      "cell_type": "code",
      "source": [
        "#Your code here: logwage prediction from jobclass health_ins and health\n",
        "# print MAE, MSE, R^2 of test set"
      ],
      "outputs": [],
      "execution_count": 0,
      "metadata": {
        "colab_type": "code",
        "id": "tcghmeGawk3E",
        "colab": {}
      }
    },
    {
      "cell_type": "markdown",
      "source": [
        "**Question 10:**  \n",
        "Which target (`wage` or `logwage`) do these features predict the best ?\n"
      ],
      "metadata": {
        "colab_type": "text",
        "id": "nbVtreXcwk3J"
      }
    },
    {
      "cell_type": "code",
      "source": [
        "#Your code here:"
      ],
      "outputs": [],
      "execution_count": 0,
      "metadata": {
        "colab_type": "code",
        "id": "XIwhrKpvwk3K",
        "colab": {}
      }
    },
    {
      "cell_type": "markdown",
      "source": [
        "**Task 2.2:**  \n",
        "\n",
        "Start with a model which uses as input features the `jobclass` and `health_ins`. Generate this model first (model 1).  \n",
        "Then **sequentially** (i.e., in a for loop) create 3 more models by adding the `health` (model 2),  the `age` (model 3) then the `year` (model 4) to the previous features matrix. (i.e model1_features -> [`jobclass`, `health_ins`], model2_features -> [`jobclass`, `health_ins`, `health`], model3_features -> [`jobclass`, `health_ins`, `health`,  `age` ] and so on...)  \n",
        "Then plot the training and testing error of these 4 models. \n",
        "\n",
        "**Hint:**\n",
        "- Split your dataset into two sets: the training set (80%) and the test set(20%), set the **shuffle parameter to true** and the **random state to 3**\n",
        "- Create your linear model by fitting the intercept  weight over the training dataset (set the parameter to `True`)\n",
        "- Use the MAE on your test set to compare your 3 models (you should display these values)\n",
        "- Apply normalization (`MinMaxScaler`sklearn module).\n",
        "- Consider these features (**in this order**): `jobclass`, `health_ins`, `health`, `year`,  `age`.\n",
        "- you can use python lists to save the training and testing errors\n",
        "\n"
      ],
      "metadata": {
        "colab_type": "text",
        "id": "mJnZC8sbwk3O"
      }
    },
    {
      "cell_type": "code",
      "source": [
        "X = wages[['jobclass', 'health_ins', 'health', 'age', 'year']]\n",
        "y = wages[\"wage\"]"
      ],
      "outputs": [],
      "execution_count": 0,
      "metadata": {
        "colab_type": "code",
        "id": "z8MArdQdwk3P",
        "colab": {}
      }
    },
    {
      "cell_type": "code",
      "source": [
        "#Your code here: model prediction by  adding features sequentially"
      ],
      "outputs": [],
      "execution_count": 0,
      "metadata": {
        "colab_type": "code",
        "id": "nK-VyiMGwk3R",
        "colab": {}
      }
    },
    {
      "cell_type": "markdown",
      "source": [
        "**Question 11:**  \n",
        "Which model the smallest absolute difference between train and test MAE (across all the models that you tried) ?"
      ],
      "metadata": {
        "colab_type": "text",
        "id": "bxF28Wsc0jKl"
      }
    },
    {
      "cell_type": "code",
      "source": [
        "#Your code here:"
      ],
      "outputs": [],
      "execution_count": 0,
      "metadata": {
        "colab_type": "code",
        "id": "uze9Q6F31a0a",
        "colab": {}
      }
    },
    {
      "cell_type": "markdown",
      "source": [
        "**Question 12:**  \n",
        "Which of the models have the highest test error (across all the models that you tried) ?"
      ],
      "metadata": {
        "colab_type": "text",
        "id": "UAAjBl4Gwk3X"
      }
    },
    {
      "cell_type": "code",
      "source": [
        "#Your code here:"
      ],
      "outputs": [],
      "execution_count": 0,
      "metadata": {
        "colab_type": "code",
        "id": "1A0f9Dkb1eDN",
        "colab": {}
      }
    },
    {
      "cell_type": "markdown",
      "source": [
        "### Cross Validation feature regression\n",
        "\n",
        "**Task 2.3:**  \n",
        "Apply a one hot encoding over the columns:`race`, `education` and `maritl` (using the function `get_dummies()`).  \n",
        " \n",
        "Consider all columns of the new wages dataframe (except `wage` and `logwage` which are the targets) as model features. Implement a cross validation procedure, save the scores of the different folds in an array.\n",
        "\n",
        "**Hint:**  \n",
        "- Use `get_dummies()` function from pandas\n",
        "- Use `KFold()` module from sklearn with **3 splits**\n",
        "- Split your dataset into two sets: the training set (80%) and the test set(20%), set the **shuffle parameter to true** and the **random state to 3**\n",
        "- Create your linear model by fitting the intercept  weight over the training dataset (set the parameter to `True`)\n",
        "- Use the R^2 score, the MAE and the MSE on your test set to compare your 3 models (you should display these values)\n",
        "- Apply normalization (`MinMaxScaler`sklearn module)."
      ],
      "metadata": {
        "colab_type": "text",
        "id": "2G_iNWyJwk3Y"
      }
    },
    {
      "cell_type": "code",
      "source": [
        "#Your code here: one hot encoding"
      ],
      "outputs": [],
      "execution_count": 0,
      "metadata": {
        "colab_type": "code",
        "id": "G_DdbJfiwk3Y",
        "colab": {}
      }
    },
    {
      "cell_type": "code",
      "source": [
        "targets = ['wage', 'logwage']\n",
        "features = [x for x in wages.columns.tolist() if x not in targets]"
      ],
      "outputs": [],
      "execution_count": 0,
      "metadata": {
        "colab_type": "code",
        "id": "Gw8TH-GZwk3b",
        "colab": {}
      }
    },
    {
      "cell_type": "code",
      "source": [
        "#Your code here: cross validation with KFolds over 3 splits"
      ],
      "outputs": [],
      "execution_count": 0,
      "metadata": {
        "colab_type": "code",
        "id": "P7sSx95Mwk3f",
        "colab": {}
      }
    },
    {
      "cell_type": "markdown",
      "source": [
        "**Question 13:**  \n",
        "What is the mean (average) value of the R^2 scores across all folds (rounding to two decimals place, e.g: 1.11) ?\n"
      ],
      "metadata": {
        "colab_type": "text",
        "id": "gH8ruseTOcyV"
      }
    },
    {
      "cell_type": "code",
      "source": [
        "#Your code here:"
      ],
      "outputs": [],
      "execution_count": 0,
      "metadata": {
        "colab_type": "code",
        "id": "VUPYtpbb3zFx",
        "colab": {}
      }
    },
    {
      "cell_type": "markdown",
      "source": [
        "## Part 3 : Classification\n",
        "\n",
        "For this part we will use the Titanic dataset. Load the dataset in a pandas dataframe"
      ],
      "metadata": {
        "colab_type": "text",
        "id": "ZtFtiaEV370W"
      }
    },
    {
      "cell_type": "code",
      "source": [
        "#data link\n",
        "#'https://raw.githubusercontent.com/ahmadajal/DM_ML_course_public/master/5.%20Classification/in-classExercise/data/titanic_train-clean.csv'"
      ],
      "outputs": [
        {
          "output_type": "execute_result",
          "execution_count": 73,
          "data": {
            "text/html": [
              "<div>\n",
              "<style scoped>\n",
              "    .dataframe tbody tr th:only-of-type {\n",
              "        vertical-align: middle;\n",
              "    }\n",
              "\n",
              "    .dataframe tbody tr th {\n",
              "        vertical-align: top;\n",
              "    }\n",
              "\n",
              "    .dataframe thead th {\n",
              "        text-align: right;\n",
              "    }\n",
              "</style>\n",
              "<table border=\"1\" class=\"dataframe\">\n",
              "  <thead>\n",
              "    <tr style=\"text-align: right;\">\n",
              "      <th></th>\n",
              "      <th>PassengerId</th>\n",
              "      <th>Age</th>\n",
              "      <th>Embarked</th>\n",
              "      <th>Fare</th>\n",
              "      <th>Pclass</th>\n",
              "      <th>Sex</th>\n",
              "      <th>Survived</th>\n",
              "      <th>Title</th>\n",
              "      <th>FSize</th>\n",
              "    </tr>\n",
              "  </thead>\n",
              "  <tbody>\n",
              "    <tr>\n",
              "      <th>0</th>\n",
              "      <td>1</td>\n",
              "      <td>22.0</td>\n",
              "      <td>2</td>\n",
              "      <td>7.2500</td>\n",
              "      <td>3</td>\n",
              "      <td>1</td>\n",
              "      <td>0.0</td>\n",
              "      <td>12</td>\n",
              "      <td>1</td>\n",
              "    </tr>\n",
              "    <tr>\n",
              "      <th>1</th>\n",
              "      <td>2</td>\n",
              "      <td>38.0</td>\n",
              "      <td>0</td>\n",
              "      <td>71.2833</td>\n",
              "      <td>1</td>\n",
              "      <td>0</td>\n",
              "      <td>1.0</td>\n",
              "      <td>13</td>\n",
              "      <td>1</td>\n",
              "    </tr>\n",
              "    <tr>\n",
              "      <th>2</th>\n",
              "      <td>3</td>\n",
              "      <td>26.0</td>\n",
              "      <td>2</td>\n",
              "      <td>7.9250</td>\n",
              "      <td>3</td>\n",
              "      <td>0</td>\n",
              "      <td>1.0</td>\n",
              "      <td>9</td>\n",
              "      <td>0</td>\n",
              "    </tr>\n",
              "    <tr>\n",
              "      <th>3</th>\n",
              "      <td>4</td>\n",
              "      <td>35.0</td>\n",
              "      <td>2</td>\n",
              "      <td>53.1000</td>\n",
              "      <td>1</td>\n",
              "      <td>0</td>\n",
              "      <td>1.0</td>\n",
              "      <td>13</td>\n",
              "      <td>1</td>\n",
              "    </tr>\n",
              "    <tr>\n",
              "      <th>4</th>\n",
              "      <td>5</td>\n",
              "      <td>35.0</td>\n",
              "      <td>2</td>\n",
              "      <td>8.0500</td>\n",
              "      <td>3</td>\n",
              "      <td>1</td>\n",
              "      <td>0.0</td>\n",
              "      <td>12</td>\n",
              "      <td>0</td>\n",
              "    </tr>\n",
              "  </tbody>\n",
              "</table>\n",
              "</div>"
            ],
            "text/plain": [
              "   PassengerId   Age  Embarked     Fare  Pclass  Sex  Survived  Title  FSize\n",
              "0            1  22.0         2   7.2500       3    1       0.0     12      1\n",
              "1            2  38.0         0  71.2833       1    0       1.0     13      1\n",
              "2            3  26.0         2   7.9250       3    0       1.0      9      0\n",
              "3            4  35.0         2  53.1000       1    0       1.0     13      1\n",
              "4            5  35.0         2   8.0500       3    1       0.0     12      0"
            ]
          },
          "metadata": {
            "tags": []
          }
        }
      ],
      "execution_count": 0,
      "metadata": {
        "colab_type": "code",
        "id": "qdHm4zCxpUp9",
        "outputId": "5d5a9b38-beb7-4827-c12c-8b4a7c965ac0",
        "colab": {
          "base_uri": "https://localhost:8080/",
          "height": 206
        }
      }
    },
    {
      "cell_type": "markdown",
      "source": [
        "The goal of the exercise will be to classify if a passenger has survived (survived = 1) given some features. Let's use *Age, Embarked, Fare, Pclass, Sex* as features and *Survived* as target. \n",
        "Your first task is to cast the survived column to *Integer* and to define your dataframe of features (X) and your dataframe of target (y)"
      ],
      "metadata": {
        "colab_type": "text",
        "id": "J6IShLhopUqB"
      }
    },
    {
      "cell_type": "code",
      "source": [
        "# cast column Survived to int\n",
        "\n",
        "#\n",
        "X = # select columns as input features\n",
        "y = # select Survived column"
      ],
      "outputs": [],
      "execution_count": 0,
      "metadata": {
        "colab_type": "code",
        "id": "JAWaPD0ypUqC",
        "colab": {}
      }
    },
    {
      "cell_type": "markdown",
      "source": [
        "Let's create a train and a test set with sklearn method *train_test_split*. We are going to use 80% for training and 20% for testing"
      ],
      "metadata": {
        "colab_type": "text",
        "id": "c9cMgvFIpUqE"
      }
    },
    {
      "cell_type": "markdown",
      "source": [
        "**IMPORTANT POINT** : *train_test_split* randomizes the data. In order to have the same results as those expected we need to control this randomization by giving a value for the **random_state** attribute of this method. Here use **random_state = 0** or your results will be different from ours and you won't get points"
      ],
      "metadata": {
        "colab_type": "text",
        "id": "YymoWVVopUqF"
      }
    },
    {
      "cell_type": "code",
      "source": [
        "# create train/test split"
      ],
      "outputs": [],
      "execution_count": 0,
      "metadata": {
        "colab_type": "code",
        "id": "OnRhNeN5pUqF",
        "colab": {}
      }
    },
    {
      "cell_type": "markdown",
      "source": [
        "We are going to use the Logistic Regression for our classification, without adding any parameters. You can train the model on train set"
      ],
      "metadata": {
        "colab_type": "text",
        "id": "g7De5DlipUqH"
      }
    },
    {
      "cell_type": "code",
      "source": [
        "# create logistic regression (don't put any parameters) and create the model using the training data"
      ],
      "outputs": [],
      "execution_count": 0,
      "metadata": {
        "colab_type": "code",
        "id": "Zl7SL-hxpUqH",
        "colab": {}
      }
    },
    {
      "cell_type": "markdown",
      "source": [
        "Remember, logistic regression tries to find a vector $\\vec w$ with the same dimension as we have features (here 5) and a number $b$, the intercept\n",
        "\n",
        "**Question 14 :** Find the fourth component of the vector w (the one corresponding to Pclass), round it to the second decimal (exemple : -6.06) <br>\n",
        "**Hint :** Arrays indices start at 0"
      ],
      "metadata": {
        "colab_type": "text",
        "id": "6vyPjyzapUqK"
      }
    },
    {
      "cell_type": "code",
      "source": [
        "# print the proper coefficient of the model"
      ],
      "outputs": [],
      "execution_count": 0,
      "metadata": {
        "colab_type": "code",
        "id": "tz7q5yr6pUqK",
        "colab": {}
      }
    },
    {
      "cell_type": "markdown",
      "source": [
        "**Question 15 :** Find b, the intercept. Round it to the second decimal (exemple : -6.06)"
      ],
      "metadata": {
        "colab_type": "text",
        "id": "igWuR7g2kARa"
      }
    },
    {
      "cell_type": "code",
      "source": [
        "# print the intercept of the model"
      ],
      "outputs": [],
      "execution_count": 0,
      "metadata": {
        "colab_type": "code",
        "id": "YbYtncjrpUqL",
        "colab": {}
      }
    },
    {
      "cell_type": "markdown",
      "source": [
        "**Question 16** : If a 42 years old man (sex = 0), embarked in city with id 0, paid his fare 17.9250 in Pclass 2, what is his probability to survive (i.e to belong to class 1). Round it to the 2nd digit (i.e. 0.12)"
      ],
      "metadata": {
        "colab_type": "text",
        "id": "6AlrQPNcpUqO"
      }
    },
    {
      "cell_type": "code",
      "source": [
        "# print probability to survive for this person"
      ],
      "outputs": [],
      "execution_count": 0,
      "metadata": {
        "colab_type": "code",
        "id": "M6Ov8M76pUqO",
        "colab": {}
      }
    },
    {
      "cell_type": "markdown",
      "source": [
        "**Question 17**: Compute the confusion matrix using the test data. Are there more survivors classified as dead or more dead people classified as survivors?"
      ],
      "metadata": {
        "colab_type": "text",
        "id": "KbL8EyW4pUqb"
      }
    },
    {
      "cell_type": "code",
      "source": [
        "# use confusion matrix to answer this question using the test data"
      ],
      "outputs": [],
      "execution_count": 0,
      "metadata": {
        "colab_type": "code",
        "id": "v2pKyHGopUqc",
        "scrolled": true,
        "colab": {}
      }
    },
    {
      "cell_type": "markdown",
      "source": [
        "Now let's train a Classifier using KNN algorithm"
      ],
      "metadata": {
        "colab_type": "text",
        "id": "yz3fPs38pUqU"
      }
    },
    {
      "cell_type": "markdown",
      "source": [
        "**Question 18** : What is the optimal number of neighbors for the KNN algorithm, i.e. the minimal number of neighbors that maximizes the classification accuracy on the test set?  <br>\n",
        "**hint1** : The optimal number is in $[1:50]$ <br>\n",
        "**hint2** : You need to train a model for all 50 possible number of neighbors and for each compute the score of the model on the test set. Keep track of the best model at each iteration and its score"
      ],
      "metadata": {
        "colab_type": "text",
        "id": "cr66jBCYpUqX"
      }
    },
    {
      "cell_type": "code",
      "source": [
        "# your code here"
      ],
      "outputs": [],
      "execution_count": 0,
      "metadata": {
        "colab_type": "code",
        "id": "YVTo0FQTpUqX",
        "colab": {}
      }
    },
    {
      "cell_type": "markdown",
      "source": [
        "Now let's try a Decision Tree classifier"
      ],
      "metadata": {
        "colab_type": "text",
        "id": "OTg7FDQQpUqZ"
      }
    },
    {
      "cell_type": "markdown",
      "source": [
        "**Question 19** : What is the value of maxi_depth for the decision Tree algorithm that maximizes the classification accuracy?<br>\n",
        "**hint1** : The optimal number is in $[1:10]$ <br>"
      ],
      "metadata": {
        "colab_type": "text",
        "id": "htgZ5NVUpUqZ"
      }
    },
    {
      "cell_type": "code",
      "source": [
        "# your code here"
      ],
      "outputs": [],
      "execution_count": 0,
      "metadata": {
        "colab_type": "code",
        "id": "qlC17EFrpUqa",
        "colab": {}
      }
    }
  ],
  "metadata": {
    "colab": {
      "name": "assignment2_regression.ipynb",
      "provenance": [],
      "include_colab_link": true
    },
    "kernelspec": {
      "display_name": "Python 3",
      "language": "python",
      "name": "python3"
    },
    "language_info": {
      "codemirror_mode": {
        "name": "ipython",
        "version": 3
      },
      "file_extension": ".py",
      "mimetype": "text/x-python",
      "name": "python",
      "nbconvert_exporter": "python",
      "pygments_lexer": "ipython3",
      "version": "3.6.9"
    },
    "nteract": {
      "version": "0.23.1"
    }
  },
  "nbformat": 4,
  "nbformat_minor": 0
}